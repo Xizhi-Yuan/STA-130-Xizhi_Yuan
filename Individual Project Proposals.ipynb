{
 "cells": [
  {
   "cell_type": "markdown",
   "id": "d19be7eb",
   "metadata": {},
   "source": [
    "# Individual Project Proposals\n",
    "\n",
    "\n",
    "I want analysis the factors of family influencing happiness during the epidemic. I want to analyze how family connection may influence people's happiness based on data. To find the how people talk in the family, frequency connects to family and how people feel when they get help from the family. This information helps us to learn how family connection influences people’s happiness. \n",
    "\n",
    " \n",
    "\n",
    "Research question: To find the composition of a family. How many will they connect with in their family? \n",
    "\n",
    "Variables and Data Collection: CONNECTION_social_num_family_p7d_grouped, which used to find how many people when they talk in the family. \n",
    "\n",
    "Data Visualization: I will use the histogram to show the how many family members they would talk with and distribution of these data, how many choose to talk more than one people or may not talk to their family members. This graph also helps us to check the reliability of the data. \n",
    "\n",
    "Per assumption: We must make sure the data are random. \n",
    "\n",
    "Method use: Confidence Intervals are used to predict how many people have more than 3 people in the family connection based on CONNECTION_social_num_family_p7d_grouped. A population parameter (e.g., a mean or proportion) with a certain level of confidence, I assume that less than 50% of people have more than 3 family members. To calculate confidence internals for a population mean depends on CI=xˉ±(Critical Value × Standard Error). To find weather 50% different samples in this range \n",
    "\n",
    "Expect result: If it is true, this shows that the family connection with other family members improves the happiness of the people. People are more willing to talk with their family members. If it is false, it shows they are more likely to stay alone, which shows the low happiness. Based on this situation, know happiness based on connection with the family. \n",
    "\n",
    "Course connection: We study this method in LEC 04 and TUT 04 to learn this method to offer valuable insight into the precision and reliability of the model's parameter estimates. \n",
    "\n",
    " \n",
    " \n",
    "\n",
    "Research question: how the frequency connects to family will influence on the people’s happiness? \n",
    "\n",
    "Variables and Data Collection: predict CONNECTION_activities_talked_family_p3m \n",
    "\n",
    "Data Visualization: The box plot may be used to show the distribution of the data and how they spread from the data. This graph also helps us to check the reliability of the data with the outliers. This graph helps me find the most people connected with their family. \n",
    "\n",
    "Per assumption: We must make sure the data are random. \n",
    "\n",
    "Method use: Hypothesis Testing will be used to predict frequency connected with family. We must make sure the data is random. The null hypothesis is the people talk with family weekly and the alternative hypothesis is more than one week. Let the p value = 0.05 to find whether the family frequently connects with others. \n",
    "\n",
    "Expect result: If the null hypothesis is true, we can show that most people have a close connection with their families which may have a positive effect on happiness. If we reject null hypothesis, it may show that there is no close connection with the family.And There is a low happiness for people. \n",
    "\n",
    "Course connection: This is the part study in LEC 5 and TUT 5. We solve the problem of a wheel of destiny to assume that the wheel is fair or unfair. Null hypothesis is that the wheel is fair when the population result is 0.5. If you reject the hypothesis, it is unfair. By plenty of testing. We find that the wheel is fair. \n",
    "\n",
    "\n",
    "\n",
    "Research question: how people feel when they get help from the family. \n",
    "\n",
    "Variables and Data Collection: PSYCH_zimet_multidimensional_social_support_scale_family_emotional (emotion help, x1) and PSYCH_zimet_multidimensional_social_support_scale_problems_family (problem support, x2) the two factors have influence on the PSYCH_zimet_multidimensional_social_support_family_subscale_score (family score, y) \n",
    "\n",
    "Per assumption: Rather the linearity assumption is linearity in the parameters. Independence of the data, Common Error variance and Normality of Errors. \n",
    "\n",
    "Method use: I would like to use linear regression model to explain the emotion help problem support the two factors have influence on the family score. I need a multiple linear regression Y=β0 +β1 X1 +β2 X2 +ϵ. Find the family score = emotion help + problem support led to happiness of the people. Then evaluate model performance to check their Mean Squared Error Measures the average squared difference between predicted and actual values. lower MSE indicates better performance. The coefficient of determination represents how well the independent variables explain the target variable, ranging from 0 to 1, with values closer to 1 indicating a better model fit. \n",
    "\n",
    "Expect result: The higher feedback on the emotion help and problem support may get a high family score. From this condition, we can say that the model is significance and family connection can get a higher score.  A better family helps with emotions and problems may improve the happiness of public health. If the feedback on emotion helps and problem support is high but get low family score. This means that the public health did not get any help from the family and the model is insignificant.  \n",
    "\n",
    "Course connection: I got this method from the TUT 7 about linear regression model to inference the association between bird flu prevalence and the price of shuttlecocks. We find straight line between the relationship with bird flu case and shuttlecocks price that the more bird flu case higher shuttlecocks price. \n",
    "\n",
    " \n",
    " \n",
    "\n",
    "These analytical methods allow us to assess subjective well-being through confidence intervals and to understand how the number of close family members impacts happiness via linear regression. Hypothesis testing, Confidence Intervals and linear regression model further reveals the negative effect of loneliness on happiness, helping us identify key well-being factors. "
   ]
  },
  {
   "cell_type": "code",
   "execution_count": null,
   "id": "8f038ec9",
   "metadata": {},
   "outputs": [],
   "source": []
  }
 ],
 "metadata": {
  "kernelspec": {
   "display_name": "Python 3 (ipykernel)",
   "language": "python",
   "name": "python3"
  },
  "language_info": {
   "codemirror_mode": {
    "name": "ipython",
    "version": 3
   },
   "file_extension": ".py",
   "mimetype": "text/x-python",
   "name": "python",
   "nbconvert_exporter": "python",
   "pygments_lexer": "ipython3",
   "version": "3.11.6"
  }
 },
 "nbformat": 4,
 "nbformat_minor": 5
}
