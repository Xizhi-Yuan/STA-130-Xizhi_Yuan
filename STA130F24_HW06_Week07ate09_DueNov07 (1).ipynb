{
 "cells": [
  {
   "cell_type": "markdown",
   "id": "6cd8c93b",
   "metadata": {},
   "source": [
    "# STA130 Homework 06\n",
    "\n",
    "Please see the course [wiki-textbook](https://github.com/pointOfive/stat130chat130/wiki) for the list of topics covered in this homework assignment, and a list of topics that might appear during ChatBot conversations which are \"out of scope\" for the purposes of this homework assignment (and hence can be safely ignored if encountered)"
   ]
  },
  {
   "cell_type": "markdown",
   "id": "991dc719",
   "metadata": {},
   "source": [
    "<details class=\"details-example\"><summary style=\"color:blue\"><u>Introduction</u></summary>\n",
    "\n",
    "### Introduction\n",
    "    \n",
    "A reasonable characterization of STA130 Homework is that it simply defines a weekly reading comprehension assignment. \n",
    "Indeed, STA130 Homework essentially boils down to completing various understanding confirmation exercises oriented around coding and writing tasks.\n",
    "However, rather than reading a textbook, STA130 Homework is based on ChatBots so students can interactively follow up to clarify questions or confusion that they may still have regarding learning objective assignments.\n",
    "\n",
    "> Communication is a fundamental skill underlying statistics and data science, so STA130 Homework based on ChatBots helps practice effective two-way communication as part of a \"realistic\" dialogue activity supporting underlying conceptual understanding building. \n",
    "\n",
    "It will likely become increasingly tempting to rely on ChatBots to \"do the work for you\". But when you find yourself frustrated with a ChatBots inability to give you the results you're looking for, this is a \"hint\" that you've become overreliant on the ChatBots. Your objective should not be to have ChatBots \"do the work for you\", but to use ChatBots to help you build your understanding so you can efficiently leverage ChatBots (and other resources) to help you work more efficiently.<br><br>\n",
    "\n",
    "</details>\n",
    "\n",
    "<details class=\"details-example\"><summary style=\"color:blue\"><u>Instructions</u></summary>\n",
    "\n",
    "### Instructions\n",
    "    \n",
    "1. Code and write all your answers (for both the \"Pre-lecture\" and \"Post-lecture\" HW) in a python notebook (in code and markdown cells) \n",
    "    \n",
    "> It is *suggested but not mandatory* that you complete the \"Pre-lecture\" HW prior to the Monday LEC since (a) all HW is due at the same time; but, (b) completing some of the HW early will mean better readiness for LEC and less of a \"procrastentation cruch\" towards the end of the week...\n",
    "    \n",
    "2. Paste summaries of your ChatBot sessions (including link(s) to chat log histories if you're using ChatGPT) within your notebook\n",
    "    \n",
    "> Create summaries of your ChatBot sessions by using concluding prompts such as \"Please provide a summary of our exchanges here so I can submit them as a record of our interactions as part of a homework assignment\" or, \"Please provide me with the final working verson of the code that we created together\"\n",
    "    \n",
    "3. Save your python jupyter notebook in your own account and \"repo\" on [github.com](github.com) and submit a link to that notebook though Quercus for assignment marking<br><br>\n",
    "\n",
    "</details>\n",
    "\n",
    "<details class=\"details-example\"><summary style=\"color:blue\"><u>Prompt Engineering?</u></summary>\n",
    "    \n",
    "### Prompt Engineering? \n",
    "    \n",
    "The questions (as copy-pasted prompts) are designed to initialize appropriate ChatBot conversations which can be explored in the manner of an interactive and dynamic textbook; but, it is nonetheless **strongly recommendated** that your rephrase the questions in a way that you find natural to ensure a clear understanding of the question. Given sensible prompts the represent a question well, the two primary challenges observed to arise from ChatBots are \n",
    "\n",
    "1. conversations going beyond the intended scope of the material addressed by the question; and, \n",
    "2. unrecoverable confusion as a result of sequential layers logial inquiry that cannot be resolved. \n",
    "\n",
    "In the case of the former (1), adding constraints specifying the limits of considerations of interest tends to be helpful; whereas, the latter (2) is often the result of initial prompting that leads to poor developments in navigating the material, which are likely just best resolve by a \"hard reset\" with a new initial approach to prompting.  Indeed, this is exactly the behavior [hardcoded into copilot](https://answers.microsoft.com/en-us/bing/forum/all/is-this-even-normal/0b6dcab3-7d6c-4373-8efe-d74158af3c00)...\n",
    "\n",
    "</details>"
   ]
  },
  {
   "cell_type": "markdown",
   "id": "3d0ed17b",
   "metadata": {},
   "source": [
    "### Marking Rubric (which may award partial credit) \n",
    "\n",
    "- [0.1 points]: All relevant ChatBot summaries [including link(s) to chat log histories if you're using ChatGPT] are reported within the notebook\n",
    "- [0.2 points]: Evaluation of correctness and clarity in written communication for Question \"3\"\n",
    "- [0.2 points]: Evaluation of correctness and clarity in written communication for Question \"4\"\n",
    "- [0.2 points]: Evaluation of submitted work and conclusions for Question \"9\"\n",
    "- [0.3 points]: Evaluation of written communication of the \"big picture\" differences and correct evidence assessement for Question \"11\"\n"
   ]
  },
  {
   "cell_type": "markdown",
   "id": "a326d8bb",
   "metadata": {},
   "source": [
    "## \"Pre-lecture\" versus \"Post-lecture\" HW? \n",
    "\n",
    "- _**Your HW submission is due prior to the Nov08 TUT on Friday after you return from Reading Week; however,**_\n",
    "- _**this homework assignment is longer since it covers material from both the Oct21 and Nov04 LEC (rather than a single LEC); so,**_\n",
    "- _**we'll brake the assignment into \"Week of Oct21\" and \"Week of Nov04\" HW and/but ALL of it will be DUE prior to the Nov08 TUT**_\n"
   ]
  },
  {
   "cell_type": "markdown",
   "id": "49cc8cd7",
   "metadata": {},
   "source": [
    "## \"Week of Oct21\" HW [*due prior to the Nov08 TUT*]"
   ]
  },
  {
   "cell_type": "markdown",
   "id": "d8140d3a",
   "metadata": {},
   "source": [
    "### 1. Explain the theoretical Simple Linear Regression model in your own words by describing its components (of predictor and outcome variables, slope and intercept coefficients, and an error term) and how they combine to form a sample from normal distribution; then, create *python* code explicitly demonstrating your explanation using *numpy* and *scipy.stats* <br>\n",
    "\n",
    "<details class=\"details-example\"><summary style=\"color:blue\"><u>Further Guidance</u></summary>\n",
    "\n",
    "> _Your answer can be quite concise and will likely just address the \"mathematical\" and \"statistical\" aspects of the process of a **Simple Linear Model** specification, perhaps giving an intuitive interpretation summary of the result as a whole_\n",
    ">   \n",
    "> - _Your code could be based on values for `n`, `x`, `beta0`, `beta1`, and `sigma`; and, then create the `errors` and `Y`_\n",
    "> \n",
    "> - _The predictors $x_i$ can be fixed arbitrarily to start the process (perhaps sampled using `stats.uniform`), and they are conceptually different from the creation of **error** (or **noise**) terms $\\epsilon_i$ which are sampled from a **normal distribution** (with some aribtrarily *a priori* chosen **standard deviation** `scale` parameter $\\sigma$) which are then combined with $x_i$ through the **Simple Linear Model** equation (based on aribtrarily *a priori* chosen **slope** and **intercept coefficients**) to produce the $Y_i$ outcomes_\n",
    "> \n",
    "> - _It should be fairly easy to visualize the \"a + bx\" line defined by the **Simple Linear Model** equation, and some **simulated** data points around the line in a `plotly` figure using the help of a ChatBot_\n",
    "> \n",
    "> _If you use a ChatBot (as expected for this problem), **don't forget to ask for summaries of your ChatBot session(s) and paste these into your homework notebook (including link(s) to chat log histories if you're using ChatGPT)**_\n",
    ">\n",
    "> \n",
    "> _**Question Scope Warning:** Be careful when using a ChatBot to help you with creating an example dataset and coding up a visualization though, **because it might suggest creating (and visualizing) a fitted model for to your data (rather than the theoretical model); but, this is not what this question is asking you to demonstrate**. This question is not asking about how to produce a fitted **Simple Linear Regression** model or explain how model **slope** and **intercept coefficients** are calculated (e.g., using \"ordinary least squares\" or analytical equations to estimate the **coefficients**  for an observed dataset)._\n",
    "> \n",
    "> ```python\n",
    "> # There are two distinct ways to use `plotly` here\n",
    ">\n",
    "> import plotly.express as px\n",
    "> px.scatter(df, x='x',  y='Y', color='Data', \n",
    ">            trendline='ols', title='Y vs. x')\n",
    ">        \n",
    "> import plotly.graph_objects as go\n",
    "> fig = go.Figure()\n",
    "> fig.add_trace(go.Scatter(x=x, y=Y, mode='markers', name='Data'))\n",
    "> \n",
    "> # The latter is preferable since `trendline='ols'` in the former \n",
    "> # creates a fitted model for the data and adds it to the figure\n",
    "> # and, again, THAT IS NOT what this problem is asking for right now\n",
    "> ```\n",
    ">    \n",
    "> ---\n",
    "> \n",
    "> _Don't forget to ask for summaries of all your different ChatBot sessions and organize and paste these into your homework notebook (including link(s) to chat log histories if you're using ChatBot) But if you're using the STA130 custom NBLM ChatBot, you'll only be able to ask for summaries, of course!_  \n",
    "</details>\n"
   ]
  },
  {
   "cell_type": "markdown",
   "id": "336fa9e3",
   "metadata": {},
   "source": [
    "Predictor Variable (x i): The independent variable or input feature.\n",
    "\n",
    "Outcome Variable (Y i): The dependent variable or response we aim to predict.\n",
    "Intercept Coefficient (β 0): The expected value of Y when x=0; it represents the point where the regression line crosses the Y-axis.\n",
    "\n",
    "Slope Coefficient (β 1): The rate at which Y changes with respect to x; it defines the steepness of the regression line.\n",
    "\n",
    "Error Term (ϵ i ): The random noise capturing the variability in Y not explained by the linear relationship with x. It is assumed to be normally distributed with mean zero and standard deviation σ:ϵ i ∼N(0,σ 2 )"
   ]
  },
  {
   "cell_type": "code",
   "execution_count": 2,
   "id": "73b6bc7f",
   "metadata": {},
   "outputs": [
    {
     "data": {
      "application/vnd.plotly.v1+json": {
       "config": {
        "plotlyServerURL": "https://plot.ly"
       },
       "data": [
        {
         "mode": "markers",
         "name": "Data",
         "type": "scatter",
         "x": [
          3.745401188473625,
          9.50714306409916,
          7.319939418114051,
          5.986584841970366,
          1.5601864044243652,
          1.5599452033620265,
          0.5808361216819946,
          8.661761457749352,
          6.011150117432088,
          7.080725777960454,
          0.20584494295802447,
          9.699098521619943,
          8.324426408004218,
          2.1233911067827616,
          1.8182496720710062,
          1.8340450985343382,
          3.0424224295953772,
          5.247564316322379,
          4.319450186421157,
          2.9122914019804194,
          6.118528947223795,
          1.3949386065204183,
          2.9214464853521815,
          3.663618432936917,
          4.56069984217036,
          7.851759613930136,
          1.9967378215835974,
          5.142344384136116,
          5.924145688620425,
          0.46450412719997725,
          6.075448519014383,
          1.7052412368729153,
          0.6505159298527952,
          9.488855372533333,
          9.656320330745594,
          8.08397348116461,
          3.0461376917337066,
          0.9767211400638387,
          6.842330265121569,
          4.4015249373960135,
          1.2203823484477883,
          4.951769101112702,
          0.34388521115218396,
          9.093204020787821,
          2.587799816000169,
          6.62522284353982,
          3.1171107608941098,
          5.200680211778108,
          5.4671027934327965,
          1.8485445552552704,
          9.695846277645586,
          7.7513282336111455,
          9.394989415641891,
          8.948273504276488,
          5.978999788110851,
          9.218742350231167,
          0.884925020519195,
          1.959828624191452,
          0.45227288910538066,
          3.2533033076326436,
          3.8867728968948203,
          2.713490317738959,
          8.287375091519294,
          3.567533266935893,
          2.8093450968738076,
          5.426960831582485,
          1.4092422497476265,
          8.021969807540398,
          0.7455064367977082,
          9.868869366005173,
          7.722447692966574,
          1.987156815341724,
          0.05522117123602399,
          8.154614284548341,
          7.068573438476172,
          7.2900716804098735,
          7.712703466859457,
          0.7404465173409036,
          3.5846572854427263,
          1.1586905952512971,
          8.631034258755935,
          6.232981268275579,
          3.308980248526492,
          0.6355835028602363,
          3.109823217156622,
          3.2518332202674705,
          7.29606178338064,
          6.3755747135521315,
          8.872127425763265,
          4.722149251619493,
          1.195942459383017,
          7.13244787222995,
          7.607850486168974,
          5.612771975694963,
          7.70967179954561,
          4.937955963643907,
          5.227328293819941,
          4.275410183585496,
          0.2541912674409519,
          1.0789142699330445
         ],
         "y": [
          12.577849445185421,
          23.715278777732454,
          19.7316396127636,
          14.98560076933984,
          7.900700921011218,
          8.4770029782358,
          7.639566288105506,
          21.805252697225058,
          16.21380663197099,
          18.659694512336372,
          6.327092003618123,
          24.72694815289957,
          21.119092612241396,
          9.76004964667888,
          8.733576893490053,
          9.636735187601564,
          10.382791765313403,
          15.167466486046989,
          13.246792219710157,
          9.36106785582872,
          17.533178171512166,
          8.050932485220727,
          10.848006427346823,
          12.092649732498687,
          12.706028942290306,
          20.282873905094913,
          8.650761126640425,
          14.482411499050613,
          16.687005665574837,
          6.333059111214493,
          19.037082939239298,
          8.585060286577669,
          6.558582250428355,
          23.9032648293005,
          22.393869446192145,
          21.141433086880003,
          11.15250559340844,
          9.416684392612964,
          18.492299565462012,
          14.10459721712564,
          7.406052927190333,
          13.734860164605871,
          6.8305932368193885,
          23.938341074262418,
          10.966631579043385,
          17.3410582322849,
          12.63701583272432,
          13.999509360763936,
          16.521062680665864,
          10.88754473632052,
          23.401156230160485,
          19.936358737619518,
          23.889630196371424,
          22.393071354436778,
          15.40733614515557,
          23.506047675268363,
          5.7075463273122855,
          9.393249679018085,
          4.985121543976958,
          13.056541020282827,
          11.990292501453403,
          10.104919119272243,
          22.388267400408257,
          10.904202217437831,
          10.846150128351743,
          17.1610644174474,
          6.211001264934025,
          21.2285734736131,
          6.75089566784384,
          25.519561603787658,
          19.207944675055067,
          7.6538570175991705,
          5.632383908088945,
          21.60621324232987,
          19.387639727298218,
          19.926591570316724,
          19.745382212140424,
          6.713146731842811,
          12.462387044184133,
          6.603029772476226,
          24.127843028656628,
          17.93979545746295,
          10.426656999850335,
          6.927720614354303,
          10.244964764085923,
          12.290751044277393,
          20.750719145768684,
          16.930467108752552,
          23.70763098077085,
          14.857079430175485,
          8.213945078760524,
          21.161688727113848,
          19.970312856335077,
          15.471807787032434,
          19.529829169465696,
          14.060101642322376,
          15.377554878225778,
          13.891972341987636,
          5.785073334211923,
          7.985011788902113
         ]
        },
        {
         "mode": "lines",
         "name": "True Regression Line",
         "type": "scatter",
         "x": [
          0.05522117123602399,
          0.15434893077914671,
          0.25347669032226944,
          0.3526044498653922,
          0.4517322094085149,
          0.5508599689516376,
          0.6499877284947604,
          0.7491154880378831,
          0.8482432475810058,
          0.9473710071241285,
          1.0464987666672512,
          1.145626526210374,
          1.2447542857534968,
          1.3438820452966194,
          1.4430098048397422,
          1.5421375643828648,
          1.6412653239259876,
          1.7403930834691104,
          1.839520843012233,
          1.9386486025553558,
          2.0377763620984783,
          2.136904121641601,
          2.236031881184724,
          2.3351596407278468,
          2.4342874002709696,
          2.533415159814092,
          2.6325429193572147,
          2.7316706789003375,
          2.8307984384434604,
          2.929926197986583,
          3.0290539575297055,
          3.1281817170728283,
          3.227309476615951,
          3.326437236159074,
          3.4255649957021967,
          3.524692755245319,
          3.623820514788442,
          3.7229482743315647,
          3.8220760338746875,
          3.9212037934178103,
          4.020331552960933,
          4.1194593125040555,
          4.218587072047178,
          4.317714831590301,
          4.416842591133424,
          4.515970350676547,
          4.6150981102196695,
          4.714225869762792,
          4.813353629305915,
          4.912481388849037,
          5.01160914839216,
          5.110736907935283,
          5.2098646674784055,
          5.308992427021528,
          5.408120186564651,
          5.507247946107774,
          5.606375705650897,
          5.7055034651940195,
          5.804631224737142,
          5.903758984280264,
          6.002886743823387,
          6.10201450336651,
          6.201142262909633,
          6.3002700224527555,
          6.399397781995878,
          6.498525541539001,
          6.597653301082124,
          6.696781060625247,
          6.7959088201683695,
          6.895036579711492,
          6.994164339254614,
          7.093292098797737,
          7.19241985834086,
          7.291547617883983,
          7.3906753774271055,
          7.489803136970228,
          7.588930896513351,
          7.688058656056474,
          7.787186415599597,
          7.8863141751427195,
          7.985441934685841,
          8.084569694228964,
          8.183697453772087,
          8.28282521331521,
          8.381952972858333,
          8.481080732401455,
          8.580208491944578,
          8.679336251487701,
          8.778464011030824,
          8.877591770573947,
          8.97671953011707,
          9.075847289660192,
          9.174975049203315,
          9.274102808746438,
          9.37323056828956,
          9.472358327832683,
          9.571486087375806,
          9.670613846918927,
          9.76974160646205,
          9.868869366005173
         ],
         "y": [
          5.110442342472048,
          5.308697861558294,
          5.506953380644539,
          5.705208899730785,
          5.9034644188170295,
          6.101719937903275,
          6.299975456989521,
          6.498230976075766,
          6.696486495162011,
          6.894742014248257,
          7.092997533334502,
          7.291253052420748,
          7.489508571506994,
          7.687764090593239,
          7.886019609679485,
          8.084275128765729,
          8.282530647851974,
          8.48078616693822,
          8.679041686024465,
          8.877297205110711,
          9.075552724196957,
          9.273808243283202,
          9.472063762369448,
          9.670319281455694,
          9.86857480054194,
          10.066830319628185,
          10.26508583871443,
          10.463341357800676,
          10.661596876886922,
          10.859852395973167,
          11.058107915059411,
          11.256363434145657,
          11.454618953231902,
          11.652874472318148,
          11.851129991404393,
          12.049385510490637,
          12.247641029576883,
          12.445896548663129,
          12.644152067749374,
          12.84240758683562,
          13.040663105921865,
          13.238918625008111,
          13.437174144094357,
          13.635429663180602,
          13.833685182266848,
          14.031940701353093,
          14.230196220439339,
          14.428451739525585,
          14.62670725861183,
          14.824962777698074,
          15.02321829678432,
          15.221473815870565,
          15.419729334956811,
          15.617984854043057,
          15.816240373129302,
          16.01449589221555,
          16.212751411301795,
          16.41100693038804,
          16.609262449474286,
          16.80751796856053,
          17.005773487646774,
          17.20402900673302,
          17.402284525819265,
          17.60054004490551,
          17.798795563991757,
          17.997051083078002,
          18.195306602164248,
          18.393562121250493,
          18.59181764033674,
          18.790073159422985,
          18.988328678509227,
          19.186584197595472,
          19.384839716681718,
          19.583095235767964,
          19.78135075485421,
          19.979606273940455,
          20.1778617930267,
          20.376117312112946,
          20.57437283119919,
          20.772628350285437,
          20.970883869371683,
          21.16913938845793,
          21.367394907544174,
          21.56565042663042,
          21.763905945716665,
          21.96216146480291,
          22.160416983889156,
          22.358672502975402,
          22.556928022061648,
          22.755183541147893,
          22.95343906023414,
          23.151694579320385,
          23.34995009840663,
          23.548205617492876,
          23.74646113657912,
          23.944716655665367,
          24.142972174751613,
          24.341227693837855,
          24.5394832129241,
          24.737738732010346
         ]
        }
       ],
       "layout": {
        "template": {
         "data": {
          "bar": [
           {
            "error_x": {
             "color": "#2a3f5f"
            },
            "error_y": {
             "color": "#2a3f5f"
            },
            "marker": {
             "line": {
              "color": "#E5ECF6",
              "width": 0.5
             },
             "pattern": {
              "fillmode": "overlay",
              "size": 10,
              "solidity": 0.2
             }
            },
            "type": "bar"
           }
          ],
          "barpolar": [
           {
            "marker": {
             "line": {
              "color": "#E5ECF6",
              "width": 0.5
             },
             "pattern": {
              "fillmode": "overlay",
              "size": 10,
              "solidity": 0.2
             }
            },
            "type": "barpolar"
           }
          ],
          "carpet": [
           {
            "aaxis": {
             "endlinecolor": "#2a3f5f",
             "gridcolor": "white",
             "linecolor": "white",
             "minorgridcolor": "white",
             "startlinecolor": "#2a3f5f"
            },
            "baxis": {
             "endlinecolor": "#2a3f5f",
             "gridcolor": "white",
             "linecolor": "white",
             "minorgridcolor": "white",
             "startlinecolor": "#2a3f5f"
            },
            "type": "carpet"
           }
          ],
          "choropleth": [
           {
            "colorbar": {
             "outlinewidth": 0,
             "ticks": ""
            },
            "type": "choropleth"
           }
          ],
          "contour": [
           {
            "colorbar": {
             "outlinewidth": 0,
             "ticks": ""
            },
            "colorscale": [
             [
              0,
              "#0d0887"
             ],
             [
              0.1111111111111111,
              "#46039f"
             ],
             [
              0.2222222222222222,
              "#7201a8"
             ],
             [
              0.3333333333333333,
              "#9c179e"
             ],
             [
              0.4444444444444444,
              "#bd3786"
             ],
             [
              0.5555555555555556,
              "#d8576b"
             ],
             [
              0.6666666666666666,
              "#ed7953"
             ],
             [
              0.7777777777777778,
              "#fb9f3a"
             ],
             [
              0.8888888888888888,
              "#fdca26"
             ],
             [
              1,
              "#f0f921"
             ]
            ],
            "type": "contour"
           }
          ],
          "contourcarpet": [
           {
            "colorbar": {
             "outlinewidth": 0,
             "ticks": ""
            },
            "type": "contourcarpet"
           }
          ],
          "heatmap": [
           {
            "colorbar": {
             "outlinewidth": 0,
             "ticks": ""
            },
            "colorscale": [
             [
              0,
              "#0d0887"
             ],
             [
              0.1111111111111111,
              "#46039f"
             ],
             [
              0.2222222222222222,
              "#7201a8"
             ],
             [
              0.3333333333333333,
              "#9c179e"
             ],
             [
              0.4444444444444444,
              "#bd3786"
             ],
             [
              0.5555555555555556,
              "#d8576b"
             ],
             [
              0.6666666666666666,
              "#ed7953"
             ],
             [
              0.7777777777777778,
              "#fb9f3a"
             ],
             [
              0.8888888888888888,
              "#fdca26"
             ],
             [
              1,
              "#f0f921"
             ]
            ],
            "type": "heatmap"
           }
          ],
          "heatmapgl": [
           {
            "colorbar": {
             "outlinewidth": 0,
             "ticks": ""
            },
            "colorscale": [
             [
              0,
              "#0d0887"
             ],
             [
              0.1111111111111111,
              "#46039f"
             ],
             [
              0.2222222222222222,
              "#7201a8"
             ],
             [
              0.3333333333333333,
              "#9c179e"
             ],
             [
              0.4444444444444444,
              "#bd3786"
             ],
             [
              0.5555555555555556,
              "#d8576b"
             ],
             [
              0.6666666666666666,
              "#ed7953"
             ],
             [
              0.7777777777777778,
              "#fb9f3a"
             ],
             [
              0.8888888888888888,
              "#fdca26"
             ],
             [
              1,
              "#f0f921"
             ]
            ],
            "type": "heatmapgl"
           }
          ],
          "histogram": [
           {
            "marker": {
             "pattern": {
              "fillmode": "overlay",
              "size": 10,
              "solidity": 0.2
             }
            },
            "type": "histogram"
           }
          ],
          "histogram2d": [
           {
            "colorbar": {
             "outlinewidth": 0,
             "ticks": ""
            },
            "colorscale": [
             [
              0,
              "#0d0887"
             ],
             [
              0.1111111111111111,
              "#46039f"
             ],
             [
              0.2222222222222222,
              "#7201a8"
             ],
             [
              0.3333333333333333,
              "#9c179e"
             ],
             [
              0.4444444444444444,
              "#bd3786"
             ],
             [
              0.5555555555555556,
              "#d8576b"
             ],
             [
              0.6666666666666666,
              "#ed7953"
             ],
             [
              0.7777777777777778,
              "#fb9f3a"
             ],
             [
              0.8888888888888888,
              "#fdca26"
             ],
             [
              1,
              "#f0f921"
             ]
            ],
            "type": "histogram2d"
           }
          ],
          "histogram2dcontour": [
           {
            "colorbar": {
             "outlinewidth": 0,
             "ticks": ""
            },
            "colorscale": [
             [
              0,
              "#0d0887"
             ],
             [
              0.1111111111111111,
              "#46039f"
             ],
             [
              0.2222222222222222,
              "#7201a8"
             ],
             [
              0.3333333333333333,
              "#9c179e"
             ],
             [
              0.4444444444444444,
              "#bd3786"
             ],
             [
              0.5555555555555556,
              "#d8576b"
             ],
             [
              0.6666666666666666,
              "#ed7953"
             ],
             [
              0.7777777777777778,
              "#fb9f3a"
             ],
             [
              0.8888888888888888,
              "#fdca26"
             ],
             [
              1,
              "#f0f921"
             ]
            ],
            "type": "histogram2dcontour"
           }
          ],
          "mesh3d": [
           {
            "colorbar": {
             "outlinewidth": 0,
             "ticks": ""
            },
            "type": "mesh3d"
           }
          ],
          "parcoords": [
           {
            "line": {
             "colorbar": {
              "outlinewidth": 0,
              "ticks": ""
             }
            },
            "type": "parcoords"
           }
          ],
          "pie": [
           {
            "automargin": true,
            "type": "pie"
           }
          ],
          "scatter": [
           {
            "fillpattern": {
             "fillmode": "overlay",
             "size": 10,
             "solidity": 0.2
            },
            "type": "scatter"
           }
          ],
          "scatter3d": [
           {
            "line": {
             "colorbar": {
              "outlinewidth": 0,
              "ticks": ""
             }
            },
            "marker": {
             "colorbar": {
              "outlinewidth": 0,
              "ticks": ""
             }
            },
            "type": "scatter3d"
           }
          ],
          "scattercarpet": [
           {
            "marker": {
             "colorbar": {
              "outlinewidth": 0,
              "ticks": ""
             }
            },
            "type": "scattercarpet"
           }
          ],
          "scattergeo": [
           {
            "marker": {
             "colorbar": {
              "outlinewidth": 0,
              "ticks": ""
             }
            },
            "type": "scattergeo"
           }
          ],
          "scattergl": [
           {
            "marker": {
             "colorbar": {
              "outlinewidth": 0,
              "ticks": ""
             }
            },
            "type": "scattergl"
           }
          ],
          "scattermapbox": [
           {
            "marker": {
             "colorbar": {
              "outlinewidth": 0,
              "ticks": ""
             }
            },
            "type": "scattermapbox"
           }
          ],
          "scatterpolar": [
           {
            "marker": {
             "colorbar": {
              "outlinewidth": 0,
              "ticks": ""
             }
            },
            "type": "scatterpolar"
           }
          ],
          "scatterpolargl": [
           {
            "marker": {
             "colorbar": {
              "outlinewidth": 0,
              "ticks": ""
             }
            },
            "type": "scatterpolargl"
           }
          ],
          "scatterternary": [
           {
            "marker": {
             "colorbar": {
              "outlinewidth": 0,
              "ticks": ""
             }
            },
            "type": "scatterternary"
           }
          ],
          "surface": [
           {
            "colorbar": {
             "outlinewidth": 0,
             "ticks": ""
            },
            "colorscale": [
             [
              0,
              "#0d0887"
             ],
             [
              0.1111111111111111,
              "#46039f"
             ],
             [
              0.2222222222222222,
              "#7201a8"
             ],
             [
              0.3333333333333333,
              "#9c179e"
             ],
             [
              0.4444444444444444,
              "#bd3786"
             ],
             [
              0.5555555555555556,
              "#d8576b"
             ],
             [
              0.6666666666666666,
              "#ed7953"
             ],
             [
              0.7777777777777778,
              "#fb9f3a"
             ],
             [
              0.8888888888888888,
              "#fdca26"
             ],
             [
              1,
              "#f0f921"
             ]
            ],
            "type": "surface"
           }
          ],
          "table": [
           {
            "cells": {
             "fill": {
              "color": "#EBF0F8"
             },
             "line": {
              "color": "white"
             }
            },
            "header": {
             "fill": {
              "color": "#C8D4E3"
             },
             "line": {
              "color": "white"
             }
            },
            "type": "table"
           }
          ]
         },
         "layout": {
          "annotationdefaults": {
           "arrowcolor": "#2a3f5f",
           "arrowhead": 0,
           "arrowwidth": 1
          },
          "autotypenumbers": "strict",
          "coloraxis": {
           "colorbar": {
            "outlinewidth": 0,
            "ticks": ""
           }
          },
          "colorscale": {
           "diverging": [
            [
             0,
             "#8e0152"
            ],
            [
             0.1,
             "#c51b7d"
            ],
            [
             0.2,
             "#de77ae"
            ],
            [
             0.3,
             "#f1b6da"
            ],
            [
             0.4,
             "#fde0ef"
            ],
            [
             0.5,
             "#f7f7f7"
            ],
            [
             0.6,
             "#e6f5d0"
            ],
            [
             0.7,
             "#b8e186"
            ],
            [
             0.8,
             "#7fbc41"
            ],
            [
             0.9,
             "#4d9221"
            ],
            [
             1,
             "#276419"
            ]
           ],
           "sequential": [
            [
             0,
             "#0d0887"
            ],
            [
             0.1111111111111111,
             "#46039f"
            ],
            [
             0.2222222222222222,
             "#7201a8"
            ],
            [
             0.3333333333333333,
             "#9c179e"
            ],
            [
             0.4444444444444444,
             "#bd3786"
            ],
            [
             0.5555555555555556,
             "#d8576b"
            ],
            [
             0.6666666666666666,
             "#ed7953"
            ],
            [
             0.7777777777777778,
             "#fb9f3a"
            ],
            [
             0.8888888888888888,
             "#fdca26"
            ],
            [
             1,
             "#f0f921"
            ]
           ],
           "sequentialminus": [
            [
             0,
             "#0d0887"
            ],
            [
             0.1111111111111111,
             "#46039f"
            ],
            [
             0.2222222222222222,
             "#7201a8"
            ],
            [
             0.3333333333333333,
             "#9c179e"
            ],
            [
             0.4444444444444444,
             "#bd3786"
            ],
            [
             0.5555555555555556,
             "#d8576b"
            ],
            [
             0.6666666666666666,
             "#ed7953"
            ],
            [
             0.7777777777777778,
             "#fb9f3a"
            ],
            [
             0.8888888888888888,
             "#fdca26"
            ],
            [
             1,
             "#f0f921"
            ]
           ]
          },
          "colorway": [
           "#636efa",
           "#EF553B",
           "#00cc96",
           "#ab63fa",
           "#FFA15A",
           "#19d3f3",
           "#FF6692",
           "#B6E880",
           "#FF97FF",
           "#FECB52"
          ],
          "font": {
           "color": "#2a3f5f"
          },
          "geo": {
           "bgcolor": "white",
           "lakecolor": "white",
           "landcolor": "#E5ECF6",
           "showlakes": true,
           "showland": true,
           "subunitcolor": "white"
          },
          "hoverlabel": {
           "align": "left"
          },
          "hovermode": "closest",
          "mapbox": {
           "style": "light"
          },
          "paper_bgcolor": "white",
          "plot_bgcolor": "#E5ECF6",
          "polar": {
           "angularaxis": {
            "gridcolor": "white",
            "linecolor": "white",
            "ticks": ""
           },
           "bgcolor": "#E5ECF6",
           "radialaxis": {
            "gridcolor": "white",
            "linecolor": "white",
            "ticks": ""
           }
          },
          "scene": {
           "xaxis": {
            "backgroundcolor": "#E5ECF6",
            "gridcolor": "white",
            "gridwidth": 2,
            "linecolor": "white",
            "showbackground": true,
            "ticks": "",
            "zerolinecolor": "white"
           },
           "yaxis": {
            "backgroundcolor": "#E5ECF6",
            "gridcolor": "white",
            "gridwidth": 2,
            "linecolor": "white",
            "showbackground": true,
            "ticks": "",
            "zerolinecolor": "white"
           },
           "zaxis": {
            "backgroundcolor": "#E5ECF6",
            "gridcolor": "white",
            "gridwidth": 2,
            "linecolor": "white",
            "showbackground": true,
            "ticks": "",
            "zerolinecolor": "white"
           }
          },
          "shapedefaults": {
           "line": {
            "color": "#2a3f5f"
           }
          },
          "ternary": {
           "aaxis": {
            "gridcolor": "white",
            "linecolor": "white",
            "ticks": ""
           },
           "baxis": {
            "gridcolor": "white",
            "linecolor": "white",
            "ticks": ""
           },
           "bgcolor": "#E5ECF6",
           "caxis": {
            "gridcolor": "white",
            "linecolor": "white",
            "ticks": ""
           }
          },
          "title": {
           "x": 0.05
          },
          "xaxis": {
           "automargin": true,
           "gridcolor": "white",
           "linecolor": "white",
           "ticks": "",
           "title": {
            "standoff": 15
           },
           "zerolinecolor": "white",
           "zerolinewidth": 2
          },
          "yaxis": {
           "automargin": true,
           "gridcolor": "white",
           "linecolor": "white",
           "ticks": "",
           "title": {
            "standoff": 15
           },
           "zerolinecolor": "white",
           "zerolinewidth": 2
          }
         }
        },
        "title": {
         "text": "Simple Linear Regression Model Simulation"
        },
        "xaxis": {
         "title": {
          "text": "Predictor Variable x"
         }
        },
        "yaxis": {
         "title": {
          "text": "Outcome Variable Y"
         }
        }
       }
      },
      "text/html": [
       "<div>                            <div id=\"22ff0b94-6030-4db8-9daf-188a7c74d35d\" class=\"plotly-graph-div\" style=\"height:525px; width:100%;\"></div>            <script type=\"text/javascript\">                require([\"plotly\"], function(Plotly) {                    window.PLOTLYENV=window.PLOTLYENV || {};                                    if (document.getElementById(\"22ff0b94-6030-4db8-9daf-188a7c74d35d\")) {                    Plotly.newPlot(                        \"22ff0b94-6030-4db8-9daf-188a7c74d35d\",                        [{\"mode\":\"markers\",\"name\":\"Data\",\"x\":[3.745401188473625,9.50714306409916,7.319939418114051,5.986584841970366,1.5601864044243652,1.5599452033620265,0.5808361216819946,8.661761457749352,6.011150117432088,7.080725777960454,0.20584494295802447,9.699098521619943,8.324426408004218,2.1233911067827616,1.8182496720710062,1.8340450985343382,3.0424224295953772,5.247564316322379,4.319450186421157,2.9122914019804194,6.118528947223795,1.3949386065204183,2.9214464853521815,3.663618432936917,4.56069984217036,7.851759613930136,1.9967378215835974,5.142344384136116,5.924145688620425,0.46450412719997725,6.075448519014383,1.7052412368729153,0.6505159298527952,9.488855372533333,9.656320330745594,8.08397348116461,3.0461376917337066,0.9767211400638387,6.842330265121569,4.4015249373960135,1.2203823484477883,4.951769101112702,0.34388521115218396,9.093204020787821,2.587799816000169,6.62522284353982,3.1171107608941098,5.200680211778108,5.4671027934327965,1.8485445552552704,9.695846277645586,7.7513282336111455,9.394989415641891,8.948273504276488,5.978999788110851,9.218742350231167,0.884925020519195,1.959828624191452,0.45227288910538066,3.2533033076326436,3.8867728968948203,2.713490317738959,8.287375091519294,3.567533266935893,2.8093450968738076,5.426960831582485,1.4092422497476265,8.021969807540398,0.7455064367977082,9.868869366005173,7.722447692966574,1.987156815341724,0.05522117123602399,8.154614284548341,7.068573438476172,7.2900716804098735,7.712703466859457,0.7404465173409036,3.5846572854427263,1.1586905952512971,8.631034258755935,6.232981268275579,3.308980248526492,0.6355835028602363,3.109823217156622,3.2518332202674705,7.29606178338064,6.3755747135521315,8.872127425763265,4.722149251619493,1.195942459383017,7.13244787222995,7.607850486168974,5.612771975694963,7.70967179954561,4.937955963643907,5.227328293819941,4.275410183585496,0.2541912674409519,1.0789142699330445],\"y\":[12.577849445185421,23.715278777732454,19.7316396127636,14.98560076933984,7.900700921011218,8.4770029782358,7.639566288105506,21.805252697225058,16.21380663197099,18.659694512336372,6.327092003618123,24.72694815289957,21.119092612241396,9.76004964667888,8.733576893490053,9.636735187601564,10.382791765313403,15.167466486046989,13.246792219710157,9.36106785582872,17.533178171512166,8.050932485220727,10.848006427346823,12.092649732498687,12.706028942290306,20.282873905094913,8.650761126640425,14.482411499050613,16.687005665574837,6.333059111214493,19.037082939239298,8.585060286577669,6.558582250428355,23.9032648293005,22.393869446192145,21.141433086880003,11.15250559340844,9.416684392612964,18.492299565462012,14.10459721712564,7.406052927190333,13.734860164605871,6.8305932368193885,23.938341074262418,10.966631579043385,17.3410582322849,12.63701583272432,13.999509360763936,16.521062680665864,10.88754473632052,23.401156230160485,19.936358737619518,23.889630196371424,22.393071354436778,15.40733614515557,23.506047675268363,5.7075463273122855,9.393249679018085,4.985121543976958,13.056541020282827,11.990292501453403,10.104919119272243,22.388267400408257,10.904202217437831,10.846150128351743,17.1610644174474,6.211001264934025,21.2285734736131,6.75089566784384,25.519561603787658,19.207944675055067,7.6538570175991705,5.632383908088945,21.60621324232987,19.387639727298218,19.926591570316724,19.745382212140424,6.713146731842811,12.462387044184133,6.603029772476226,24.127843028656628,17.93979545746295,10.426656999850335,6.927720614354303,10.244964764085923,12.290751044277393,20.750719145768684,16.930467108752552,23.70763098077085,14.857079430175485,8.213945078760524,21.161688727113848,19.970312856335077,15.471807787032434,19.529829169465696,14.060101642322376,15.377554878225778,13.891972341987636,5.785073334211923,7.985011788902113],\"type\":\"scatter\"},{\"mode\":\"lines\",\"name\":\"True Regression Line\",\"x\":[0.05522117123602399,0.15434893077914671,0.25347669032226944,0.3526044498653922,0.4517322094085149,0.5508599689516376,0.6499877284947604,0.7491154880378831,0.8482432475810058,0.9473710071241285,1.0464987666672512,1.145626526210374,1.2447542857534968,1.3438820452966194,1.4430098048397422,1.5421375643828648,1.6412653239259876,1.7403930834691104,1.839520843012233,1.9386486025553558,2.0377763620984783,2.136904121641601,2.236031881184724,2.3351596407278468,2.4342874002709696,2.533415159814092,2.6325429193572147,2.7316706789003375,2.8307984384434604,2.929926197986583,3.0290539575297055,3.1281817170728283,3.227309476615951,3.326437236159074,3.4255649957021967,3.524692755245319,3.623820514788442,3.7229482743315647,3.8220760338746875,3.9212037934178103,4.020331552960933,4.1194593125040555,4.218587072047178,4.317714831590301,4.416842591133424,4.515970350676547,4.6150981102196695,4.714225869762792,4.813353629305915,4.912481388849037,5.01160914839216,5.110736907935283,5.2098646674784055,5.308992427021528,5.408120186564651,5.507247946107774,5.606375705650897,5.7055034651940195,5.804631224737142,5.903758984280264,6.002886743823387,6.10201450336651,6.201142262909633,6.3002700224527555,6.399397781995878,6.498525541539001,6.597653301082124,6.696781060625247,6.7959088201683695,6.895036579711492,6.994164339254614,7.093292098797737,7.19241985834086,7.291547617883983,7.3906753774271055,7.489803136970228,7.588930896513351,7.688058656056474,7.787186415599597,7.8863141751427195,7.985441934685841,8.084569694228964,8.183697453772087,8.28282521331521,8.381952972858333,8.481080732401455,8.580208491944578,8.679336251487701,8.778464011030824,8.877591770573947,8.97671953011707,9.075847289660192,9.174975049203315,9.274102808746438,9.37323056828956,9.472358327832683,9.571486087375806,9.670613846918927,9.76974160646205,9.868869366005173],\"y\":[5.110442342472048,5.308697861558294,5.506953380644539,5.705208899730785,5.9034644188170295,6.101719937903275,6.299975456989521,6.498230976075766,6.696486495162011,6.894742014248257,7.092997533334502,7.291253052420748,7.489508571506994,7.687764090593239,7.886019609679485,8.084275128765729,8.282530647851974,8.48078616693822,8.679041686024465,8.877297205110711,9.075552724196957,9.273808243283202,9.472063762369448,9.670319281455694,9.86857480054194,10.066830319628185,10.26508583871443,10.463341357800676,10.661596876886922,10.859852395973167,11.058107915059411,11.256363434145657,11.454618953231902,11.652874472318148,11.851129991404393,12.049385510490637,12.247641029576883,12.445896548663129,12.644152067749374,12.84240758683562,13.040663105921865,13.238918625008111,13.437174144094357,13.635429663180602,13.833685182266848,14.031940701353093,14.230196220439339,14.428451739525585,14.62670725861183,14.824962777698074,15.02321829678432,15.221473815870565,15.419729334956811,15.617984854043057,15.816240373129302,16.01449589221555,16.212751411301795,16.41100693038804,16.609262449474286,16.80751796856053,17.005773487646774,17.20402900673302,17.402284525819265,17.60054004490551,17.798795563991757,17.997051083078002,18.195306602164248,18.393562121250493,18.59181764033674,18.790073159422985,18.988328678509227,19.186584197595472,19.384839716681718,19.583095235767964,19.78135075485421,19.979606273940455,20.1778617930267,20.376117312112946,20.57437283119919,20.772628350285437,20.970883869371683,21.16913938845793,21.367394907544174,21.56565042663042,21.763905945716665,21.96216146480291,22.160416983889156,22.358672502975402,22.556928022061648,22.755183541147893,22.95343906023414,23.151694579320385,23.34995009840663,23.548205617492876,23.74646113657912,23.944716655665367,24.142972174751613,24.341227693837855,24.5394832129241,24.737738732010346],\"type\":\"scatter\"}],                        {\"template\":{\"data\":{\"histogram2dcontour\":[{\"type\":\"histogram2dcontour\",\"colorbar\":{\"outlinewidth\":0,\"ticks\":\"\"},\"colorscale\":[[0.0,\"#0d0887\"],[0.1111111111111111,\"#46039f\"],[0.2222222222222222,\"#7201a8\"],[0.3333333333333333,\"#9c179e\"],[0.4444444444444444,\"#bd3786\"],[0.5555555555555556,\"#d8576b\"],[0.6666666666666666,\"#ed7953\"],[0.7777777777777778,\"#fb9f3a\"],[0.8888888888888888,\"#fdca26\"],[1.0,\"#f0f921\"]]}],\"choropleth\":[{\"type\":\"choropleth\",\"colorbar\":{\"outlinewidth\":0,\"ticks\":\"\"}}],\"histogram2d\":[{\"type\":\"histogram2d\",\"colorbar\":{\"outlinewidth\":0,\"ticks\":\"\"},\"colorscale\":[[0.0,\"#0d0887\"],[0.1111111111111111,\"#46039f\"],[0.2222222222222222,\"#7201a8\"],[0.3333333333333333,\"#9c179e\"],[0.4444444444444444,\"#bd3786\"],[0.5555555555555556,\"#d8576b\"],[0.6666666666666666,\"#ed7953\"],[0.7777777777777778,\"#fb9f3a\"],[0.8888888888888888,\"#fdca26\"],[1.0,\"#f0f921\"]]}],\"heatmap\":[{\"type\":\"heatmap\",\"colorbar\":{\"outlinewidth\":0,\"ticks\":\"\"},\"colorscale\":[[0.0,\"#0d0887\"],[0.1111111111111111,\"#46039f\"],[0.2222222222222222,\"#7201a8\"],[0.3333333333333333,\"#9c179e\"],[0.4444444444444444,\"#bd3786\"],[0.5555555555555556,\"#d8576b\"],[0.6666666666666666,\"#ed7953\"],[0.7777777777777778,\"#fb9f3a\"],[0.8888888888888888,\"#fdca26\"],[1.0,\"#f0f921\"]]}],\"heatmapgl\":[{\"type\":\"heatmapgl\",\"colorbar\":{\"outlinewidth\":0,\"ticks\":\"\"},\"colorscale\":[[0.0,\"#0d0887\"],[0.1111111111111111,\"#46039f\"],[0.2222222222222222,\"#7201a8\"],[0.3333333333333333,\"#9c179e\"],[0.4444444444444444,\"#bd3786\"],[0.5555555555555556,\"#d8576b\"],[0.6666666666666666,\"#ed7953\"],[0.7777777777777778,\"#fb9f3a\"],[0.8888888888888888,\"#fdca26\"],[1.0,\"#f0f921\"]]}],\"contourcarpet\":[{\"type\":\"contourcarpet\",\"colorbar\":{\"outlinewidth\":0,\"ticks\":\"\"}}],\"contour\":[{\"type\":\"contour\",\"colorbar\":{\"outlinewidth\":0,\"ticks\":\"\"},\"colorscale\":[[0.0,\"#0d0887\"],[0.1111111111111111,\"#46039f\"],[0.2222222222222222,\"#7201a8\"],[0.3333333333333333,\"#9c179e\"],[0.4444444444444444,\"#bd3786\"],[0.5555555555555556,\"#d8576b\"],[0.6666666666666666,\"#ed7953\"],[0.7777777777777778,\"#fb9f3a\"],[0.8888888888888888,\"#fdca26\"],[1.0,\"#f0f921\"]]}],\"surface\":[{\"type\":\"surface\",\"colorbar\":{\"outlinewidth\":0,\"ticks\":\"\"},\"colorscale\":[[0.0,\"#0d0887\"],[0.1111111111111111,\"#46039f\"],[0.2222222222222222,\"#7201a8\"],[0.3333333333333333,\"#9c179e\"],[0.4444444444444444,\"#bd3786\"],[0.5555555555555556,\"#d8576b\"],[0.6666666666666666,\"#ed7953\"],[0.7777777777777778,\"#fb9f3a\"],[0.8888888888888888,\"#fdca26\"],[1.0,\"#f0f921\"]]}],\"mesh3d\":[{\"type\":\"mesh3d\",\"colorbar\":{\"outlinewidth\":0,\"ticks\":\"\"}}],\"scatter\":[{\"fillpattern\":{\"fillmode\":\"overlay\",\"size\":10,\"solidity\":0.2},\"type\":\"scatter\"}],\"parcoords\":[{\"type\":\"parcoords\",\"line\":{\"colorbar\":{\"outlinewidth\":0,\"ticks\":\"\"}}}],\"scatterpolargl\":[{\"type\":\"scatterpolargl\",\"marker\":{\"colorbar\":{\"outlinewidth\":0,\"ticks\":\"\"}}}],\"bar\":[{\"error_x\":{\"color\":\"#2a3f5f\"},\"error_y\":{\"color\":\"#2a3f5f\"},\"marker\":{\"line\":{\"color\":\"#E5ECF6\",\"width\":0.5},\"pattern\":{\"fillmode\":\"overlay\",\"size\":10,\"solidity\":0.2}},\"type\":\"bar\"}],\"scattergeo\":[{\"type\":\"scattergeo\",\"marker\":{\"colorbar\":{\"outlinewidth\":0,\"ticks\":\"\"}}}],\"scatterpolar\":[{\"type\":\"scatterpolar\",\"marker\":{\"colorbar\":{\"outlinewidth\":0,\"ticks\":\"\"}}}],\"histogram\":[{\"marker\":{\"pattern\":{\"fillmode\":\"overlay\",\"size\":10,\"solidity\":0.2}},\"type\":\"histogram\"}],\"scattergl\":[{\"type\":\"scattergl\",\"marker\":{\"colorbar\":{\"outlinewidth\":0,\"ticks\":\"\"}}}],\"scatter3d\":[{\"type\":\"scatter3d\",\"line\":{\"colorbar\":{\"outlinewidth\":0,\"ticks\":\"\"}},\"marker\":{\"colorbar\":{\"outlinewidth\":0,\"ticks\":\"\"}}}],\"scattermapbox\":[{\"type\":\"scattermapbox\",\"marker\":{\"colorbar\":{\"outlinewidth\":0,\"ticks\":\"\"}}}],\"scatterternary\":[{\"type\":\"scatterternary\",\"marker\":{\"colorbar\":{\"outlinewidth\":0,\"ticks\":\"\"}}}],\"scattercarpet\":[{\"type\":\"scattercarpet\",\"marker\":{\"colorbar\":{\"outlinewidth\":0,\"ticks\":\"\"}}}],\"carpet\":[{\"aaxis\":{\"endlinecolor\":\"#2a3f5f\",\"gridcolor\":\"white\",\"linecolor\":\"white\",\"minorgridcolor\":\"white\",\"startlinecolor\":\"#2a3f5f\"},\"baxis\":{\"endlinecolor\":\"#2a3f5f\",\"gridcolor\":\"white\",\"linecolor\":\"white\",\"minorgridcolor\":\"white\",\"startlinecolor\":\"#2a3f5f\"},\"type\":\"carpet\"}],\"table\":[{\"cells\":{\"fill\":{\"color\":\"#EBF0F8\"},\"line\":{\"color\":\"white\"}},\"header\":{\"fill\":{\"color\":\"#C8D4E3\"},\"line\":{\"color\":\"white\"}},\"type\":\"table\"}],\"barpolar\":[{\"marker\":{\"line\":{\"color\":\"#E5ECF6\",\"width\":0.5},\"pattern\":{\"fillmode\":\"overlay\",\"size\":10,\"solidity\":0.2}},\"type\":\"barpolar\"}],\"pie\":[{\"automargin\":true,\"type\":\"pie\"}]},\"layout\":{\"autotypenumbers\":\"strict\",\"colorway\":[\"#636efa\",\"#EF553B\",\"#00cc96\",\"#ab63fa\",\"#FFA15A\",\"#19d3f3\",\"#FF6692\",\"#B6E880\",\"#FF97FF\",\"#FECB52\"],\"font\":{\"color\":\"#2a3f5f\"},\"hovermode\":\"closest\",\"hoverlabel\":{\"align\":\"left\"},\"paper_bgcolor\":\"white\",\"plot_bgcolor\":\"#E5ECF6\",\"polar\":{\"bgcolor\":\"#E5ECF6\",\"angularaxis\":{\"gridcolor\":\"white\",\"linecolor\":\"white\",\"ticks\":\"\"},\"radialaxis\":{\"gridcolor\":\"white\",\"linecolor\":\"white\",\"ticks\":\"\"}},\"ternary\":{\"bgcolor\":\"#E5ECF6\",\"aaxis\":{\"gridcolor\":\"white\",\"linecolor\":\"white\",\"ticks\":\"\"},\"baxis\":{\"gridcolor\":\"white\",\"linecolor\":\"white\",\"ticks\":\"\"},\"caxis\":{\"gridcolor\":\"white\",\"linecolor\":\"white\",\"ticks\":\"\"}},\"coloraxis\":{\"colorbar\":{\"outlinewidth\":0,\"ticks\":\"\"}},\"colorscale\":{\"sequential\":[[0.0,\"#0d0887\"],[0.1111111111111111,\"#46039f\"],[0.2222222222222222,\"#7201a8\"],[0.3333333333333333,\"#9c179e\"],[0.4444444444444444,\"#bd3786\"],[0.5555555555555556,\"#d8576b\"],[0.6666666666666666,\"#ed7953\"],[0.7777777777777778,\"#fb9f3a\"],[0.8888888888888888,\"#fdca26\"],[1.0,\"#f0f921\"]],\"sequentialminus\":[[0.0,\"#0d0887\"],[0.1111111111111111,\"#46039f\"],[0.2222222222222222,\"#7201a8\"],[0.3333333333333333,\"#9c179e\"],[0.4444444444444444,\"#bd3786\"],[0.5555555555555556,\"#d8576b\"],[0.6666666666666666,\"#ed7953\"],[0.7777777777777778,\"#fb9f3a\"],[0.8888888888888888,\"#fdca26\"],[1.0,\"#f0f921\"]],\"diverging\":[[0,\"#8e0152\"],[0.1,\"#c51b7d\"],[0.2,\"#de77ae\"],[0.3,\"#f1b6da\"],[0.4,\"#fde0ef\"],[0.5,\"#f7f7f7\"],[0.6,\"#e6f5d0\"],[0.7,\"#b8e186\"],[0.8,\"#7fbc41\"],[0.9,\"#4d9221\"],[1,\"#276419\"]]},\"xaxis\":{\"gridcolor\":\"white\",\"linecolor\":\"white\",\"ticks\":\"\",\"title\":{\"standoff\":15},\"zerolinecolor\":\"white\",\"automargin\":true,\"zerolinewidth\":2},\"yaxis\":{\"gridcolor\":\"white\",\"linecolor\":\"white\",\"ticks\":\"\",\"title\":{\"standoff\":15},\"zerolinecolor\":\"white\",\"automargin\":true,\"zerolinewidth\":2},\"scene\":{\"xaxis\":{\"backgroundcolor\":\"#E5ECF6\",\"gridcolor\":\"white\",\"linecolor\":\"white\",\"showbackground\":true,\"ticks\":\"\",\"zerolinecolor\":\"white\",\"gridwidth\":2},\"yaxis\":{\"backgroundcolor\":\"#E5ECF6\",\"gridcolor\":\"white\",\"linecolor\":\"white\",\"showbackground\":true,\"ticks\":\"\",\"zerolinecolor\":\"white\",\"gridwidth\":2},\"zaxis\":{\"backgroundcolor\":\"#E5ECF6\",\"gridcolor\":\"white\",\"linecolor\":\"white\",\"showbackground\":true,\"ticks\":\"\",\"zerolinecolor\":\"white\",\"gridwidth\":2}},\"shapedefaults\":{\"line\":{\"color\":\"#2a3f5f\"}},\"annotationdefaults\":{\"arrowcolor\":\"#2a3f5f\",\"arrowhead\":0,\"arrowwidth\":1},\"geo\":{\"bgcolor\":\"white\",\"landcolor\":\"#E5ECF6\",\"subunitcolor\":\"white\",\"showland\":true,\"showlakes\":true,\"lakecolor\":\"white\"},\"title\":{\"x\":0.05},\"mapbox\":{\"style\":\"light\"}}},\"title\":{\"text\":\"Simple Linear Regression Model Simulation\"},\"xaxis\":{\"title\":{\"text\":\"Predictor Variable x\"}},\"yaxis\":{\"title\":{\"text\":\"Outcome Variable Y\"}}},                        {\"responsive\": true}                    ).then(function(){\n",
       "                            \n",
       "var gd = document.getElementById('22ff0b94-6030-4db8-9daf-188a7c74d35d');\n",
       "var x = new MutationObserver(function (mutations, observer) {{\n",
       "        var display = window.getComputedStyle(gd).display;\n",
       "        if (!display || display === 'none') {{\n",
       "            console.log([gd, 'removed!']);\n",
       "            Plotly.purge(gd);\n",
       "            observer.disconnect();\n",
       "        }}\n",
       "}});\n",
       "\n",
       "// Listen for the removal of the full notebook cells\n",
       "var notebookContainer = gd.closest('#notebook-container');\n",
       "if (notebookContainer) {{\n",
       "    x.observe(notebookContainer, {childList: true});\n",
       "}}\n",
       "\n",
       "// Listen for the clearing of the current output cell\n",
       "var outputEl = gd.closest('.output');\n",
       "if (outputEl) {{\n",
       "    x.observe(outputEl, {childList: true});\n",
       "}}\n",
       "\n",
       "                        })                };                });            </script>        </div>"
      ]
     },
     "metadata": {},
     "output_type": "display_data"
    }
   ],
   "source": [
    "import numpy as np\n",
    "from scipy.stats import norm\n",
    "import plotly.graph_objects as go\n",
    "\n",
    "# Parameters\n",
    "n = 100  # Number of samples\n",
    "beta0 = 5   # Intercept coefficient\n",
    "beta1 = 2   # Slope coefficient\n",
    "sigma = 1   # Standard deviation of the error term\n",
    "\n",
    "# Generate predictor variables x_i\n",
    "np.random.seed(42)  # For reproducibility\n",
    "x = np.random.uniform(0, 10, n)\n",
    "\n",
    "# Generate error terms epsilon_i\n",
    "epsilon = np.random.normal(0, sigma, n)\n",
    "\n",
    "# Compute outcome variables Y_i\n",
    "Y = beta0 + beta1 * x + epsilon\n",
    "\n",
    "# Create the theoretical regression line\n",
    "x_line = np.linspace(min(x), max(x), 100)\n",
    "Y_line = beta0 + beta1 * x_line\n",
    "\n",
    "# Plot the data and the regression line\n",
    "fig = go.Figure()\n",
    "\n",
    "# Scatter plot of the data points\n",
    "fig.add_trace(go.Scatter(x=x, y=Y, mode='markers', name='Data'))\n",
    "\n",
    "# Plot of the theoretical regression line\n",
    "fig.add_trace(go.Scatter(x=x_line, y=Y_line, mode='lines', name='True Regression Line'))\n",
    "\n",
    "# Update layout\n",
    "fig.update_layout(title='Simple Linear Regression Model Simulation',\n",
    "                  xaxis_title='Predictor Variable x',\n",
    "                  yaxis_title='Outcome Variable Y')\n",
    "\n",
    "fig.show()"
   ]
  },
  {
   "cell_type": "markdown",
   "id": "8a0f9cdf",
   "metadata": {},
   "source": [
    "### 2. Use a dataset simulated from your theoretical Simple Linear Regression model to demonstrate how to create and visualize a fitted Simple Linear Regression model using *pandas* and *import statsmodels.formula.api as smf*<br>\n",
    "\n",
    "<details class=\"details-example\"><summary style=\"color:blue\"><u>Further Guidance</u></summary>\n",
    "\n",
    "> - _Combine the **simulated** `x` and `Y` into a `pandas` data frame object named `df` with the column names \"x\" and \"Y\"_\n",
    "> \n",
    "> - _Replace the inline question comments below with their answers (working with a ChatBot if needed)_\n",
    ">\n",
    "> ```python\n",
    "> import statsmodels.formula.api as smf  # what is this library for?\n",
    "> import plotly.express as px  # this is a ploting library\n",
    ">\n",
    "> # what are the following two steps doing?\n",
    "> model_data_specification = smf.ols(\"Y~x\", data=df) \n",
    "> fitted_model = model_data_specification.fit() \n",
    ">\n",
    "> # what do each of the following provide?\n",
    "> fitted_model.summary()  # simple explanation? \n",
    "> fitted_model.summary().tables[1]  # simple explanation?\n",
    "> fitted_model.params  # simple explanation?\n",
    "> fitted_model.params.values  # simple explanation?\n",
    "> fitted_model.rsquared  # simple explanation?\n",
    ">\n",
    "> # what two things does this add onto the figure?\n",
    "> df['Data'] = 'Data' # hack to add data to legend \n",
    "> fig = px.scatter(df, x='x',  y='Y', color='Data', \n",
    ">                  trendline='ols', title='Y vs. x')\n",
    ">\n",
    "> # This is essentially what above `trendline='ols'` does\n",
    "> fig.add_scatter(x=df['x'], y=fitted_model.fittedvalues,\n",
    ">                 line=dict(color='blue'), name=\"trendline='ols'\")\n",
    "> \n",
    "> fig.show() # USE `fig.show(renderer=\"png\")` FOR ALL GitHub and MarkUs SUBMISSIONS\n",
    "> ```\n",
    ">\n",
    "> _The plotting here uses the `plotly.express` form `fig.add_scatter(x=x, y=Y)` rather than the `plotly.graph_objects` form `fig.add_trace(go.Scatter(x=x, y=Y))`. The difference between these two was noted in the \"Further Guidance\" comments in the previous question; but, the preference for the former in this case is because `px` allows us to access `trendline='ols'` through `px.scatter(df, x='x',  y='Y', trendline='ols')`_\n",
    ">\n",
    "> ---\n",
    "> \n",
    "> _Don't forget to ask for summaries of all your different ChatBot sessions and organize and paste these into your homework notebook (including link(s) to chat log histories if you're using ChatBot) But if you're using the STA130 custom NBLM ChatBot, you'll only be able to ask for summaries, of course!_      \n",
    "\n",
    "</details>"
   ]
  },
  {
   "cell_type": "code",
   "execution_count": 3,
   "id": "6770844e",
   "metadata": {},
   "outputs": [
    {
     "data": {
      "application/vnd.plotly.v1+json": {
       "config": {
        "plotlyServerURL": "https://plot.ly"
       },
       "data": [
        {
         "hovertemplate": "Data=Data<br>x=%{x}<br>Y=%{y}<extra></extra>",
         "legendgroup": "Data",
         "marker": {
          "color": "#636efa",
          "symbol": "circle"
         },
         "mode": "markers",
         "name": "Data",
         "orientation": "v",
         "showlegend": true,
         "type": "scatter",
         "x": [
          3.745401188473625,
          9.50714306409916,
          7.319939418114051,
          5.986584841970366,
          1.5601864044243652,
          1.5599452033620265,
          0.5808361216819946,
          8.661761457749352,
          6.011150117432088,
          7.080725777960454,
          0.20584494295802447,
          9.699098521619943,
          8.324426408004218,
          2.1233911067827616,
          1.8182496720710062,
          1.8340450985343382,
          3.0424224295953772,
          5.247564316322379,
          4.319450186421157,
          2.9122914019804194,
          6.118528947223795,
          1.3949386065204183,
          2.9214464853521815,
          3.663618432936917,
          4.56069984217036,
          7.851759613930136,
          1.9967378215835974,
          5.142344384136116,
          5.924145688620425,
          0.46450412719997725,
          6.075448519014383,
          1.7052412368729153,
          0.6505159298527952,
          9.488855372533333,
          9.656320330745594,
          8.08397348116461,
          3.0461376917337066,
          0.9767211400638387,
          6.842330265121569,
          4.4015249373960135,
          1.2203823484477883,
          4.951769101112702,
          0.34388521115218396,
          9.093204020787821,
          2.587799816000169,
          6.62522284353982,
          3.1171107608941098,
          5.200680211778108,
          5.4671027934327965,
          1.8485445552552704,
          9.695846277645586,
          7.7513282336111455,
          9.394989415641891,
          8.948273504276488,
          5.978999788110851,
          9.218742350231167,
          0.884925020519195,
          1.959828624191452,
          0.45227288910538066,
          3.2533033076326436,
          3.8867728968948203,
          2.713490317738959,
          8.287375091519294,
          3.567533266935893,
          2.8093450968738076,
          5.426960831582485,
          1.4092422497476265,
          8.021969807540398,
          0.7455064367977082,
          9.868869366005173,
          7.722447692966574,
          1.987156815341724,
          0.05522117123602399,
          8.154614284548341,
          7.068573438476172,
          7.2900716804098735,
          7.712703466859457,
          0.7404465173409036,
          3.5846572854427263,
          1.1586905952512971,
          8.631034258755935,
          6.232981268275579,
          3.308980248526492,
          0.6355835028602363,
          3.109823217156622,
          3.2518332202674705,
          7.29606178338064,
          6.3755747135521315,
          8.872127425763265,
          4.722149251619493,
          1.195942459383017,
          7.13244787222995,
          7.607850486168974,
          5.612771975694963,
          7.70967179954561,
          4.937955963643907,
          5.227328293819941,
          4.275410183585496,
          0.2541912674409519,
          1.0789142699330445
         ],
         "xaxis": "x",
         "y": [
          12.577849445185421,
          23.715278777732454,
          19.7316396127636,
          14.98560076933984,
          7.900700921011218,
          8.4770029782358,
          7.639566288105506,
          21.805252697225058,
          16.21380663197099,
          18.659694512336372,
          6.327092003618123,
          24.72694815289957,
          21.119092612241396,
          9.76004964667888,
          8.733576893490053,
          9.636735187601564,
          10.382791765313403,
          15.167466486046989,
          13.246792219710157,
          9.36106785582872,
          17.533178171512166,
          8.050932485220727,
          10.848006427346823,
          12.092649732498687,
          12.706028942290306,
          20.282873905094913,
          8.650761126640425,
          14.482411499050613,
          16.687005665574837,
          6.333059111214493,
          19.037082939239298,
          8.585060286577669,
          6.558582250428355,
          23.9032648293005,
          22.393869446192145,
          21.141433086880003,
          11.15250559340844,
          9.416684392612964,
          18.492299565462012,
          14.10459721712564,
          7.406052927190333,
          13.734860164605871,
          6.8305932368193885,
          23.938341074262418,
          10.966631579043385,
          17.3410582322849,
          12.63701583272432,
          13.999509360763936,
          16.521062680665864,
          10.88754473632052,
          23.401156230160485,
          19.936358737619518,
          23.889630196371424,
          22.393071354436778,
          15.40733614515557,
          23.506047675268363,
          5.7075463273122855,
          9.393249679018085,
          4.985121543976958,
          13.056541020282827,
          11.990292501453403,
          10.104919119272243,
          22.388267400408257,
          10.904202217437831,
          10.846150128351743,
          17.1610644174474,
          6.211001264934025,
          21.2285734736131,
          6.75089566784384,
          25.519561603787658,
          19.207944675055067,
          7.6538570175991705,
          5.632383908088945,
          21.60621324232987,
          19.387639727298218,
          19.926591570316724,
          19.745382212140424,
          6.713146731842811,
          12.462387044184133,
          6.603029772476226,
          24.127843028656628,
          17.93979545746295,
          10.426656999850335,
          6.927720614354303,
          10.244964764085923,
          12.290751044277393,
          20.750719145768684,
          16.930467108752552,
          23.70763098077085,
          14.857079430175485,
          8.213945078760524,
          21.161688727113848,
          19.970312856335077,
          15.471807787032434,
          19.529829169465696,
          14.060101642322376,
          15.377554878225778,
          13.891972341987636,
          5.785073334211923,
          7.985011788902113
         ],
         "yaxis": "y"
        },
        {
         "hovertemplate": "<b>OLS trendline</b><br>Y = 1.95402 * x + 5.2151<br>R<sup>2</sup>=0.976457<br><br>Data=Data<br>x=%{x}<br>Y=%{y} <b>(trend)</b><extra></extra>",
         "legendgroup": "Data",
         "marker": {
          "color": "#636efa",
          "symbol": "circle"
         },
         "mode": "lines",
         "name": "Data",
         "showlegend": false,
         "type": "scatter",
         "x": [
          0.05522117123602399,
          0.20584494295802447,
          0.2541912674409519,
          0.34388521115218396,
          0.45227288910538066,
          0.46450412719997725,
          0.5808361216819946,
          0.6355835028602363,
          0.6505159298527952,
          0.7404465173409036,
          0.7455064367977082,
          0.884925020519195,
          0.9767211400638387,
          1.0789142699330445,
          1.1586905952512971,
          1.195942459383017,
          1.2203823484477883,
          1.3949386065204183,
          1.4092422497476265,
          1.5599452033620265,
          1.5601864044243652,
          1.7052412368729153,
          1.8182496720710062,
          1.8340450985343382,
          1.8485445552552704,
          1.959828624191452,
          1.987156815341724,
          1.9967378215835974,
          2.1233911067827616,
          2.587799816000169,
          2.713490317738959,
          2.8093450968738076,
          2.9122914019804194,
          2.9214464853521815,
          3.0424224295953772,
          3.0461376917337066,
          3.109823217156622,
          3.1171107608941098,
          3.2518332202674705,
          3.2533033076326436,
          3.308980248526492,
          3.567533266935893,
          3.5846572854427263,
          3.663618432936917,
          3.745401188473625,
          3.8867728968948203,
          4.275410183585496,
          4.319450186421157,
          4.4015249373960135,
          4.56069984217036,
          4.722149251619493,
          4.937955963643907,
          4.951769101112702,
          5.142344384136116,
          5.200680211778108,
          5.227328293819941,
          5.247564316322379,
          5.426960831582485,
          5.4671027934327965,
          5.612771975694963,
          5.924145688620425,
          5.978999788110851,
          5.986584841970366,
          6.011150117432088,
          6.075448519014383,
          6.118528947223795,
          6.232981268275579,
          6.3755747135521315,
          6.62522284353982,
          6.842330265121569,
          7.068573438476172,
          7.080725777960454,
          7.13244787222995,
          7.2900716804098735,
          7.29606178338064,
          7.319939418114051,
          7.607850486168974,
          7.70967179954561,
          7.712703466859457,
          7.722447692966574,
          7.7513282336111455,
          7.851759613930136,
          8.021969807540398,
          8.08397348116461,
          8.154614284548341,
          8.287375091519294,
          8.324426408004218,
          8.631034258755935,
          8.661761457749352,
          8.872127425763265,
          8.948273504276488,
          9.093204020787821,
          9.218742350231167,
          9.394989415641891,
          9.488855372533333,
          9.50714306409916,
          9.656320330745594,
          9.695846277645586,
          9.699098521619943,
          9.868869366005173
         ],
         "xaxis": "x",
         "y": [
          5.322999578408331,
          5.617321844091726,
          5.711791658494875,
          5.887055658521989,
          6.09884763918109,
          6.122747755789238,
          6.350063111101207,
          6.457040735445604,
          6.486219036416007,
          6.661945443749577,
          6.671832641113422,
          6.94425971534054,
          7.123631414617787,
          7.323319107845221,
          7.479203856627768,
          7.551994843912388,
          7.599750941375347,
          7.94083782811175,
          7.968787471345546,
          8.26326446024232,
          8.263735772587916,
          8.54717620464255,
          8.767997249744417,
          8.798861871251198,
          8.827194138492251,
          9.044645732814397,
          9.098045638051282,
          9.116767141519137,
          9.364250532951289,
          10.271715682292012,
          10.517317773009275,
          10.704620185165172,
          10.905779599886472,
          10.923668840407354,
          11.160058578864849,
          11.167318285335213,
          11.291761246226573,
          11.306001271951349,
          11.569252012706867,
          11.572124596756009,
          11.680918601864596,
          12.186137063117748,
          12.219597783606396,
          12.373889656434702,
          12.533695015364506,
          12.809938539546426,
          13.569344610979565,
          13.655399775228263,
          13.815775699865872,
          14.126807073450054,
          14.442282880748367,
          14.863974089954967,
          14.890965273813485,
          15.263353698571757,
          15.377343228682555,
          15.42941418529852,
          15.468955832166387,
          15.819500691211022,
          15.89793899497735,
          16.182579880499574,
          16.791011176667197,
          16.898197331013687,
          16.913018698263627,
          16.96101980358965,
          17.086660338394807,
          17.17084047206326,
          17.394482902866663,
          17.673113728569625,
          18.160931835908038,
          18.58516466108623,
          19.02724895240266,
          19.05099489933705,
          19.152061044456453,
          19.46006154012047,
          19.471766337164638,
          19.518423776913714,
          20.081008532935154,
          20.27996968830432,
          20.285893634985566,
          20.30493407377149,
          20.361367305123316,
          20.557612499777925,
          20.890207077997907,
          21.011363662334766,
          21.149397394088396,
          21.408815021564653,
          21.481214134199558,
          22.080332827602852,
          22.140374471245522,
          22.551434343274288,
          22.70022550747565,
          22.983423023369816,
          23.22872776597093,
          23.573118528588893,
          23.75653473698008,
          23.792269301014947,
          24.08376506297787,
          24.160999659561725,
          24.167354618039692,
          24.499090697910713
         ],
         "yaxis": "y"
        },
        {
         "line": {
          "color": "blue"
         },
         "name": "trendline='ols'",
         "type": "scatter",
         "x": [
          3.745401188473625,
          9.50714306409916,
          7.319939418114051,
          5.986584841970366,
          1.5601864044243652,
          1.5599452033620265,
          0.5808361216819946,
          8.661761457749352,
          6.011150117432088,
          7.080725777960454,
          0.20584494295802447,
          9.699098521619943,
          8.324426408004218,
          2.1233911067827616,
          1.8182496720710062,
          1.8340450985343382,
          3.0424224295953772,
          5.247564316322379,
          4.319450186421157,
          2.9122914019804194,
          6.118528947223795,
          1.3949386065204183,
          2.9214464853521815,
          3.663618432936917,
          4.56069984217036,
          7.851759613930136,
          1.9967378215835974,
          5.142344384136116,
          5.924145688620425,
          0.46450412719997725,
          6.075448519014383,
          1.7052412368729153,
          0.6505159298527952,
          9.488855372533333,
          9.656320330745594,
          8.08397348116461,
          3.0461376917337066,
          0.9767211400638387,
          6.842330265121569,
          4.4015249373960135,
          1.2203823484477883,
          4.951769101112702,
          0.34388521115218396,
          9.093204020787821,
          2.587799816000169,
          6.62522284353982,
          3.1171107608941098,
          5.200680211778108,
          5.4671027934327965,
          1.8485445552552704,
          9.695846277645586,
          7.7513282336111455,
          9.394989415641891,
          8.948273504276488,
          5.978999788110851,
          9.218742350231167,
          0.884925020519195,
          1.959828624191452,
          0.45227288910538066,
          3.2533033076326436,
          3.8867728968948203,
          2.713490317738959,
          8.287375091519294,
          3.567533266935893,
          2.8093450968738076,
          5.426960831582485,
          1.4092422497476265,
          8.021969807540398,
          0.7455064367977082,
          9.868869366005173,
          7.722447692966574,
          1.987156815341724,
          0.05522117123602399,
          8.154614284548341,
          7.068573438476172,
          7.2900716804098735,
          7.712703466859457,
          0.7404465173409036,
          3.5846572854427263,
          1.1586905952512971,
          8.631034258755935,
          6.232981268275579,
          3.308980248526492,
          0.6355835028602363,
          3.109823217156622,
          3.2518332202674705,
          7.29606178338064,
          6.3755747135521315,
          8.872127425763265,
          4.722149251619493,
          1.195942459383017,
          7.13244787222995,
          7.607850486168974,
          5.612771975694963,
          7.70967179954561,
          4.937955963643907,
          5.227328293819941,
          4.275410183585496,
          0.2541912674409519,
          1.0789142699330445
         ],
         "y": [
          12.533695015364508,
          23.792269301014965,
          19.51842377691372,
          16.913018698263635,
          8.263735772587914,
          8.263264460242318,
          6.350063111101203,
          22.140374471245533,
          16.96101980358966,
          19.050994899337056,
          5.617321844091721,
          24.167354618039706,
          21.48121413419957,
          9.364250532951289,
          8.767997249744417,
          8.798861871251198,
          11.160058578864852,
          15.468955832166394,
          13.655399775228265,
          10.905779599886472,
          17.170840472063272,
          7.940837828111748,
          10.923668840407355,
          12.373889656434706,
          14.12680707345006,
          20.55761249977794,
          9.116767141519137,
          15.263353698571763,
          16.791011176667208,
          6.122747755789234,
          17.086660338394815,
          8.547176204642549,
          6.486219036416005,
          23.756534736980093,
          24.083765062977886,
          21.011363662334777,
          11.167318285335217,
          7.123631414617784,
          18.585164661086242,
          13.815775699865874,
          7.599750941375345,
          14.890965273813489,
          5.887055658521985,
          22.98342302336983,
          10.271715682292012,
          18.160931835908045,
          11.306001271951352,
          15.377343228682562,
          15.897938994977356,
          8.82719413849225,
          24.160999659561742,
          20.361367305123323,
          23.573118528588907,
          22.700225507475665,
          16.898197331013694,
          23.228727765970945,
          6.944259715340538,
          9.044645732814397,
          6.098847639181087,
          11.572124596756012,
          12.80993853954643,
          10.517317773009276,
          21.408815021564664,
          12.186137063117751,
          10.704620185165176,
          15.81950069121103,
          7.968787471345545,
          20.890207077997918,
          6.671832641113419,
          24.499090697910727,
          20.304934073771502,
          9.098045638051282,
          5.322999578408327,
          21.149397394088407,
          19.02724895240267,
          19.46006154012048,
          20.285893634985577,
          6.661945443749573,
          12.219597783606398,
          7.479203856627765,
          22.080332827602867,
          17.39448290286667,
          11.680918601864597,
          6.457040735445601,
          11.291761246226574,
          11.569252012706869,
          19.471766337164645,
          17.673113728569636,
          22.551434343274302,
          14.442282880748373,
          7.551994843912386,
          19.152061044456463,
          20.081008532935165,
          16.182579880499585,
          20.27996968830433,
          14.863974089954972,
          15.429414185298526,
          13.56934461097957,
          5.711791658494871,
          7.323319107845219
         ]
        }
       ],
       "layout": {
        "legend": {
         "title": {
          "text": "Data"
         },
         "tracegroupgap": 0
        },
        "template": {
         "data": {
          "bar": [
           {
            "error_x": {
             "color": "#2a3f5f"
            },
            "error_y": {
             "color": "#2a3f5f"
            },
            "marker": {
             "line": {
              "color": "#E5ECF6",
              "width": 0.5
             },
             "pattern": {
              "fillmode": "overlay",
              "size": 10,
              "solidity": 0.2
             }
            },
            "type": "bar"
           }
          ],
          "barpolar": [
           {
            "marker": {
             "line": {
              "color": "#E5ECF6",
              "width": 0.5
             },
             "pattern": {
              "fillmode": "overlay",
              "size": 10,
              "solidity": 0.2
             }
            },
            "type": "barpolar"
           }
          ],
          "carpet": [
           {
            "aaxis": {
             "endlinecolor": "#2a3f5f",
             "gridcolor": "white",
             "linecolor": "white",
             "minorgridcolor": "white",
             "startlinecolor": "#2a3f5f"
            },
            "baxis": {
             "endlinecolor": "#2a3f5f",
             "gridcolor": "white",
             "linecolor": "white",
             "minorgridcolor": "white",
             "startlinecolor": "#2a3f5f"
            },
            "type": "carpet"
           }
          ],
          "choropleth": [
           {
            "colorbar": {
             "outlinewidth": 0,
             "ticks": ""
            },
            "type": "choropleth"
           }
          ],
          "contour": [
           {
            "colorbar": {
             "outlinewidth": 0,
             "ticks": ""
            },
            "colorscale": [
             [
              0,
              "#0d0887"
             ],
             [
              0.1111111111111111,
              "#46039f"
             ],
             [
              0.2222222222222222,
              "#7201a8"
             ],
             [
              0.3333333333333333,
              "#9c179e"
             ],
             [
              0.4444444444444444,
              "#bd3786"
             ],
             [
              0.5555555555555556,
              "#d8576b"
             ],
             [
              0.6666666666666666,
              "#ed7953"
             ],
             [
              0.7777777777777778,
              "#fb9f3a"
             ],
             [
              0.8888888888888888,
              "#fdca26"
             ],
             [
              1,
              "#f0f921"
             ]
            ],
            "type": "contour"
           }
          ],
          "contourcarpet": [
           {
            "colorbar": {
             "outlinewidth": 0,
             "ticks": ""
            },
            "type": "contourcarpet"
           }
          ],
          "heatmap": [
           {
            "colorbar": {
             "outlinewidth": 0,
             "ticks": ""
            },
            "colorscale": [
             [
              0,
              "#0d0887"
             ],
             [
              0.1111111111111111,
              "#46039f"
             ],
             [
              0.2222222222222222,
              "#7201a8"
             ],
             [
              0.3333333333333333,
              "#9c179e"
             ],
             [
              0.4444444444444444,
              "#bd3786"
             ],
             [
              0.5555555555555556,
              "#d8576b"
             ],
             [
              0.6666666666666666,
              "#ed7953"
             ],
             [
              0.7777777777777778,
              "#fb9f3a"
             ],
             [
              0.8888888888888888,
              "#fdca26"
             ],
             [
              1,
              "#f0f921"
             ]
            ],
            "type": "heatmap"
           }
          ],
          "heatmapgl": [
           {
            "colorbar": {
             "outlinewidth": 0,
             "ticks": ""
            },
            "colorscale": [
             [
              0,
              "#0d0887"
             ],
             [
              0.1111111111111111,
              "#46039f"
             ],
             [
              0.2222222222222222,
              "#7201a8"
             ],
             [
              0.3333333333333333,
              "#9c179e"
             ],
             [
              0.4444444444444444,
              "#bd3786"
             ],
             [
              0.5555555555555556,
              "#d8576b"
             ],
             [
              0.6666666666666666,
              "#ed7953"
             ],
             [
              0.7777777777777778,
              "#fb9f3a"
             ],
             [
              0.8888888888888888,
              "#fdca26"
             ],
             [
              1,
              "#f0f921"
             ]
            ],
            "type": "heatmapgl"
           }
          ],
          "histogram": [
           {
            "marker": {
             "pattern": {
              "fillmode": "overlay",
              "size": 10,
              "solidity": 0.2
             }
            },
            "type": "histogram"
           }
          ],
          "histogram2d": [
           {
            "colorbar": {
             "outlinewidth": 0,
             "ticks": ""
            },
            "colorscale": [
             [
              0,
              "#0d0887"
             ],
             [
              0.1111111111111111,
              "#46039f"
             ],
             [
              0.2222222222222222,
              "#7201a8"
             ],
             [
              0.3333333333333333,
              "#9c179e"
             ],
             [
              0.4444444444444444,
              "#bd3786"
             ],
             [
              0.5555555555555556,
              "#d8576b"
             ],
             [
              0.6666666666666666,
              "#ed7953"
             ],
             [
              0.7777777777777778,
              "#fb9f3a"
             ],
             [
              0.8888888888888888,
              "#fdca26"
             ],
             [
              1,
              "#f0f921"
             ]
            ],
            "type": "histogram2d"
           }
          ],
          "histogram2dcontour": [
           {
            "colorbar": {
             "outlinewidth": 0,
             "ticks": ""
            },
            "colorscale": [
             [
              0,
              "#0d0887"
             ],
             [
              0.1111111111111111,
              "#46039f"
             ],
             [
              0.2222222222222222,
              "#7201a8"
             ],
             [
              0.3333333333333333,
              "#9c179e"
             ],
             [
              0.4444444444444444,
              "#bd3786"
             ],
             [
              0.5555555555555556,
              "#d8576b"
             ],
             [
              0.6666666666666666,
              "#ed7953"
             ],
             [
              0.7777777777777778,
              "#fb9f3a"
             ],
             [
              0.8888888888888888,
              "#fdca26"
             ],
             [
              1,
              "#f0f921"
             ]
            ],
            "type": "histogram2dcontour"
           }
          ],
          "mesh3d": [
           {
            "colorbar": {
             "outlinewidth": 0,
             "ticks": ""
            },
            "type": "mesh3d"
           }
          ],
          "parcoords": [
           {
            "line": {
             "colorbar": {
              "outlinewidth": 0,
              "ticks": ""
             }
            },
            "type": "parcoords"
           }
          ],
          "pie": [
           {
            "automargin": true,
            "type": "pie"
           }
          ],
          "scatter": [
           {
            "fillpattern": {
             "fillmode": "overlay",
             "size": 10,
             "solidity": 0.2
            },
            "type": "scatter"
           }
          ],
          "scatter3d": [
           {
            "line": {
             "colorbar": {
              "outlinewidth": 0,
              "ticks": ""
             }
            },
            "marker": {
             "colorbar": {
              "outlinewidth": 0,
              "ticks": ""
             }
            },
            "type": "scatter3d"
           }
          ],
          "scattercarpet": [
           {
            "marker": {
             "colorbar": {
              "outlinewidth": 0,
              "ticks": ""
             }
            },
            "type": "scattercarpet"
           }
          ],
          "scattergeo": [
           {
            "marker": {
             "colorbar": {
              "outlinewidth": 0,
              "ticks": ""
             }
            },
            "type": "scattergeo"
           }
          ],
          "scattergl": [
           {
            "marker": {
             "colorbar": {
              "outlinewidth": 0,
              "ticks": ""
             }
            },
            "type": "scattergl"
           }
          ],
          "scattermapbox": [
           {
            "marker": {
             "colorbar": {
              "outlinewidth": 0,
              "ticks": ""
             }
            },
            "type": "scattermapbox"
           }
          ],
          "scatterpolar": [
           {
            "marker": {
             "colorbar": {
              "outlinewidth": 0,
              "ticks": ""
             }
            },
            "type": "scatterpolar"
           }
          ],
          "scatterpolargl": [
           {
            "marker": {
             "colorbar": {
              "outlinewidth": 0,
              "ticks": ""
             }
            },
            "type": "scatterpolargl"
           }
          ],
          "scatterternary": [
           {
            "marker": {
             "colorbar": {
              "outlinewidth": 0,
              "ticks": ""
             }
            },
            "type": "scatterternary"
           }
          ],
          "surface": [
           {
            "colorbar": {
             "outlinewidth": 0,
             "ticks": ""
            },
            "colorscale": [
             [
              0,
              "#0d0887"
             ],
             [
              0.1111111111111111,
              "#46039f"
             ],
             [
              0.2222222222222222,
              "#7201a8"
             ],
             [
              0.3333333333333333,
              "#9c179e"
             ],
             [
              0.4444444444444444,
              "#bd3786"
             ],
             [
              0.5555555555555556,
              "#d8576b"
             ],
             [
              0.6666666666666666,
              "#ed7953"
             ],
             [
              0.7777777777777778,
              "#fb9f3a"
             ],
             [
              0.8888888888888888,
              "#fdca26"
             ],
             [
              1,
              "#f0f921"
             ]
            ],
            "type": "surface"
           }
          ],
          "table": [
           {
            "cells": {
             "fill": {
              "color": "#EBF0F8"
             },
             "line": {
              "color": "white"
             }
            },
            "header": {
             "fill": {
              "color": "#C8D4E3"
             },
             "line": {
              "color": "white"
             }
            },
            "type": "table"
           }
          ]
         },
         "layout": {
          "annotationdefaults": {
           "arrowcolor": "#2a3f5f",
           "arrowhead": 0,
           "arrowwidth": 1
          },
          "autotypenumbers": "strict",
          "coloraxis": {
           "colorbar": {
            "outlinewidth": 0,
            "ticks": ""
           }
          },
          "colorscale": {
           "diverging": [
            [
             0,
             "#8e0152"
            ],
            [
             0.1,
             "#c51b7d"
            ],
            [
             0.2,
             "#de77ae"
            ],
            [
             0.3,
             "#f1b6da"
            ],
            [
             0.4,
             "#fde0ef"
            ],
            [
             0.5,
             "#f7f7f7"
            ],
            [
             0.6,
             "#e6f5d0"
            ],
            [
             0.7,
             "#b8e186"
            ],
            [
             0.8,
             "#7fbc41"
            ],
            [
             0.9,
             "#4d9221"
            ],
            [
             1,
             "#276419"
            ]
           ],
           "sequential": [
            [
             0,
             "#0d0887"
            ],
            [
             0.1111111111111111,
             "#46039f"
            ],
            [
             0.2222222222222222,
             "#7201a8"
            ],
            [
             0.3333333333333333,
             "#9c179e"
            ],
            [
             0.4444444444444444,
             "#bd3786"
            ],
            [
             0.5555555555555556,
             "#d8576b"
            ],
            [
             0.6666666666666666,
             "#ed7953"
            ],
            [
             0.7777777777777778,
             "#fb9f3a"
            ],
            [
             0.8888888888888888,
             "#fdca26"
            ],
            [
             1,
             "#f0f921"
            ]
           ],
           "sequentialminus": [
            [
             0,
             "#0d0887"
            ],
            [
             0.1111111111111111,
             "#46039f"
            ],
            [
             0.2222222222222222,
             "#7201a8"
            ],
            [
             0.3333333333333333,
             "#9c179e"
            ],
            [
             0.4444444444444444,
             "#bd3786"
            ],
            [
             0.5555555555555556,
             "#d8576b"
            ],
            [
             0.6666666666666666,
             "#ed7953"
            ],
            [
             0.7777777777777778,
             "#fb9f3a"
            ],
            [
             0.8888888888888888,
             "#fdca26"
            ],
            [
             1,
             "#f0f921"
            ]
           ]
          },
          "colorway": [
           "#636efa",
           "#EF553B",
           "#00cc96",
           "#ab63fa",
           "#FFA15A",
           "#19d3f3",
           "#FF6692",
           "#B6E880",
           "#FF97FF",
           "#FECB52"
          ],
          "font": {
           "color": "#2a3f5f"
          },
          "geo": {
           "bgcolor": "white",
           "lakecolor": "white",
           "landcolor": "#E5ECF6",
           "showlakes": true,
           "showland": true,
           "subunitcolor": "white"
          },
          "hoverlabel": {
           "align": "left"
          },
          "hovermode": "closest",
          "mapbox": {
           "style": "light"
          },
          "paper_bgcolor": "white",
          "plot_bgcolor": "#E5ECF6",
          "polar": {
           "angularaxis": {
            "gridcolor": "white",
            "linecolor": "white",
            "ticks": ""
           },
           "bgcolor": "#E5ECF6",
           "radialaxis": {
            "gridcolor": "white",
            "linecolor": "white",
            "ticks": ""
           }
          },
          "scene": {
           "xaxis": {
            "backgroundcolor": "#E5ECF6",
            "gridcolor": "white",
            "gridwidth": 2,
            "linecolor": "white",
            "showbackground": true,
            "ticks": "",
            "zerolinecolor": "white"
           },
           "yaxis": {
            "backgroundcolor": "#E5ECF6",
            "gridcolor": "white",
            "gridwidth": 2,
            "linecolor": "white",
            "showbackground": true,
            "ticks": "",
            "zerolinecolor": "white"
           },
           "zaxis": {
            "backgroundcolor": "#E5ECF6",
            "gridcolor": "white",
            "gridwidth": 2,
            "linecolor": "white",
            "showbackground": true,
            "ticks": "",
            "zerolinecolor": "white"
           }
          },
          "shapedefaults": {
           "line": {
            "color": "#2a3f5f"
           }
          },
          "ternary": {
           "aaxis": {
            "gridcolor": "white",
            "linecolor": "white",
            "ticks": ""
           },
           "baxis": {
            "gridcolor": "white",
            "linecolor": "white",
            "ticks": ""
           },
           "bgcolor": "#E5ECF6",
           "caxis": {
            "gridcolor": "white",
            "linecolor": "white",
            "ticks": ""
           }
          },
          "title": {
           "x": 0.05
          },
          "xaxis": {
           "automargin": true,
           "gridcolor": "white",
           "linecolor": "white",
           "ticks": "",
           "title": {
            "standoff": 15
           },
           "zerolinecolor": "white",
           "zerolinewidth": 2
          },
          "yaxis": {
           "automargin": true,
           "gridcolor": "white",
           "linecolor": "white",
           "ticks": "",
           "title": {
            "standoff": 15
           },
           "zerolinecolor": "white",
           "zerolinewidth": 2
          }
         }
        },
        "title": {
         "text": "Y vs. x"
        },
        "xaxis": {
         "anchor": "y",
         "domain": [
          0,
          1
         ],
         "title": {
          "text": "x"
         }
        },
        "yaxis": {
         "anchor": "x",
         "domain": [
          0,
          1
         ],
         "title": {
          "text": "Y"
         }
        }
       }
      },
      "text/html": [
       "<div>                            <div id=\"5e9d4d38-bae1-4843-ad56-a39fd61ca211\" class=\"plotly-graph-div\" style=\"height:525px; width:100%;\"></div>            <script type=\"text/javascript\">                require([\"plotly\"], function(Plotly) {                    window.PLOTLYENV=window.PLOTLYENV || {};                                    if (document.getElementById(\"5e9d4d38-bae1-4843-ad56-a39fd61ca211\")) {                    Plotly.newPlot(                        \"5e9d4d38-bae1-4843-ad56-a39fd61ca211\",                        [{\"hovertemplate\":\"Data=Data\\u003cbr\\u003ex=%{x}\\u003cbr\\u003eY=%{y}\\u003cextra\\u003e\\u003c\\u002fextra\\u003e\",\"legendgroup\":\"Data\",\"marker\":{\"color\":\"#636efa\",\"symbol\":\"circle\"},\"mode\":\"markers\",\"name\":\"Data\",\"orientation\":\"v\",\"showlegend\":true,\"x\":[3.745401188473625,9.50714306409916,7.319939418114051,5.986584841970366,1.5601864044243652,1.5599452033620265,0.5808361216819946,8.661761457749352,6.011150117432088,7.080725777960454,0.20584494295802447,9.699098521619943,8.324426408004218,2.1233911067827616,1.8182496720710062,1.8340450985343382,3.0424224295953772,5.247564316322379,4.319450186421157,2.9122914019804194,6.118528947223795,1.3949386065204183,2.9214464853521815,3.663618432936917,4.56069984217036,7.851759613930136,1.9967378215835974,5.142344384136116,5.924145688620425,0.46450412719997725,6.075448519014383,1.7052412368729153,0.6505159298527952,9.488855372533333,9.656320330745594,8.08397348116461,3.0461376917337066,0.9767211400638387,6.842330265121569,4.4015249373960135,1.2203823484477883,4.951769101112702,0.34388521115218396,9.093204020787821,2.587799816000169,6.62522284353982,3.1171107608941098,5.200680211778108,5.4671027934327965,1.8485445552552704,9.695846277645586,7.7513282336111455,9.394989415641891,8.948273504276488,5.978999788110851,9.218742350231167,0.884925020519195,1.959828624191452,0.45227288910538066,3.2533033076326436,3.8867728968948203,2.713490317738959,8.287375091519294,3.567533266935893,2.8093450968738076,5.426960831582485,1.4092422497476265,8.021969807540398,0.7455064367977082,9.868869366005173,7.722447692966574,1.987156815341724,0.05522117123602399,8.154614284548341,7.068573438476172,7.2900716804098735,7.712703466859457,0.7404465173409036,3.5846572854427263,1.1586905952512971,8.631034258755935,6.232981268275579,3.308980248526492,0.6355835028602363,3.109823217156622,3.2518332202674705,7.29606178338064,6.3755747135521315,8.872127425763265,4.722149251619493,1.195942459383017,7.13244787222995,7.607850486168974,5.612771975694963,7.70967179954561,4.937955963643907,5.227328293819941,4.275410183585496,0.2541912674409519,1.0789142699330445],\"xaxis\":\"x\",\"y\":[12.577849445185421,23.715278777732454,19.7316396127636,14.98560076933984,7.900700921011218,8.4770029782358,7.639566288105506,21.805252697225058,16.21380663197099,18.659694512336372,6.327092003618123,24.72694815289957,21.119092612241396,9.76004964667888,8.733576893490053,9.636735187601564,10.382791765313403,15.167466486046989,13.246792219710157,9.36106785582872,17.533178171512166,8.050932485220727,10.848006427346823,12.092649732498687,12.706028942290306,20.282873905094913,8.650761126640425,14.482411499050613,16.687005665574837,6.333059111214493,19.037082939239298,8.585060286577669,6.558582250428355,23.9032648293005,22.393869446192145,21.141433086880003,11.15250559340844,9.416684392612964,18.492299565462012,14.10459721712564,7.406052927190333,13.734860164605871,6.8305932368193885,23.938341074262418,10.966631579043385,17.3410582322849,12.63701583272432,13.999509360763936,16.521062680665864,10.88754473632052,23.401156230160485,19.936358737619518,23.889630196371424,22.393071354436778,15.40733614515557,23.506047675268363,5.7075463273122855,9.393249679018085,4.985121543976958,13.056541020282827,11.990292501453403,10.104919119272243,22.388267400408257,10.904202217437831,10.846150128351743,17.1610644174474,6.211001264934025,21.2285734736131,6.75089566784384,25.519561603787658,19.207944675055067,7.6538570175991705,5.632383908088945,21.60621324232987,19.387639727298218,19.926591570316724,19.745382212140424,6.713146731842811,12.462387044184133,6.603029772476226,24.127843028656628,17.93979545746295,10.426656999850335,6.927720614354303,10.244964764085923,12.290751044277393,20.750719145768684,16.930467108752552,23.70763098077085,14.857079430175485,8.213945078760524,21.161688727113848,19.970312856335077,15.471807787032434,19.529829169465696,14.060101642322376,15.377554878225778,13.891972341987636,5.785073334211923,7.985011788902113],\"yaxis\":\"y\",\"type\":\"scatter\"},{\"hovertemplate\":\"\\u003cb\\u003eOLS trendline\\u003c\\u002fb\\u003e\\u003cbr\\u003eY = 1.95402 * x + 5.2151\\u003cbr\\u003eR\\u003csup\\u003e2\\u003c\\u002fsup\\u003e=0.976457\\u003cbr\\u003e\\u003cbr\\u003eData=Data\\u003cbr\\u003ex=%{x}\\u003cbr\\u003eY=%{y} \\u003cb\\u003e(trend)\\u003c\\u002fb\\u003e\\u003cextra\\u003e\\u003c\\u002fextra\\u003e\",\"legendgroup\":\"Data\",\"marker\":{\"color\":\"#636efa\",\"symbol\":\"circle\"},\"mode\":\"lines\",\"name\":\"Data\",\"showlegend\":false,\"x\":[0.05522117123602399,0.20584494295802447,0.2541912674409519,0.34388521115218396,0.45227288910538066,0.46450412719997725,0.5808361216819946,0.6355835028602363,0.6505159298527952,0.7404465173409036,0.7455064367977082,0.884925020519195,0.9767211400638387,1.0789142699330445,1.1586905952512971,1.195942459383017,1.2203823484477883,1.3949386065204183,1.4092422497476265,1.5599452033620265,1.5601864044243652,1.7052412368729153,1.8182496720710062,1.8340450985343382,1.8485445552552704,1.959828624191452,1.987156815341724,1.9967378215835974,2.1233911067827616,2.587799816000169,2.713490317738959,2.8093450968738076,2.9122914019804194,2.9214464853521815,3.0424224295953772,3.0461376917337066,3.109823217156622,3.1171107608941098,3.2518332202674705,3.2533033076326436,3.308980248526492,3.567533266935893,3.5846572854427263,3.663618432936917,3.745401188473625,3.8867728968948203,4.275410183585496,4.319450186421157,4.4015249373960135,4.56069984217036,4.722149251619493,4.937955963643907,4.951769101112702,5.142344384136116,5.200680211778108,5.227328293819941,5.247564316322379,5.426960831582485,5.4671027934327965,5.612771975694963,5.924145688620425,5.978999788110851,5.986584841970366,6.011150117432088,6.075448519014383,6.118528947223795,6.232981268275579,6.3755747135521315,6.62522284353982,6.842330265121569,7.068573438476172,7.080725777960454,7.13244787222995,7.2900716804098735,7.29606178338064,7.319939418114051,7.607850486168974,7.70967179954561,7.712703466859457,7.722447692966574,7.7513282336111455,7.851759613930136,8.021969807540398,8.08397348116461,8.154614284548341,8.287375091519294,8.324426408004218,8.631034258755935,8.661761457749352,8.872127425763265,8.948273504276488,9.093204020787821,9.218742350231167,9.394989415641891,9.488855372533333,9.50714306409916,9.656320330745594,9.695846277645586,9.699098521619943,9.868869366005173],\"xaxis\":\"x\",\"y\":[5.322999578408331,5.617321844091726,5.711791658494875,5.887055658521989,6.09884763918109,6.122747755789238,6.350063111101207,6.457040735445604,6.486219036416007,6.661945443749577,6.671832641113422,6.94425971534054,7.123631414617787,7.323319107845221,7.479203856627768,7.551994843912388,7.599750941375347,7.94083782811175,7.968787471345546,8.26326446024232,8.263735772587916,8.54717620464255,8.767997249744417,8.798861871251198,8.827194138492251,9.044645732814397,9.098045638051282,9.116767141519137,9.364250532951289,10.271715682292012,10.517317773009275,10.704620185165172,10.905779599886472,10.923668840407354,11.160058578864849,11.167318285335213,11.291761246226573,11.306001271951349,11.569252012706867,11.572124596756009,11.680918601864596,12.186137063117748,12.219597783606396,12.373889656434702,12.533695015364506,12.809938539546426,13.569344610979565,13.655399775228263,13.815775699865872,14.126807073450054,14.442282880748367,14.863974089954967,14.890965273813485,15.263353698571757,15.377343228682555,15.42941418529852,15.468955832166387,15.819500691211022,15.89793899497735,16.182579880499574,16.791011176667197,16.898197331013687,16.913018698263627,16.96101980358965,17.086660338394807,17.17084047206326,17.394482902866663,17.673113728569625,18.160931835908038,18.58516466108623,19.02724895240266,19.05099489933705,19.152061044456453,19.46006154012047,19.471766337164638,19.518423776913714,20.081008532935154,20.27996968830432,20.285893634985566,20.30493407377149,20.361367305123316,20.557612499777925,20.890207077997907,21.011363662334766,21.149397394088396,21.408815021564653,21.481214134199558,22.080332827602852,22.140374471245522,22.551434343274288,22.70022550747565,22.983423023369816,23.22872776597093,23.573118528588893,23.75653473698008,23.792269301014947,24.08376506297787,24.160999659561725,24.167354618039692,24.499090697910713],\"yaxis\":\"y\",\"type\":\"scatter\"},{\"line\":{\"color\":\"blue\"},\"name\":\"trendline='ols'\",\"x\":[3.745401188473625,9.50714306409916,7.319939418114051,5.986584841970366,1.5601864044243652,1.5599452033620265,0.5808361216819946,8.661761457749352,6.011150117432088,7.080725777960454,0.20584494295802447,9.699098521619943,8.324426408004218,2.1233911067827616,1.8182496720710062,1.8340450985343382,3.0424224295953772,5.247564316322379,4.319450186421157,2.9122914019804194,6.118528947223795,1.3949386065204183,2.9214464853521815,3.663618432936917,4.56069984217036,7.851759613930136,1.9967378215835974,5.142344384136116,5.924145688620425,0.46450412719997725,6.075448519014383,1.7052412368729153,0.6505159298527952,9.488855372533333,9.656320330745594,8.08397348116461,3.0461376917337066,0.9767211400638387,6.842330265121569,4.4015249373960135,1.2203823484477883,4.951769101112702,0.34388521115218396,9.093204020787821,2.587799816000169,6.62522284353982,3.1171107608941098,5.200680211778108,5.4671027934327965,1.8485445552552704,9.695846277645586,7.7513282336111455,9.394989415641891,8.948273504276488,5.978999788110851,9.218742350231167,0.884925020519195,1.959828624191452,0.45227288910538066,3.2533033076326436,3.8867728968948203,2.713490317738959,8.287375091519294,3.567533266935893,2.8093450968738076,5.426960831582485,1.4092422497476265,8.021969807540398,0.7455064367977082,9.868869366005173,7.722447692966574,1.987156815341724,0.05522117123602399,8.154614284548341,7.068573438476172,7.2900716804098735,7.712703466859457,0.7404465173409036,3.5846572854427263,1.1586905952512971,8.631034258755935,6.232981268275579,3.308980248526492,0.6355835028602363,3.109823217156622,3.2518332202674705,7.29606178338064,6.3755747135521315,8.872127425763265,4.722149251619493,1.195942459383017,7.13244787222995,7.607850486168974,5.612771975694963,7.70967179954561,4.937955963643907,5.227328293819941,4.275410183585496,0.2541912674409519,1.0789142699330445],\"y\":[12.533695015364508,23.792269301014965,19.51842377691372,16.913018698263635,8.263735772587914,8.263264460242318,6.350063111101203,22.140374471245533,16.96101980358966,19.050994899337056,5.617321844091721,24.167354618039706,21.48121413419957,9.364250532951289,8.767997249744417,8.798861871251198,11.160058578864852,15.468955832166394,13.655399775228265,10.905779599886472,17.170840472063272,7.940837828111748,10.923668840407355,12.373889656434706,14.12680707345006,20.55761249977794,9.116767141519137,15.263353698571763,16.791011176667208,6.122747755789234,17.086660338394815,8.547176204642549,6.486219036416005,23.756534736980093,24.083765062977886,21.011363662334777,11.167318285335217,7.123631414617784,18.585164661086242,13.815775699865874,7.599750941375345,14.890965273813489,5.887055658521985,22.98342302336983,10.271715682292012,18.160931835908045,11.306001271951352,15.377343228682562,15.897938994977356,8.82719413849225,24.160999659561742,20.361367305123323,23.573118528588907,22.700225507475665,16.898197331013694,23.228727765970945,6.944259715340538,9.044645732814397,6.098847639181087,11.572124596756012,12.80993853954643,10.517317773009276,21.408815021564664,12.186137063117751,10.704620185165176,15.81950069121103,7.968787471345545,20.890207077997918,6.671832641113419,24.499090697910727,20.304934073771502,9.098045638051282,5.322999578408327,21.149397394088407,19.02724895240267,19.46006154012048,20.285893634985577,6.661945443749573,12.219597783606398,7.479203856627765,22.080332827602867,17.39448290286667,11.680918601864597,6.457040735445601,11.291761246226574,11.569252012706869,19.471766337164645,17.673113728569636,22.551434343274302,14.442282880748373,7.551994843912386,19.152061044456463,20.081008532935165,16.182579880499585,20.27996968830433,14.863974089954972,15.429414185298526,13.56934461097957,5.711791658494871,7.323319107845219],\"type\":\"scatter\"}],                        {\"template\":{\"data\":{\"histogram2dcontour\":[{\"type\":\"histogram2dcontour\",\"colorbar\":{\"outlinewidth\":0,\"ticks\":\"\"},\"colorscale\":[[0.0,\"#0d0887\"],[0.1111111111111111,\"#46039f\"],[0.2222222222222222,\"#7201a8\"],[0.3333333333333333,\"#9c179e\"],[0.4444444444444444,\"#bd3786\"],[0.5555555555555556,\"#d8576b\"],[0.6666666666666666,\"#ed7953\"],[0.7777777777777778,\"#fb9f3a\"],[0.8888888888888888,\"#fdca26\"],[1.0,\"#f0f921\"]]}],\"choropleth\":[{\"type\":\"choropleth\",\"colorbar\":{\"outlinewidth\":0,\"ticks\":\"\"}}],\"histogram2d\":[{\"type\":\"histogram2d\",\"colorbar\":{\"outlinewidth\":0,\"ticks\":\"\"},\"colorscale\":[[0.0,\"#0d0887\"],[0.1111111111111111,\"#46039f\"],[0.2222222222222222,\"#7201a8\"],[0.3333333333333333,\"#9c179e\"],[0.4444444444444444,\"#bd3786\"],[0.5555555555555556,\"#d8576b\"],[0.6666666666666666,\"#ed7953\"],[0.7777777777777778,\"#fb9f3a\"],[0.8888888888888888,\"#fdca26\"],[1.0,\"#f0f921\"]]}],\"heatmap\":[{\"type\":\"heatmap\",\"colorbar\":{\"outlinewidth\":0,\"ticks\":\"\"},\"colorscale\":[[0.0,\"#0d0887\"],[0.1111111111111111,\"#46039f\"],[0.2222222222222222,\"#7201a8\"],[0.3333333333333333,\"#9c179e\"],[0.4444444444444444,\"#bd3786\"],[0.5555555555555556,\"#d8576b\"],[0.6666666666666666,\"#ed7953\"],[0.7777777777777778,\"#fb9f3a\"],[0.8888888888888888,\"#fdca26\"],[1.0,\"#f0f921\"]]}],\"heatmapgl\":[{\"type\":\"heatmapgl\",\"colorbar\":{\"outlinewidth\":0,\"ticks\":\"\"},\"colorscale\":[[0.0,\"#0d0887\"],[0.1111111111111111,\"#46039f\"],[0.2222222222222222,\"#7201a8\"],[0.3333333333333333,\"#9c179e\"],[0.4444444444444444,\"#bd3786\"],[0.5555555555555556,\"#d8576b\"],[0.6666666666666666,\"#ed7953\"],[0.7777777777777778,\"#fb9f3a\"],[0.8888888888888888,\"#fdca26\"],[1.0,\"#f0f921\"]]}],\"contourcarpet\":[{\"type\":\"contourcarpet\",\"colorbar\":{\"outlinewidth\":0,\"ticks\":\"\"}}],\"contour\":[{\"type\":\"contour\",\"colorbar\":{\"outlinewidth\":0,\"ticks\":\"\"},\"colorscale\":[[0.0,\"#0d0887\"],[0.1111111111111111,\"#46039f\"],[0.2222222222222222,\"#7201a8\"],[0.3333333333333333,\"#9c179e\"],[0.4444444444444444,\"#bd3786\"],[0.5555555555555556,\"#d8576b\"],[0.6666666666666666,\"#ed7953\"],[0.7777777777777778,\"#fb9f3a\"],[0.8888888888888888,\"#fdca26\"],[1.0,\"#f0f921\"]]}],\"surface\":[{\"type\":\"surface\",\"colorbar\":{\"outlinewidth\":0,\"ticks\":\"\"},\"colorscale\":[[0.0,\"#0d0887\"],[0.1111111111111111,\"#46039f\"],[0.2222222222222222,\"#7201a8\"],[0.3333333333333333,\"#9c179e\"],[0.4444444444444444,\"#bd3786\"],[0.5555555555555556,\"#d8576b\"],[0.6666666666666666,\"#ed7953\"],[0.7777777777777778,\"#fb9f3a\"],[0.8888888888888888,\"#fdca26\"],[1.0,\"#f0f921\"]]}],\"mesh3d\":[{\"type\":\"mesh3d\",\"colorbar\":{\"outlinewidth\":0,\"ticks\":\"\"}}],\"scatter\":[{\"fillpattern\":{\"fillmode\":\"overlay\",\"size\":10,\"solidity\":0.2},\"type\":\"scatter\"}],\"parcoords\":[{\"type\":\"parcoords\",\"line\":{\"colorbar\":{\"outlinewidth\":0,\"ticks\":\"\"}}}],\"scatterpolargl\":[{\"type\":\"scatterpolargl\",\"marker\":{\"colorbar\":{\"outlinewidth\":0,\"ticks\":\"\"}}}],\"bar\":[{\"error_x\":{\"color\":\"#2a3f5f\"},\"error_y\":{\"color\":\"#2a3f5f\"},\"marker\":{\"line\":{\"color\":\"#E5ECF6\",\"width\":0.5},\"pattern\":{\"fillmode\":\"overlay\",\"size\":10,\"solidity\":0.2}},\"type\":\"bar\"}],\"scattergeo\":[{\"type\":\"scattergeo\",\"marker\":{\"colorbar\":{\"outlinewidth\":0,\"ticks\":\"\"}}}],\"scatterpolar\":[{\"type\":\"scatterpolar\",\"marker\":{\"colorbar\":{\"outlinewidth\":0,\"ticks\":\"\"}}}],\"histogram\":[{\"marker\":{\"pattern\":{\"fillmode\":\"overlay\",\"size\":10,\"solidity\":0.2}},\"type\":\"histogram\"}],\"scattergl\":[{\"type\":\"scattergl\",\"marker\":{\"colorbar\":{\"outlinewidth\":0,\"ticks\":\"\"}}}],\"scatter3d\":[{\"type\":\"scatter3d\",\"line\":{\"colorbar\":{\"outlinewidth\":0,\"ticks\":\"\"}},\"marker\":{\"colorbar\":{\"outlinewidth\":0,\"ticks\":\"\"}}}],\"scattermapbox\":[{\"type\":\"scattermapbox\",\"marker\":{\"colorbar\":{\"outlinewidth\":0,\"ticks\":\"\"}}}],\"scatterternary\":[{\"type\":\"scatterternary\",\"marker\":{\"colorbar\":{\"outlinewidth\":0,\"ticks\":\"\"}}}],\"scattercarpet\":[{\"type\":\"scattercarpet\",\"marker\":{\"colorbar\":{\"outlinewidth\":0,\"ticks\":\"\"}}}],\"carpet\":[{\"aaxis\":{\"endlinecolor\":\"#2a3f5f\",\"gridcolor\":\"white\",\"linecolor\":\"white\",\"minorgridcolor\":\"white\",\"startlinecolor\":\"#2a3f5f\"},\"baxis\":{\"endlinecolor\":\"#2a3f5f\",\"gridcolor\":\"white\",\"linecolor\":\"white\",\"minorgridcolor\":\"white\",\"startlinecolor\":\"#2a3f5f\"},\"type\":\"carpet\"}],\"table\":[{\"cells\":{\"fill\":{\"color\":\"#EBF0F8\"},\"line\":{\"color\":\"white\"}},\"header\":{\"fill\":{\"color\":\"#C8D4E3\"},\"line\":{\"color\":\"white\"}},\"type\":\"table\"}],\"barpolar\":[{\"marker\":{\"line\":{\"color\":\"#E5ECF6\",\"width\":0.5},\"pattern\":{\"fillmode\":\"overlay\",\"size\":10,\"solidity\":0.2}},\"type\":\"barpolar\"}],\"pie\":[{\"automargin\":true,\"type\":\"pie\"}]},\"layout\":{\"autotypenumbers\":\"strict\",\"colorway\":[\"#636efa\",\"#EF553B\",\"#00cc96\",\"#ab63fa\",\"#FFA15A\",\"#19d3f3\",\"#FF6692\",\"#B6E880\",\"#FF97FF\",\"#FECB52\"],\"font\":{\"color\":\"#2a3f5f\"},\"hovermode\":\"closest\",\"hoverlabel\":{\"align\":\"left\"},\"paper_bgcolor\":\"white\",\"plot_bgcolor\":\"#E5ECF6\",\"polar\":{\"bgcolor\":\"#E5ECF6\",\"angularaxis\":{\"gridcolor\":\"white\",\"linecolor\":\"white\",\"ticks\":\"\"},\"radialaxis\":{\"gridcolor\":\"white\",\"linecolor\":\"white\",\"ticks\":\"\"}},\"ternary\":{\"bgcolor\":\"#E5ECF6\",\"aaxis\":{\"gridcolor\":\"white\",\"linecolor\":\"white\",\"ticks\":\"\"},\"baxis\":{\"gridcolor\":\"white\",\"linecolor\":\"white\",\"ticks\":\"\"},\"caxis\":{\"gridcolor\":\"white\",\"linecolor\":\"white\",\"ticks\":\"\"}},\"coloraxis\":{\"colorbar\":{\"outlinewidth\":0,\"ticks\":\"\"}},\"colorscale\":{\"sequential\":[[0.0,\"#0d0887\"],[0.1111111111111111,\"#46039f\"],[0.2222222222222222,\"#7201a8\"],[0.3333333333333333,\"#9c179e\"],[0.4444444444444444,\"#bd3786\"],[0.5555555555555556,\"#d8576b\"],[0.6666666666666666,\"#ed7953\"],[0.7777777777777778,\"#fb9f3a\"],[0.8888888888888888,\"#fdca26\"],[1.0,\"#f0f921\"]],\"sequentialminus\":[[0.0,\"#0d0887\"],[0.1111111111111111,\"#46039f\"],[0.2222222222222222,\"#7201a8\"],[0.3333333333333333,\"#9c179e\"],[0.4444444444444444,\"#bd3786\"],[0.5555555555555556,\"#d8576b\"],[0.6666666666666666,\"#ed7953\"],[0.7777777777777778,\"#fb9f3a\"],[0.8888888888888888,\"#fdca26\"],[1.0,\"#f0f921\"]],\"diverging\":[[0,\"#8e0152\"],[0.1,\"#c51b7d\"],[0.2,\"#de77ae\"],[0.3,\"#f1b6da\"],[0.4,\"#fde0ef\"],[0.5,\"#f7f7f7\"],[0.6,\"#e6f5d0\"],[0.7,\"#b8e186\"],[0.8,\"#7fbc41\"],[0.9,\"#4d9221\"],[1,\"#276419\"]]},\"xaxis\":{\"gridcolor\":\"white\",\"linecolor\":\"white\",\"ticks\":\"\",\"title\":{\"standoff\":15},\"zerolinecolor\":\"white\",\"automargin\":true,\"zerolinewidth\":2},\"yaxis\":{\"gridcolor\":\"white\",\"linecolor\":\"white\",\"ticks\":\"\",\"title\":{\"standoff\":15},\"zerolinecolor\":\"white\",\"automargin\":true,\"zerolinewidth\":2},\"scene\":{\"xaxis\":{\"backgroundcolor\":\"#E5ECF6\",\"gridcolor\":\"white\",\"linecolor\":\"white\",\"showbackground\":true,\"ticks\":\"\",\"zerolinecolor\":\"white\",\"gridwidth\":2},\"yaxis\":{\"backgroundcolor\":\"#E5ECF6\",\"gridcolor\":\"white\",\"linecolor\":\"white\",\"showbackground\":true,\"ticks\":\"\",\"zerolinecolor\":\"white\",\"gridwidth\":2},\"zaxis\":{\"backgroundcolor\":\"#E5ECF6\",\"gridcolor\":\"white\",\"linecolor\":\"white\",\"showbackground\":true,\"ticks\":\"\",\"zerolinecolor\":\"white\",\"gridwidth\":2}},\"shapedefaults\":{\"line\":{\"color\":\"#2a3f5f\"}},\"annotationdefaults\":{\"arrowcolor\":\"#2a3f5f\",\"arrowhead\":0,\"arrowwidth\":1},\"geo\":{\"bgcolor\":\"white\",\"landcolor\":\"#E5ECF6\",\"subunitcolor\":\"white\",\"showland\":true,\"showlakes\":true,\"lakecolor\":\"white\"},\"title\":{\"x\":0.05},\"mapbox\":{\"style\":\"light\"}}},\"xaxis\":{\"anchor\":\"y\",\"domain\":[0.0,1.0],\"title\":{\"text\":\"x\"}},\"yaxis\":{\"anchor\":\"x\",\"domain\":[0.0,1.0],\"title\":{\"text\":\"Y\"}},\"legend\":{\"title\":{\"text\":\"Data\"},\"tracegroupgap\":0},\"title\":{\"text\":\"Y vs. x\"}},                        {\"responsive\": true}                    ).then(function(){\n",
       "                            \n",
       "var gd = document.getElementById('5e9d4d38-bae1-4843-ad56-a39fd61ca211');\n",
       "var x = new MutationObserver(function (mutations, observer) {{\n",
       "        var display = window.getComputedStyle(gd).display;\n",
       "        if (!display || display === 'none') {{\n",
       "            console.log([gd, 'removed!']);\n",
       "            Plotly.purge(gd);\n",
       "            observer.disconnect();\n",
       "        }}\n",
       "}});\n",
       "\n",
       "// Listen for the removal of the full notebook cells\n",
       "var notebookContainer = gd.closest('#notebook-container');\n",
       "if (notebookContainer) {{\n",
       "    x.observe(notebookContainer, {childList: true});\n",
       "}}\n",
       "\n",
       "// Listen for the clearing of the current output cell\n",
       "var outputEl = gd.closest('.output');\n",
       "if (outputEl) {{\n",
       "    x.observe(outputEl, {childList: true});\n",
       "}}\n",
       "\n",
       "                        })                };                });            </script>        </div>"
      ]
     },
     "metadata": {},
     "output_type": "display_data"
    }
   ],
   "source": [
    "import pandas as pd\n",
    "import numpy as np\n",
    "from scipy.stats import norm\n",
    "import plotly.graph_objects as go\n",
    "import statsmodels.formula.api as smf  # This library is for specifying and fitting statistical models using formulas (similar to R's formula syntax).\n",
    "import plotly.express as px  # This is a plotting library that provides a high-level interface for creating interactive plots.\n",
    "# Parameters\n",
    "n = 100  # Number of samples\n",
    "beta0 = 5   # Intercept coefficient\n",
    "beta1 = 2   # Slope coefficient\n",
    "sigma = 1   # Standard deviation of the error term\n",
    "\n",
    "# Generate predictor variables x_i\n",
    "np.random.seed(42)  # For reproducibility\n",
    "x = np.random.uniform(0, 10, n)\n",
    "\n",
    "# Generate error terms epsilon_i\n",
    "epsilon = np.random.normal(0, sigma, n)\n",
    "\n",
    "# Compute outcome variables Y_i\n",
    "Y = beta0 + beta1 * x + epsilon\n",
    "\n",
    "# Create the theoretical regression line\n",
    "x_line = np.linspace(min(x), max(x), 100)\n",
    "Y_line = beta0 + beta1 * x_line\n",
    "\n",
    "\n",
    "# Assuming x and Y are already defined from the previous simulation\n",
    "df = pd.DataFrame({'x': x, 'Y': Y})\n",
    "\n",
    "# what are the following two steps doing?\n",
    "model_data_specification = smf.ols(\"Y~x\", data=df) \n",
    "fitted_model = model_data_specification.fit() \n",
    "\n",
    "# what do each of the following provide?\n",
    "fitted_model.summary()  # simple explanation? \n",
    "fitted_model.summary().tables[1]  # simple explanation?\n",
    "fitted_model.params  # simple explanation?\n",
    "fitted_model.params.values  # simple explanation?\n",
    "fitted_model.rsquared  # simple explanation?\n",
    "\n",
    "# what two things does this add onto the figure?\n",
    "df['Data'] = 'Data' # hack to add data to legend \n",
    "fig = px.scatter(df, x='x',  y='Y', color='Data', \n",
    "                 trendline='ols', title='Y vs. x')\n",
    "\n",
    "# This is essentially what above `trendline='ols'` does\n",
    "fig.add_scatter(x=df['x'], y=fitted_model.fittedvalues,\n",
    "                line=dict(color='blue'), name=\"trendline='ols'\")"
   ]
  },
  {
   "cell_type": "markdown",
   "id": "59b70bc0",
   "metadata": {},
   "source": [
    "### 3. Add the line from Question 1 on the figure of Question 2 and explain the difference between the nature of the two lines in your own words; *but, hint though: simulation of random sampling variation*<br>\n",
    "\n",
    "<details class=\"details-example\"><summary style=\"color:blue\"><u>Further Guidance</u></summary>\n",
    "\n",
    "> _This question is effectively asking you to explain what the combined code you produced for Questions 1 and 2 is trying to demonstrate overall. If you're working with a ChatBot (as expected), giving these two sets of code as context, and asking what the purpose of comparing these lines could be would be a way to get some help in formulating your answer_\n",
    "> \n",
    "> _The graphical visualization aspect of this question could be accomplished by appending the following code to the code provided in Question 2._\n",
    "> \n",
    "> ```python\n",
    "> # what does this add onto the figure in constrast to `trendline='ols'`?\n",
    "> x_range = np.array([df['x'].min(), df['x'].max()])\n",
    "> # beta0 and beta1 are assumed to be defined\n",
    "> y_line = beta0 + beta1 * x_range\n",
    "> fig.add_scatter(x=x_range, y=y_line, mode='lines',\n",
    ">                 name=str(beta0)+' + '+str(beta1)+' * x', \n",
    ">                 line=dict(dash='dot', color='orange'))\n",
    ">\n",
    "> fig.show() # USE `fig.show(renderer=\"png\")` FOR ALL GitHub and MarkUs SUBMISSIONS\n",
    "> ```\n",
    "> \n",
    "> _The right way to interactively \"see\" the answer to this question is to repeatedly create different dataset **simulations** using your theoretical model and the corresponding fitted models, and repeatedly visualize the data and the two lines over and over... this would be as easy as rerunning a single cell containing your simulation and visualization code..._\n",
    ">    \n",
    "> ---\n",
    "> \n",
    "> _Don't forget to ask for summaries of all your different ChatBot sessions and organize and paste these into your homework notebook (including link(s) to chat log histories if you're using ChatBot) But if you're using the STA130 custom NBLM ChatBot, you'll only be able to ask for summaries, of course!_  \n",
    "</details>"
   ]
  },
  {
   "cell_type": "code",
   "execution_count": 4,
   "id": "5242ed4d",
   "metadata": {},
   "outputs": [
    {
     "data": {
      "application/vnd.plotly.v1+json": {
       "config": {
        "plotlyServerURL": "https://plot.ly"
       },
       "data": [
        {
         "hovertemplate": "Data=Data<br>x=%{x}<br>Y=%{y}<extra></extra>",
         "legendgroup": "Data",
         "marker": {
          "color": "#636efa",
          "symbol": "circle"
         },
         "mode": "markers",
         "name": "Data",
         "orientation": "v",
         "showlegend": true,
         "type": "scatter",
         "x": [
          3.745401188473625,
          9.50714306409916,
          7.319939418114051,
          5.986584841970366,
          1.5601864044243652,
          1.5599452033620265,
          0.5808361216819946,
          8.661761457749352,
          6.011150117432088,
          7.080725777960454,
          0.20584494295802447,
          9.699098521619943,
          8.324426408004218,
          2.1233911067827616,
          1.8182496720710062,
          1.8340450985343382,
          3.0424224295953772,
          5.247564316322379,
          4.319450186421157,
          2.9122914019804194,
          6.118528947223795,
          1.3949386065204183,
          2.9214464853521815,
          3.663618432936917,
          4.56069984217036,
          7.851759613930136,
          1.9967378215835974,
          5.142344384136116,
          5.924145688620425,
          0.46450412719997725,
          6.075448519014383,
          1.7052412368729153,
          0.6505159298527952,
          9.488855372533333,
          9.656320330745594,
          8.08397348116461,
          3.0461376917337066,
          0.9767211400638387,
          6.842330265121569,
          4.4015249373960135,
          1.2203823484477883,
          4.951769101112702,
          0.34388521115218396,
          9.093204020787821,
          2.587799816000169,
          6.62522284353982,
          3.1171107608941098,
          5.200680211778108,
          5.4671027934327965,
          1.8485445552552704,
          9.695846277645586,
          7.7513282336111455,
          9.394989415641891,
          8.948273504276488,
          5.978999788110851,
          9.218742350231167,
          0.884925020519195,
          1.959828624191452,
          0.45227288910538066,
          3.2533033076326436,
          3.8867728968948203,
          2.713490317738959,
          8.287375091519294,
          3.567533266935893,
          2.8093450968738076,
          5.426960831582485,
          1.4092422497476265,
          8.021969807540398,
          0.7455064367977082,
          9.868869366005173,
          7.722447692966574,
          1.987156815341724,
          0.05522117123602399,
          8.154614284548341,
          7.068573438476172,
          7.2900716804098735,
          7.712703466859457,
          0.7404465173409036,
          3.5846572854427263,
          1.1586905952512971,
          8.631034258755935,
          6.232981268275579,
          3.308980248526492,
          0.6355835028602363,
          3.109823217156622,
          3.2518332202674705,
          7.29606178338064,
          6.3755747135521315,
          8.872127425763265,
          4.722149251619493,
          1.195942459383017,
          7.13244787222995,
          7.607850486168974,
          5.612771975694963,
          7.70967179954561,
          4.937955963643907,
          5.227328293819941,
          4.275410183585496,
          0.2541912674409519,
          1.0789142699330445
         ],
         "xaxis": "x",
         "y": [
          12.577849445185421,
          23.715278777732454,
          19.7316396127636,
          14.98560076933984,
          7.900700921011218,
          8.4770029782358,
          7.639566288105506,
          21.805252697225058,
          16.21380663197099,
          18.659694512336372,
          6.327092003618123,
          24.72694815289957,
          21.119092612241396,
          9.76004964667888,
          8.733576893490053,
          9.636735187601564,
          10.382791765313403,
          15.167466486046989,
          13.246792219710157,
          9.36106785582872,
          17.533178171512166,
          8.050932485220727,
          10.848006427346823,
          12.092649732498687,
          12.706028942290306,
          20.282873905094913,
          8.650761126640425,
          14.482411499050613,
          16.687005665574837,
          6.333059111214493,
          19.037082939239298,
          8.585060286577669,
          6.558582250428355,
          23.9032648293005,
          22.393869446192145,
          21.141433086880003,
          11.15250559340844,
          9.416684392612964,
          18.492299565462012,
          14.10459721712564,
          7.406052927190333,
          13.734860164605871,
          6.8305932368193885,
          23.938341074262418,
          10.966631579043385,
          17.3410582322849,
          12.63701583272432,
          13.999509360763936,
          16.521062680665864,
          10.88754473632052,
          23.401156230160485,
          19.936358737619518,
          23.889630196371424,
          22.393071354436778,
          15.40733614515557,
          23.506047675268363,
          5.7075463273122855,
          9.393249679018085,
          4.985121543976958,
          13.056541020282827,
          11.990292501453403,
          10.104919119272243,
          22.388267400408257,
          10.904202217437831,
          10.846150128351743,
          17.1610644174474,
          6.211001264934025,
          21.2285734736131,
          6.75089566784384,
          25.519561603787658,
          19.207944675055067,
          7.6538570175991705,
          5.632383908088945,
          21.60621324232987,
          19.387639727298218,
          19.926591570316724,
          19.745382212140424,
          6.713146731842811,
          12.462387044184133,
          6.603029772476226,
          24.127843028656628,
          17.93979545746295,
          10.426656999850335,
          6.927720614354303,
          10.244964764085923,
          12.290751044277393,
          20.750719145768684,
          16.930467108752552,
          23.70763098077085,
          14.857079430175485,
          8.213945078760524,
          21.161688727113848,
          19.970312856335077,
          15.471807787032434,
          19.529829169465696,
          14.060101642322376,
          15.377554878225778,
          13.891972341987636,
          5.785073334211923,
          7.985011788902113
         ],
         "yaxis": "y"
        },
        {
         "hovertemplate": "<b>OLS trendline</b><br>Y = 1.95402 * x + 5.2151<br>R<sup>2</sup>=0.976457<br><br>Data=Data<br>x=%{x}<br>Y=%{y} <b>(trend)</b><extra></extra>",
         "legendgroup": "Data",
         "marker": {
          "color": "#636efa",
          "symbol": "circle"
         },
         "mode": "lines",
         "name": "Data",
         "showlegend": false,
         "type": "scatter",
         "x": [
          0.05522117123602399,
          0.20584494295802447,
          0.2541912674409519,
          0.34388521115218396,
          0.45227288910538066,
          0.46450412719997725,
          0.5808361216819946,
          0.6355835028602363,
          0.6505159298527952,
          0.7404465173409036,
          0.7455064367977082,
          0.884925020519195,
          0.9767211400638387,
          1.0789142699330445,
          1.1586905952512971,
          1.195942459383017,
          1.2203823484477883,
          1.3949386065204183,
          1.4092422497476265,
          1.5599452033620265,
          1.5601864044243652,
          1.7052412368729153,
          1.8182496720710062,
          1.8340450985343382,
          1.8485445552552704,
          1.959828624191452,
          1.987156815341724,
          1.9967378215835974,
          2.1233911067827616,
          2.587799816000169,
          2.713490317738959,
          2.8093450968738076,
          2.9122914019804194,
          2.9214464853521815,
          3.0424224295953772,
          3.0461376917337066,
          3.109823217156622,
          3.1171107608941098,
          3.2518332202674705,
          3.2533033076326436,
          3.308980248526492,
          3.567533266935893,
          3.5846572854427263,
          3.663618432936917,
          3.745401188473625,
          3.8867728968948203,
          4.275410183585496,
          4.319450186421157,
          4.4015249373960135,
          4.56069984217036,
          4.722149251619493,
          4.937955963643907,
          4.951769101112702,
          5.142344384136116,
          5.200680211778108,
          5.227328293819941,
          5.247564316322379,
          5.426960831582485,
          5.4671027934327965,
          5.612771975694963,
          5.924145688620425,
          5.978999788110851,
          5.986584841970366,
          6.011150117432088,
          6.075448519014383,
          6.118528947223795,
          6.232981268275579,
          6.3755747135521315,
          6.62522284353982,
          6.842330265121569,
          7.068573438476172,
          7.080725777960454,
          7.13244787222995,
          7.2900716804098735,
          7.29606178338064,
          7.319939418114051,
          7.607850486168974,
          7.70967179954561,
          7.712703466859457,
          7.722447692966574,
          7.7513282336111455,
          7.851759613930136,
          8.021969807540398,
          8.08397348116461,
          8.154614284548341,
          8.287375091519294,
          8.324426408004218,
          8.631034258755935,
          8.661761457749352,
          8.872127425763265,
          8.948273504276488,
          9.093204020787821,
          9.218742350231167,
          9.394989415641891,
          9.488855372533333,
          9.50714306409916,
          9.656320330745594,
          9.695846277645586,
          9.699098521619943,
          9.868869366005173
         ],
         "xaxis": "x",
         "y": [
          5.322999578408331,
          5.617321844091726,
          5.711791658494875,
          5.887055658521989,
          6.09884763918109,
          6.122747755789238,
          6.350063111101207,
          6.457040735445604,
          6.486219036416007,
          6.661945443749577,
          6.671832641113422,
          6.94425971534054,
          7.123631414617787,
          7.323319107845221,
          7.479203856627768,
          7.551994843912388,
          7.599750941375347,
          7.94083782811175,
          7.968787471345546,
          8.26326446024232,
          8.263735772587916,
          8.54717620464255,
          8.767997249744417,
          8.798861871251198,
          8.827194138492251,
          9.044645732814397,
          9.098045638051282,
          9.116767141519137,
          9.364250532951289,
          10.271715682292012,
          10.517317773009275,
          10.704620185165172,
          10.905779599886472,
          10.923668840407354,
          11.160058578864849,
          11.167318285335213,
          11.291761246226573,
          11.306001271951349,
          11.569252012706867,
          11.572124596756009,
          11.680918601864596,
          12.186137063117748,
          12.219597783606396,
          12.373889656434702,
          12.533695015364506,
          12.809938539546426,
          13.569344610979565,
          13.655399775228263,
          13.815775699865872,
          14.126807073450054,
          14.442282880748367,
          14.863974089954967,
          14.890965273813485,
          15.263353698571757,
          15.377343228682555,
          15.42941418529852,
          15.468955832166387,
          15.819500691211022,
          15.89793899497735,
          16.182579880499574,
          16.791011176667197,
          16.898197331013687,
          16.913018698263627,
          16.96101980358965,
          17.086660338394807,
          17.17084047206326,
          17.394482902866663,
          17.673113728569625,
          18.160931835908038,
          18.58516466108623,
          19.02724895240266,
          19.05099489933705,
          19.152061044456453,
          19.46006154012047,
          19.471766337164638,
          19.518423776913714,
          20.081008532935154,
          20.27996968830432,
          20.285893634985566,
          20.30493407377149,
          20.361367305123316,
          20.557612499777925,
          20.890207077997907,
          21.011363662334766,
          21.149397394088396,
          21.408815021564653,
          21.481214134199558,
          22.080332827602852,
          22.140374471245522,
          22.551434343274288,
          22.70022550747565,
          22.983423023369816,
          23.22872776597093,
          23.573118528588893,
          23.75653473698008,
          23.792269301014947,
          24.08376506297787,
          24.160999659561725,
          24.167354618039692,
          24.499090697910713
         ],
         "yaxis": "y"
        },
        {
         "line": {
          "color": "blue"
         },
         "name": "trendline='ols'",
         "type": "scatter",
         "x": [
          3.745401188473625,
          9.50714306409916,
          7.319939418114051,
          5.986584841970366,
          1.5601864044243652,
          1.5599452033620265,
          0.5808361216819946,
          8.661761457749352,
          6.011150117432088,
          7.080725777960454,
          0.20584494295802447,
          9.699098521619943,
          8.324426408004218,
          2.1233911067827616,
          1.8182496720710062,
          1.8340450985343382,
          3.0424224295953772,
          5.247564316322379,
          4.319450186421157,
          2.9122914019804194,
          6.118528947223795,
          1.3949386065204183,
          2.9214464853521815,
          3.663618432936917,
          4.56069984217036,
          7.851759613930136,
          1.9967378215835974,
          5.142344384136116,
          5.924145688620425,
          0.46450412719997725,
          6.075448519014383,
          1.7052412368729153,
          0.6505159298527952,
          9.488855372533333,
          9.656320330745594,
          8.08397348116461,
          3.0461376917337066,
          0.9767211400638387,
          6.842330265121569,
          4.4015249373960135,
          1.2203823484477883,
          4.951769101112702,
          0.34388521115218396,
          9.093204020787821,
          2.587799816000169,
          6.62522284353982,
          3.1171107608941098,
          5.200680211778108,
          5.4671027934327965,
          1.8485445552552704,
          9.695846277645586,
          7.7513282336111455,
          9.394989415641891,
          8.948273504276488,
          5.978999788110851,
          9.218742350231167,
          0.884925020519195,
          1.959828624191452,
          0.45227288910538066,
          3.2533033076326436,
          3.8867728968948203,
          2.713490317738959,
          8.287375091519294,
          3.567533266935893,
          2.8093450968738076,
          5.426960831582485,
          1.4092422497476265,
          8.021969807540398,
          0.7455064367977082,
          9.868869366005173,
          7.722447692966574,
          1.987156815341724,
          0.05522117123602399,
          8.154614284548341,
          7.068573438476172,
          7.2900716804098735,
          7.712703466859457,
          0.7404465173409036,
          3.5846572854427263,
          1.1586905952512971,
          8.631034258755935,
          6.232981268275579,
          3.308980248526492,
          0.6355835028602363,
          3.109823217156622,
          3.2518332202674705,
          7.29606178338064,
          6.3755747135521315,
          8.872127425763265,
          4.722149251619493,
          1.195942459383017,
          7.13244787222995,
          7.607850486168974,
          5.612771975694963,
          7.70967179954561,
          4.937955963643907,
          5.227328293819941,
          4.275410183585496,
          0.2541912674409519,
          1.0789142699330445
         ],
         "y": [
          12.533695015364508,
          23.792269301014965,
          19.51842377691372,
          16.913018698263635,
          8.263735772587914,
          8.263264460242318,
          6.350063111101203,
          22.140374471245533,
          16.96101980358966,
          19.050994899337056,
          5.617321844091721,
          24.167354618039706,
          21.48121413419957,
          9.364250532951289,
          8.767997249744417,
          8.798861871251198,
          11.160058578864852,
          15.468955832166394,
          13.655399775228265,
          10.905779599886472,
          17.170840472063272,
          7.940837828111748,
          10.923668840407355,
          12.373889656434706,
          14.12680707345006,
          20.55761249977794,
          9.116767141519137,
          15.263353698571763,
          16.791011176667208,
          6.122747755789234,
          17.086660338394815,
          8.547176204642549,
          6.486219036416005,
          23.756534736980093,
          24.083765062977886,
          21.011363662334777,
          11.167318285335217,
          7.123631414617784,
          18.585164661086242,
          13.815775699865874,
          7.599750941375345,
          14.890965273813489,
          5.887055658521985,
          22.98342302336983,
          10.271715682292012,
          18.160931835908045,
          11.306001271951352,
          15.377343228682562,
          15.897938994977356,
          8.82719413849225,
          24.160999659561742,
          20.361367305123323,
          23.573118528588907,
          22.700225507475665,
          16.898197331013694,
          23.228727765970945,
          6.944259715340538,
          9.044645732814397,
          6.098847639181087,
          11.572124596756012,
          12.80993853954643,
          10.517317773009276,
          21.408815021564664,
          12.186137063117751,
          10.704620185165176,
          15.81950069121103,
          7.968787471345545,
          20.890207077997918,
          6.671832641113419,
          24.499090697910727,
          20.304934073771502,
          9.098045638051282,
          5.322999578408327,
          21.149397394088407,
          19.02724895240267,
          19.46006154012048,
          20.285893634985577,
          6.661945443749573,
          12.219597783606398,
          7.479203856627765,
          22.080332827602867,
          17.39448290286667,
          11.680918601864597,
          6.457040735445601,
          11.291761246226574,
          11.569252012706869,
          19.471766337164645,
          17.673113728569636,
          22.551434343274302,
          14.442282880748373,
          7.551994843912386,
          19.152061044456463,
          20.081008532935165,
          16.182579880499585,
          20.27996968830433,
          14.863974089954972,
          15.429414185298526,
          13.56934461097957,
          5.711791658494871,
          7.323319107845219
         ]
        },
        {
         "line": {
          "color": "orange",
          "dash": "dot"
         },
         "mode": "lines",
         "name": "5 + 2 * x",
         "type": "scatter",
         "x": [
          0.05522117123602399,
          9.868869366005173
         ],
         "y": [
          5.110442342472048,
          24.737738732010346
         ]
        }
       ],
       "layout": {
        "legend": {
         "title": {
          "text": "Data"
         },
         "tracegroupgap": 0
        },
        "template": {
         "data": {
          "bar": [
           {
            "error_x": {
             "color": "#2a3f5f"
            },
            "error_y": {
             "color": "#2a3f5f"
            },
            "marker": {
             "line": {
              "color": "#E5ECF6",
              "width": 0.5
             },
             "pattern": {
              "fillmode": "overlay",
              "size": 10,
              "solidity": 0.2
             }
            },
            "type": "bar"
           }
          ],
          "barpolar": [
           {
            "marker": {
             "line": {
              "color": "#E5ECF6",
              "width": 0.5
             },
             "pattern": {
              "fillmode": "overlay",
              "size": 10,
              "solidity": 0.2
             }
            },
            "type": "barpolar"
           }
          ],
          "carpet": [
           {
            "aaxis": {
             "endlinecolor": "#2a3f5f",
             "gridcolor": "white",
             "linecolor": "white",
             "minorgridcolor": "white",
             "startlinecolor": "#2a3f5f"
            },
            "baxis": {
             "endlinecolor": "#2a3f5f",
             "gridcolor": "white",
             "linecolor": "white",
             "minorgridcolor": "white",
             "startlinecolor": "#2a3f5f"
            },
            "type": "carpet"
           }
          ],
          "choropleth": [
           {
            "colorbar": {
             "outlinewidth": 0,
             "ticks": ""
            },
            "type": "choropleth"
           }
          ],
          "contour": [
           {
            "colorbar": {
             "outlinewidth": 0,
             "ticks": ""
            },
            "colorscale": [
             [
              0,
              "#0d0887"
             ],
             [
              0.1111111111111111,
              "#46039f"
             ],
             [
              0.2222222222222222,
              "#7201a8"
             ],
             [
              0.3333333333333333,
              "#9c179e"
             ],
             [
              0.4444444444444444,
              "#bd3786"
             ],
             [
              0.5555555555555556,
              "#d8576b"
             ],
             [
              0.6666666666666666,
              "#ed7953"
             ],
             [
              0.7777777777777778,
              "#fb9f3a"
             ],
             [
              0.8888888888888888,
              "#fdca26"
             ],
             [
              1,
              "#f0f921"
             ]
            ],
            "type": "contour"
           }
          ],
          "contourcarpet": [
           {
            "colorbar": {
             "outlinewidth": 0,
             "ticks": ""
            },
            "type": "contourcarpet"
           }
          ],
          "heatmap": [
           {
            "colorbar": {
             "outlinewidth": 0,
             "ticks": ""
            },
            "colorscale": [
             [
              0,
              "#0d0887"
             ],
             [
              0.1111111111111111,
              "#46039f"
             ],
             [
              0.2222222222222222,
              "#7201a8"
             ],
             [
              0.3333333333333333,
              "#9c179e"
             ],
             [
              0.4444444444444444,
              "#bd3786"
             ],
             [
              0.5555555555555556,
              "#d8576b"
             ],
             [
              0.6666666666666666,
              "#ed7953"
             ],
             [
              0.7777777777777778,
              "#fb9f3a"
             ],
             [
              0.8888888888888888,
              "#fdca26"
             ],
             [
              1,
              "#f0f921"
             ]
            ],
            "type": "heatmap"
           }
          ],
          "heatmapgl": [
           {
            "colorbar": {
             "outlinewidth": 0,
             "ticks": ""
            },
            "colorscale": [
             [
              0,
              "#0d0887"
             ],
             [
              0.1111111111111111,
              "#46039f"
             ],
             [
              0.2222222222222222,
              "#7201a8"
             ],
             [
              0.3333333333333333,
              "#9c179e"
             ],
             [
              0.4444444444444444,
              "#bd3786"
             ],
             [
              0.5555555555555556,
              "#d8576b"
             ],
             [
              0.6666666666666666,
              "#ed7953"
             ],
             [
              0.7777777777777778,
              "#fb9f3a"
             ],
             [
              0.8888888888888888,
              "#fdca26"
             ],
             [
              1,
              "#f0f921"
             ]
            ],
            "type": "heatmapgl"
           }
          ],
          "histogram": [
           {
            "marker": {
             "pattern": {
              "fillmode": "overlay",
              "size": 10,
              "solidity": 0.2
             }
            },
            "type": "histogram"
           }
          ],
          "histogram2d": [
           {
            "colorbar": {
             "outlinewidth": 0,
             "ticks": ""
            },
            "colorscale": [
             [
              0,
              "#0d0887"
             ],
             [
              0.1111111111111111,
              "#46039f"
             ],
             [
              0.2222222222222222,
              "#7201a8"
             ],
             [
              0.3333333333333333,
              "#9c179e"
             ],
             [
              0.4444444444444444,
              "#bd3786"
             ],
             [
              0.5555555555555556,
              "#d8576b"
             ],
             [
              0.6666666666666666,
              "#ed7953"
             ],
             [
              0.7777777777777778,
              "#fb9f3a"
             ],
             [
              0.8888888888888888,
              "#fdca26"
             ],
             [
              1,
              "#f0f921"
             ]
            ],
            "type": "histogram2d"
           }
          ],
          "histogram2dcontour": [
           {
            "colorbar": {
             "outlinewidth": 0,
             "ticks": ""
            },
            "colorscale": [
             [
              0,
              "#0d0887"
             ],
             [
              0.1111111111111111,
              "#46039f"
             ],
             [
              0.2222222222222222,
              "#7201a8"
             ],
             [
              0.3333333333333333,
              "#9c179e"
             ],
             [
              0.4444444444444444,
              "#bd3786"
             ],
             [
              0.5555555555555556,
              "#d8576b"
             ],
             [
              0.6666666666666666,
              "#ed7953"
             ],
             [
              0.7777777777777778,
              "#fb9f3a"
             ],
             [
              0.8888888888888888,
              "#fdca26"
             ],
             [
              1,
              "#f0f921"
             ]
            ],
            "type": "histogram2dcontour"
           }
          ],
          "mesh3d": [
           {
            "colorbar": {
             "outlinewidth": 0,
             "ticks": ""
            },
            "type": "mesh3d"
           }
          ],
          "parcoords": [
           {
            "line": {
             "colorbar": {
              "outlinewidth": 0,
              "ticks": ""
             }
            },
            "type": "parcoords"
           }
          ],
          "pie": [
           {
            "automargin": true,
            "type": "pie"
           }
          ],
          "scatter": [
           {
            "fillpattern": {
             "fillmode": "overlay",
             "size": 10,
             "solidity": 0.2
            },
            "type": "scatter"
           }
          ],
          "scatter3d": [
           {
            "line": {
             "colorbar": {
              "outlinewidth": 0,
              "ticks": ""
             }
            },
            "marker": {
             "colorbar": {
              "outlinewidth": 0,
              "ticks": ""
             }
            },
            "type": "scatter3d"
           }
          ],
          "scattercarpet": [
           {
            "marker": {
             "colorbar": {
              "outlinewidth": 0,
              "ticks": ""
             }
            },
            "type": "scattercarpet"
           }
          ],
          "scattergeo": [
           {
            "marker": {
             "colorbar": {
              "outlinewidth": 0,
              "ticks": ""
             }
            },
            "type": "scattergeo"
           }
          ],
          "scattergl": [
           {
            "marker": {
             "colorbar": {
              "outlinewidth": 0,
              "ticks": ""
             }
            },
            "type": "scattergl"
           }
          ],
          "scattermapbox": [
           {
            "marker": {
             "colorbar": {
              "outlinewidth": 0,
              "ticks": ""
             }
            },
            "type": "scattermapbox"
           }
          ],
          "scatterpolar": [
           {
            "marker": {
             "colorbar": {
              "outlinewidth": 0,
              "ticks": ""
             }
            },
            "type": "scatterpolar"
           }
          ],
          "scatterpolargl": [
           {
            "marker": {
             "colorbar": {
              "outlinewidth": 0,
              "ticks": ""
             }
            },
            "type": "scatterpolargl"
           }
          ],
          "scatterternary": [
           {
            "marker": {
             "colorbar": {
              "outlinewidth": 0,
              "ticks": ""
             }
            },
            "type": "scatterternary"
           }
          ],
          "surface": [
           {
            "colorbar": {
             "outlinewidth": 0,
             "ticks": ""
            },
            "colorscale": [
             [
              0,
              "#0d0887"
             ],
             [
              0.1111111111111111,
              "#46039f"
             ],
             [
              0.2222222222222222,
              "#7201a8"
             ],
             [
              0.3333333333333333,
              "#9c179e"
             ],
             [
              0.4444444444444444,
              "#bd3786"
             ],
             [
              0.5555555555555556,
              "#d8576b"
             ],
             [
              0.6666666666666666,
              "#ed7953"
             ],
             [
              0.7777777777777778,
              "#fb9f3a"
             ],
             [
              0.8888888888888888,
              "#fdca26"
             ],
             [
              1,
              "#f0f921"
             ]
            ],
            "type": "surface"
           }
          ],
          "table": [
           {
            "cells": {
             "fill": {
              "color": "#EBF0F8"
             },
             "line": {
              "color": "white"
             }
            },
            "header": {
             "fill": {
              "color": "#C8D4E3"
             },
             "line": {
              "color": "white"
             }
            },
            "type": "table"
           }
          ]
         },
         "layout": {
          "annotationdefaults": {
           "arrowcolor": "#2a3f5f",
           "arrowhead": 0,
           "arrowwidth": 1
          },
          "autotypenumbers": "strict",
          "coloraxis": {
           "colorbar": {
            "outlinewidth": 0,
            "ticks": ""
           }
          },
          "colorscale": {
           "diverging": [
            [
             0,
             "#8e0152"
            ],
            [
             0.1,
             "#c51b7d"
            ],
            [
             0.2,
             "#de77ae"
            ],
            [
             0.3,
             "#f1b6da"
            ],
            [
             0.4,
             "#fde0ef"
            ],
            [
             0.5,
             "#f7f7f7"
            ],
            [
             0.6,
             "#e6f5d0"
            ],
            [
             0.7,
             "#b8e186"
            ],
            [
             0.8,
             "#7fbc41"
            ],
            [
             0.9,
             "#4d9221"
            ],
            [
             1,
             "#276419"
            ]
           ],
           "sequential": [
            [
             0,
             "#0d0887"
            ],
            [
             0.1111111111111111,
             "#46039f"
            ],
            [
             0.2222222222222222,
             "#7201a8"
            ],
            [
             0.3333333333333333,
             "#9c179e"
            ],
            [
             0.4444444444444444,
             "#bd3786"
            ],
            [
             0.5555555555555556,
             "#d8576b"
            ],
            [
             0.6666666666666666,
             "#ed7953"
            ],
            [
             0.7777777777777778,
             "#fb9f3a"
            ],
            [
             0.8888888888888888,
             "#fdca26"
            ],
            [
             1,
             "#f0f921"
            ]
           ],
           "sequentialminus": [
            [
             0,
             "#0d0887"
            ],
            [
             0.1111111111111111,
             "#46039f"
            ],
            [
             0.2222222222222222,
             "#7201a8"
            ],
            [
             0.3333333333333333,
             "#9c179e"
            ],
            [
             0.4444444444444444,
             "#bd3786"
            ],
            [
             0.5555555555555556,
             "#d8576b"
            ],
            [
             0.6666666666666666,
             "#ed7953"
            ],
            [
             0.7777777777777778,
             "#fb9f3a"
            ],
            [
             0.8888888888888888,
             "#fdca26"
            ],
            [
             1,
             "#f0f921"
            ]
           ]
          },
          "colorway": [
           "#636efa",
           "#EF553B",
           "#00cc96",
           "#ab63fa",
           "#FFA15A",
           "#19d3f3",
           "#FF6692",
           "#B6E880",
           "#FF97FF",
           "#FECB52"
          ],
          "font": {
           "color": "#2a3f5f"
          },
          "geo": {
           "bgcolor": "white",
           "lakecolor": "white",
           "landcolor": "#E5ECF6",
           "showlakes": true,
           "showland": true,
           "subunitcolor": "white"
          },
          "hoverlabel": {
           "align": "left"
          },
          "hovermode": "closest",
          "mapbox": {
           "style": "light"
          },
          "paper_bgcolor": "white",
          "plot_bgcolor": "#E5ECF6",
          "polar": {
           "angularaxis": {
            "gridcolor": "white",
            "linecolor": "white",
            "ticks": ""
           },
           "bgcolor": "#E5ECF6",
           "radialaxis": {
            "gridcolor": "white",
            "linecolor": "white",
            "ticks": ""
           }
          },
          "scene": {
           "xaxis": {
            "backgroundcolor": "#E5ECF6",
            "gridcolor": "white",
            "gridwidth": 2,
            "linecolor": "white",
            "showbackground": true,
            "ticks": "",
            "zerolinecolor": "white"
           },
           "yaxis": {
            "backgroundcolor": "#E5ECF6",
            "gridcolor": "white",
            "gridwidth": 2,
            "linecolor": "white",
            "showbackground": true,
            "ticks": "",
            "zerolinecolor": "white"
           },
           "zaxis": {
            "backgroundcolor": "#E5ECF6",
            "gridcolor": "white",
            "gridwidth": 2,
            "linecolor": "white",
            "showbackground": true,
            "ticks": "",
            "zerolinecolor": "white"
           }
          },
          "shapedefaults": {
           "line": {
            "color": "#2a3f5f"
           }
          },
          "ternary": {
           "aaxis": {
            "gridcolor": "white",
            "linecolor": "white",
            "ticks": ""
           },
           "baxis": {
            "gridcolor": "white",
            "linecolor": "white",
            "ticks": ""
           },
           "bgcolor": "#E5ECF6",
           "caxis": {
            "gridcolor": "white",
            "linecolor": "white",
            "ticks": ""
           }
          },
          "title": {
           "x": 0.05
          },
          "xaxis": {
           "automargin": true,
           "gridcolor": "white",
           "linecolor": "white",
           "ticks": "",
           "title": {
            "standoff": 15
           },
           "zerolinecolor": "white",
           "zerolinewidth": 2
          },
          "yaxis": {
           "automargin": true,
           "gridcolor": "white",
           "linecolor": "white",
           "ticks": "",
           "title": {
            "standoff": 15
           },
           "zerolinecolor": "white",
           "zerolinewidth": 2
          }
         }
        },
        "title": {
         "text": "Y vs. x"
        },
        "xaxis": {
         "anchor": "y",
         "domain": [
          0,
          1
         ],
         "title": {
          "text": "x"
         }
        },
        "yaxis": {
         "anchor": "x",
         "domain": [
          0,
          1
         ],
         "title": {
          "text": "Y"
         }
        }
       }
      },
      "text/html": [
       "<div>                            <div id=\"31a44c4f-9b06-42dd-ad86-0962c2d73a80\" class=\"plotly-graph-div\" style=\"height:525px; width:100%;\"></div>            <script type=\"text/javascript\">                require([\"plotly\"], function(Plotly) {                    window.PLOTLYENV=window.PLOTLYENV || {};                                    if (document.getElementById(\"31a44c4f-9b06-42dd-ad86-0962c2d73a80\")) {                    Plotly.newPlot(                        \"31a44c4f-9b06-42dd-ad86-0962c2d73a80\",                        [{\"hovertemplate\":\"Data=Data\\u003cbr\\u003ex=%{x}\\u003cbr\\u003eY=%{y}\\u003cextra\\u003e\\u003c\\u002fextra\\u003e\",\"legendgroup\":\"Data\",\"marker\":{\"color\":\"#636efa\",\"symbol\":\"circle\"},\"mode\":\"markers\",\"name\":\"Data\",\"orientation\":\"v\",\"showlegend\":true,\"x\":[3.745401188473625,9.50714306409916,7.319939418114051,5.986584841970366,1.5601864044243652,1.5599452033620265,0.5808361216819946,8.661761457749352,6.011150117432088,7.080725777960454,0.20584494295802447,9.699098521619943,8.324426408004218,2.1233911067827616,1.8182496720710062,1.8340450985343382,3.0424224295953772,5.247564316322379,4.319450186421157,2.9122914019804194,6.118528947223795,1.3949386065204183,2.9214464853521815,3.663618432936917,4.56069984217036,7.851759613930136,1.9967378215835974,5.142344384136116,5.924145688620425,0.46450412719997725,6.075448519014383,1.7052412368729153,0.6505159298527952,9.488855372533333,9.656320330745594,8.08397348116461,3.0461376917337066,0.9767211400638387,6.842330265121569,4.4015249373960135,1.2203823484477883,4.951769101112702,0.34388521115218396,9.093204020787821,2.587799816000169,6.62522284353982,3.1171107608941098,5.200680211778108,5.4671027934327965,1.8485445552552704,9.695846277645586,7.7513282336111455,9.394989415641891,8.948273504276488,5.978999788110851,9.218742350231167,0.884925020519195,1.959828624191452,0.45227288910538066,3.2533033076326436,3.8867728968948203,2.713490317738959,8.287375091519294,3.567533266935893,2.8093450968738076,5.426960831582485,1.4092422497476265,8.021969807540398,0.7455064367977082,9.868869366005173,7.722447692966574,1.987156815341724,0.05522117123602399,8.154614284548341,7.068573438476172,7.2900716804098735,7.712703466859457,0.7404465173409036,3.5846572854427263,1.1586905952512971,8.631034258755935,6.232981268275579,3.308980248526492,0.6355835028602363,3.109823217156622,3.2518332202674705,7.29606178338064,6.3755747135521315,8.872127425763265,4.722149251619493,1.195942459383017,7.13244787222995,7.607850486168974,5.612771975694963,7.70967179954561,4.937955963643907,5.227328293819941,4.275410183585496,0.2541912674409519,1.0789142699330445],\"xaxis\":\"x\",\"y\":[12.577849445185421,23.715278777732454,19.7316396127636,14.98560076933984,7.900700921011218,8.4770029782358,7.639566288105506,21.805252697225058,16.21380663197099,18.659694512336372,6.327092003618123,24.72694815289957,21.119092612241396,9.76004964667888,8.733576893490053,9.636735187601564,10.382791765313403,15.167466486046989,13.246792219710157,9.36106785582872,17.533178171512166,8.050932485220727,10.848006427346823,12.092649732498687,12.706028942290306,20.282873905094913,8.650761126640425,14.482411499050613,16.687005665574837,6.333059111214493,19.037082939239298,8.585060286577669,6.558582250428355,23.9032648293005,22.393869446192145,21.141433086880003,11.15250559340844,9.416684392612964,18.492299565462012,14.10459721712564,7.406052927190333,13.734860164605871,6.8305932368193885,23.938341074262418,10.966631579043385,17.3410582322849,12.63701583272432,13.999509360763936,16.521062680665864,10.88754473632052,23.401156230160485,19.936358737619518,23.889630196371424,22.393071354436778,15.40733614515557,23.506047675268363,5.7075463273122855,9.393249679018085,4.985121543976958,13.056541020282827,11.990292501453403,10.104919119272243,22.388267400408257,10.904202217437831,10.846150128351743,17.1610644174474,6.211001264934025,21.2285734736131,6.75089566784384,25.519561603787658,19.207944675055067,7.6538570175991705,5.632383908088945,21.60621324232987,19.387639727298218,19.926591570316724,19.745382212140424,6.713146731842811,12.462387044184133,6.603029772476226,24.127843028656628,17.93979545746295,10.426656999850335,6.927720614354303,10.244964764085923,12.290751044277393,20.750719145768684,16.930467108752552,23.70763098077085,14.857079430175485,8.213945078760524,21.161688727113848,19.970312856335077,15.471807787032434,19.529829169465696,14.060101642322376,15.377554878225778,13.891972341987636,5.785073334211923,7.985011788902113],\"yaxis\":\"y\",\"type\":\"scatter\"},{\"hovertemplate\":\"\\u003cb\\u003eOLS trendline\\u003c\\u002fb\\u003e\\u003cbr\\u003eY = 1.95402 * x + 5.2151\\u003cbr\\u003eR\\u003csup\\u003e2\\u003c\\u002fsup\\u003e=0.976457\\u003cbr\\u003e\\u003cbr\\u003eData=Data\\u003cbr\\u003ex=%{x}\\u003cbr\\u003eY=%{y} \\u003cb\\u003e(trend)\\u003c\\u002fb\\u003e\\u003cextra\\u003e\\u003c\\u002fextra\\u003e\",\"legendgroup\":\"Data\",\"marker\":{\"color\":\"#636efa\",\"symbol\":\"circle\"},\"mode\":\"lines\",\"name\":\"Data\",\"showlegend\":false,\"x\":[0.05522117123602399,0.20584494295802447,0.2541912674409519,0.34388521115218396,0.45227288910538066,0.46450412719997725,0.5808361216819946,0.6355835028602363,0.6505159298527952,0.7404465173409036,0.7455064367977082,0.884925020519195,0.9767211400638387,1.0789142699330445,1.1586905952512971,1.195942459383017,1.2203823484477883,1.3949386065204183,1.4092422497476265,1.5599452033620265,1.5601864044243652,1.7052412368729153,1.8182496720710062,1.8340450985343382,1.8485445552552704,1.959828624191452,1.987156815341724,1.9967378215835974,2.1233911067827616,2.587799816000169,2.713490317738959,2.8093450968738076,2.9122914019804194,2.9214464853521815,3.0424224295953772,3.0461376917337066,3.109823217156622,3.1171107608941098,3.2518332202674705,3.2533033076326436,3.308980248526492,3.567533266935893,3.5846572854427263,3.663618432936917,3.745401188473625,3.8867728968948203,4.275410183585496,4.319450186421157,4.4015249373960135,4.56069984217036,4.722149251619493,4.937955963643907,4.951769101112702,5.142344384136116,5.200680211778108,5.227328293819941,5.247564316322379,5.426960831582485,5.4671027934327965,5.612771975694963,5.924145688620425,5.978999788110851,5.986584841970366,6.011150117432088,6.075448519014383,6.118528947223795,6.232981268275579,6.3755747135521315,6.62522284353982,6.842330265121569,7.068573438476172,7.080725777960454,7.13244787222995,7.2900716804098735,7.29606178338064,7.319939418114051,7.607850486168974,7.70967179954561,7.712703466859457,7.722447692966574,7.7513282336111455,7.851759613930136,8.021969807540398,8.08397348116461,8.154614284548341,8.287375091519294,8.324426408004218,8.631034258755935,8.661761457749352,8.872127425763265,8.948273504276488,9.093204020787821,9.218742350231167,9.394989415641891,9.488855372533333,9.50714306409916,9.656320330745594,9.695846277645586,9.699098521619943,9.868869366005173],\"xaxis\":\"x\",\"y\":[5.322999578408331,5.617321844091726,5.711791658494875,5.887055658521989,6.09884763918109,6.122747755789238,6.350063111101207,6.457040735445604,6.486219036416007,6.661945443749577,6.671832641113422,6.94425971534054,7.123631414617787,7.323319107845221,7.479203856627768,7.551994843912388,7.599750941375347,7.94083782811175,7.968787471345546,8.26326446024232,8.263735772587916,8.54717620464255,8.767997249744417,8.798861871251198,8.827194138492251,9.044645732814397,9.098045638051282,9.116767141519137,9.364250532951289,10.271715682292012,10.517317773009275,10.704620185165172,10.905779599886472,10.923668840407354,11.160058578864849,11.167318285335213,11.291761246226573,11.306001271951349,11.569252012706867,11.572124596756009,11.680918601864596,12.186137063117748,12.219597783606396,12.373889656434702,12.533695015364506,12.809938539546426,13.569344610979565,13.655399775228263,13.815775699865872,14.126807073450054,14.442282880748367,14.863974089954967,14.890965273813485,15.263353698571757,15.377343228682555,15.42941418529852,15.468955832166387,15.819500691211022,15.89793899497735,16.182579880499574,16.791011176667197,16.898197331013687,16.913018698263627,16.96101980358965,17.086660338394807,17.17084047206326,17.394482902866663,17.673113728569625,18.160931835908038,18.58516466108623,19.02724895240266,19.05099489933705,19.152061044456453,19.46006154012047,19.471766337164638,19.518423776913714,20.081008532935154,20.27996968830432,20.285893634985566,20.30493407377149,20.361367305123316,20.557612499777925,20.890207077997907,21.011363662334766,21.149397394088396,21.408815021564653,21.481214134199558,22.080332827602852,22.140374471245522,22.551434343274288,22.70022550747565,22.983423023369816,23.22872776597093,23.573118528588893,23.75653473698008,23.792269301014947,24.08376506297787,24.160999659561725,24.167354618039692,24.499090697910713],\"yaxis\":\"y\",\"type\":\"scatter\"},{\"line\":{\"color\":\"blue\"},\"name\":\"trendline='ols'\",\"x\":[3.745401188473625,9.50714306409916,7.319939418114051,5.986584841970366,1.5601864044243652,1.5599452033620265,0.5808361216819946,8.661761457749352,6.011150117432088,7.080725777960454,0.20584494295802447,9.699098521619943,8.324426408004218,2.1233911067827616,1.8182496720710062,1.8340450985343382,3.0424224295953772,5.247564316322379,4.319450186421157,2.9122914019804194,6.118528947223795,1.3949386065204183,2.9214464853521815,3.663618432936917,4.56069984217036,7.851759613930136,1.9967378215835974,5.142344384136116,5.924145688620425,0.46450412719997725,6.075448519014383,1.7052412368729153,0.6505159298527952,9.488855372533333,9.656320330745594,8.08397348116461,3.0461376917337066,0.9767211400638387,6.842330265121569,4.4015249373960135,1.2203823484477883,4.951769101112702,0.34388521115218396,9.093204020787821,2.587799816000169,6.62522284353982,3.1171107608941098,5.200680211778108,5.4671027934327965,1.8485445552552704,9.695846277645586,7.7513282336111455,9.394989415641891,8.948273504276488,5.978999788110851,9.218742350231167,0.884925020519195,1.959828624191452,0.45227288910538066,3.2533033076326436,3.8867728968948203,2.713490317738959,8.287375091519294,3.567533266935893,2.8093450968738076,5.426960831582485,1.4092422497476265,8.021969807540398,0.7455064367977082,9.868869366005173,7.722447692966574,1.987156815341724,0.05522117123602399,8.154614284548341,7.068573438476172,7.2900716804098735,7.712703466859457,0.7404465173409036,3.5846572854427263,1.1586905952512971,8.631034258755935,6.232981268275579,3.308980248526492,0.6355835028602363,3.109823217156622,3.2518332202674705,7.29606178338064,6.3755747135521315,8.872127425763265,4.722149251619493,1.195942459383017,7.13244787222995,7.607850486168974,5.612771975694963,7.70967179954561,4.937955963643907,5.227328293819941,4.275410183585496,0.2541912674409519,1.0789142699330445],\"y\":[12.533695015364508,23.792269301014965,19.51842377691372,16.913018698263635,8.263735772587914,8.263264460242318,6.350063111101203,22.140374471245533,16.96101980358966,19.050994899337056,5.617321844091721,24.167354618039706,21.48121413419957,9.364250532951289,8.767997249744417,8.798861871251198,11.160058578864852,15.468955832166394,13.655399775228265,10.905779599886472,17.170840472063272,7.940837828111748,10.923668840407355,12.373889656434706,14.12680707345006,20.55761249977794,9.116767141519137,15.263353698571763,16.791011176667208,6.122747755789234,17.086660338394815,8.547176204642549,6.486219036416005,23.756534736980093,24.083765062977886,21.011363662334777,11.167318285335217,7.123631414617784,18.585164661086242,13.815775699865874,7.599750941375345,14.890965273813489,5.887055658521985,22.98342302336983,10.271715682292012,18.160931835908045,11.306001271951352,15.377343228682562,15.897938994977356,8.82719413849225,24.160999659561742,20.361367305123323,23.573118528588907,22.700225507475665,16.898197331013694,23.228727765970945,6.944259715340538,9.044645732814397,6.098847639181087,11.572124596756012,12.80993853954643,10.517317773009276,21.408815021564664,12.186137063117751,10.704620185165176,15.81950069121103,7.968787471345545,20.890207077997918,6.671832641113419,24.499090697910727,20.304934073771502,9.098045638051282,5.322999578408327,21.149397394088407,19.02724895240267,19.46006154012048,20.285893634985577,6.661945443749573,12.219597783606398,7.479203856627765,22.080332827602867,17.39448290286667,11.680918601864597,6.457040735445601,11.291761246226574,11.569252012706869,19.471766337164645,17.673113728569636,22.551434343274302,14.442282880748373,7.551994843912386,19.152061044456463,20.081008532935165,16.182579880499585,20.27996968830433,14.863974089954972,15.429414185298526,13.56934461097957,5.711791658494871,7.323319107845219],\"type\":\"scatter\"},{\"line\":{\"color\":\"orange\",\"dash\":\"dot\"},\"mode\":\"lines\",\"name\":\"5 + 2 * x\",\"x\":[0.05522117123602399,9.868869366005173],\"y\":[5.110442342472048,24.737738732010346],\"type\":\"scatter\"}],                        {\"template\":{\"data\":{\"histogram2dcontour\":[{\"type\":\"histogram2dcontour\",\"colorbar\":{\"outlinewidth\":0,\"ticks\":\"\"},\"colorscale\":[[0.0,\"#0d0887\"],[0.1111111111111111,\"#46039f\"],[0.2222222222222222,\"#7201a8\"],[0.3333333333333333,\"#9c179e\"],[0.4444444444444444,\"#bd3786\"],[0.5555555555555556,\"#d8576b\"],[0.6666666666666666,\"#ed7953\"],[0.7777777777777778,\"#fb9f3a\"],[0.8888888888888888,\"#fdca26\"],[1.0,\"#f0f921\"]]}],\"choropleth\":[{\"type\":\"choropleth\",\"colorbar\":{\"outlinewidth\":0,\"ticks\":\"\"}}],\"histogram2d\":[{\"type\":\"histogram2d\",\"colorbar\":{\"outlinewidth\":0,\"ticks\":\"\"},\"colorscale\":[[0.0,\"#0d0887\"],[0.1111111111111111,\"#46039f\"],[0.2222222222222222,\"#7201a8\"],[0.3333333333333333,\"#9c179e\"],[0.4444444444444444,\"#bd3786\"],[0.5555555555555556,\"#d8576b\"],[0.6666666666666666,\"#ed7953\"],[0.7777777777777778,\"#fb9f3a\"],[0.8888888888888888,\"#fdca26\"],[1.0,\"#f0f921\"]]}],\"heatmap\":[{\"type\":\"heatmap\",\"colorbar\":{\"outlinewidth\":0,\"ticks\":\"\"},\"colorscale\":[[0.0,\"#0d0887\"],[0.1111111111111111,\"#46039f\"],[0.2222222222222222,\"#7201a8\"],[0.3333333333333333,\"#9c179e\"],[0.4444444444444444,\"#bd3786\"],[0.5555555555555556,\"#d8576b\"],[0.6666666666666666,\"#ed7953\"],[0.7777777777777778,\"#fb9f3a\"],[0.8888888888888888,\"#fdca26\"],[1.0,\"#f0f921\"]]}],\"heatmapgl\":[{\"type\":\"heatmapgl\",\"colorbar\":{\"outlinewidth\":0,\"ticks\":\"\"},\"colorscale\":[[0.0,\"#0d0887\"],[0.1111111111111111,\"#46039f\"],[0.2222222222222222,\"#7201a8\"],[0.3333333333333333,\"#9c179e\"],[0.4444444444444444,\"#bd3786\"],[0.5555555555555556,\"#d8576b\"],[0.6666666666666666,\"#ed7953\"],[0.7777777777777778,\"#fb9f3a\"],[0.8888888888888888,\"#fdca26\"],[1.0,\"#f0f921\"]]}],\"contourcarpet\":[{\"type\":\"contourcarpet\",\"colorbar\":{\"outlinewidth\":0,\"ticks\":\"\"}}],\"contour\":[{\"type\":\"contour\",\"colorbar\":{\"outlinewidth\":0,\"ticks\":\"\"},\"colorscale\":[[0.0,\"#0d0887\"],[0.1111111111111111,\"#46039f\"],[0.2222222222222222,\"#7201a8\"],[0.3333333333333333,\"#9c179e\"],[0.4444444444444444,\"#bd3786\"],[0.5555555555555556,\"#d8576b\"],[0.6666666666666666,\"#ed7953\"],[0.7777777777777778,\"#fb9f3a\"],[0.8888888888888888,\"#fdca26\"],[1.0,\"#f0f921\"]]}],\"surface\":[{\"type\":\"surface\",\"colorbar\":{\"outlinewidth\":0,\"ticks\":\"\"},\"colorscale\":[[0.0,\"#0d0887\"],[0.1111111111111111,\"#46039f\"],[0.2222222222222222,\"#7201a8\"],[0.3333333333333333,\"#9c179e\"],[0.4444444444444444,\"#bd3786\"],[0.5555555555555556,\"#d8576b\"],[0.6666666666666666,\"#ed7953\"],[0.7777777777777778,\"#fb9f3a\"],[0.8888888888888888,\"#fdca26\"],[1.0,\"#f0f921\"]]}],\"mesh3d\":[{\"type\":\"mesh3d\",\"colorbar\":{\"outlinewidth\":0,\"ticks\":\"\"}}],\"scatter\":[{\"fillpattern\":{\"fillmode\":\"overlay\",\"size\":10,\"solidity\":0.2},\"type\":\"scatter\"}],\"parcoords\":[{\"type\":\"parcoords\",\"line\":{\"colorbar\":{\"outlinewidth\":0,\"ticks\":\"\"}}}],\"scatterpolargl\":[{\"type\":\"scatterpolargl\",\"marker\":{\"colorbar\":{\"outlinewidth\":0,\"ticks\":\"\"}}}],\"bar\":[{\"error_x\":{\"color\":\"#2a3f5f\"},\"error_y\":{\"color\":\"#2a3f5f\"},\"marker\":{\"line\":{\"color\":\"#E5ECF6\",\"width\":0.5},\"pattern\":{\"fillmode\":\"overlay\",\"size\":10,\"solidity\":0.2}},\"type\":\"bar\"}],\"scattergeo\":[{\"type\":\"scattergeo\",\"marker\":{\"colorbar\":{\"outlinewidth\":0,\"ticks\":\"\"}}}],\"scatterpolar\":[{\"type\":\"scatterpolar\",\"marker\":{\"colorbar\":{\"outlinewidth\":0,\"ticks\":\"\"}}}],\"histogram\":[{\"marker\":{\"pattern\":{\"fillmode\":\"overlay\",\"size\":10,\"solidity\":0.2}},\"type\":\"histogram\"}],\"scattergl\":[{\"type\":\"scattergl\",\"marker\":{\"colorbar\":{\"outlinewidth\":0,\"ticks\":\"\"}}}],\"scatter3d\":[{\"type\":\"scatter3d\",\"line\":{\"colorbar\":{\"outlinewidth\":0,\"ticks\":\"\"}},\"marker\":{\"colorbar\":{\"outlinewidth\":0,\"ticks\":\"\"}}}],\"scattermapbox\":[{\"type\":\"scattermapbox\",\"marker\":{\"colorbar\":{\"outlinewidth\":0,\"ticks\":\"\"}}}],\"scatterternary\":[{\"type\":\"scatterternary\",\"marker\":{\"colorbar\":{\"outlinewidth\":0,\"ticks\":\"\"}}}],\"scattercarpet\":[{\"type\":\"scattercarpet\",\"marker\":{\"colorbar\":{\"outlinewidth\":0,\"ticks\":\"\"}}}],\"carpet\":[{\"aaxis\":{\"endlinecolor\":\"#2a3f5f\",\"gridcolor\":\"white\",\"linecolor\":\"white\",\"minorgridcolor\":\"white\",\"startlinecolor\":\"#2a3f5f\"},\"baxis\":{\"endlinecolor\":\"#2a3f5f\",\"gridcolor\":\"white\",\"linecolor\":\"white\",\"minorgridcolor\":\"white\",\"startlinecolor\":\"#2a3f5f\"},\"type\":\"carpet\"}],\"table\":[{\"cells\":{\"fill\":{\"color\":\"#EBF0F8\"},\"line\":{\"color\":\"white\"}},\"header\":{\"fill\":{\"color\":\"#C8D4E3\"},\"line\":{\"color\":\"white\"}},\"type\":\"table\"}],\"barpolar\":[{\"marker\":{\"line\":{\"color\":\"#E5ECF6\",\"width\":0.5},\"pattern\":{\"fillmode\":\"overlay\",\"size\":10,\"solidity\":0.2}},\"type\":\"barpolar\"}],\"pie\":[{\"automargin\":true,\"type\":\"pie\"}]},\"layout\":{\"autotypenumbers\":\"strict\",\"colorway\":[\"#636efa\",\"#EF553B\",\"#00cc96\",\"#ab63fa\",\"#FFA15A\",\"#19d3f3\",\"#FF6692\",\"#B6E880\",\"#FF97FF\",\"#FECB52\"],\"font\":{\"color\":\"#2a3f5f\"},\"hovermode\":\"closest\",\"hoverlabel\":{\"align\":\"left\"},\"paper_bgcolor\":\"white\",\"plot_bgcolor\":\"#E5ECF6\",\"polar\":{\"bgcolor\":\"#E5ECF6\",\"angularaxis\":{\"gridcolor\":\"white\",\"linecolor\":\"white\",\"ticks\":\"\"},\"radialaxis\":{\"gridcolor\":\"white\",\"linecolor\":\"white\",\"ticks\":\"\"}},\"ternary\":{\"bgcolor\":\"#E5ECF6\",\"aaxis\":{\"gridcolor\":\"white\",\"linecolor\":\"white\",\"ticks\":\"\"},\"baxis\":{\"gridcolor\":\"white\",\"linecolor\":\"white\",\"ticks\":\"\"},\"caxis\":{\"gridcolor\":\"white\",\"linecolor\":\"white\",\"ticks\":\"\"}},\"coloraxis\":{\"colorbar\":{\"outlinewidth\":0,\"ticks\":\"\"}},\"colorscale\":{\"sequential\":[[0.0,\"#0d0887\"],[0.1111111111111111,\"#46039f\"],[0.2222222222222222,\"#7201a8\"],[0.3333333333333333,\"#9c179e\"],[0.4444444444444444,\"#bd3786\"],[0.5555555555555556,\"#d8576b\"],[0.6666666666666666,\"#ed7953\"],[0.7777777777777778,\"#fb9f3a\"],[0.8888888888888888,\"#fdca26\"],[1.0,\"#f0f921\"]],\"sequentialminus\":[[0.0,\"#0d0887\"],[0.1111111111111111,\"#46039f\"],[0.2222222222222222,\"#7201a8\"],[0.3333333333333333,\"#9c179e\"],[0.4444444444444444,\"#bd3786\"],[0.5555555555555556,\"#d8576b\"],[0.6666666666666666,\"#ed7953\"],[0.7777777777777778,\"#fb9f3a\"],[0.8888888888888888,\"#fdca26\"],[1.0,\"#f0f921\"]],\"diverging\":[[0,\"#8e0152\"],[0.1,\"#c51b7d\"],[0.2,\"#de77ae\"],[0.3,\"#f1b6da\"],[0.4,\"#fde0ef\"],[0.5,\"#f7f7f7\"],[0.6,\"#e6f5d0\"],[0.7,\"#b8e186\"],[0.8,\"#7fbc41\"],[0.9,\"#4d9221\"],[1,\"#276419\"]]},\"xaxis\":{\"gridcolor\":\"white\",\"linecolor\":\"white\",\"ticks\":\"\",\"title\":{\"standoff\":15},\"zerolinecolor\":\"white\",\"automargin\":true,\"zerolinewidth\":2},\"yaxis\":{\"gridcolor\":\"white\",\"linecolor\":\"white\",\"ticks\":\"\",\"title\":{\"standoff\":15},\"zerolinecolor\":\"white\",\"automargin\":true,\"zerolinewidth\":2},\"scene\":{\"xaxis\":{\"backgroundcolor\":\"#E5ECF6\",\"gridcolor\":\"white\",\"linecolor\":\"white\",\"showbackground\":true,\"ticks\":\"\",\"zerolinecolor\":\"white\",\"gridwidth\":2},\"yaxis\":{\"backgroundcolor\":\"#E5ECF6\",\"gridcolor\":\"white\",\"linecolor\":\"white\",\"showbackground\":true,\"ticks\":\"\",\"zerolinecolor\":\"white\",\"gridwidth\":2},\"zaxis\":{\"backgroundcolor\":\"#E5ECF6\",\"gridcolor\":\"white\",\"linecolor\":\"white\",\"showbackground\":true,\"ticks\":\"\",\"zerolinecolor\":\"white\",\"gridwidth\":2}},\"shapedefaults\":{\"line\":{\"color\":\"#2a3f5f\"}},\"annotationdefaults\":{\"arrowcolor\":\"#2a3f5f\",\"arrowhead\":0,\"arrowwidth\":1},\"geo\":{\"bgcolor\":\"white\",\"landcolor\":\"#E5ECF6\",\"subunitcolor\":\"white\",\"showland\":true,\"showlakes\":true,\"lakecolor\":\"white\"},\"title\":{\"x\":0.05},\"mapbox\":{\"style\":\"light\"}}},\"xaxis\":{\"anchor\":\"y\",\"domain\":[0.0,1.0],\"title\":{\"text\":\"x\"}},\"yaxis\":{\"anchor\":\"x\",\"domain\":[0.0,1.0],\"title\":{\"text\":\"Y\"}},\"legend\":{\"title\":{\"text\":\"Data\"},\"tracegroupgap\":0},\"title\":{\"text\":\"Y vs. x\"}},                        {\"responsive\": true}                    ).then(function(){\n",
       "                            \n",
       "var gd = document.getElementById('31a44c4f-9b06-42dd-ad86-0962c2d73a80');\n",
       "var x = new MutationObserver(function (mutations, observer) {{\n",
       "        var display = window.getComputedStyle(gd).display;\n",
       "        if (!display || display === 'none') {{\n",
       "            console.log([gd, 'removed!']);\n",
       "            Plotly.purge(gd);\n",
       "            observer.disconnect();\n",
       "        }}\n",
       "}});\n",
       "\n",
       "// Listen for the removal of the full notebook cells\n",
       "var notebookContainer = gd.closest('#notebook-container');\n",
       "if (notebookContainer) {{\n",
       "    x.observe(notebookContainer, {childList: true});\n",
       "}}\n",
       "\n",
       "// Listen for the clearing of the current output cell\n",
       "var outputEl = gd.closest('.output');\n",
       "if (outputEl) {{\n",
       "    x.observe(outputEl, {childList: true});\n",
       "}}\n",
       "\n",
       "                        })                };                });            </script>        </div>"
      ]
     },
     "metadata": {},
     "output_type": "display_data"
    }
   ],
   "source": [
    "# what does this add onto the figure in constrast to `trendline='ols'`?\n",
    "x_range = np.array([df['x'].min(), df['x'].max()])\n",
    "# beta0 and beta1 are assumed to be defined\n",
    "y_line = beta0 + beta1 * x_range\n",
    "fig.add_scatter(x=x_range, y=y_line, mode='lines',\n",
    "                name=str(beta0)+' + '+str(beta1)+' * x', \n",
    "                line=dict(dash='dot', color='orange'))\n",
    "\n",
    "fig.show() # USE `fig.show(renderer=\"png\")` FOR ALL GitHub and MarkUs SUBMISSIONS"
   ]
  },
  {
   "cell_type": "markdown",
   "id": "840fb565",
   "metadata": {},
   "source": [
    "Theoretical Regression Line:Represents the true underlying relationship between the predictor variable x and the outcome variable Y\n",
    "\n",
    "Fitted Regression Line:Obtained by fitting a Simple Linear Regression model to the simulated data using Ordinary Least Squares\n",
    "\n",
    "The discrepancy between the theoretical and fitted regression lines illustrates the effect of random sampling variation on statistical estimation. While the theoretical line represents the true underlying relationship without error, the fitted line reflects our best estimate given the random variation in the data. This demonstrates that even with a correctly specified model, estimates from a single sample may differ from the true parameters due to random noise."
   ]
  },
  {
   "cell_type": "markdown",
   "id": "2b68e71c",
   "metadata": {},
   "source": [
    "### 4. Explain how *fitted_model.fittedvalues* are derived on the basis of *fitted_model.summary().tables[1]* (or more specifically  *fitted_model.params* or *fitted_model.params.values*)<br>\n",
    "\n",
    "<details class=\"details-example\"><summary style=\"color:blue\"><u>Further Guidance</u></summary>\n",
    "\n",
    "> _The previous questions used code to explore the distinction between theoretical (true) $Y_i = \\beta_0 + \\beta_1 x_i + \\epsilon_i \\;[\\text{where } \\epsilon_i \\sim \\mathcal{N}(0, \\sigma)]\\;$ and fitted (estimated) $\\hat{y}_i = \\hat{\\beta}_0 + \\hat{\\beta}_1 x_i$ **Simple Linear Regression** models_\n",
    ">\n",
    "> _This question asks you to explicitly illustrate how the the latter \"in sample predictions\" of the fitted **Simple Linear Regression** model $\\hat{y}_i = \\hat{\\beta}_0 + \\hat{\\beta}_1 x_i$ are made (in contrast to the linear equation of the theoretical model)_\n",
    ">    \n",
    "> ---\n",
    "> \n",
    "> _Don't forget to ask for summaries of all your different ChatBot sessions and organize and paste these into your homework notebook (including link(s) to chat log histories if you're using ChatBot) But if you're using the STA130 custom NBLM ChatBot, you'll only be able to ask for summaries, of course!_  \n",
    "</details>"
   ]
  },
  {
   "cell_type": "markdown",
   "id": "acca3dd6",
   "metadata": {},
   "source": [
    "use the model summary table I can use the intercept to find the fitted line's slope and intercept coefficients\n",
    "𝑦̂ 𝑖=𝛽̂ 0+𝛽̂ 1𝑥𝑖 find the 𝛽̂ 0 and 𝛽̂ 1 for all the xi in the function we can find yi.\n",
    " "
   ]
  },
  {
   "cell_type": "markdown",
   "id": "3e9fdfa9",
   "metadata": {},
   "source": [
    "### 5. Explain concisely in your own words what line is chosen for the fitted model based on observed data using the \"ordinary least squares\" method (as is done by *trendline='ols'* and *smf.ols(...).fit()*) and why it requires \"squares\"<br>\n",
    "    \n",
    "<details class=\"details-example\"><summary style=\"color:blue\"><u>Further Guidance</u></summary>\n",
    "\n",
    "> _This question addresses the use of **residuals** $\\text{e}_i = \\hat \\epsilon_i = Y_i - \\hat y_i$ (in contrast to the **error** terms $\\epsilon_i$ of the theoretical model), and particularly, asks for an explanation based on the following visualization_\n",
    ">\n",
    "> ```python \n",
    "> import scipy.stats as stats\n",
    "> import numpy as np\n",
    "> import pandas as pd\n",
    "> import statsmodels.formula.api as smf\n",
    "> import plotly.express as px\n",
    "> \n",
    "> n,x_min,x_range,beta0,beta1,sigma = 20,5,5,2,3,5\n",
    "> x = stats.uniform(x_min, x_range).rvs(size=n)\n",
    "> errors = stats.norm(loc=0, scale=sigma).rvs(size=n)\n",
    "> Y = beta0 + beta1 * x + errors\n",
    "> \n",
    "> df = pd.DataFrame({'x': x, 'y': Y})\n",
    "> model_data_specification = smf.ols(\"Y~x\", data=df) \n",
    "> fitted_model = model_data_specification.fit() \n",
    "> \n",
    "> df['Data'] = 'Data' # hack to add data to legend \n",
    "> fig = px.scatter(df, x='x',  y='Y', color='Data', \n",
    ">                  trendline='ols', title='Y vs. x')\n",
    "> \n",
    "> # This is what `trendline='ols'` is\n",
    "> fig.add_scatter(x=df['x'], y=fitted_model.fittedvalues,\n",
    ">                 line=dict(color='blue'), name=\"trendline='ols'\")\n",
    "> \n",
    "> x_range = np.array([df['x'].min(), df['x'].max()])\n",
    "> y_line = beta0 + beta1 * x_range\n",
    "> fig.add_scatter(x=x_range, y=y_line, mode='lines',\n",
    ">                 name=str(beta0)+' + '+str(beta1)+' * x', \n",
    ">                 line=dict(dash='dot', color='orange'))\n",
    "> \n",
    "> # Add vertical lines for residuals\n",
    "> for i in range(len(df)):\n",
    ">     fig.add_scatter(x=[df['x'][i], df['x'][i]],\n",
    ">                     y=[fitted_model.fittedvalues[i], df['Y'][i]],\n",
    ">                     mode='lines',\n",
    ">                     line=dict(color='red', dash='dash'),\n",
    ">                     showlegend=False)\n",
    ">     \n",
    "> # Add horizontal line at y-bar\n",
    "> fig.add_scatter(x=x_range, y=[df['Y'].mean()]*2, mode='lines',\n",
    ">                 line=dict(color='black', dash='dot'), name='y-bar')\n",
    "> \n",
    "> fig.show() # USE `fig.show(renderer=\"png\")` FOR ALL GitHub and MarkUs SUBMISSIONS\n",
    "> ```\n",
    ">\n",
    "> _**Question Scope Warning**: we are not looking for any explanation realted to the mathematical equations for the line chosen for the **Simple Linear Regression** model by the \"ordinary least squares\" method, which happen to be_\n",
    "> \n",
    "> _$$\\hat \\beta_1 = r_{xy}\\frac{s_y}{s_x} \\quad \\text{ and } \\quad  \\hat\\beta_0 = \\bar {y}-\\hat \\beta_1\\bar {x}$$_\n",
    ">\n",
    "> _where $r_{xy}$ is the **correlation** between $x$ and $Y$ and $s_x$ and $s_Y$ are the **sample standard deviations** of $x$ and $y$_\n",
    ">\n",
    "> ---\n",
    "> \n",
    "> ```python \n",
    "> # Use this if you need it    \n",
    "> # https://stackoverflow.com/questions/52771328/plotly-chart-not-showing-in-jupyter-notebook\n",
    "> import plotly.offline as pyo\n",
    "> # Set notebook mode to work in offline\n",
    "> pyo.init_notebook_mode()    \n",
    "> ```\n",
    ">\n",
    "> ---\n",
    "> \n",
    "> _Don't forget to ask for summaries of all your different ChatBot sessions and organize and paste these into your homework notebook (including link(s) to chat log histories if you're using ChatBot) But if you're using the STA130 custom NBLM ChatBot, you'll only be able to ask for summaries, of course!_  \n",
    "    \n",
    "</details>"
   ]
  },
  {
   "cell_type": "code",
   "execution_count": 5,
   "id": "50247608",
   "metadata": {},
   "outputs": [
    {
     "data": {
      "image/png": "[encoded data removed]"
     },
     "metadata": {},
     "output_type": "display_data"
    }
   ],
   "source": [
    "import scipy.stats as stats\n",
    "import numpy as np\n",
    "import pandas as pd\n",
    "import statsmodels.formula.api as smf\n",
    "import plotly.express as px\n",
    "\n",
    "n, x_min, x_range, beta0, beta1, sigma = 20, 5, 5, 2, 3, 5\n",
    "x = stats.uniform(x_min, x_range).rvs(size=n)\n",
    "errors = stats.norm(loc=0, scale=sigma).rvs(size=n)\n",
    "Y = beta0 + beta1 * x + errors\n",
    "\n",
    "df = pd.DataFrame({'x': x, 'Y': Y})  # Use 'Y' to match the model formula\n",
    "model_data_specification = smf.ols(\"Y ~ x\", data=df)\n",
    "fitted_model = model_data_specification.fit()\n",
    "\n",
    "df['Data'] = 'Data'  # Hack to add data to legend\n",
    "fig = px.scatter(df, x='x', y='Y', color='Data', title='Y vs. x')\n",
    "\n",
    "# Add the fitted regression line\n",
    "fig.add_scatter(x=df['x'], y=fitted_model.fittedvalues,\n",
    "                line=dict(color='blue'), name=\"Fitted Regression Line\")\n",
    "\n",
    "# Add the theoretical regression line\n",
    "x_range = np.array([df['x'].min(), df['x'].max()])\n",
    "y_line = beta0 + beta1 * x_range\n",
    "fig.add_scatter(x=x_range, y=y_line, mode='lines',\n",
    "                name=f'Theoretical Line: {beta0} + {beta1} * x', \n",
    "                line=dict(dash='dot', color='orange'))\n",
    "\n",
    "# Add vertical lines for residuals\n",
    "for i in range(len(df)):\n",
    "    fig.add_scatter(x=[df['x'][i], df['x'][i]],\n",
    "                    y=[fitted_model.fittedvalues[i], df['Y'][i]],\n",
    "                    mode='lines',\n",
    "                    line=dict(color='red', dash='dash'),\n",
    "                    showlegend=False)\n",
    "\n",
    "# Add horizontal line at y-bar\n",
    "fig.add_scatter(x=x_range, y=[df['Y'].mean()]*2, mode='lines',\n",
    "                line=dict(color='black', dash='dot'), name='Mean of Y')\n",
    "\n",
    "fig.show(renderer=\"png\")  # Use renderer=\"png\" for static image rendering\n"
   ]
  },
  {
   "cell_type": "markdown",
   "id": "c36fe4c5",
   "metadata": {},
   "source": [
    "The Ordinary Least Squares (OLS) method selects the best-fitting line for the observed data by minimizing the sum of the squared differences between the observed values and the values predicted by the linear model. This approach ensures that the estimated line is as close as possible to the actual data points in terms of minimizing these differences."
   ]
  },
  {
   "cell_type": "markdown",
   "id": "dc5ba222",
   "metadata": {},
   "source": [
    "### 6. Explain why the first expression below can be interpreted as \"the proportion of variation in (outcome) Y explained by the model (i.e. _fitted_model.fittedvalues_)\"; and therefore, why _fitted_model.rsquared_ can be interpreted as a measure of the accuracy of the model; and, therefore what the two _np.corrcoef(...)[0,1]\\*\\*2_ expressions capture in the context of _Simple Linear Regression models_.\n",
    "\n",
    "1. `1-((Y-fitted_model.fittedvalues)**2).sum()/((Y-Y.mean())**2).sum()`\n",
    "2. `fitted_model.rsquared`\n",
    "3. `np.corrcoef(Y,fitted_model.fittedvalues)[0,1]**2`\n",
    "4. `np.corrcoef(Y,x)[0,1]**2`<br><br>\n",
    "\n",
    "<details class=\"details-example\"><summary style=\"color:blue\"><u>Further Guidance</u></summary>\n",
    "\n",
    "> _**R-squared** is the \"the proportion of variation in (outcome) $Y$ explained by the model ($\\hat y_i$)\" and is defined as_\n",
    ">\n",
    "> _$R^2 = 1 - \\frac{\\sum_{i=1}^n(Y_i-\\hat y)^2}{\\sum_{i=1}^n(Y_i-\\bar Y)^2}$_\n",
    ">\n",
    "> _The visuzation provided in the previous problem can be used to consider $(Y_i-\\bar Y)^2$ as the squared distance of the $Y_i$ to their sample average $\\bar Y$ as opposed to the squared **residuals** $(Y_i-\\hat y)^2$ which is the squared distance of the $Y_i$ to their fitted (predicted) values $Y_i$._\n",
    ">    \n",
    "> ---\n",
    "> \n",
    "> _Don't forget to ask for summaries of all your different ChatBot sessions and organize and paste these into your homework notebook (including link(s) to chat log histories if you're using ChatBot) But if you're using the STA130 custom NBLM ChatBot, you'll only be able to ask for summaries, of course!_  \n",
    "</details>"
   ]
  },
  {
   "cell_type": "markdown",
   "id": "244cf164",
   "metadata": {},
   "source": [
    "Expression 1: this expression captures the proportion of Y's variability that the model can account for, which makes it an indicator of the model's effectiveness in explaining Y.\n",
    "\n",
    "Expression 2:In most statistical software, fitted_model.rsquared directly computes the R 2value, which is equivalent to the first expression. It also represents the proportion of variance in Y explained by the model and is often used as a measure of model accuracy. The closerR is to 1, the better the model explains the variation in Y.\n",
    "\n",
    "Expression 3:This expression calculates the squared correlation between the observed Y values and the fitted values (predictions) from the model. The correlation coefficient r measures the strength and direction of the linear relationship between Y and the fitted values, and squaring it (i.e., r 2) yields the proportion of variance in Y that is explained by the fitted values.\n",
    "\n",
    "Expression 4:In Simple Linear Regression, if x is the single predictor variable, then the squared correlation between Y and x also equals R 2. This is because the model directly depends on x to explain Y, so the strength of the correlation between Y and x reflects the model's explanatory power."
   ]
  },
  {
   "cell_type": "markdown",
   "id": "d821fd86",
   "metadata": {},
   "source": [
    "### 7. Indicate a couple of the assumptions of the *Simple Linear Regression* model specification that do not seem compatible with the example data below<br>\n",
    "\n",
    "<details class=\"details-example\"><summary style=\"color:blue\"><u>Further Guidance</u></summary>\n",
    "\n",
    "> _Hint: What even ARE the assumptions of the  **Simple Linear Regression** model, you ask? Have a look at the mathematical specification and see if what it seems to be assuming._\n",
    "> \n",
    "> _Don't forget to ask for summaries of all your different ChatBot sessions and organize and paste these into your homework notebook (including link(s) to chat log histories if you're using ChatBot) But if you're using the STA130 custom NBLM ChatBot, you'll only be able to ask for summaries, of course!_  \n",
    "</details>"
   ]
  },
  {
   "cell_type": "code",
   "execution_count": 6,
   "id": "ec7fda0d",
   "metadata": {},
   "outputs": [
    {
     "data": {
      "application/vnd.plotly.v1+json": {
       "config": {
        "plotlyServerURL": "https://plot.ly"
       },
       "data": [
        {
         "hovertemplate": "Amount of Fertilizer (kg) (x)=%{x}<br>Crop Yield (tons) (Y)=%{y}<extra></extra>",
         "legendgroup": "",
         "marker": {
          "color": "#636efa",
          "symbol": "circle"
         },
         "mode": "markers",
         "name": "",
         "orientation": "v",
         "showlegend": false,
         "type": "scatter",
         "x": [
          1,
          1.2,
          1.4,
          1.6,
          1.8,
          2,
          2.2,
          2.4,
          2.6,
          2.8,
          3,
          3.2,
          3.4,
          3.6,
          3.8,
          4,
          4.2,
          4.4,
          4.6,
          4.8,
          5,
          5.2,
          5.4,
          5.6,
          5.8,
          6,
          6.2,
          6.4,
          6.6,
          6.8,
          7,
          7.2,
          7.4,
          7.6,
          7.8,
          8,
          8.2,
          8.4,
          8.6,
          8.8,
          9,
          9.2,
          9.4,
          9.6
         ],
         "xaxis": "x",
         "y": [
          18.7,
          16.9,
          16.1,
          13.4,
          48.4,
          51.9,
          31.8,
          51.3,
          63.9,
          50.6,
          58.7,
          82.4,
          66.7,
          81.2,
          96.5,
          112.2,
          132.5,
          119.8,
          127.7,
          136.3,
          148.5,
          169.4,
          177.9,
          186.7,
          198.1,
          215.7,
          230.7,
          250.4,
          258,
          267.8,
          320.4,
          302,
          307.2,
          331.5,
          375.3,
          403.4,
          393.5,
          434.9,
          431.9,
          451.1,
          491.2,
          546.8,
          546.4,
          558.9
         ],
         "yaxis": "y"
        },
        {
         "hovertemplate": "<b>OLS trendline</b><br>Crop Yield (tons) (Y) = 62.3653 * Amount of Fertilizer (kg) (x) + -117.475<br>R<sup>2</sup>=0.940931<br><br>Amount of Fertilizer (kg) (x)=%{x}<br>Crop Yield (tons) (Y)=%{y} <b>(trend)</b><extra></extra>",
         "legendgroup": "",
         "marker": {
          "color": "#636efa",
          "symbol": "circle"
         },
         "mode": "lines",
         "name": "",
         "showlegend": false,
         "type": "scatter",
         "x": [
          1,
          1.2,
          1.4,
          1.6,
          1.8,
          2,
          2.2,
          2.4,
          2.6,
          2.8,
          3,
          3.2,
          3.4,
          3.6,
          3.8,
          4,
          4.2,
          4.4,
          4.6,
          4.8,
          5,
          5.2,
          5.4,
          5.6,
          5.8,
          6,
          6.2,
          6.4,
          6.6,
          6.8,
          7,
          7.2,
          7.4,
          7.6,
          7.8,
          8,
          8.2,
          8.4,
          8.6,
          8.8,
          9,
          9.2,
          9.4,
          9.6
         ],
         "xaxis": "x",
         "y": [
          -55.109393939394074,
          -42.63633544749837,
          -30.16327695560267,
          -17.690218463706955,
          -5.217159971811242,
          7.2558985200844575,
          19.72895701198017,
          32.20201550387587,
          44.67507399577157,
          57.14813248766727,
          69.621190979563,
          82.0942494714587,
          94.5673079633544,
          107.04036645525012,
          119.5134249471458,
          131.98648343904154,
          144.45954193093723,
          156.93260042283293,
          169.40565891472858,
          181.87871740662433,
          194.35177589852003,
          206.82483439041573,
          219.2978928823115,
          231.77095137420713,
          244.24400986610283,
          256.7170683579986,
          269.1901268498943,
          281.66318534179,
          294.1362438336857,
          306.6093023255814,
          319.0823608174771,
          331.55541930937284,
          344.02847780126854,
          356.5015362931642,
          368.97459478505994,
          381.44765327695563,
          393.9207117688513,
          406.3937702607471,
          418.8668287526427,
          431.3398872445385,
          443.8129457364342,
          456.2860042283298,
          468.7590627202256,
          481.2321212121213
         ],
         "yaxis": "y"
        },
        {
         "alignmentgroup": "True",
         "bingroup": "x",
         "hovertemplate": "Residuals=%{x}<br>count=%{y}<extra></extra>",
         "legendgroup": "",
         "marker": {
          "color": "#636efa",
          "pattern": {
           "shape": ""
          }
         },
         "name": "",
         "nbinsx": 10,
         "offsetgroup": "",
         "orientation": "v",
         "showlegend": false,
         "type": "histogram",
         "x": [
          73.80939393939391,
          59.536335447498224,
          46.26327695560253,
          31.09021846370681,
          53.61715997181111,
          44.64410147991541,
          12.071042988019702,
          19.097984496124027,
          19.2249260042283,
          -6.548132487667367,
          -10.921190979563093,
          0.30575052854121054,
          -27.86730796335449,
          -25.84036645525019,
          -23.013424947145893,
          -19.78648343904159,
          -11.95954193093732,
          -37.13260042283302,
          -41.70565891472866,
          -45.57871740662435,
          -45.85177589852012,
          -37.42483439041581,
          -41.39789288231151,
          -45.07095137420717,
          -46.14400986610292,
          -41.01706835799865,
          -38.49012684989435,
          -31.263185341790034,
          -36.136243833685626,
          -38.80930232558143,
          1.3176391825228393,
          -29.555419309372837,
          -36.82847780126855,
          -25.001536293164236,
          6.325405214940076,
          21.952346723044343,
          -0.42071176885121986,
          28.506229739252944,
          13.033171247357359,
          19.76011275546159,
          47.38705426356586,
          90.51399577167024,
          77.64093727977445,
          77.66787878787886
         ],
         "xaxis": "x2",
         "yaxis": "y2"
        }
       ],
       "layout": {
        "annotations": [
         {
          "font": {
           "size": 16
          },
          "showarrow": false,
          "text": "Crop Yield vs. Amount of Fertilizer",
          "x": 0.225,
          "xanchor": "center",
          "xref": "paper",
          "y": 1,
          "yanchor": "bottom",
          "yref": "paper"
         },
         {
          "font": {
           "size": 16
          },
          "showarrow": false,
          "text": "Histogram of Residuals",
          "x": 0.775,
          "xanchor": "center",
          "xref": "paper",
          "y": 1,
          "yanchor": "bottom",
          "yref": "paper"
         }
        ],
        "showlegend": false,
        "template": {
         "data": {
          "bar": [
           {
            "error_x": {
             "color": "#2a3f5f"
            },
            "error_y": {
             "color": "#2a3f5f"
            },
            "marker": {
             "line": {
              "color": "#E5ECF6",
              "width": 0.5
             },
             "pattern": {
              "fillmode": "overlay",
              "size": 10,
              "solidity": 0.2
             }
            },
            "type": "bar"
           }
          ],
          "barpolar": [
           {
            "marker": {
             "line": {
              "color": "#E5ECF6",
              "width": 0.5
             },
             "pattern": {
              "fillmode": "overlay",
              "size": 10,
              "solidity": 0.2
             }
            },
            "type": "barpolar"
           }
          ],
          "carpet": [
           {
            "aaxis": {
             "endlinecolor": "#2a3f5f",
             "gridcolor": "white",
             "linecolor": "white",
             "minorgridcolor": "white",
             "startlinecolor": "#2a3f5f"
            },
            "baxis": {
             "endlinecolor": "#2a3f5f",
             "gridcolor": "white",
             "linecolor": "white",
             "minorgridcolor": "white",
             "startlinecolor": "#2a3f5f"
            },
            "type": "carpet"
           }
          ],
          "choropleth": [
           {
            "colorbar": {
             "outlinewidth": 0,
             "ticks": ""
            },
            "type": "choropleth"
           }
          ],
          "contour": [
           {
            "colorbar": {
             "outlinewidth": 0,
             "ticks": ""
            },
            "colorscale": [
             [
              0,
              "#0d0887"
             ],
             [
              0.1111111111111111,
              "#46039f"
             ],
             [
              0.2222222222222222,
              "#7201a8"
             ],
             [
              0.3333333333333333,
              "#9c179e"
             ],
             [
              0.4444444444444444,
              "#bd3786"
             ],
             [
              0.5555555555555556,
              "#d8576b"
             ],
             [
              0.6666666666666666,
              "#ed7953"
             ],
             [
              0.7777777777777778,
              "#fb9f3a"
             ],
             [
              0.8888888888888888,
              "#fdca26"
             ],
             [
              1,
              "#f0f921"
             ]
            ],
            "type": "contour"
           }
          ],
          "contourcarpet": [
           {
            "colorbar": {
             "outlinewidth": 0,
             "ticks": ""
            },
            "type": "contourcarpet"
           }
          ],
          "heatmap": [
           {
            "colorbar": {
             "outlinewidth": 0,
             "ticks": ""
            },
            "colorscale": [
             [
              0,
              "#0d0887"
             ],
             [
              0.1111111111111111,
              "#46039f"
             ],
             [
              0.2222222222222222,
              "#7201a8"
             ],
             [
              0.3333333333333333,
              "#9c179e"
             ],
             [
              0.4444444444444444,
              "#bd3786"
             ],
             [
              0.5555555555555556,
              "#d8576b"
             ],
             [
              0.6666666666666666,
              "#ed7953"
             ],
             [
              0.7777777777777778,
              "#fb9f3a"
             ],
             [
              0.8888888888888888,
              "#fdca26"
             ],
             [
              1,
              "#f0f921"
             ]
            ],
            "type": "heatmap"
           }
          ],
          "heatmapgl": [
           {
            "colorbar": {
             "outlinewidth": 0,
             "ticks": ""
            },
            "colorscale": [
             [
              0,
              "#0d0887"
             ],
             [
              0.1111111111111111,
              "#46039f"
             ],
             [
              0.2222222222222222,
              "#7201a8"
             ],
             [
              0.3333333333333333,
              "#9c179e"
             ],
             [
              0.4444444444444444,
              "#bd3786"
             ],
             [
              0.5555555555555556,
              "#d8576b"
             ],
             [
              0.6666666666666666,
              "#ed7953"
             ],
             [
              0.7777777777777778,
              "#fb9f3a"
             ],
             [
              0.8888888888888888,
              "#fdca26"
             ],
             [
              1,
              "#f0f921"
             ]
            ],
            "type": "heatmapgl"
           }
          ],
          "histogram": [
           {
            "marker": {
             "pattern": {
              "fillmode": "overlay",
              "size": 10,
              "solidity": 0.2
             }
            },
            "type": "histogram"
           }
          ],
          "histogram2d": [
           {
            "colorbar": {
             "outlinewidth": 0,
             "ticks": ""
            },
            "colorscale": [
             [
              0,
              "#0d0887"
             ],
             [
              0.1111111111111111,
              "#46039f"
             ],
             [
              0.2222222222222222,
              "#7201a8"
             ],
             [
              0.3333333333333333,
              "#9c179e"
             ],
             [
              0.4444444444444444,
              "#bd3786"
             ],
             [
              0.5555555555555556,
              "#d8576b"
             ],
             [
              0.6666666666666666,
              "#ed7953"
             ],
             [
              0.7777777777777778,
              "#fb9f3a"
             ],
             [
              0.8888888888888888,
              "#fdca26"
             ],
             [
              1,
              "#f0f921"
             ]
            ],
            "type": "histogram2d"
           }
          ],
          "histogram2dcontour": [
           {
            "colorbar": {
             "outlinewidth": 0,
             "ticks": ""
            },
            "colorscale": [
             [
              0,
              "#0d0887"
             ],
             [
              0.1111111111111111,
              "#46039f"
             ],
             [
              0.2222222222222222,
              "#7201a8"
             ],
             [
              0.3333333333333333,
              "#9c179e"
             ],
             [
              0.4444444444444444,
              "#bd3786"
             ],
             [
              0.5555555555555556,
              "#d8576b"
             ],
             [
              0.6666666666666666,
              "#ed7953"
             ],
             [
              0.7777777777777778,
              "#fb9f3a"
             ],
             [
              0.8888888888888888,
              "#fdca26"
             ],
             [
              1,
              "#f0f921"
             ]
            ],
            "type": "histogram2dcontour"
           }
          ],
          "mesh3d": [
           {
            "colorbar": {
             "outlinewidth": 0,
             "ticks": ""
            },
            "type": "mesh3d"
           }
          ],
          "parcoords": [
           {
            "line": {
             "colorbar": {
              "outlinewidth": 0,
              "ticks": ""
             }
            },
            "type": "parcoords"
           }
          ],
          "pie": [
           {
            "automargin": true,
            "type": "pie"
           }
          ],
          "scatter": [
           {
            "fillpattern": {
             "fillmode": "overlay",
             "size": 10,
             "solidity": 0.2
            },
            "type": "scatter"
           }
          ],
          "scatter3d": [
           {
            "line": {
             "colorbar": {
              "outlinewidth": 0,
              "ticks": ""
             }
            },
            "marker": {
             "colorbar": {
              "outlinewidth": 0,
              "ticks": ""
             }
            },
            "type": "scatter3d"
           }
          ],
          "scattercarpet": [
           {
            "marker": {
             "colorbar": {
              "outlinewidth": 0,
              "ticks": ""
             }
            },
            "type": "scattercarpet"
           }
          ],
          "scattergeo": [
           {
            "marker": {
             "colorbar": {
              "outlinewidth": 0,
              "ticks": ""
             }
            },
            "type": "scattergeo"
           }
          ],
          "scattergl": [
           {
            "marker": {
             "colorbar": {
              "outlinewidth": 0,
              "ticks": ""
             }
            },
            "type": "scattergl"
           }
          ],
          "scattermapbox": [
           {
            "marker": {
             "colorbar": {
              "outlinewidth": 0,
              "ticks": ""
             }
            },
            "type": "scattermapbox"
           }
          ],
          "scatterpolar": [
           {
            "marker": {
             "colorbar": {
              "outlinewidth": 0,
              "ticks": ""
             }
            },
            "type": "scatterpolar"
           }
          ],
          "scatterpolargl": [
           {
            "marker": {
             "colorbar": {
              "outlinewidth": 0,
              "ticks": ""
             }
            },
            "type": "scatterpolargl"
           }
          ],
          "scatterternary": [
           {
            "marker": {
             "colorbar": {
              "outlinewidth": 0,
              "ticks": ""
             }
            },
            "type": "scatterternary"
           }
          ],
          "surface": [
           {
            "colorbar": {
             "outlinewidth": 0,
             "ticks": ""
            },
            "colorscale": [
             [
              0,
              "#0d0887"
             ],
             [
              0.1111111111111111,
              "#46039f"
             ],
             [
              0.2222222222222222,
              "#7201a8"
             ],
             [
              0.3333333333333333,
              "#9c179e"
             ],
             [
              0.4444444444444444,
              "#bd3786"
             ],
             [
              0.5555555555555556,
              "#d8576b"
             ],
             [
              0.6666666666666666,
              "#ed7953"
             ],
             [
              0.7777777777777778,
              "#fb9f3a"
             ],
             [
              0.8888888888888888,
              "#fdca26"
             ],
             [
              1,
              "#f0f921"
             ]
            ],
            "type": "surface"
           }
          ],
          "table": [
           {
            "cells": {
             "fill": {
              "color": "#EBF0F8"
             },
             "line": {
              "color": "white"
             }
            },
            "header": {
             "fill": {
              "color": "#C8D4E3"
             },
             "line": {
              "color": "white"
             }
            },
            "type": "table"
           }
          ]
         },
         "layout": {
          "annotationdefaults": {
           "arrowcolor": "#2a3f5f",
           "arrowhead": 0,
           "arrowwidth": 1
          },
          "autotypenumbers": "strict",
          "coloraxis": {
           "colorbar": {
            "outlinewidth": 0,
            "ticks": ""
           }
          },
          "colorscale": {
           "diverging": [
            [
             0,
             "#8e0152"
            ],
            [
             0.1,
             "#c51b7d"
            ],
            [
             0.2,
             "#de77ae"
            ],
            [
             0.3,
             "#f1b6da"
            ],
            [
             0.4,
             "#fde0ef"
            ],
            [
             0.5,
             "#f7f7f7"
            ],
            [
             0.6,
             "#e6f5d0"
            ],
            [
             0.7,
             "#b8e186"
            ],
            [
             0.8,
             "#7fbc41"
            ],
            [
             0.9,
             "#4d9221"
            ],
            [
             1,
             "#276419"
            ]
           ],
           "sequential": [
            [
             0,
             "#0d0887"
            ],
            [
             0.1111111111111111,
             "#46039f"
            ],
            [
             0.2222222222222222,
             "#7201a8"
            ],
            [
             0.3333333333333333,
             "#9c179e"
            ],
            [
             0.4444444444444444,
             "#bd3786"
            ],
            [
             0.5555555555555556,
             "#d8576b"
            ],
            [
             0.6666666666666666,
             "#ed7953"
            ],
            [
             0.7777777777777778,
             "#fb9f3a"
            ],
            [
             0.8888888888888888,
             "#fdca26"
            ],
            [
             1,
             "#f0f921"
            ]
           ],
           "sequentialminus": [
            [
             0,
             "#0d0887"
            ],
            [
             0.1111111111111111,
             "#46039f"
            ],
            [
             0.2222222222222222,
             "#7201a8"
            ],
            [
             0.3333333333333333,
             "#9c179e"
            ],
            [
             0.4444444444444444,
             "#bd3786"
            ],
            [
             0.5555555555555556,
             "#d8576b"
            ],
            [
             0.6666666666666666,
             "#ed7953"
            ],
            [
             0.7777777777777778,
             "#fb9f3a"
            ],
            [
             0.8888888888888888,
             "#fdca26"
            ],
            [
             1,
             "#f0f921"
            ]
           ]
          },
          "colorway": [
           "#636efa",
           "#EF553B",
           "#00cc96",
           "#ab63fa",
           "#FFA15A",
           "#19d3f3",
           "#FF6692",
           "#B6E880",
           "#FF97FF",
           "#FECB52"
          ],
          "font": {
           "color": "#2a3f5f"
          },
          "geo": {
           "bgcolor": "white",
           "lakecolor": "white",
           "landcolor": "#E5ECF6",
           "showlakes": true,
           "showland": true,
           "subunitcolor": "white"
          },
          "hoverlabel": {
           "align": "left"
          },
          "hovermode": "closest",
          "mapbox": {
           "style": "light"
          },
          "paper_bgcolor": "white",
          "plot_bgcolor": "#E5ECF6",
          "polar": {
           "angularaxis": {
            "gridcolor": "white",
            "linecolor": "white",
            "ticks": ""
           },
           "bgcolor": "#E5ECF6",
           "radialaxis": {
            "gridcolor": "white",
            "linecolor": "white",
            "ticks": ""
           }
          },
          "scene": {
           "xaxis": {
            "backgroundcolor": "#E5ECF6",
            "gridcolor": "white",
            "gridwidth": 2,
            "linecolor": "white",
            "showbackground": true,
            "ticks": "",
            "zerolinecolor": "white"
           },
           "yaxis": {
            "backgroundcolor": "#E5ECF6",
            "gridcolor": "white",
            "gridwidth": 2,
            "linecolor": "white",
            "showbackground": true,
            "ticks": "",
            "zerolinecolor": "white"
           },
           "zaxis": {
            "backgroundcolor": "#E5ECF6",
            "gridcolor": "white",
            "gridwidth": 2,
            "linecolor": "white",
            "showbackground": true,
            "ticks": "",
            "zerolinecolor": "white"
           }
          },
          "shapedefaults": {
           "line": {
            "color": "#2a3f5f"
           }
          },
          "ternary": {
           "aaxis": {
            "gridcolor": "white",
            "linecolor": "white",
            "ticks": ""
           },
           "baxis": {
            "gridcolor": "white",
            "linecolor": "white",
            "ticks": ""
           },
           "bgcolor": "#E5ECF6",
           "caxis": {
            "gridcolor": "white",
            "linecolor": "white",
            "ticks": ""
           }
          },
          "title": {
           "x": 0.05
          },
          "xaxis": {
           "automargin": true,
           "gridcolor": "white",
           "linecolor": "white",
           "ticks": "",
           "title": {
            "standoff": 15
           },
           "zerolinecolor": "white",
           "zerolinewidth": 2
          },
          "yaxis": {
           "automargin": true,
           "gridcolor": "white",
           "linecolor": "white",
           "ticks": "",
           "title": {
            "standoff": 15
           },
           "zerolinecolor": "white",
           "zerolinewidth": 2
          }
         }
        },
        "title": {
         "text": "Scatter Plot and Histogram of Residuals"
        },
        "xaxis": {
         "anchor": "y",
         "domain": [
          0,
          0.45
         ],
         "title": {
          "text": "Amount of Fertilizer (kg)"
         }
        },
        "xaxis2": {
         "anchor": "y2",
         "domain": [
          0.55,
          1
         ],
         "title": {
          "text": "Residuals"
         }
        },
        "yaxis": {
         "anchor": "x",
         "domain": [
          0,
          1
         ],
         "title": {
          "text": "Crop Yield (tons)"
         }
        },
        "yaxis2": {
         "anchor": "x2",
         "domain": [
          0,
          1
         ],
         "title": {
          "text": "Frequency"
         }
        }
       }
      },
      "text/html": [
       "<div>                            <div id=\"c321d599-6dfe-4293-acda-4824a5bad411\" class=\"plotly-graph-div\" style=\"height:525px; width:100%;\"></div>            <script type=\"text/javascript\">                require([\"plotly\"], function(Plotly) {                    window.PLOTLYENV=window.PLOTLYENV || {};                                    if (document.getElementById(\"c321d599-6dfe-4293-acda-4824a5bad411\")) {                    Plotly.newPlot(                        \"c321d599-6dfe-4293-acda-4824a5bad411\",                        [{\"hovertemplate\":\"Amount of Fertilizer (kg) (x)=%{x}\\u003cbr\\u003eCrop Yield (tons) (Y)=%{y}\\u003cextra\\u003e\\u003c\\u002fextra\\u003e\",\"legendgroup\":\"\",\"marker\":{\"color\":\"#636efa\",\"symbol\":\"circle\"},\"mode\":\"markers\",\"name\":\"\",\"orientation\":\"v\",\"showlegend\":false,\"x\":[1.0,1.2,1.4,1.6,1.8,2.0,2.2,2.4,2.6,2.8,3.0,3.2,3.4,3.6,3.8,4.0,4.2,4.4,4.6,4.8,5.0,5.2,5.4,5.6,5.8,6.0,6.2,6.4,6.6,6.8,7.0,7.2,7.4,7.6,7.8,8.0,8.2,8.4,8.6,8.8,9.0,9.2,9.4,9.6],\"xaxis\":\"x\",\"y\":[18.7,16.9,16.1,13.4,48.4,51.9,31.8,51.3,63.9,50.6,58.7,82.4,66.7,81.2,96.5,112.2,132.5,119.8,127.7,136.3,148.5,169.4,177.9,186.7,198.1,215.7,230.7,250.4,258.0,267.8,320.4,302.0,307.2,331.5,375.3,403.4,393.5,434.9,431.9,451.1,491.2,546.8,546.4,558.9],\"yaxis\":\"y\",\"type\":\"scatter\"},{\"hovertemplate\":\"\\u003cb\\u003eOLS trendline\\u003c\\u002fb\\u003e\\u003cbr\\u003eCrop Yield (tons) (Y) = 62.3653 * Amount of Fertilizer (kg) (x) + -117.475\\u003cbr\\u003eR\\u003csup\\u003e2\\u003c\\u002fsup\\u003e=0.940931\\u003cbr\\u003e\\u003cbr\\u003eAmount of Fertilizer (kg) (x)=%{x}\\u003cbr\\u003eCrop Yield (tons) (Y)=%{y} \\u003cb\\u003e(trend)\\u003c\\u002fb\\u003e\\u003cextra\\u003e\\u003c\\u002fextra\\u003e\",\"legendgroup\":\"\",\"marker\":{\"color\":\"#636efa\",\"symbol\":\"circle\"},\"mode\":\"lines\",\"name\":\"\",\"showlegend\":false,\"x\":[1.0,1.2,1.4,1.6,1.8,2.0,2.2,2.4,2.6,2.8,3.0,3.2,3.4,3.6,3.8,4.0,4.2,4.4,4.6,4.8,5.0,5.2,5.4,5.6,5.8,6.0,6.2,6.4,6.6,6.8,7.0,7.2,7.4,7.6,7.8,8.0,8.2,8.4,8.6,8.8,9.0,9.2,9.4,9.6],\"xaxis\":\"x\",\"y\":[-55.109393939394074,-42.63633544749837,-30.16327695560267,-17.690218463706955,-5.217159971811242,7.2558985200844575,19.72895701198017,32.20201550387587,44.67507399577157,57.14813248766727,69.621190979563,82.0942494714587,94.5673079633544,107.04036645525012,119.5134249471458,131.98648343904154,144.45954193093723,156.93260042283293,169.40565891472858,181.87871740662433,194.35177589852003,206.82483439041573,219.2978928823115,231.77095137420713,244.24400986610283,256.7170683579986,269.1901268498943,281.66318534179,294.1362438336857,306.6093023255814,319.0823608174771,331.55541930937284,344.02847780126854,356.5015362931642,368.97459478505994,381.44765327695563,393.9207117688513,406.3937702607471,418.8668287526427,431.3398872445385,443.8129457364342,456.2860042283298,468.7590627202256,481.2321212121213],\"yaxis\":\"y\",\"type\":\"scatter\"},{\"alignmentgroup\":\"True\",\"bingroup\":\"x\",\"hovertemplate\":\"Residuals=%{x}\\u003cbr\\u003ecount=%{y}\\u003cextra\\u003e\\u003c\\u002fextra\\u003e\",\"legendgroup\":\"\",\"marker\":{\"color\":\"#636efa\",\"pattern\":{\"shape\":\"\"}},\"name\":\"\",\"nbinsx\":10,\"offsetgroup\":\"\",\"orientation\":\"v\",\"showlegend\":false,\"x\":[73.80939393939391,59.536335447498224,46.26327695560253,31.09021846370681,53.61715997181111,44.64410147991541,12.071042988019702,19.097984496124027,19.2249260042283,-6.548132487667367,-10.921190979563093,0.30575052854121054,-27.86730796335449,-25.84036645525019,-23.013424947145893,-19.78648343904159,-11.95954193093732,-37.13260042283302,-41.70565891472866,-45.57871740662435,-45.85177589852012,-37.42483439041581,-41.39789288231151,-45.07095137420717,-46.14400986610292,-41.01706835799865,-38.49012684989435,-31.263185341790034,-36.136243833685626,-38.80930232558143,1.3176391825228393,-29.555419309372837,-36.82847780126855,-25.001536293164236,6.325405214940076,21.952346723044343,-0.42071176885121986,28.506229739252944,13.033171247357359,19.76011275546159,47.38705426356586,90.51399577167024,77.64093727977445,77.66787878787886],\"xaxis\":\"x2\",\"yaxis\":\"y2\",\"type\":\"histogram\"}],                        {\"template\":{\"data\":{\"histogram2dcontour\":[{\"type\":\"histogram2dcontour\",\"colorbar\":{\"outlinewidth\":0,\"ticks\":\"\"},\"colorscale\":[[0.0,\"#0d0887\"],[0.1111111111111111,\"#46039f\"],[0.2222222222222222,\"#7201a8\"],[0.3333333333333333,\"#9c179e\"],[0.4444444444444444,\"#bd3786\"],[0.5555555555555556,\"#d8576b\"],[0.6666666666666666,\"#ed7953\"],[0.7777777777777778,\"#fb9f3a\"],[0.8888888888888888,\"#fdca26\"],[1.0,\"#f0f921\"]]}],\"choropleth\":[{\"type\":\"choropleth\",\"colorbar\":{\"outlinewidth\":0,\"ticks\":\"\"}}],\"histogram2d\":[{\"type\":\"histogram2d\",\"colorbar\":{\"outlinewidth\":0,\"ticks\":\"\"},\"colorscale\":[[0.0,\"#0d0887\"],[0.1111111111111111,\"#46039f\"],[0.2222222222222222,\"#7201a8\"],[0.3333333333333333,\"#9c179e\"],[0.4444444444444444,\"#bd3786\"],[0.5555555555555556,\"#d8576b\"],[0.6666666666666666,\"#ed7953\"],[0.7777777777777778,\"#fb9f3a\"],[0.8888888888888888,\"#fdca26\"],[1.0,\"#f0f921\"]]}],\"heatmap\":[{\"type\":\"heatmap\",\"colorbar\":{\"outlinewidth\":0,\"ticks\":\"\"},\"colorscale\":[[0.0,\"#0d0887\"],[0.1111111111111111,\"#46039f\"],[0.2222222222222222,\"#7201a8\"],[0.3333333333333333,\"#9c179e\"],[0.4444444444444444,\"#bd3786\"],[0.5555555555555556,\"#d8576b\"],[0.6666666666666666,\"#ed7953\"],[0.7777777777777778,\"#fb9f3a\"],[0.8888888888888888,\"#fdca26\"],[1.0,\"#f0f921\"]]}],\"heatmapgl\":[{\"type\":\"heatmapgl\",\"colorbar\":{\"outlinewidth\":0,\"ticks\":\"\"},\"colorscale\":[[0.0,\"#0d0887\"],[0.1111111111111111,\"#46039f\"],[0.2222222222222222,\"#7201a8\"],[0.3333333333333333,\"#9c179e\"],[0.4444444444444444,\"#bd3786\"],[0.5555555555555556,\"#d8576b\"],[0.6666666666666666,\"#ed7953\"],[0.7777777777777778,\"#fb9f3a\"],[0.8888888888888888,\"#fdca26\"],[1.0,\"#f0f921\"]]}],\"contourcarpet\":[{\"type\":\"contourcarpet\",\"colorbar\":{\"outlinewidth\":0,\"ticks\":\"\"}}],\"contour\":[{\"type\":\"contour\",\"colorbar\":{\"outlinewidth\":0,\"ticks\":\"\"},\"colorscale\":[[0.0,\"#0d0887\"],[0.1111111111111111,\"#46039f\"],[0.2222222222222222,\"#7201a8\"],[0.3333333333333333,\"#9c179e\"],[0.4444444444444444,\"#bd3786\"],[0.5555555555555556,\"#d8576b\"],[0.6666666666666666,\"#ed7953\"],[0.7777777777777778,\"#fb9f3a\"],[0.8888888888888888,\"#fdca26\"],[1.0,\"#f0f921\"]]}],\"surface\":[{\"type\":\"surface\",\"colorbar\":{\"outlinewidth\":0,\"ticks\":\"\"},\"colorscale\":[[0.0,\"#0d0887\"],[0.1111111111111111,\"#46039f\"],[0.2222222222222222,\"#7201a8\"],[0.3333333333333333,\"#9c179e\"],[0.4444444444444444,\"#bd3786\"],[0.5555555555555556,\"#d8576b\"],[0.6666666666666666,\"#ed7953\"],[0.7777777777777778,\"#fb9f3a\"],[0.8888888888888888,\"#fdca26\"],[1.0,\"#f0f921\"]]}],\"mesh3d\":[{\"type\":\"mesh3d\",\"colorbar\":{\"outlinewidth\":0,\"ticks\":\"\"}}],\"scatter\":[{\"fillpattern\":{\"fillmode\":\"overlay\",\"size\":10,\"solidity\":0.2},\"type\":\"scatter\"}],\"parcoords\":[{\"type\":\"parcoords\",\"line\":{\"colorbar\":{\"outlinewidth\":0,\"ticks\":\"\"}}}],\"scatterpolargl\":[{\"type\":\"scatterpolargl\",\"marker\":{\"colorbar\":{\"outlinewidth\":0,\"ticks\":\"\"}}}],\"bar\":[{\"error_x\":{\"color\":\"#2a3f5f\"},\"error_y\":{\"color\":\"#2a3f5f\"},\"marker\":{\"line\":{\"color\":\"#E5ECF6\",\"width\":0.5},\"pattern\":{\"fillmode\":\"overlay\",\"size\":10,\"solidity\":0.2}},\"type\":\"bar\"}],\"scattergeo\":[{\"type\":\"scattergeo\",\"marker\":{\"colorbar\":{\"outlinewidth\":0,\"ticks\":\"\"}}}],\"scatterpolar\":[{\"type\":\"scatterpolar\",\"marker\":{\"colorbar\":{\"outlinewidth\":0,\"ticks\":\"\"}}}],\"histogram\":[{\"marker\":{\"pattern\":{\"fillmode\":\"overlay\",\"size\":10,\"solidity\":0.2}},\"type\":\"histogram\"}],\"scattergl\":[{\"type\":\"scattergl\",\"marker\":{\"colorbar\":{\"outlinewidth\":0,\"ticks\":\"\"}}}],\"scatter3d\":[{\"type\":\"scatter3d\",\"line\":{\"colorbar\":{\"outlinewidth\":0,\"ticks\":\"\"}},\"marker\":{\"colorbar\":{\"outlinewidth\":0,\"ticks\":\"\"}}}],\"scattermapbox\":[{\"type\":\"scattermapbox\",\"marker\":{\"colorbar\":{\"outlinewidth\":0,\"ticks\":\"\"}}}],\"scatterternary\":[{\"type\":\"scatterternary\",\"marker\":{\"colorbar\":{\"outlinewidth\":0,\"ticks\":\"\"}}}],\"scattercarpet\":[{\"type\":\"scattercarpet\",\"marker\":{\"colorbar\":{\"outlinewidth\":0,\"ticks\":\"\"}}}],\"carpet\":[{\"aaxis\":{\"endlinecolor\":\"#2a3f5f\",\"gridcolor\":\"white\",\"linecolor\":\"white\",\"minorgridcolor\":\"white\",\"startlinecolor\":\"#2a3f5f\"},\"baxis\":{\"endlinecolor\":\"#2a3f5f\",\"gridcolor\":\"white\",\"linecolor\":\"white\",\"minorgridcolor\":\"white\",\"startlinecolor\":\"#2a3f5f\"},\"type\":\"carpet\"}],\"table\":[{\"cells\":{\"fill\":{\"color\":\"#EBF0F8\"},\"line\":{\"color\":\"white\"}},\"header\":{\"fill\":{\"color\":\"#C8D4E3\"},\"line\":{\"color\":\"white\"}},\"type\":\"table\"}],\"barpolar\":[{\"marker\":{\"line\":{\"color\":\"#E5ECF6\",\"width\":0.5},\"pattern\":{\"fillmode\":\"overlay\",\"size\":10,\"solidity\":0.2}},\"type\":\"barpolar\"}],\"pie\":[{\"automargin\":true,\"type\":\"pie\"}]},\"layout\":{\"autotypenumbers\":\"strict\",\"colorway\":[\"#636efa\",\"#EF553B\",\"#00cc96\",\"#ab63fa\",\"#FFA15A\",\"#19d3f3\",\"#FF6692\",\"#B6E880\",\"#FF97FF\",\"#FECB52\"],\"font\":{\"color\":\"#2a3f5f\"},\"hovermode\":\"closest\",\"hoverlabel\":{\"align\":\"left\"},\"paper_bgcolor\":\"white\",\"plot_bgcolor\":\"#E5ECF6\",\"polar\":{\"bgcolor\":\"#E5ECF6\",\"angularaxis\":{\"gridcolor\":\"white\",\"linecolor\":\"white\",\"ticks\":\"\"},\"radialaxis\":{\"gridcolor\":\"white\",\"linecolor\":\"white\",\"ticks\":\"\"}},\"ternary\":{\"bgcolor\":\"#E5ECF6\",\"aaxis\":{\"gridcolor\":\"white\",\"linecolor\":\"white\",\"ticks\":\"\"},\"baxis\":{\"gridcolor\":\"white\",\"linecolor\":\"white\",\"ticks\":\"\"},\"caxis\":{\"gridcolor\":\"white\",\"linecolor\":\"white\",\"ticks\":\"\"}},\"coloraxis\":{\"colorbar\":{\"outlinewidth\":0,\"ticks\":\"\"}},\"colorscale\":{\"sequential\":[[0.0,\"#0d0887\"],[0.1111111111111111,\"#46039f\"],[0.2222222222222222,\"#7201a8\"],[0.3333333333333333,\"#9c179e\"],[0.4444444444444444,\"#bd3786\"],[0.5555555555555556,\"#d8576b\"],[0.6666666666666666,\"#ed7953\"],[0.7777777777777778,\"#fb9f3a\"],[0.8888888888888888,\"#fdca26\"],[1.0,\"#f0f921\"]],\"sequentialminus\":[[0.0,\"#0d0887\"],[0.1111111111111111,\"#46039f\"],[0.2222222222222222,\"#7201a8\"],[0.3333333333333333,\"#9c179e\"],[0.4444444444444444,\"#bd3786\"],[0.5555555555555556,\"#d8576b\"],[0.6666666666666666,\"#ed7953\"],[0.7777777777777778,\"#fb9f3a\"],[0.8888888888888888,\"#fdca26\"],[1.0,\"#f0f921\"]],\"diverging\":[[0,\"#8e0152\"],[0.1,\"#c51b7d\"],[0.2,\"#de77ae\"],[0.3,\"#f1b6da\"],[0.4,\"#fde0ef\"],[0.5,\"#f7f7f7\"],[0.6,\"#e6f5d0\"],[0.7,\"#b8e186\"],[0.8,\"#7fbc41\"],[0.9,\"#4d9221\"],[1,\"#276419\"]]},\"xaxis\":{\"gridcolor\":\"white\",\"linecolor\":\"white\",\"ticks\":\"\",\"title\":{\"standoff\":15},\"zerolinecolor\":\"white\",\"automargin\":true,\"zerolinewidth\":2},\"yaxis\":{\"gridcolor\":\"white\",\"linecolor\":\"white\",\"ticks\":\"\",\"title\":{\"standoff\":15},\"zerolinecolor\":\"white\",\"automargin\":true,\"zerolinewidth\":2},\"scene\":{\"xaxis\":{\"backgroundcolor\":\"#E5ECF6\",\"gridcolor\":\"white\",\"linecolor\":\"white\",\"showbackground\":true,\"ticks\":\"\",\"zerolinecolor\":\"white\",\"gridwidth\":2},\"yaxis\":{\"backgroundcolor\":\"#E5ECF6\",\"gridcolor\":\"white\",\"linecolor\":\"white\",\"showbackground\":true,\"ticks\":\"\",\"zerolinecolor\":\"white\",\"gridwidth\":2},\"zaxis\":{\"backgroundcolor\":\"#E5ECF6\",\"gridcolor\":\"white\",\"linecolor\":\"white\",\"showbackground\":true,\"ticks\":\"\",\"zerolinecolor\":\"white\",\"gridwidth\":2}},\"shapedefaults\":{\"line\":{\"color\":\"#2a3f5f\"}},\"annotationdefaults\":{\"arrowcolor\":\"#2a3f5f\",\"arrowhead\":0,\"arrowwidth\":1},\"geo\":{\"bgcolor\":\"white\",\"landcolor\":\"#E5ECF6\",\"subunitcolor\":\"white\",\"showland\":true,\"showlakes\":true,\"lakecolor\":\"white\"},\"title\":{\"x\":0.05},\"mapbox\":{\"style\":\"light\"}}},\"xaxis\":{\"anchor\":\"y\",\"domain\":[0.0,0.45],\"title\":{\"text\":\"Amount of Fertilizer (kg)\"}},\"yaxis\":{\"anchor\":\"x\",\"domain\":[0.0,1.0],\"title\":{\"text\":\"Crop Yield (tons)\"}},\"xaxis2\":{\"anchor\":\"y2\",\"domain\":[0.55,1.0],\"title\":{\"text\":\"Residuals\"}},\"yaxis2\":{\"anchor\":\"x2\",\"domain\":[0.0,1.0],\"title\":{\"text\":\"Frequency\"}},\"annotations\":[{\"font\":{\"size\":16},\"showarrow\":false,\"text\":\"Crop Yield vs. Amount of Fertilizer\",\"x\":0.225,\"xanchor\":\"center\",\"xref\":\"paper\",\"y\":1.0,\"yanchor\":\"bottom\",\"yref\":\"paper\"},{\"font\":{\"size\":16},\"showarrow\":false,\"text\":\"Histogram of Residuals\",\"x\":0.775,\"xanchor\":\"center\",\"xref\":\"paper\",\"y\":1.0,\"yanchor\":\"bottom\",\"yref\":\"paper\"}],\"title\":{\"text\":\"Scatter Plot and Histogram of Residuals\"},\"showlegend\":false},                        {\"responsive\": true}                    ).then(function(){\n",
       "                            \n",
       "var gd = document.getElementById('c321d599-6dfe-4293-acda-4824a5bad411');\n",
       "var x = new MutationObserver(function (mutations, observer) {{\n",
       "        var display = window.getComputedStyle(gd).display;\n",
       "        if (!display || display === 'none') {{\n",
       "            console.log([gd, 'removed!']);\n",
       "            Plotly.purge(gd);\n",
       "            observer.disconnect();\n",
       "        }}\n",
       "}});\n",
       "\n",
       "// Listen for the removal of the full notebook cells\n",
       "var notebookContainer = gd.closest('#notebook-container');\n",
       "if (notebookContainer) {{\n",
       "    x.observe(notebookContainer, {childList: true});\n",
       "}}\n",
       "\n",
       "// Listen for the clearing of the current output cell\n",
       "var outputEl = gd.closest('.output');\n",
       "if (outputEl) {{\n",
       "    x.observe(outputEl, {childList: true});\n",
       "}}\n",
       "\n",
       "                        })                };                });            </script>        </div>"
      ]
     },
     "metadata": {},
     "output_type": "display_data"
    }
   ],
   "source": [
    "import pandas as pd\n",
    "from scipy import stats\n",
    "import plotly.express as px\n",
    "from plotly.subplots import make_subplots\n",
    "\n",
    "# This data shows the relationship between the amount of fertilizer used and crop yield\n",
    "data = {'Amount of Fertilizer (kg) (x)': [1, 1.2, 1.4, 1.6, 1.8, 2, 2.2, 2.4, 2.6, \n",
    "                                          2.8, 3, 3.2, 3.4, 3.6, 3.8, 4, 4.2, 4.4, \n",
    "                                          4.6, 4.8, 5, 5.2, 5.4, 5.6, 5.8, 6, 6.2, \n",
    "                                          6.4, 6.6, 6.8, 7, 7.2, 7.4, 7.6, 7.8, 8, \n",
    "                                          8.2, 8.4, 8.6, 8.8,9, 9.2, 9.4, 9.6],\n",
    "        'Crop Yield (tons) (Y)': [18.7, 16.9, 16.1, 13.4, 48.4, 51.9, 31.8, 51.3, \n",
    "                                  63.9, 50.6, 58.7, 82.4, 66.7, 81.2, 96.5, 112.2, \n",
    "                                  132.5, 119.8, 127.7, 136.3, 148.5, 169.4, 177.9, \n",
    "                                  186.7, 198.1, 215.7, 230.7, 250.4, 258. , 267.8, \n",
    "                                  320.4, 302. , 307.2, 331.5, 375.3, 403.4, 393.5,\n",
    "                                  434.9, 431.9, 451.1, 491.2, 546.8, 546.4, 558.9]}\n",
    "df = pd.DataFrame(data)\n",
    "fig1 = px.scatter(df, x='Amount of Fertilizer (kg) (x)', y='Crop Yield (tons) (Y)',\n",
    "                  trendline='ols', title='Crop Yield vs. Amount of Fertilizer')\n",
    "\n",
    "# Perform linear regression using scipy.stats\n",
    "slope, intercept, r_value, p_value, std_err = \\\n",
    "    stats.linregress(df['Amount of Fertilizer (kg) (x)'], df['Crop Yield (tons) (Y)'])\n",
    "# Predict the values and calculate residuals\n",
    "y_hat = intercept + slope * df['Amount of Fertilizer (kg) (x)']\n",
    "residuals = df['Crop Yield (tons) (Y)'] - y_hat\n",
    "df['Residuals'] = residuals\n",
    "fig2 = px.histogram(df, x='Residuals', nbins=10, title='Histogram of Residuals',\n",
    "                    labels={'Residuals': 'Residuals'})\n",
    "\n",
    "fig = make_subplots(rows=1, cols=2,\n",
    "                    subplot_titles=('Crop Yield vs. Amount of Fertilizer', \n",
    "                                    'Histogram of Residuals'))\n",
    "for trace in fig1.data:\n",
    "    fig.add_trace(trace, row=1, col=1)\n",
    "for trace in fig2.data:\n",
    "    fig.add_trace(trace, row=1, col=2)\n",
    "fig.update_layout(title='Scatter Plot and Histogram of Residuals',\n",
    "    xaxis_title='Amount of Fertilizer (kg)', yaxis_title='Crop Yield (tons)',\n",
    "    xaxis2_title='Residuals', yaxis2_title='Frequency', showlegend=False)\n",
    "\n",
    "fig.show() # USE `fig.show(renderer=\"png\")` FOR ALL GitHub and MarkUs SUBMISSIONS"
   ]
  },
  {
   "cell_type": "markdown",
   "id": "ab37376d",
   "metadata": {},
   "source": [
    "Linearity: Simple Linear Regression assumes a linear relationship between the independent variable (Amount of Fertilizer) and the dependent variable (Crop Yield). However, the scatter plot might show a non-linear trend. If crop yield increases at a varying rate (e.g., accelerating at higher levels of fertilizer), a linear model may not capture this pattern effectively, indicating that a polynomial or another non-linear model might be more appropriate.\n",
    "\n",
    "Homoscedasticity (Constant Variance of Residuals): Simple Linear Regression assumes that the variance of the residuals (errors) is constant across all levels of the independent variable. If the residuals' spread (variance) changes with increasing fertilizer amount (e.g., wider spread at higher values of x), this would violate the homoscedasticity assumption. This pattern can sometimes be seen in the residual histogram or by plotting residuals against fitted values (which could further clarify if there’s non-constant variance)."
   ]
  },
  {
   "cell_type": "markdown",
   "id": "d0e598ca",
   "metadata": {},
   "source": [
    "chat(question1-6): https://chatgpt.com/share/672d6a4c-1518-800b-a388-beed3e56ac27\n",
    "chat(question6-7):https://chatgpt.com/share/672d72c4-b830-800b-a8cd-48c8391df747"
   ]
  },
  {
   "cell_type": "markdown",
   "id": "a977ba64",
   "metadata": {},
   "source": [
    "## \"Week of Nov04\" HW [due prior to the Nov08 TUT]\n",
    "\n",
    "_**In place of the \"Data Analysis Assignment\" format we introduced for the previous weeks' HW, the remaining questions will be a collection of exercises based around the following data**_\n",
    "\n",
    "> The details of the \"LOWESS Trendline\" shown below are not a part of the intended scope of the activities here, but it is included since it is suggestive of the questions we will consider and address here\n"
   ]
  },
  {
   "cell_type": "code",
   "execution_count": 7,
   "id": "a29449cd",
   "metadata": {},
   "outputs": [
    {
     "data": {
      "application/vnd.plotly.v1+json": {
       "config": {
        "plotlyServerURL": "https://plot.ly"
       },
       "data": [
        {
         "hovertemplate": "waiting=%{x}<br>duration=%{y}<extra></extra>",
         "legendgroup": "",
         "marker": {
          "color": "#636efa",
          "symbol": "circle"
         },
         "mode": "markers",
         "name": "",
         "orientation": "v",
         "showlegend": false,
         "type": "scatter",
         "x": [
          79,
          54,
          74,
          62,
          85,
          55,
          88,
          85,
          51,
          85,
          54,
          84,
          78,
          47,
          83,
          52,
          62,
          84,
          52,
          79,
          51,
          47,
          78,
          69,
          74,
          83,
          55,
          76,
          78,
          79,
          73,
          77,
          66,
          80,
          74,
          52,
          48,
          80,
          59,
          90,
          80,
          58,
          84,
          58,
          73,
          83,
          64,
          53,
          82,
          59,
          75,
          90,
          54,
          80,
          54,
          83,
          71,
          64,
          77,
          81,
          59,
          84,
          48,
          82,
          60,
          92,
          78,
          78,
          65,
          73,
          82,
          56,
          79,
          71,
          62,
          76,
          60,
          78,
          76,
          83,
          75,
          82,
          70,
          65,
          73,
          88,
          76,
          80,
          48,
          86,
          60,
          90,
          50,
          78,
          63,
          72,
          84,
          75,
          51,
          82,
          62,
          88,
          49,
          83,
          81,
          47,
          84,
          52,
          86,
          81,
          75,
          59,
          89,
          79,
          59,
          81,
          50,
          85,
          59,
          87,
          53,
          69,
          77,
          56,
          88,
          81,
          45,
          82,
          55,
          90,
          45,
          83,
          56,
          89,
          46,
          82,
          51,
          86,
          53,
          79,
          81,
          60,
          82,
          77,
          76,
          59,
          80,
          49,
          96,
          53,
          77,
          77,
          65,
          81,
          71,
          70,
          81,
          93,
          53,
          89,
          45,
          86,
          58,
          78,
          66,
          76,
          63,
          88,
          52,
          93,
          49,
          57,
          77,
          68,
          81,
          81,
          73,
          50,
          85,
          74,
          55,
          77,
          83,
          83,
          51,
          78,
          84,
          46,
          83,
          55,
          81,
          57,
          76,
          84,
          77,
          81,
          87,
          77,
          51,
          78,
          60,
          82,
          91,
          53,
          78,
          46,
          77,
          84,
          49,
          83,
          71,
          80,
          49,
          75,
          64,
          76,
          53,
          94,
          55,
          76,
          50,
          82,
          54,
          75,
          78,
          79,
          78,
          78,
          70,
          79,
          70,
          54,
          86,
          50,
          90,
          54,
          54,
          77,
          79,
          64,
          75,
          47,
          86,
          63,
          85,
          82,
          57,
          82,
          67,
          74,
          54,
          83,
          73,
          73,
          88,
          80,
          71,
          83,
          56,
          79,
          78,
          84,
          58,
          83,
          43,
          60,
          75,
          81,
          46,
          90,
          46,
          74
         ],
         "xaxis": "x",
         "y": [
          3.6,
          1.8,
          3.333,
          2.283,
          4.533,
          2.883,
          4.7,
          3.6,
          1.95,
          4.35,
          1.833,
          3.917,
          4.2,
          1.75,
          4.7,
          2.167,
          1.75,
          4.8,
          1.6,
          4.25,
          1.8,
          1.75,
          3.45,
          3.067,
          4.533,
          3.6,
          1.967,
          4.083,
          3.85,
          4.433,
          4.3,
          4.467,
          3.367,
          4.033,
          3.833,
          2.017,
          1.867,
          4.833,
          1.833,
          4.783,
          4.35,
          1.883,
          4.567,
          1.75,
          4.533,
          3.317,
          3.833,
          2.1,
          4.633,
          2,
          4.8,
          4.716,
          1.833,
          4.833,
          1.733,
          4.883,
          3.717,
          1.6669999999999998,
          4.567,
          4.317,
          2.233,
          4.5,
          1.75,
          4.8,
          1.817,
          4.4,
          4.167,
          4.7,
          2.067,
          4.7,
          4.033,
          1.967,
          4.5,
          4,
          1.983,
          5.067,
          2.017,
          4.567,
          3.883,
          3.6,
          4.133,
          4.333,
          4.1,
          2.633,
          4.067,
          4.933,
          3.95,
          4.517,
          2.167,
          4,
          2.2,
          4.333,
          1.867,
          4.817,
          1.833,
          4.3,
          4.667,
          3.75,
          1.867,
          4.9,
          2.483,
          4.367,
          2.1,
          4.5,
          4.05,
          1.867,
          4.7,
          1.783,
          4.85,
          3.683,
          4.7330000000000005,
          2.3,
          4.9,
          4.417,
          1.7,
          4.633,
          2.317,
          4.6,
          1.817,
          4.417,
          2.617,
          4.067,
          4.25,
          1.967,
          4.6,
          3.767,
          1.917,
          4.5,
          2.267,
          4.65,
          1.867,
          4.167,
          2.8,
          4.333,
          1.833,
          4.383,
          1.883,
          4.933,
          2.033,
          3.733,
          4.2330000000000005,
          2.233,
          4.533,
          4.817,
          4.333,
          1.983,
          4.633,
          2.017,
          5.1,
          1.8,
          5.033,
          4,
          2.4,
          4.6,
          3.567,
          4,
          4.5,
          4.083,
          1.8,
          3.967,
          2.2,
          4.15,
          2,
          3.833,
          3.5,
          4.583,
          2.367,
          5,
          1.933,
          4.617,
          1.917,
          2.083,
          4.583,
          3.333,
          4.167,
          4.333,
          4.5,
          2.417,
          4,
          4.167,
          1.883,
          4.583,
          4.25,
          3.767,
          2.033,
          4.433,
          4.083,
          1.833,
          4.417,
          2.1830000000000003,
          4.8,
          1.833,
          4.8,
          4.1,
          3.966,
          4.2330000000000005,
          3.5,
          4.3660000000000005,
          2.25,
          4.667,
          2.1,
          4.35,
          4.133,
          1.867,
          4.6,
          1.783,
          4.367,
          3.85,
          1.933,
          4.5,
          2.383,
          4.7,
          1.867,
          3.833,
          3.417,
          4.2330000000000005,
          2.4,
          4.8,
          2,
          4.15,
          1.867,
          4.267,
          1.75,
          4.4830000000000005,
          4,
          4.117,
          4.083,
          4.267,
          3.917,
          4.55,
          4.083,
          2.417,
          4.183,
          2.217,
          4.45,
          1.883,
          1.85,
          4.283,
          3.95,
          2.333,
          4.15,
          2.35,
          4.933,
          2.9,
          4.583,
          3.833,
          2.083,
          4.367,
          2.133,
          4.35,
          2.2,
          4.45,
          3.567,
          4.5,
          4.15,
          3.817,
          3.917,
          4.45,
          2,
          4.283,
          4.767,
          4.533,
          1.85,
          4.25,
          1.983,
          2.25,
          4.75,
          4.117,
          2.15,
          4.417,
          1.817,
          4.467
         ],
         "yaxis": "y"
        },
        {
         "hovertemplate": "<b>OLS trendline</b><br>duration = 0.0756279 * waiting + -1.87402<br>R<sup>2</sup>=0.811461<br><br>waiting=%{x}<br>duration=%{y} <b>(trend)</b><extra></extra>",
         "legendgroup": "",
         "marker": {
          "color": "#636efa",
          "symbol": "circle"
         },
         "mode": "lines",
         "name": "",
         "showlegend": false,
         "type": "scatter",
         "x": [
          43,
          45,
          45,
          45,
          46,
          46,
          46,
          46,
          46,
          47,
          47,
          47,
          47,
          48,
          48,
          48,
          49,
          49,
          49,
          49,
          49,
          50,
          50,
          50,
          50,
          50,
          51,
          51,
          51,
          51,
          51,
          51,
          52,
          52,
          52,
          52,
          52,
          53,
          53,
          53,
          53,
          53,
          53,
          53,
          54,
          54,
          54,
          54,
          54,
          54,
          54,
          54,
          54,
          55,
          55,
          55,
          55,
          55,
          55,
          56,
          56,
          56,
          56,
          57,
          57,
          57,
          58,
          58,
          58,
          58,
          59,
          59,
          59,
          59,
          59,
          59,
          59,
          60,
          60,
          60,
          60,
          60,
          60,
          62,
          62,
          62,
          62,
          63,
          63,
          63,
          64,
          64,
          64,
          64,
          65,
          65,
          65,
          66,
          66,
          67,
          68,
          69,
          69,
          70,
          70,
          70,
          70,
          71,
          71,
          71,
          71,
          71,
          72,
          73,
          73,
          73,
          73,
          73,
          73,
          73,
          74,
          74,
          74,
          74,
          74,
          74,
          75,
          75,
          75,
          75,
          75,
          75,
          75,
          75,
          76,
          76,
          76,
          76,
          76,
          76,
          76,
          76,
          76,
          77,
          77,
          77,
          77,
          77,
          77,
          77,
          77,
          77,
          77,
          77,
          77,
          78,
          78,
          78,
          78,
          78,
          78,
          78,
          78,
          78,
          78,
          78,
          78,
          78,
          78,
          78,
          79,
          79,
          79,
          79,
          79,
          79,
          79,
          79,
          79,
          79,
          80,
          80,
          80,
          80,
          80,
          80,
          80,
          80,
          81,
          81,
          81,
          81,
          81,
          81,
          81,
          81,
          81,
          81,
          81,
          81,
          81,
          82,
          82,
          82,
          82,
          82,
          82,
          82,
          82,
          82,
          82,
          82,
          82,
          83,
          83,
          83,
          83,
          83,
          83,
          83,
          83,
          83,
          83,
          83,
          83,
          83,
          83,
          84,
          84,
          84,
          84,
          84,
          84,
          84,
          84,
          84,
          84,
          85,
          85,
          85,
          85,
          85,
          85,
          86,
          86,
          86,
          86,
          86,
          86,
          87,
          87,
          88,
          88,
          88,
          88,
          88,
          88,
          89,
          89,
          89,
          90,
          90,
          90,
          90,
          90,
          90,
          91,
          92,
          93,
          93,
          94,
          96
         ],
         "xaxis": "x",
         "y": [
          1.3779857755193614,
          1.5292416714230868,
          1.5292416714230868,
          1.5292416714230868,
          1.6048696193749494,
          1.6048696193749494,
          1.6048696193749494,
          1.6048696193749494,
          1.6048696193749494,
          1.680497567326812,
          1.680497567326812,
          1.680497567326812,
          1.680497567326812,
          1.7561255152786748,
          1.7561255152786748,
          1.7561255152786748,
          1.8317534632305374,
          1.8317534632305374,
          1.8317534632305374,
          1.8317534632305374,
          1.8317534632305374,
          1.9073814111824001,
          1.9073814111824001,
          1.9073814111824001,
          1.9073814111824001,
          1.9073814111824001,
          1.9830093591342628,
          1.9830093591342628,
          1.9830093591342628,
          1.9830093591342628,
          1.9830093591342628,
          1.9830093591342628,
          2.0586373070861255,
          2.0586373070861255,
          2.0586373070861255,
          2.0586373070861255,
          2.0586373070861255,
          2.1342652550379886,
          2.1342652550379886,
          2.1342652550379886,
          2.1342652550379886,
          2.1342652550379886,
          2.1342652550379886,
          2.1342652550379886,
          2.2098932029898513,
          2.2098932029898513,
          2.2098932029898513,
          2.2098932029898513,
          2.2098932029898513,
          2.2098932029898513,
          2.2098932029898513,
          2.2098932029898513,
          2.2098932029898513,
          2.285521150941714,
          2.285521150941714,
          2.285521150941714,
          2.285521150941714,
          2.285521150941714,
          2.285521150941714,
          2.3611490988935766,
          2.3611490988935766,
          2.3611490988935766,
          2.3611490988935766,
          2.4367770468454393,
          2.4367770468454393,
          2.4367770468454393,
          2.512404994797302,
          2.512404994797302,
          2.512404994797302,
          2.512404994797302,
          2.5880329427491646,
          2.5880329427491646,
          2.5880329427491646,
          2.5880329427491646,
          2.5880329427491646,
          2.5880329427491646,
          2.5880329427491646,
          2.6636608907010273,
          2.6636608907010273,
          2.6636608907010273,
          2.6636608907010273,
          2.6636608907010273,
          2.6636608907010273,
          2.8149167866047526,
          2.8149167866047526,
          2.8149167866047526,
          2.8149167866047526,
          2.8905447345566153,
          2.8905447345566153,
          2.8905447345566153,
          2.966172682508478,
          2.966172682508478,
          2.966172682508478,
          2.966172682508478,
          3.0418006304603407,
          3.0418006304603407,
          3.0418006304603407,
          3.1174285784122033,
          3.1174285784122033,
          3.193056526364066,
          3.2686844743159287,
          3.3443124222677914,
          3.3443124222677914,
          3.419940370219654,
          3.419940370219654,
          3.419940370219654,
          3.419940370219654,
          3.4955683181715167,
          3.4955683181715167,
          3.4955683181715167,
          3.4955683181715167,
          3.4955683181715167,
          3.5711962661233794,
          3.646824214075242,
          3.646824214075242,
          3.646824214075242,
          3.646824214075242,
          3.646824214075242,
          3.646824214075242,
          3.646824214075242,
          3.7224521620271047,
          3.7224521620271047,
          3.7224521620271047,
          3.7224521620271047,
          3.7224521620271047,
          3.7224521620271047,
          3.7980801099789674,
          3.7980801099789674,
          3.7980801099789674,
          3.7980801099789674,
          3.7980801099789674,
          3.7980801099789674,
          3.7980801099789674,
          3.7980801099789674,
          3.87370805793083,
          3.87370805793083,
          3.87370805793083,
          3.87370805793083,
          3.87370805793083,
          3.87370805793083,
          3.87370805793083,
          3.87370805793083,
          3.87370805793083,
          3.9493360058826927,
          3.9493360058826927,
          3.9493360058826927,
          3.9493360058826927,
          3.9493360058826927,
          3.9493360058826927,
          3.9493360058826927,
          3.9493360058826927,
          3.9493360058826927,
          3.9493360058826927,
          3.9493360058826927,
          3.9493360058826927,
          4.024963953834556,
          4.024963953834556,
          4.024963953834556,
          4.024963953834556,
          4.024963953834556,
          4.024963953834556,
          4.024963953834556,
          4.024963953834556,
          4.024963953834556,
          4.024963953834556,
          4.024963953834556,
          4.024963953834556,
          4.024963953834556,
          4.024963953834556,
          4.024963953834556,
          4.100591901786418,
          4.100591901786418,
          4.100591901786418,
          4.100591901786418,
          4.100591901786418,
          4.100591901786418,
          4.100591901786418,
          4.100591901786418,
          4.100591901786418,
          4.100591901786418,
          4.176219849738281,
          4.176219849738281,
          4.176219849738281,
          4.176219849738281,
          4.176219849738281,
          4.176219849738281,
          4.176219849738281,
          4.176219849738281,
          4.251847797690145,
          4.251847797690145,
          4.251847797690145,
          4.251847797690145,
          4.251847797690145,
          4.251847797690145,
          4.251847797690145,
          4.251847797690145,
          4.251847797690145,
          4.251847797690145,
          4.251847797690145,
          4.251847797690145,
          4.251847797690145,
          4.3274757456420065,
          4.3274757456420065,
          4.3274757456420065,
          4.3274757456420065,
          4.3274757456420065,
          4.3274757456420065,
          4.3274757456420065,
          4.3274757456420065,
          4.3274757456420065,
          4.3274757456420065,
          4.3274757456420065,
          4.3274757456420065,
          4.40310369359387,
          4.40310369359387,
          4.40310369359387,
          4.40310369359387,
          4.40310369359387,
          4.40310369359387,
          4.40310369359387,
          4.40310369359387,
          4.40310369359387,
          4.40310369359387,
          4.40310369359387,
          4.40310369359387,
          4.40310369359387,
          4.40310369359387,
          4.478731641545732,
          4.478731641545732,
          4.478731641545732,
          4.478731641545732,
          4.478731641545732,
          4.478731641545732,
          4.478731641545732,
          4.478731641545732,
          4.478731641545732,
          4.478731641545732,
          4.5543595894975955,
          4.5543595894975955,
          4.5543595894975955,
          4.5543595894975955,
          4.5543595894975955,
          4.5543595894975955,
          4.629987537449457,
          4.629987537449457,
          4.629987537449457,
          4.629987537449457,
          4.629987537449457,
          4.629987537449457,
          4.705615485401321,
          4.705615485401321,
          4.781243433353183,
          4.781243433353183,
          4.781243433353183,
          4.781243433353183,
          4.781243433353183,
          4.781243433353183,
          4.856871381305046,
          4.856871381305046,
          4.856871381305046,
          4.932499329256908,
          4.932499329256908,
          4.932499329256908,
          4.932499329256908,
          4.932499329256908,
          4.932499329256908,
          5.0081272772087715,
          5.083755225160633,
          5.159383173112497,
          5.159383173112497,
          5.235011121064359,
          5.386267016968084
         ],
         "yaxis": "y"
        },
        {
         "mode": "lines",
         "name": "LOWESS Trendline",
         "type": "scatter",
         "x": [
          43,
          45,
          45,
          45,
          46,
          46,
          46,
          46,
          46,
          47,
          47,
          47,
          47,
          48,
          48,
          48,
          49,
          49,
          49,
          49,
          49,
          50,
          50,
          50,
          50,
          50,
          51,
          51,
          51,
          51,
          51,
          51,
          52,
          52,
          52,
          52,
          52,
          53,
          53,
          53,
          53,
          53,
          53,
          53,
          54,
          54,
          54,
          54,
          54,
          54,
          54,
          54,
          54,
          55,
          55,
          55,
          55,
          55,
          55,
          56,
          56,
          56,
          56,
          57,
          57,
          57,
          58,
          58,
          58,
          58,
          59,
          59,
          59,
          59,
          59,
          59,
          59,
          60,
          60,
          60,
          60,
          60,
          60,
          62,
          62,
          62,
          62,
          63,
          63,
          63,
          64,
          64,
          64,
          64,
          65,
          65,
          65,
          66,
          66,
          67,
          68,
          69,
          69,
          70,
          70,
          70,
          70,
          71,
          71,
          71,
          71,
          71,
          72,
          73,
          73,
          73,
          73,
          73,
          73,
          73,
          74,
          74,
          74,
          74,
          74,
          74,
          75,
          75,
          75,
          75,
          75,
          75,
          75,
          75,
          76,
          76,
          76,
          76,
          76,
          76,
          76,
          76,
          76,
          77,
          77,
          77,
          77,
          77,
          77,
          77,
          77,
          77,
          77,
          77,
          77,
          78,
          78,
          78,
          78,
          78,
          78,
          78,
          78,
          78,
          78,
          78,
          78,
          78,
          78,
          78,
          79,
          79,
          79,
          79,
          79,
          79,
          79,
          79,
          79,
          79,
          80,
          80,
          80,
          80,
          80,
          80,
          80,
          80,
          81,
          81,
          81,
          81,
          81,
          81,
          81,
          81,
          81,
          81,
          81,
          81,
          81,
          82,
          82,
          82,
          82,
          82,
          82,
          82,
          82,
          82,
          82,
          82,
          82,
          83,
          83,
          83,
          83,
          83,
          83,
          83,
          83,
          83,
          83,
          83,
          83,
          83,
          83,
          84,
          84,
          84,
          84,
          84,
          84,
          84,
          84,
          84,
          84,
          85,
          85,
          85,
          85,
          85,
          85,
          86,
          86,
          86,
          86,
          86,
          86,
          87,
          87,
          88,
          88,
          88,
          88,
          88,
          88,
          89,
          89,
          89,
          90,
          90,
          90,
          90,
          90,
          90,
          91,
          92,
          93,
          93,
          94,
          96
         ],
         "y": [
          1.9186521424072547,
          1.9344096504954134,
          1.9344096504954134,
          1.9344096504954134,
          1.9421058219420753,
          1.9421058219420753,
          1.9421058219420753,
          1.9421058219420753,
          1.9421058219420753,
          1.9492820922680067,
          1.9492820922680067,
          1.9492820922680067,
          1.9492820922680067,
          1.9558607302691684,
          1.9558607302691684,
          1.9558607302691684,
          1.962181369241891,
          1.962181369241891,
          1.962181369241891,
          1.962181369241891,
          1.962181369241891,
          1.969408997981721,
          1.969408997981721,
          1.969408997981721,
          1.969408997981721,
          1.969408997981721,
          1.979785009796234,
          1.979785009796234,
          1.979785009796234,
          1.979785009796234,
          1.979785009796234,
          1.979785009796234,
          1.989714320835026,
          1.989714320835026,
          1.989714320835026,
          1.989714320835026,
          1.989714320835026,
          1.9952876010759677,
          1.9952876010759677,
          1.9952876010759677,
          1.9952876010759677,
          1.9952876010759677,
          1.9952876010759677,
          1.9952876010759677,
          1.9936488499343459,
          1.9936488499343459,
          1.9936488499343459,
          1.9936488499343459,
          1.9936488499343459,
          1.9936488499343459,
          1.9936488499343459,
          1.9936488499343459,
          1.9936488499343459,
          1.99393402379364,
          1.99393402379364,
          1.99393402379364,
          1.99393402379364,
          1.99393402379364,
          1.99393402379364,
          1.9998045945748515,
          1.9998045945748515,
          1.9998045945748515,
          1.9998045945748515,
          2.0139370252003546,
          2.0139370252003546,
          2.0139370252003546,
          2.038699058321957,
          2.038699058321957,
          2.038699058321957,
          2.038699058321957,
          2.0955741372199967,
          2.0955741372199967,
          2.0955741372199967,
          2.0955741372199967,
          2.0955741372199967,
          2.0955741372199967,
          2.0955741372199967,
          2.157900404002252,
          2.157900404002252,
          2.157900404002252,
          2.157900404002252,
          2.157900404002252,
          2.157900404002252,
          2.383589177706359,
          2.383589177706359,
          2.383589177706359,
          2.383589177706359,
          2.544376577318829,
          2.544376577318829,
          2.544376577318829,
          2.739478107460566,
          2.739478107460566,
          2.739478107460566,
          2.739478107460566,
          2.9029176379088457,
          2.9029176379088457,
          2.9029176379088457,
          3.053658252690223,
          3.053658252690223,
          3.214763931658723,
          3.380303575331191,
          3.5786855265101667,
          3.5786855265101667,
          3.7849136115718265,
          3.7849136115718265,
          3.7849136115718265,
          3.7849136115718265,
          3.9459220045987813,
          3.9459220045987813,
          3.9459220045987813,
          3.9459220045987813,
          3.9459220045987813,
          4.074872475833141,
          4.179011278635363,
          4.179011278635363,
          4.179011278635363,
          4.179011278635363,
          4.179011278635363,
          4.179011278635363,
          4.179011278635363,
          4.253073995783976,
          4.253073995783976,
          4.253073995783976,
          4.253073995783976,
          4.253073995783976,
          4.253073995783976,
          4.318817611180992,
          4.318817611180992,
          4.318817611180992,
          4.318817611180992,
          4.318817611180992,
          4.318817611180992,
          4.318817611180992,
          4.318817611180992,
          4.331656770327086,
          4.331656770327086,
          4.331656770327086,
          4.331656770327086,
          4.331656770327086,
          4.331656770327086,
          4.331656770327086,
          4.331656770327086,
          4.331656770327086,
          4.346858683186571,
          4.346858683186571,
          4.346858683186571,
          4.346858683186571,
          4.346858683186571,
          4.346858683186571,
          4.346858683186571,
          4.346858683186571,
          4.346858683186571,
          4.346858683186571,
          4.346858683186571,
          4.346858683186571,
          4.341189350470698,
          4.341189350470698,
          4.341189350470698,
          4.341189350470698,
          4.341189350470698,
          4.341189350470698,
          4.341189350470698,
          4.341189350470698,
          4.341189350470698,
          4.341189350470698,
          4.341189350470698,
          4.341189350470698,
          4.341189350470698,
          4.341189350470698,
          4.341189350470698,
          4.336785127256803,
          4.336785127256803,
          4.336785127256803,
          4.336785127256803,
          4.336785127256803,
          4.336785127256803,
          4.336785127256803,
          4.336785127256803,
          4.336785127256803,
          4.336785127256803,
          4.332304008228884,
          4.332304008228884,
          4.332304008228884,
          4.332304008228884,
          4.332304008228884,
          4.332304008228884,
          4.332304008228884,
          4.332304008228884,
          4.351533317269229,
          4.351533317269229,
          4.351533317269229,
          4.351533317269229,
          4.351533317269229,
          4.351533317269229,
          4.351533317269229,
          4.351533317269229,
          4.351533317269229,
          4.351533317269229,
          4.351533317269229,
          4.351533317269229,
          4.351533317269229,
          4.353914954332693,
          4.353914954332693,
          4.353914954332693,
          4.353914954332693,
          4.353914954332693,
          4.353914954332693,
          4.353914954332693,
          4.353914954332693,
          4.353914954332693,
          4.353914954332693,
          4.353914954332693,
          4.353914954332693,
          4.363081724880589,
          4.363081724880589,
          4.363081724880589,
          4.363081724880589,
          4.363081724880589,
          4.363081724880589,
          4.363081724880589,
          4.363081724880589,
          4.363081724880589,
          4.363081724880589,
          4.363081724880589,
          4.363081724880589,
          4.363081724880589,
          4.363081724880589,
          4.3826565674434494,
          4.3826565674434494,
          4.3826565674434494,
          4.3826565674434494,
          4.3826565674434494,
          4.3826565674434494,
          4.3826565674434494,
          4.3826565674434494,
          4.3826565674434494,
          4.3826565674434494,
          4.409438439144667,
          4.409438439144667,
          4.409438439144667,
          4.409438439144667,
          4.409438439144667,
          4.409438439144667,
          4.445252114142226,
          4.445252114142226,
          4.445252114142226,
          4.445252114142226,
          4.445252114142226,
          4.445252114142226,
          4.463727351843725,
          4.463727351843725,
          4.479656149960105,
          4.479656149960105,
          4.479656149960105,
          4.479656149960105,
          4.479656149960105,
          4.479656149960105,
          4.485016934824078,
          4.485016934824078,
          4.485016934824078,
          4.50688251213341,
          4.50688251213341,
          4.50688251213341,
          4.50688251213341,
          4.50688251213341,
          4.50688251213341,
          4.542260097039768,
          4.577490663638139,
          4.610400813055501,
          4.610400813055501,
          4.642094388351268,
          4.709228776366015
         ]
        }
       ],
       "layout": {
        "legend": {
         "tracegroupgap": 0
        },
        "template": {
         "data": {
          "bar": [
           {
            "error_x": {
             "color": "#2a3f5f"
            },
            "error_y": {
             "color": "#2a3f5f"
            },
            "marker": {
             "line": {
              "color": "#E5ECF6",
              "width": 0.5
             },
             "pattern": {
              "fillmode": "overlay",
              "size": 10,
              "solidity": 0.2
             }
            },
            "type": "bar"
           }
          ],
          "barpolar": [
           {
            "marker": {
             "line": {
              "color": "#E5ECF6",
              "width": 0.5
             },
             "pattern": {
              "fillmode": "overlay",
              "size": 10,
              "solidity": 0.2
             }
            },
            "type": "barpolar"
           }
          ],
          "carpet": [
           {
            "aaxis": {
             "endlinecolor": "#2a3f5f",
             "gridcolor": "white",
             "linecolor": "white",
             "minorgridcolor": "white",
             "startlinecolor": "#2a3f5f"
            },
            "baxis": {
             "endlinecolor": "#2a3f5f",
             "gridcolor": "white",
             "linecolor": "white",
             "minorgridcolor": "white",
             "startlinecolor": "#2a3f5f"
            },
            "type": "carpet"
           }
          ],
          "choropleth": [
           {
            "colorbar": {
             "outlinewidth": 0,
             "ticks": ""
            },
            "type": "choropleth"
           }
          ],
          "contour": [
           {
            "colorbar": {
             "outlinewidth": 0,
             "ticks": ""
            },
            "colorscale": [
             [
              0,
              "#0d0887"
             ],
             [
              0.1111111111111111,
              "#46039f"
             ],
             [
              0.2222222222222222,
              "#7201a8"
             ],
             [
              0.3333333333333333,
              "#9c179e"
             ],
             [
              0.4444444444444444,
              "#bd3786"
             ],
             [
              0.5555555555555556,
              "#d8576b"
             ],
             [
              0.6666666666666666,
              "#ed7953"
             ],
             [
              0.7777777777777778,
              "#fb9f3a"
             ],
             [
              0.8888888888888888,
              "#fdca26"
             ],
             [
              1,
              "#f0f921"
             ]
            ],
            "type": "contour"
           }
          ],
          "contourcarpet": [
           {
            "colorbar": {
             "outlinewidth": 0,
             "ticks": ""
            },
            "type": "contourcarpet"
           }
          ],
          "heatmap": [
           {
            "colorbar": {
             "outlinewidth": 0,
             "ticks": ""
            },
            "colorscale": [
             [
              0,
              "#0d0887"
             ],
             [
              0.1111111111111111,
              "#46039f"
             ],
             [
              0.2222222222222222,
              "#7201a8"
             ],
             [
              0.3333333333333333,
              "#9c179e"
             ],
             [
              0.4444444444444444,
              "#bd3786"
             ],
             [
              0.5555555555555556,
              "#d8576b"
             ],
             [
              0.6666666666666666,
              "#ed7953"
             ],
             [
              0.7777777777777778,
              "#fb9f3a"
             ],
             [
              0.8888888888888888,
              "#fdca26"
             ],
             [
              1,
              "#f0f921"
             ]
            ],
            "type": "heatmap"
           }
          ],
          "heatmapgl": [
           {
            "colorbar": {
             "outlinewidth": 0,
             "ticks": ""
            },
            "colorscale": [
             [
              0,
              "#0d0887"
             ],
             [
              0.1111111111111111,
              "#46039f"
             ],
             [
              0.2222222222222222,
              "#7201a8"
             ],
             [
              0.3333333333333333,
              "#9c179e"
             ],
             [
              0.4444444444444444,
              "#bd3786"
             ],
             [
              0.5555555555555556,
              "#d8576b"
             ],
             [
              0.6666666666666666,
              "#ed7953"
             ],
             [
              0.7777777777777778,
              "#fb9f3a"
             ],
             [
              0.8888888888888888,
              "#fdca26"
             ],
             [
              1,
              "#f0f921"
             ]
            ],
            "type": "heatmapgl"
           }
          ],
          "histogram": [
           {
            "marker": {
             "pattern": {
              "fillmode": "overlay",
              "size": 10,
              "solidity": 0.2
             }
            },
            "type": "histogram"
           }
          ],
          "histogram2d": [
           {
            "colorbar": {
             "outlinewidth": 0,
             "ticks": ""
            },
            "colorscale": [
             [
              0,
              "#0d0887"
             ],
             [
              0.1111111111111111,
              "#46039f"
             ],
             [
              0.2222222222222222,
              "#7201a8"
             ],
             [
              0.3333333333333333,
              "#9c179e"
             ],
             [
              0.4444444444444444,
              "#bd3786"
             ],
             [
              0.5555555555555556,
              "#d8576b"
             ],
             [
              0.6666666666666666,
              "#ed7953"
             ],
             [
              0.7777777777777778,
              "#fb9f3a"
             ],
             [
              0.8888888888888888,
              "#fdca26"
             ],
             [
              1,
              "#f0f921"
             ]
            ],
            "type": "histogram2d"
           }
          ],
          "histogram2dcontour": [
           {
            "colorbar": {
             "outlinewidth": 0,
             "ticks": ""
            },
            "colorscale": [
             [
              0,
              "#0d0887"
             ],
             [
              0.1111111111111111,
              "#46039f"
             ],
             [
              0.2222222222222222,
              "#7201a8"
             ],
             [
              0.3333333333333333,
              "#9c179e"
             ],
             [
              0.4444444444444444,
              "#bd3786"
             ],
             [
              0.5555555555555556,
              "#d8576b"
             ],
             [
              0.6666666666666666,
              "#ed7953"
             ],
             [
              0.7777777777777778,
              "#fb9f3a"
             ],
             [
              0.8888888888888888,
              "#fdca26"
             ],
             [
              1,
              "#f0f921"
             ]
            ],
            "type": "histogram2dcontour"
           }
          ],
          "mesh3d": [
           {
            "colorbar": {
             "outlinewidth": 0,
             "ticks": ""
            },
            "type": "mesh3d"
           }
          ],
          "parcoords": [
           {
            "line": {
             "colorbar": {
              "outlinewidth": 0,
              "ticks": ""
             }
            },
            "type": "parcoords"
           }
          ],
          "pie": [
           {
            "automargin": true,
            "type": "pie"
           }
          ],
          "scatter": [
           {
            "fillpattern": {
             "fillmode": "overlay",
             "size": 10,
             "solidity": 0.2
            },
            "type": "scatter"
           }
          ],
          "scatter3d": [
           {
            "line": {
             "colorbar": {
              "outlinewidth": 0,
              "ticks": ""
             }
            },
            "marker": {
             "colorbar": {
              "outlinewidth": 0,
              "ticks": ""
             }
            },
            "type": "scatter3d"
           }
          ],
          "scattercarpet": [
           {
            "marker": {
             "colorbar": {
              "outlinewidth": 0,
              "ticks": ""
             }
            },
            "type": "scattercarpet"
           }
          ],
          "scattergeo": [
           {
            "marker": {
             "colorbar": {
              "outlinewidth": 0,
              "ticks": ""
             }
            },
            "type": "scattergeo"
           }
          ],
          "scattergl": [
           {
            "marker": {
             "colorbar": {
              "outlinewidth": 0,
              "ticks": ""
             }
            },
            "type": "scattergl"
           }
          ],
          "scattermapbox": [
           {
            "marker": {
             "colorbar": {
              "outlinewidth": 0,
              "ticks": ""
             }
            },
            "type": "scattermapbox"
           }
          ],
          "scatterpolar": [
           {
            "marker": {
             "colorbar": {
              "outlinewidth": 0,
              "ticks": ""
             }
            },
            "type": "scatterpolar"
           }
          ],
          "scatterpolargl": [
           {
            "marker": {
             "colorbar": {
              "outlinewidth": 0,
              "ticks": ""
             }
            },
            "type": "scatterpolargl"
           }
          ],
          "scatterternary": [
           {
            "marker": {
             "colorbar": {
              "outlinewidth": 0,
              "ticks": ""
             }
            },
            "type": "scatterternary"
           }
          ],
          "surface": [
           {
            "colorbar": {
             "outlinewidth": 0,
             "ticks": ""
            },
            "colorscale": [
             [
              0,
              "#0d0887"
             ],
             [
              0.1111111111111111,
              "#46039f"
             ],
             [
              0.2222222222222222,
              "#7201a8"
             ],
             [
              0.3333333333333333,
              "#9c179e"
             ],
             [
              0.4444444444444444,
              "#bd3786"
             ],
             [
              0.5555555555555556,
              "#d8576b"
             ],
             [
              0.6666666666666666,
              "#ed7953"
             ],
             [
              0.7777777777777778,
              "#fb9f3a"
             ],
             [
              0.8888888888888888,
              "#fdca26"
             ],
             [
              1,
              "#f0f921"
             ]
            ],
            "type": "surface"
           }
          ],
          "table": [
           {
            "cells": {
             "fill": {
              "color": "#EBF0F8"
             },
             "line": {
              "color": "white"
             }
            },
            "header": {
             "fill": {
              "color": "#C8D4E3"
             },
             "line": {
              "color": "white"
             }
            },
            "type": "table"
           }
          ]
         },
         "layout": {
          "annotationdefaults": {
           "arrowcolor": "#2a3f5f",
           "arrowhead": 0,
           "arrowwidth": 1
          },
          "autotypenumbers": "strict",
          "coloraxis": {
           "colorbar": {
            "outlinewidth": 0,
            "ticks": ""
           }
          },
          "colorscale": {
           "diverging": [
            [
             0,
             "#8e0152"
            ],
            [
             0.1,
             "#c51b7d"
            ],
            [
             0.2,
             "#de77ae"
            ],
            [
             0.3,
             "#f1b6da"
            ],
            [
             0.4,
             "#fde0ef"
            ],
            [
             0.5,
             "#f7f7f7"
            ],
            [
             0.6,
             "#e6f5d0"
            ],
            [
             0.7,
             "#b8e186"
            ],
            [
             0.8,
             "#7fbc41"
            ],
            [
             0.9,
             "#4d9221"
            ],
            [
             1,
             "#276419"
            ]
           ],
           "sequential": [
            [
             0,
             "#0d0887"
            ],
            [
             0.1111111111111111,
             "#46039f"
            ],
            [
             0.2222222222222222,
             "#7201a8"
            ],
            [
             0.3333333333333333,
             "#9c179e"
            ],
            [
             0.4444444444444444,
             "#bd3786"
            ],
            [
             0.5555555555555556,
             "#d8576b"
            ],
            [
             0.6666666666666666,
             "#ed7953"
            ],
            [
             0.7777777777777778,
             "#fb9f3a"
            ],
            [
             0.8888888888888888,
             "#fdca26"
            ],
            [
             1,
             "#f0f921"
            ]
           ],
           "sequentialminus": [
            [
             0,
             "#0d0887"
            ],
            [
             0.1111111111111111,
             "#46039f"
            ],
            [
             0.2222222222222222,
             "#7201a8"
            ],
            [
             0.3333333333333333,
             "#9c179e"
            ],
            [
             0.4444444444444444,
             "#bd3786"
            ],
            [
             0.5555555555555556,
             "#d8576b"
            ],
            [
             0.6666666666666666,
             "#ed7953"
            ],
            [
             0.7777777777777778,
             "#fb9f3a"
            ],
            [
             0.8888888888888888,
             "#fdca26"
            ],
            [
             1,
             "#f0f921"
            ]
           ]
          },
          "colorway": [
           "#636efa",
           "#EF553B",
           "#00cc96",
           "#ab63fa",
           "#FFA15A",
           "#19d3f3",
           "#FF6692",
           "#B6E880",
           "#FF97FF",
           "#FECB52"
          ],
          "font": {
           "color": "#2a3f5f"
          },
          "geo": {
           "bgcolor": "white",
           "lakecolor": "white",
           "landcolor": "#E5ECF6",
           "showlakes": true,
           "showland": true,
           "subunitcolor": "white"
          },
          "hoverlabel": {
           "align": "left"
          },
          "hovermode": "closest",
          "mapbox": {
           "style": "light"
          },
          "paper_bgcolor": "white",
          "plot_bgcolor": "#E5ECF6",
          "polar": {
           "angularaxis": {
            "gridcolor": "white",
            "linecolor": "white",
            "ticks": ""
           },
           "bgcolor": "#E5ECF6",
           "radialaxis": {
            "gridcolor": "white",
            "linecolor": "white",
            "ticks": ""
           }
          },
          "scene": {
           "xaxis": {
            "backgroundcolor": "#E5ECF6",
            "gridcolor": "white",
            "gridwidth": 2,
            "linecolor": "white",
            "showbackground": true,
            "ticks": "",
            "zerolinecolor": "white"
           },
           "yaxis": {
            "backgroundcolor": "#E5ECF6",
            "gridcolor": "white",
            "gridwidth": 2,
            "linecolor": "white",
            "showbackground": true,
            "ticks": "",
            "zerolinecolor": "white"
           },
           "zaxis": {
            "backgroundcolor": "#E5ECF6",
            "gridcolor": "white",
            "gridwidth": 2,
            "linecolor": "white",
            "showbackground": true,
            "ticks": "",
            "zerolinecolor": "white"
           }
          },
          "shapedefaults": {
           "line": {
            "color": "#2a3f5f"
           }
          },
          "ternary": {
           "aaxis": {
            "gridcolor": "white",
            "linecolor": "white",
            "ticks": ""
           },
           "baxis": {
            "gridcolor": "white",
            "linecolor": "white",
            "ticks": ""
           },
           "bgcolor": "#E5ECF6",
           "caxis": {
            "gridcolor": "white",
            "linecolor": "white",
            "ticks": ""
           }
          },
          "title": {
           "x": 0.05
          },
          "xaxis": {
           "automargin": true,
           "gridcolor": "white",
           "linecolor": "white",
           "ticks": "",
           "title": {
            "standoff": 15
           },
           "zerolinecolor": "white",
           "zerolinewidth": 2
          },
          "yaxis": {
           "automargin": true,
           "gridcolor": "white",
           "linecolor": "white",
           "ticks": "",
           "title": {
            "standoff": 15
           },
           "zerolinecolor": "white",
           "zerolinewidth": 2
          }
         }
        },
        "title": {
         "text": "Old Faithful Geyser Eruptions"
        },
        "xaxis": {
         "anchor": "y",
         "domain": [
          0,
          1
         ],
         "title": {
          "text": "waiting"
         }
        },
        "yaxis": {
         "anchor": "x",
         "domain": [
          0,
          1
         ],
         "title": {
          "text": "duration"
         }
        }
       }
      },
      "text/html": [
       "<div>                            <div id=\"d098b4a3-c2e2-4154-b8cf-2a0db00148cd\" class=\"plotly-graph-div\" style=\"height:525px; width:100%;\"></div>            <script type=\"text/javascript\">                require([\"plotly\"], function(Plotly) {                    window.PLOTLYENV=window.PLOTLYENV || {};                                    if (document.getElementById(\"d098b4a3-c2e2-4154-b8cf-2a0db00148cd\")) {                    Plotly.newPlot(                        \"d098b4a3-c2e2-4154-b8cf-2a0db00148cd\",                        [{\"hovertemplate\":\"waiting=%{x}\\u003cbr\\u003eduration=%{y}\\u003cextra\\u003e\\u003c\\u002fextra\\u003e\",\"legendgroup\":\"\",\"marker\":{\"color\":\"#636efa\",\"symbol\":\"circle\"},\"mode\":\"markers\",\"name\":\"\",\"orientation\":\"v\",\"showlegend\":false,\"x\":[79,54,74,62,85,55,88,85,51,85,54,84,78,47,83,52,62,84,52,79,51,47,78,69,74,83,55,76,78,79,73,77,66,80,74,52,48,80,59,90,80,58,84,58,73,83,64,53,82,59,75,90,54,80,54,83,71,64,77,81,59,84,48,82,60,92,78,78,65,73,82,56,79,71,62,76,60,78,76,83,75,82,70,65,73,88,76,80,48,86,60,90,50,78,63,72,84,75,51,82,62,88,49,83,81,47,84,52,86,81,75,59,89,79,59,81,50,85,59,87,53,69,77,56,88,81,45,82,55,90,45,83,56,89,46,82,51,86,53,79,81,60,82,77,76,59,80,49,96,53,77,77,65,81,71,70,81,93,53,89,45,86,58,78,66,76,63,88,52,93,49,57,77,68,81,81,73,50,85,74,55,77,83,83,51,78,84,46,83,55,81,57,76,84,77,81,87,77,51,78,60,82,91,53,78,46,77,84,49,83,71,80,49,75,64,76,53,94,55,76,50,82,54,75,78,79,78,78,70,79,70,54,86,50,90,54,54,77,79,64,75,47,86,63,85,82,57,82,67,74,54,83,73,73,88,80,71,83,56,79,78,84,58,83,43,60,75,81,46,90,46,74],\"xaxis\":\"x\",\"y\":[3.6,1.8,3.333,2.283,4.533,2.883,4.7,3.6,1.95,4.35,1.833,3.917,4.2,1.75,4.7,2.167,1.75,4.8,1.6,4.25,1.8,1.75,3.45,3.067,4.533,3.6,1.967,4.083,3.85,4.433,4.3,4.467,3.367,4.033,3.833,2.017,1.867,4.833,1.833,4.783,4.35,1.883,4.567,1.75,4.533,3.317,3.833,2.1,4.633,2.0,4.8,4.716,1.833,4.833,1.733,4.883,3.717,1.6669999999999998,4.567,4.317,2.233,4.5,1.75,4.8,1.817,4.4,4.167,4.7,2.067,4.7,4.033,1.967,4.5,4.0,1.983,5.067,2.017,4.567,3.883,3.6,4.133,4.333,4.1,2.633,4.067,4.933,3.95,4.517,2.167,4.0,2.2,4.333,1.867,4.817,1.833,4.3,4.667,3.75,1.867,4.9,2.483,4.367,2.1,4.5,4.05,1.867,4.7,1.783,4.85,3.683,4.7330000000000005,2.3,4.9,4.417,1.7,4.633,2.317,4.6,1.817,4.417,2.617,4.067,4.25,1.967,4.6,3.767,1.917,4.5,2.267,4.65,1.867,4.167,2.8,4.333,1.833,4.383,1.883,4.933,2.033,3.733,4.2330000000000005,2.233,4.533,4.817,4.333,1.983,4.633,2.017,5.1,1.8,5.033,4.0,2.4,4.6,3.567,4.0,4.5,4.083,1.8,3.967,2.2,4.15,2.0,3.833,3.5,4.583,2.367,5.0,1.933,4.617,1.917,2.083,4.583,3.333,4.167,4.333,4.5,2.417,4.0,4.167,1.883,4.583,4.25,3.767,2.033,4.433,4.083,1.833,4.417,2.1830000000000003,4.8,1.833,4.8,4.1,3.966,4.2330000000000005,3.5,4.3660000000000005,2.25,4.667,2.1,4.35,4.133,1.867,4.6,1.783,4.367,3.85,1.933,4.5,2.383,4.7,1.867,3.833,3.417,4.2330000000000005,2.4,4.8,2.0,4.15,1.867,4.267,1.75,4.4830000000000005,4.0,4.117,4.083,4.267,3.917,4.55,4.083,2.417,4.183,2.217,4.45,1.883,1.85,4.283,3.95,2.333,4.15,2.35,4.933,2.9,4.583,3.833,2.083,4.367,2.133,4.35,2.2,4.45,3.567,4.5,4.15,3.817,3.917,4.45,2.0,4.283,4.767,4.533,1.85,4.25,1.983,2.25,4.75,4.117,2.15,4.417,1.817,4.467],\"yaxis\":\"y\",\"type\":\"scatter\"},{\"hovertemplate\":\"\\u003cb\\u003eOLS trendline\\u003c\\u002fb\\u003e\\u003cbr\\u003eduration = 0.0756279 * waiting + -1.87402\\u003cbr\\u003eR\\u003csup\\u003e2\\u003c\\u002fsup\\u003e=0.811461\\u003cbr\\u003e\\u003cbr\\u003ewaiting=%{x}\\u003cbr\\u003eduration=%{y} \\u003cb\\u003e(trend)\\u003c\\u002fb\\u003e\\u003cextra\\u003e\\u003c\\u002fextra\\u003e\",\"legendgroup\":\"\",\"marker\":{\"color\":\"#636efa\",\"symbol\":\"circle\"},\"mode\":\"lines\",\"name\":\"\",\"showlegend\":false,\"x\":[43,45,45,45,46,46,46,46,46,47,47,47,47,48,48,48,49,49,49,49,49,50,50,50,50,50,51,51,51,51,51,51,52,52,52,52,52,53,53,53,53,53,53,53,54,54,54,54,54,54,54,54,54,55,55,55,55,55,55,56,56,56,56,57,57,57,58,58,58,58,59,59,59,59,59,59,59,60,60,60,60,60,60,62,62,62,62,63,63,63,64,64,64,64,65,65,65,66,66,67,68,69,69,70,70,70,70,71,71,71,71,71,72,73,73,73,73,73,73,73,74,74,74,74,74,74,75,75,75,75,75,75,75,75,76,76,76,76,76,76,76,76,76,77,77,77,77,77,77,77,77,77,77,77,77,78,78,78,78,78,78,78,78,78,78,78,78,78,78,78,79,79,79,79,79,79,79,79,79,79,80,80,80,80,80,80,80,80,81,81,81,81,81,81,81,81,81,81,81,81,81,82,82,82,82,82,82,82,82,82,82,82,82,83,83,83,83,83,83,83,83,83,83,83,83,83,83,84,84,84,84,84,84,84,84,84,84,85,85,85,85,85,85,86,86,86,86,86,86,87,87,88,88,88,88,88,88,89,89,89,90,90,90,90,90,90,91,92,93,93,94,96],\"xaxis\":\"x\",\"y\":[1.3779857755193614,1.5292416714230868,1.5292416714230868,1.5292416714230868,1.6048696193749494,1.6048696193749494,1.6048696193749494,1.6048696193749494,1.6048696193749494,1.680497567326812,1.680497567326812,1.680497567326812,1.680497567326812,1.7561255152786748,1.7561255152786748,1.7561255152786748,1.8317534632305374,1.8317534632305374,1.8317534632305374,1.8317534632305374,1.8317534632305374,1.9073814111824001,1.9073814111824001,1.9073814111824001,1.9073814111824001,1.9073814111824001,1.9830093591342628,1.9830093591342628,1.9830093591342628,1.9830093591342628,1.9830093591342628,1.9830093591342628,2.0586373070861255,2.0586373070861255,2.0586373070861255,2.0586373070861255,2.0586373070861255,2.1342652550379886,2.1342652550379886,2.1342652550379886,2.1342652550379886,2.1342652550379886,2.1342652550379886,2.1342652550379886,2.2098932029898513,2.2098932029898513,2.2098932029898513,2.2098932029898513,2.2098932029898513,2.2098932029898513,2.2098932029898513,2.2098932029898513,2.2098932029898513,2.285521150941714,2.285521150941714,2.285521150941714,2.285521150941714,2.285521150941714,2.285521150941714,2.3611490988935766,2.3611490988935766,2.3611490988935766,2.3611490988935766,2.4367770468454393,2.4367770468454393,2.4367770468454393,2.512404994797302,2.512404994797302,2.512404994797302,2.512404994797302,2.5880329427491646,2.5880329427491646,2.5880329427491646,2.5880329427491646,2.5880329427491646,2.5880329427491646,2.5880329427491646,2.6636608907010273,2.6636608907010273,2.6636608907010273,2.6636608907010273,2.6636608907010273,2.6636608907010273,2.8149167866047526,2.8149167866047526,2.8149167866047526,2.8149167866047526,2.8905447345566153,2.8905447345566153,2.8905447345566153,2.966172682508478,2.966172682508478,2.966172682508478,2.966172682508478,3.0418006304603407,3.0418006304603407,3.0418006304603407,3.1174285784122033,3.1174285784122033,3.193056526364066,3.2686844743159287,3.3443124222677914,3.3443124222677914,3.419940370219654,3.419940370219654,3.419940370219654,3.419940370219654,3.4955683181715167,3.4955683181715167,3.4955683181715167,3.4955683181715167,3.4955683181715167,3.5711962661233794,3.646824214075242,3.646824214075242,3.646824214075242,3.646824214075242,3.646824214075242,3.646824214075242,3.646824214075242,3.7224521620271047,3.7224521620271047,3.7224521620271047,3.7224521620271047,3.7224521620271047,3.7224521620271047,3.7980801099789674,3.7980801099789674,3.7980801099789674,3.7980801099789674,3.7980801099789674,3.7980801099789674,3.7980801099789674,3.7980801099789674,3.87370805793083,3.87370805793083,3.87370805793083,3.87370805793083,3.87370805793083,3.87370805793083,3.87370805793083,3.87370805793083,3.87370805793083,3.9493360058826927,3.9493360058826927,3.9493360058826927,3.9493360058826927,3.9493360058826927,3.9493360058826927,3.9493360058826927,3.9493360058826927,3.9493360058826927,3.9493360058826927,3.9493360058826927,3.9493360058826927,4.024963953834556,4.024963953834556,4.024963953834556,4.024963953834556,4.024963953834556,4.024963953834556,4.024963953834556,4.024963953834556,4.024963953834556,4.024963953834556,4.024963953834556,4.024963953834556,4.024963953834556,4.024963953834556,4.024963953834556,4.100591901786418,4.100591901786418,4.100591901786418,4.100591901786418,4.100591901786418,4.100591901786418,4.100591901786418,4.100591901786418,4.100591901786418,4.100591901786418,4.176219849738281,4.176219849738281,4.176219849738281,4.176219849738281,4.176219849738281,4.176219849738281,4.176219849738281,4.176219849738281,4.251847797690145,4.251847797690145,4.251847797690145,4.251847797690145,4.251847797690145,4.251847797690145,4.251847797690145,4.251847797690145,4.251847797690145,4.251847797690145,4.251847797690145,4.251847797690145,4.251847797690145,4.3274757456420065,4.3274757456420065,4.3274757456420065,4.3274757456420065,4.3274757456420065,4.3274757456420065,4.3274757456420065,4.3274757456420065,4.3274757456420065,4.3274757456420065,4.3274757456420065,4.3274757456420065,4.40310369359387,4.40310369359387,4.40310369359387,4.40310369359387,4.40310369359387,4.40310369359387,4.40310369359387,4.40310369359387,4.40310369359387,4.40310369359387,4.40310369359387,4.40310369359387,4.40310369359387,4.40310369359387,4.478731641545732,4.478731641545732,4.478731641545732,4.478731641545732,4.478731641545732,4.478731641545732,4.478731641545732,4.478731641545732,4.478731641545732,4.478731641545732,4.5543595894975955,4.5543595894975955,4.5543595894975955,4.5543595894975955,4.5543595894975955,4.5543595894975955,4.629987537449457,4.629987537449457,4.629987537449457,4.629987537449457,4.629987537449457,4.629987537449457,4.705615485401321,4.705615485401321,4.781243433353183,4.781243433353183,4.781243433353183,4.781243433353183,4.781243433353183,4.781243433353183,4.856871381305046,4.856871381305046,4.856871381305046,4.932499329256908,4.932499329256908,4.932499329256908,4.932499329256908,4.932499329256908,4.932499329256908,5.0081272772087715,5.083755225160633,5.159383173112497,5.159383173112497,5.235011121064359,5.386267016968084],\"yaxis\":\"y\",\"type\":\"scatter\"},{\"mode\":\"lines\",\"name\":\"LOWESS Trendline\",\"x\":[43.0,45.0,45.0,45.0,46.0,46.0,46.0,46.0,46.0,47.0,47.0,47.0,47.0,48.0,48.0,48.0,49.0,49.0,49.0,49.0,49.0,50.0,50.0,50.0,50.0,50.0,51.0,51.0,51.0,51.0,51.0,51.0,52.0,52.0,52.0,52.0,52.0,53.0,53.0,53.0,53.0,53.0,53.0,53.0,54.0,54.0,54.0,54.0,54.0,54.0,54.0,54.0,54.0,55.0,55.0,55.0,55.0,55.0,55.0,56.0,56.0,56.0,56.0,57.0,57.0,57.0,58.0,58.0,58.0,58.0,59.0,59.0,59.0,59.0,59.0,59.0,59.0,60.0,60.0,60.0,60.0,60.0,60.0,62.0,62.0,62.0,62.0,63.0,63.0,63.0,64.0,64.0,64.0,64.0,65.0,65.0,65.0,66.0,66.0,67.0,68.0,69.0,69.0,70.0,70.0,70.0,70.0,71.0,71.0,71.0,71.0,71.0,72.0,73.0,73.0,73.0,73.0,73.0,73.0,73.0,74.0,74.0,74.0,74.0,74.0,74.0,75.0,75.0,75.0,75.0,75.0,75.0,75.0,75.0,76.0,76.0,76.0,76.0,76.0,76.0,76.0,76.0,76.0,77.0,77.0,77.0,77.0,77.0,77.0,77.0,77.0,77.0,77.0,77.0,77.0,78.0,78.0,78.0,78.0,78.0,78.0,78.0,78.0,78.0,78.0,78.0,78.0,78.0,78.0,78.0,79.0,79.0,79.0,79.0,79.0,79.0,79.0,79.0,79.0,79.0,80.0,80.0,80.0,80.0,80.0,80.0,80.0,80.0,81.0,81.0,81.0,81.0,81.0,81.0,81.0,81.0,81.0,81.0,81.0,81.0,81.0,82.0,82.0,82.0,82.0,82.0,82.0,82.0,82.0,82.0,82.0,82.0,82.0,83.0,83.0,83.0,83.0,83.0,83.0,83.0,83.0,83.0,83.0,83.0,83.0,83.0,83.0,84.0,84.0,84.0,84.0,84.0,84.0,84.0,84.0,84.0,84.0,85.0,85.0,85.0,85.0,85.0,85.0,86.0,86.0,86.0,86.0,86.0,86.0,87.0,87.0,88.0,88.0,88.0,88.0,88.0,88.0,89.0,89.0,89.0,90.0,90.0,90.0,90.0,90.0,90.0,91.0,92.0,93.0,93.0,94.0,96.0],\"y\":[1.9186521424072547,1.9344096504954134,1.9344096504954134,1.9344096504954134,1.9421058219420753,1.9421058219420753,1.9421058219420753,1.9421058219420753,1.9421058219420753,1.9492820922680067,1.9492820922680067,1.9492820922680067,1.9492820922680067,1.9558607302691684,1.9558607302691684,1.9558607302691684,1.962181369241891,1.962181369241891,1.962181369241891,1.962181369241891,1.962181369241891,1.969408997981721,1.969408997981721,1.969408997981721,1.969408997981721,1.969408997981721,1.979785009796234,1.979785009796234,1.979785009796234,1.979785009796234,1.979785009796234,1.979785009796234,1.989714320835026,1.989714320835026,1.989714320835026,1.989714320835026,1.989714320835026,1.9952876010759677,1.9952876010759677,1.9952876010759677,1.9952876010759677,1.9952876010759677,1.9952876010759677,1.9952876010759677,1.9936488499343459,1.9936488499343459,1.9936488499343459,1.9936488499343459,1.9936488499343459,1.9936488499343459,1.9936488499343459,1.9936488499343459,1.9936488499343459,1.99393402379364,1.99393402379364,1.99393402379364,1.99393402379364,1.99393402379364,1.99393402379364,1.9998045945748515,1.9998045945748515,1.9998045945748515,1.9998045945748515,2.0139370252003546,2.0139370252003546,2.0139370252003546,2.038699058321957,2.038699058321957,2.038699058321957,2.038699058321957,2.0955741372199967,2.0955741372199967,2.0955741372199967,2.0955741372199967,2.0955741372199967,2.0955741372199967,2.0955741372199967,2.157900404002252,2.157900404002252,2.157900404002252,2.157900404002252,2.157900404002252,2.157900404002252,2.383589177706359,2.383589177706359,2.383589177706359,2.383589177706359,2.544376577318829,2.544376577318829,2.544376577318829,2.739478107460566,2.739478107460566,2.739478107460566,2.739478107460566,2.9029176379088457,2.9029176379088457,2.9029176379088457,3.053658252690223,3.053658252690223,3.214763931658723,3.380303575331191,3.5786855265101667,3.5786855265101667,3.7849136115718265,3.7849136115718265,3.7849136115718265,3.7849136115718265,3.9459220045987813,3.9459220045987813,3.9459220045987813,3.9459220045987813,3.9459220045987813,4.074872475833141,4.179011278635363,4.179011278635363,4.179011278635363,4.179011278635363,4.179011278635363,4.179011278635363,4.179011278635363,4.253073995783976,4.253073995783976,4.253073995783976,4.253073995783976,4.253073995783976,4.253073995783976,4.318817611180992,4.318817611180992,4.318817611180992,4.318817611180992,4.318817611180992,4.318817611180992,4.318817611180992,4.318817611180992,4.331656770327086,4.331656770327086,4.331656770327086,4.331656770327086,4.331656770327086,4.331656770327086,4.331656770327086,4.331656770327086,4.331656770327086,4.346858683186571,4.346858683186571,4.346858683186571,4.346858683186571,4.346858683186571,4.346858683186571,4.346858683186571,4.346858683186571,4.346858683186571,4.346858683186571,4.346858683186571,4.346858683186571,4.341189350470698,4.341189350470698,4.341189350470698,4.341189350470698,4.341189350470698,4.341189350470698,4.341189350470698,4.341189350470698,4.341189350470698,4.341189350470698,4.341189350470698,4.341189350470698,4.341189350470698,4.341189350470698,4.341189350470698,4.336785127256803,4.336785127256803,4.336785127256803,4.336785127256803,4.336785127256803,4.336785127256803,4.336785127256803,4.336785127256803,4.336785127256803,4.336785127256803,4.332304008228884,4.332304008228884,4.332304008228884,4.332304008228884,4.332304008228884,4.332304008228884,4.332304008228884,4.332304008228884,4.351533317269229,4.351533317269229,4.351533317269229,4.351533317269229,4.351533317269229,4.351533317269229,4.351533317269229,4.351533317269229,4.351533317269229,4.351533317269229,4.351533317269229,4.351533317269229,4.351533317269229,4.353914954332693,4.353914954332693,4.353914954332693,4.353914954332693,4.353914954332693,4.353914954332693,4.353914954332693,4.353914954332693,4.353914954332693,4.353914954332693,4.353914954332693,4.353914954332693,4.363081724880589,4.363081724880589,4.363081724880589,4.363081724880589,4.363081724880589,4.363081724880589,4.363081724880589,4.363081724880589,4.363081724880589,4.363081724880589,4.363081724880589,4.363081724880589,4.363081724880589,4.363081724880589,4.3826565674434494,4.3826565674434494,4.3826565674434494,4.3826565674434494,4.3826565674434494,4.3826565674434494,4.3826565674434494,4.3826565674434494,4.3826565674434494,4.3826565674434494,4.409438439144667,4.409438439144667,4.409438439144667,4.409438439144667,4.409438439144667,4.409438439144667,4.445252114142226,4.445252114142226,4.445252114142226,4.445252114142226,4.445252114142226,4.445252114142226,4.463727351843725,4.463727351843725,4.479656149960105,4.479656149960105,4.479656149960105,4.479656149960105,4.479656149960105,4.479656149960105,4.485016934824078,4.485016934824078,4.485016934824078,4.50688251213341,4.50688251213341,4.50688251213341,4.50688251213341,4.50688251213341,4.50688251213341,4.542260097039768,4.577490663638139,4.610400813055501,4.610400813055501,4.642094388351268,4.709228776366015],\"type\":\"scatter\"}],                        {\"template\":{\"data\":{\"histogram2dcontour\":[{\"type\":\"histogram2dcontour\",\"colorbar\":{\"outlinewidth\":0,\"ticks\":\"\"},\"colorscale\":[[0.0,\"#0d0887\"],[0.1111111111111111,\"#46039f\"],[0.2222222222222222,\"#7201a8\"],[0.3333333333333333,\"#9c179e\"],[0.4444444444444444,\"#bd3786\"],[0.5555555555555556,\"#d8576b\"],[0.6666666666666666,\"#ed7953\"],[0.7777777777777778,\"#fb9f3a\"],[0.8888888888888888,\"#fdca26\"],[1.0,\"#f0f921\"]]}],\"choropleth\":[{\"type\":\"choropleth\",\"colorbar\":{\"outlinewidth\":0,\"ticks\":\"\"}}],\"histogram2d\":[{\"type\":\"histogram2d\",\"colorbar\":{\"outlinewidth\":0,\"ticks\":\"\"},\"colorscale\":[[0.0,\"#0d0887\"],[0.1111111111111111,\"#46039f\"],[0.2222222222222222,\"#7201a8\"],[0.3333333333333333,\"#9c179e\"],[0.4444444444444444,\"#bd3786\"],[0.5555555555555556,\"#d8576b\"],[0.6666666666666666,\"#ed7953\"],[0.7777777777777778,\"#fb9f3a\"],[0.8888888888888888,\"#fdca26\"],[1.0,\"#f0f921\"]]}],\"heatmap\":[{\"type\":\"heatmap\",\"colorbar\":{\"outlinewidth\":0,\"ticks\":\"\"},\"colorscale\":[[0.0,\"#0d0887\"],[0.1111111111111111,\"#46039f\"],[0.2222222222222222,\"#7201a8\"],[0.3333333333333333,\"#9c179e\"],[0.4444444444444444,\"#bd3786\"],[0.5555555555555556,\"#d8576b\"],[0.6666666666666666,\"#ed7953\"],[0.7777777777777778,\"#fb9f3a\"],[0.8888888888888888,\"#fdca26\"],[1.0,\"#f0f921\"]]}],\"heatmapgl\":[{\"type\":\"heatmapgl\",\"colorbar\":{\"outlinewidth\":0,\"ticks\":\"\"},\"colorscale\":[[0.0,\"#0d0887\"],[0.1111111111111111,\"#46039f\"],[0.2222222222222222,\"#7201a8\"],[0.3333333333333333,\"#9c179e\"],[0.4444444444444444,\"#bd3786\"],[0.5555555555555556,\"#d8576b\"],[0.6666666666666666,\"#ed7953\"],[0.7777777777777778,\"#fb9f3a\"],[0.8888888888888888,\"#fdca26\"],[1.0,\"#f0f921\"]]}],\"contourcarpet\":[{\"type\":\"contourcarpet\",\"colorbar\":{\"outlinewidth\":0,\"ticks\":\"\"}}],\"contour\":[{\"type\":\"contour\",\"colorbar\":{\"outlinewidth\":0,\"ticks\":\"\"},\"colorscale\":[[0.0,\"#0d0887\"],[0.1111111111111111,\"#46039f\"],[0.2222222222222222,\"#7201a8\"],[0.3333333333333333,\"#9c179e\"],[0.4444444444444444,\"#bd3786\"],[0.5555555555555556,\"#d8576b\"],[0.6666666666666666,\"#ed7953\"],[0.7777777777777778,\"#fb9f3a\"],[0.8888888888888888,\"#fdca26\"],[1.0,\"#f0f921\"]]}],\"surface\":[{\"type\":\"surface\",\"colorbar\":{\"outlinewidth\":0,\"ticks\":\"\"},\"colorscale\":[[0.0,\"#0d0887\"],[0.1111111111111111,\"#46039f\"],[0.2222222222222222,\"#7201a8\"],[0.3333333333333333,\"#9c179e\"],[0.4444444444444444,\"#bd3786\"],[0.5555555555555556,\"#d8576b\"],[0.6666666666666666,\"#ed7953\"],[0.7777777777777778,\"#fb9f3a\"],[0.8888888888888888,\"#fdca26\"],[1.0,\"#f0f921\"]]}],\"mesh3d\":[{\"type\":\"mesh3d\",\"colorbar\":{\"outlinewidth\":0,\"ticks\":\"\"}}],\"scatter\":[{\"fillpattern\":{\"fillmode\":\"overlay\",\"size\":10,\"solidity\":0.2},\"type\":\"scatter\"}],\"parcoords\":[{\"type\":\"parcoords\",\"line\":{\"colorbar\":{\"outlinewidth\":0,\"ticks\":\"\"}}}],\"scatterpolargl\":[{\"type\":\"scatterpolargl\",\"marker\":{\"colorbar\":{\"outlinewidth\":0,\"ticks\":\"\"}}}],\"bar\":[{\"error_x\":{\"color\":\"#2a3f5f\"},\"error_y\":{\"color\":\"#2a3f5f\"},\"marker\":{\"line\":{\"color\":\"#E5ECF6\",\"width\":0.5},\"pattern\":{\"fillmode\":\"overlay\",\"size\":10,\"solidity\":0.2}},\"type\":\"bar\"}],\"scattergeo\":[{\"type\":\"scattergeo\",\"marker\":{\"colorbar\":{\"outlinewidth\":0,\"ticks\":\"\"}}}],\"scatterpolar\":[{\"type\":\"scatterpolar\",\"marker\":{\"colorbar\":{\"outlinewidth\":0,\"ticks\":\"\"}}}],\"histogram\":[{\"marker\":{\"pattern\":{\"fillmode\":\"overlay\",\"size\":10,\"solidity\":0.2}},\"type\":\"histogram\"}],\"scattergl\":[{\"type\":\"scattergl\",\"marker\":{\"colorbar\":{\"outlinewidth\":0,\"ticks\":\"\"}}}],\"scatter3d\":[{\"type\":\"scatter3d\",\"line\":{\"colorbar\":{\"outlinewidth\":0,\"ticks\":\"\"}},\"marker\":{\"colorbar\":{\"outlinewidth\":0,\"ticks\":\"\"}}}],\"scattermapbox\":[{\"type\":\"scattermapbox\",\"marker\":{\"colorbar\":{\"outlinewidth\":0,\"ticks\":\"\"}}}],\"scatterternary\":[{\"type\":\"scatterternary\",\"marker\":{\"colorbar\":{\"outlinewidth\":0,\"ticks\":\"\"}}}],\"scattercarpet\":[{\"type\":\"scattercarpet\",\"marker\":{\"colorbar\":{\"outlinewidth\":0,\"ticks\":\"\"}}}],\"carpet\":[{\"aaxis\":{\"endlinecolor\":\"#2a3f5f\",\"gridcolor\":\"white\",\"linecolor\":\"white\",\"minorgridcolor\":\"white\",\"startlinecolor\":\"#2a3f5f\"},\"baxis\":{\"endlinecolor\":\"#2a3f5f\",\"gridcolor\":\"white\",\"linecolor\":\"white\",\"minorgridcolor\":\"white\",\"startlinecolor\":\"#2a3f5f\"},\"type\":\"carpet\"}],\"table\":[{\"cells\":{\"fill\":{\"color\":\"#EBF0F8\"},\"line\":{\"color\":\"white\"}},\"header\":{\"fill\":{\"color\":\"#C8D4E3\"},\"line\":{\"color\":\"white\"}},\"type\":\"table\"}],\"barpolar\":[{\"marker\":{\"line\":{\"color\":\"#E5ECF6\",\"width\":0.5},\"pattern\":{\"fillmode\":\"overlay\",\"size\":10,\"solidity\":0.2}},\"type\":\"barpolar\"}],\"pie\":[{\"automargin\":true,\"type\":\"pie\"}]},\"layout\":{\"autotypenumbers\":\"strict\",\"colorway\":[\"#636efa\",\"#EF553B\",\"#00cc96\",\"#ab63fa\",\"#FFA15A\",\"#19d3f3\",\"#FF6692\",\"#B6E880\",\"#FF97FF\",\"#FECB52\"],\"font\":{\"color\":\"#2a3f5f\"},\"hovermode\":\"closest\",\"hoverlabel\":{\"align\":\"left\"},\"paper_bgcolor\":\"white\",\"plot_bgcolor\":\"#E5ECF6\",\"polar\":{\"bgcolor\":\"#E5ECF6\",\"angularaxis\":{\"gridcolor\":\"white\",\"linecolor\":\"white\",\"ticks\":\"\"},\"radialaxis\":{\"gridcolor\":\"white\",\"linecolor\":\"white\",\"ticks\":\"\"}},\"ternary\":{\"bgcolor\":\"#E5ECF6\",\"aaxis\":{\"gridcolor\":\"white\",\"linecolor\":\"white\",\"ticks\":\"\"},\"baxis\":{\"gridcolor\":\"white\",\"linecolor\":\"white\",\"ticks\":\"\"},\"caxis\":{\"gridcolor\":\"white\",\"linecolor\":\"white\",\"ticks\":\"\"}},\"coloraxis\":{\"colorbar\":{\"outlinewidth\":0,\"ticks\":\"\"}},\"colorscale\":{\"sequential\":[[0.0,\"#0d0887\"],[0.1111111111111111,\"#46039f\"],[0.2222222222222222,\"#7201a8\"],[0.3333333333333333,\"#9c179e\"],[0.4444444444444444,\"#bd3786\"],[0.5555555555555556,\"#d8576b\"],[0.6666666666666666,\"#ed7953\"],[0.7777777777777778,\"#fb9f3a\"],[0.8888888888888888,\"#fdca26\"],[1.0,\"#f0f921\"]],\"sequentialminus\":[[0.0,\"#0d0887\"],[0.1111111111111111,\"#46039f\"],[0.2222222222222222,\"#7201a8\"],[0.3333333333333333,\"#9c179e\"],[0.4444444444444444,\"#bd3786\"],[0.5555555555555556,\"#d8576b\"],[0.6666666666666666,\"#ed7953\"],[0.7777777777777778,\"#fb9f3a\"],[0.8888888888888888,\"#fdca26\"],[1.0,\"#f0f921\"]],\"diverging\":[[0,\"#8e0152\"],[0.1,\"#c51b7d\"],[0.2,\"#de77ae\"],[0.3,\"#f1b6da\"],[0.4,\"#fde0ef\"],[0.5,\"#f7f7f7\"],[0.6,\"#e6f5d0\"],[0.7,\"#b8e186\"],[0.8,\"#7fbc41\"],[0.9,\"#4d9221\"],[1,\"#276419\"]]},\"xaxis\":{\"gridcolor\":\"white\",\"linecolor\":\"white\",\"ticks\":\"\",\"title\":{\"standoff\":15},\"zerolinecolor\":\"white\",\"automargin\":true,\"zerolinewidth\":2},\"yaxis\":{\"gridcolor\":\"white\",\"linecolor\":\"white\",\"ticks\":\"\",\"title\":{\"standoff\":15},\"zerolinecolor\":\"white\",\"automargin\":true,\"zerolinewidth\":2},\"scene\":{\"xaxis\":{\"backgroundcolor\":\"#E5ECF6\",\"gridcolor\":\"white\",\"linecolor\":\"white\",\"showbackground\":true,\"ticks\":\"\",\"zerolinecolor\":\"white\",\"gridwidth\":2},\"yaxis\":{\"backgroundcolor\":\"#E5ECF6\",\"gridcolor\":\"white\",\"linecolor\":\"white\",\"showbackground\":true,\"ticks\":\"\",\"zerolinecolor\":\"white\",\"gridwidth\":2},\"zaxis\":{\"backgroundcolor\":\"#E5ECF6\",\"gridcolor\":\"white\",\"linecolor\":\"white\",\"showbackground\":true,\"ticks\":\"\",\"zerolinecolor\":\"white\",\"gridwidth\":2}},\"shapedefaults\":{\"line\":{\"color\":\"#2a3f5f\"}},\"annotationdefaults\":{\"arrowcolor\":\"#2a3f5f\",\"arrowhead\":0,\"arrowwidth\":1},\"geo\":{\"bgcolor\":\"white\",\"landcolor\":\"#E5ECF6\",\"subunitcolor\":\"white\",\"showland\":true,\"showlakes\":true,\"lakecolor\":\"white\"},\"title\":{\"x\":0.05},\"mapbox\":{\"style\":\"light\"}}},\"xaxis\":{\"anchor\":\"y\",\"domain\":[0.0,1.0],\"title\":{\"text\":\"waiting\"}},\"yaxis\":{\"anchor\":\"x\",\"domain\":[0.0,1.0],\"title\":{\"text\":\"duration\"}},\"legend\":{\"tracegroupgap\":0},\"title\":{\"text\":\"Old Faithful Geyser Eruptions\"}},                        {\"responsive\": true}                    ).then(function(){\n",
       "                            \n",
       "var gd = document.getElementById('d098b4a3-c2e2-4154-b8cf-2a0db00148cd');\n",
       "var x = new MutationObserver(function (mutations, observer) {{\n",
       "        var display = window.getComputedStyle(gd).display;\n",
       "        if (!display || display === 'none') {{\n",
       "            console.log([gd, 'removed!']);\n",
       "            Plotly.purge(gd);\n",
       "            observer.disconnect();\n",
       "        }}\n",
       "}});\n",
       "\n",
       "// Listen for the removal of the full notebook cells\n",
       "var notebookContainer = gd.closest('#notebook-container');\n",
       "if (notebookContainer) {{\n",
       "    x.observe(notebookContainer, {childList: true});\n",
       "}}\n",
       "\n",
       "// Listen for the clearing of the current output cell\n",
       "var outputEl = gd.closest('.output');\n",
       "if (outputEl) {{\n",
       "    x.observe(outputEl, {childList: true});\n",
       "}}\n",
       "\n",
       "                        })                };                });            </script>        </div>"
      ]
     },
     "metadata": {},
     "output_type": "display_data"
    }
   ],
   "source": [
    "import plotly.express as px\n",
    "import seaborn as sns\n",
    "import statsmodels.api as sm\n",
    "\n",
    "# The \"Classic\" Old Faithful Geyser dataset: ask a ChatBot for more details if desired\n",
    "old_faithful = sns.load_dataset('geyser')\n",
    "\n",
    "# Create a scatter plot with a Simple Linear Regression trendline\n",
    "fig = px.scatter(old_faithful, x='waiting', y='duration', \n",
    "                 title=\"Old Faithful Geyser Eruptions\", \n",
    "                 trendline='ols')#'lowess'\n",
    "\n",
    "# Add a smoothed LOWESS Trendline to the scatter plot\n",
    "lowess = sm.nonparametric.lowess  # Adjust 'frac' to change \"smoothness bandwidth\"\n",
    "smoothed = lowess(old_faithful['duration'], old_faithful['waiting'], frac=0.25)  \n",
    "smoothed_df = pd.DataFrame(smoothed, columns=['waiting', 'smoothed_duration'])\n",
    "fig.add_scatter(x=smoothed_df['waiting'], y=smoothed_df['smoothed_duration'], \n",
    "                mode='lines', name='LOWESS Trendline')\n",
    "\n",
    "fig.show() # USE `fig.show(renderer=\"png\")` FOR ALL GitHub and MarkUs SUBMISSIONS"
   ]
  },
  {
   "cell_type": "markdown",
   "id": "b0db85ec",
   "metadata": {},
   "source": [
    "### 8. Specify a *null hypothesis* of \"no linear association (on average)\" in terms of the relevant *parameter* of the *Simple Linear Regression* model, and use the code below to characterize the evidence in the data relative to the *null hypothesis* and interpret your subsequent beliefs regarding the Old Faithful Geyser dataset.<br>\n",
    "\n",
    "<details class=\"details-example\"><summary style=\"color:blue\"><u>Further Guidance</u></summary>\n",
    "\n",
    "> _Remember that **Hypothesis Testing** is not a \"mathematical proof\"_\n",
    ">\n",
    "> - _We do not prove $H_0$ false, we instead give evidence against the $H_0$: \"We reject the null hypothesis with a p-value of XYZ, meaning we have ABC evidence against the null hypothesis\"_\n",
    "> - _We do not prove $H_0$ is true, we instead do not have evidence to reject $H_0$: \"We fail to reject the null hypothesis with a p-value of XYZ\"_\n",
    "\n",
    "|p-value|Evidence|\n",
    "|-|-|\n",
    "|$$p > 0.1$$|No evidence against the null hypothesis|\n",
    "|$$0.1 \\ge p > 0.05$$|Weak evidence against the null hypothesis|\n",
    "|$$0.05 \\ge p > 0.01$$|Moderate evidence against the null hypothesis|\n",
    "|$$0.01 \\ge p > 0.001$$|Strong evidence against the null hypothesis|\n",
    "|$$0.001 \\ge p$$|Very strong evidence against the null hypothesis|\n",
    "\n",
    "</details>    \n",
    "\n",
    "> ```python\n",
    "> import seaborn as sns\n",
    "> import statsmodels.formula.api as smf\n",
    ">\n",
    "> # The \"Classic\" Old Faithful Geyser dataset\n",
    "> old_faithful = sns.load_dataset('geyser')\n",
    "> \n",
    "> linear_for_specification = 'duration ~ waiting'\n",
    "> model = smf.ols(linear_for_specification, data=old_faithful)\n",
    "> fitted_model = model.fit()\n",
    "> fitted_model.summary()\n",
    "> ```\n"
   ]
  },
  {
   "cell_type": "markdown",
   "id": "b46ff67b",
   "metadata": {},
   "source": [
    "# null hypothesis h0 β1 =0\n",
    "# ha β1 not equal to 0"
   ]
  },
  {
   "cell_type": "code",
   "execution_count": 8,
   "id": "0f499d93",
   "metadata": {},
   "outputs": [
    {
     "data": {
      "text/html": [
       "<table class=\"simpletable\">\n",
       "<caption>OLS Regression Results</caption>\n",
       "<tr>\n",
       "  <th>Dep. Variable:</th>        <td>duration</td>     <th>  R-squared:         </th> <td>   0.811</td> \n",
       "</tr>\n",
       "<tr>\n",
       "  <th>Model:</th>                   <td>OLS</td>       <th>  Adj. R-squared:    </th> <td>   0.811</td> \n",
       "</tr>\n",
       "<tr>\n",
       "  <th>Method:</th>             <td>Least Squares</td>  <th>  F-statistic:       </th> <td>   1162.</td> \n",
       "</tr>\n",
       "<tr>\n",
       "  <th>Date:</th>             <td>Fri, 08 Nov 2024</td> <th>  Prob (F-statistic):</th> <td>8.13e-100</td>\n",
       "</tr>\n",
       "<tr>\n",
       "  <th>Time:</th>                 <td>02:48:26</td>     <th>  Log-Likelihood:    </th> <td> -194.51</td> \n",
       "</tr>\n",
       "<tr>\n",
       "  <th>No. Observations:</th>      <td>   272</td>      <th>  AIC:               </th> <td>   393.0</td> \n",
       "</tr>\n",
       "<tr>\n",
       "  <th>Df Residuals:</th>          <td>   270</td>      <th>  BIC:               </th> <td>   400.2</td> \n",
       "</tr>\n",
       "<tr>\n",
       "  <th>Df Model:</th>              <td>     1</td>      <th>                     </th>     <td> </td>    \n",
       "</tr>\n",
       "<tr>\n",
       "  <th>Covariance Type:</th>      <td>nonrobust</td>    <th>                     </th>     <td> </td>    \n",
       "</tr>\n",
       "</table>\n",
       "<table class=\"simpletable\">\n",
       "<tr>\n",
       "      <td></td>         <th>coef</th>     <th>std err</th>      <th>t</th>      <th>P>|t|</th>  <th>[0.025</th>    <th>0.975]</th>  \n",
       "</tr>\n",
       "<tr>\n",
       "  <th>Intercept</th> <td>   -1.8740</td> <td>    0.160</td> <td>  -11.702</td> <td> 0.000</td> <td>   -2.189</td> <td>   -1.559</td>\n",
       "</tr>\n",
       "<tr>\n",
       "  <th>waiting</th>   <td>    0.0756</td> <td>    0.002</td> <td>   34.089</td> <td> 0.000</td> <td>    0.071</td> <td>    0.080</td>\n",
       "</tr>\n",
       "</table>\n",
       "<table class=\"simpletable\">\n",
       "<tr>\n",
       "  <th>Omnibus:</th>       <td> 4.133</td> <th>  Durbin-Watson:     </th> <td>   2.561</td>\n",
       "</tr>\n",
       "<tr>\n",
       "  <th>Prob(Omnibus):</th> <td> 0.127</td> <th>  Jarque-Bera (JB):  </th> <td>   3.173</td>\n",
       "</tr>\n",
       "<tr>\n",
       "  <th>Skew:</th>          <td>-0.138</td> <th>  Prob(JB):          </th> <td>   0.205</td>\n",
       "</tr>\n",
       "<tr>\n",
       "  <th>Kurtosis:</th>      <td> 2.548</td> <th>  Cond. No.          </th> <td>    384.</td>\n",
       "</tr>\n",
       "</table><br/><br/>Notes:<br/>[1] Standard Errors assume that the covariance matrix of the errors is correctly specified."
      ],
      "text/latex": [
       "\\begin{center}\n",
       "\\begin{tabular}{lclc}\n",
       "\\toprule\n",
       "\\textbf{Dep. Variable:}    &     duration     & \\textbf{  R-squared:         } &     0.811   \\\\\n",
       "\\textbf{Model:}            &       OLS        & \\textbf{  Adj. R-squared:    } &     0.811   \\\\\n",
       "\\textbf{Method:}           &  Least Squares   & \\textbf{  F-statistic:       } &     1162.   \\\\\n",
       "\\textbf{Date:}             & Fri, 08 Nov 2024 & \\textbf{  Prob (F-statistic):} & 8.13e-100   \\\\\n",
       "\\textbf{Time:}             &     02:48:26     & \\textbf{  Log-Likelihood:    } &   -194.51   \\\\\n",
       "\\textbf{No. Observations:} &         272      & \\textbf{  AIC:               } &     393.0   \\\\\n",
       "\\textbf{Df Residuals:}     &         270      & \\textbf{  BIC:               } &     400.2   \\\\\n",
       "\\textbf{Df Model:}         &           1      & \\textbf{                     } &             \\\\\n",
       "\\textbf{Covariance Type:}  &    nonrobust     & \\textbf{                     } &             \\\\\n",
       "\\bottomrule\n",
       "\\end{tabular}\n",
       "\\begin{tabular}{lcccccc}\n",
       "                   & \\textbf{coef} & \\textbf{std err} & \\textbf{t} & \\textbf{P$> |$t$|$} & \\textbf{[0.025} & \\textbf{0.975]}  \\\\\n",
       "\\midrule\n",
       "\\textbf{Intercept} &      -1.8740  &        0.160     &   -11.702  &         0.000        &       -2.189    &       -1.559     \\\\\n",
       "\\textbf{waiting}   &       0.0756  &        0.002     &    34.089  &         0.000        &        0.071    &        0.080     \\\\\n",
       "\\bottomrule\n",
       "\\end{tabular}\n",
       "\\begin{tabular}{lclc}\n",
       "\\textbf{Omnibus:}       &  4.133 & \\textbf{  Durbin-Watson:     } &    2.561  \\\\\n",
       "\\textbf{Prob(Omnibus):} &  0.127 & \\textbf{  Jarque-Bera (JB):  } &    3.173  \\\\\n",
       "\\textbf{Skew:}          & -0.138 & \\textbf{  Prob(JB):          } &    0.205  \\\\\n",
       "\\textbf{Kurtosis:}      &  2.548 & \\textbf{  Cond. No.          } &     384.  \\\\\n",
       "\\bottomrule\n",
       "\\end{tabular}\n",
       "%\\caption{OLS Regression Results}\n",
       "\\end{center}\n",
       "\n",
       "Notes: \\newline\n",
       " [1] Standard Errors assume that the covariance matrix of the errors is correctly specified."
      ],
      "text/plain": [
       "<class 'statsmodels.iolib.summary.Summary'>\n",
       "\"\"\"\n",
       "                            OLS Regression Results                            \n",
       "==============================================================================\n",
       "Dep. Variable:               duration   R-squared:                       0.811\n",
       "Model:                            OLS   Adj. R-squared:                  0.811\n",
       "Method:                 Least Squares   F-statistic:                     1162.\n",
       "Date:                Fri, 08 Nov 2024   Prob (F-statistic):          8.13e-100\n",
       "Time:                        02:48:26   Log-Likelihood:                -194.51\n",
       "No. Observations:                 272   AIC:                             393.0\n",
       "Df Residuals:                     270   BIC:                             400.2\n",
       "Df Model:                           1                                         \n",
       "Covariance Type:            nonrobust                                         \n",
       "==============================================================================\n",
       "                 coef    std err          t      P>|t|      [0.025      0.975]\n",
       "------------------------------------------------------------------------------\n",
       "Intercept     -1.8740      0.160    -11.702      0.000      -2.189      -1.559\n",
       "waiting        0.0756      0.002     34.089      0.000       0.071       0.080\n",
       "==============================================================================\n",
       "Omnibus:                        4.133   Durbin-Watson:                   2.561\n",
       "Prob(Omnibus):                  0.127   Jarque-Bera (JB):                3.173\n",
       "Skew:                          -0.138   Prob(JB):                        0.205\n",
       "Kurtosis:                       2.548   Cond. No.                         384.\n",
       "==============================================================================\n",
       "\n",
       "Notes:\n",
       "[1] Standard Errors assume that the covariance matrix of the errors is correctly specified.\n",
       "\"\"\""
      ]
     },
     "execution_count": 8,
     "metadata": {},
     "output_type": "execute_result"
    }
   ],
   "source": [
    "import seaborn as sns\n",
    "import statsmodels.formula.api as smf\n",
    "\n",
    "# The \"Classic\" Old Faithful Geyser dataset\n",
    "old_faithful = sns.load_dataset('geyser')\n",
    "\n",
    "linear_for_specification = 'duration ~ waiting'\n",
    "model = smf.ols(linear_for_specification, data=old_faithful)\n",
    "fitted_model = model.fit()\n",
    "fitted_model.summary()"
   ]
  },
  {
   "cell_type": "markdown",
   "id": "a6e6aeb8",
   "metadata": {},
   "source": [
    "8.13e-100 is close to 0 in the table 0.001≥𝑝\n",
    " \n",
    "Very strong evidence against the null hypothesis\n",
    "\n",
    "reject h0 and x,y has a linear relationship."
   ]
  },
  {
   "cell_type": "markdown",
   "id": "bd719fef",
   "metadata": {},
   "source": [
    "### 9. As seen in the introductory figure above, if the delay of the geyser eruption since the previous geyser eruption exceeds approximately 63 minutes, there is a notable increase in the duration of the geyser eruption itself. In the figure below we therefore restrict the dataset to only short wait times. Within the context of only short wait times, is there evidence in the data for a relationship between duration and wait time in the same manner as in the full data set? Using the following code, characterize the evidence against the *null hypothesis* in the context of short wait times which are less than  *short_wait_limit* values of *62*, *64*, *66*.<br>\n"
   ]
  },
  {
   "cell_type": "code",
   "execution_count": 9,
   "id": "f0cd0ffd",
   "metadata": {},
   "outputs": [
    {
     "name": "stdout",
     "output_type": "stream",
     "text": [
      "==============================================================================\n",
      "                 coef    std err          t      P>|t|      [0.025      0.975]\n",
      "------------------------------------------------------------------------------\n",
      "Intercept      1.6401      0.309      5.306      0.000       1.025       2.255\n",
      "waiting        0.0069      0.006      1.188      0.238      -0.005       0.019\n",
      "==============================================================================\n"
     ]
    },
    {
     "data": {
      "application/vnd.plotly.v1+json": {
       "config": {
        "plotlyServerURL": "https://plot.ly"
       },
       "data": [
        {
         "hovertemplate": "waiting=%{x}<br>duration=%{y}<extra></extra>",
         "legendgroup": "",
         "marker": {
          "color": "#636efa",
          "symbol": "circle"
         },
         "mode": "markers",
         "name": "",
         "orientation": "v",
         "showlegend": false,
         "type": "scatter",
         "x": [
          54,
          55,
          51,
          54,
          47,
          52,
          52,
          51,
          47,
          55,
          52,
          48,
          59,
          58,
          58,
          53,
          59,
          54,
          54,
          59,
          48,
          60,
          56,
          60,
          48,
          60,
          50,
          51,
          49,
          47,
          52,
          59,
          59,
          50,
          59,
          53,
          56,
          45,
          55,
          45,
          56,
          46,
          51,
          53,
          60,
          59,
          49,
          53,
          53,
          45,
          58,
          52,
          49,
          57,
          50,
          55,
          51,
          46,
          55,
          57,
          51,
          60,
          53,
          46,
          49,
          49,
          53,
          55,
          50,
          54,
          54,
          50,
          54,
          54,
          47,
          57,
          54,
          56,
          58,
          43,
          60,
          46,
          46
         ],
         "xaxis": "x",
         "y": [
          1.8,
          2.883,
          1.95,
          1.833,
          1.75,
          2.167,
          1.6,
          1.8,
          1.75,
          1.967,
          2.017,
          1.867,
          1.833,
          1.883,
          1.75,
          2.1,
          2,
          1.833,
          1.733,
          2.233,
          1.75,
          1.817,
          1.967,
          2.017,
          2.167,
          2.2,
          1.867,
          1.867,
          2.1,
          1.867,
          1.783,
          2.3,
          1.7,
          2.317,
          1.817,
          2.617,
          1.967,
          1.917,
          2.267,
          1.867,
          2.8,
          1.833,
          1.883,
          2.033,
          2.233,
          1.983,
          2.017,
          1.8,
          1.8,
          2.2,
          2,
          1.933,
          1.917,
          2.083,
          2.417,
          1.883,
          2.033,
          1.833,
          2.1830000000000003,
          1.833,
          2.25,
          2.1,
          1.867,
          1.783,
          1.933,
          1.867,
          2.4,
          2,
          1.867,
          1.75,
          2.417,
          2.217,
          1.883,
          1.85,
          2.35,
          2.083,
          2.2,
          2,
          1.85,
          1.983,
          2.25,
          2.15,
          1.817
         ],
         "yaxis": "y"
        },
        {
         "hovertemplate": "<b>OLS trendline</b><br>duration = 0.00691825 * waiting + 1.64008<br>R<sup>2</sup>=0.017113<br><br>waiting=%{x}<br>duration=%{y} <b>(trend)</b><extra></extra>",
         "legendgroup": "",
         "marker": {
          "color": "#636efa",
          "symbol": "circle"
         },
         "mode": "lines",
         "name": "",
         "showlegend": false,
         "type": "scatter",
         "x": [
          43,
          45,
          45,
          45,
          46,
          46,
          46,
          46,
          46,
          47,
          47,
          47,
          47,
          48,
          48,
          48,
          49,
          49,
          49,
          49,
          49,
          50,
          50,
          50,
          50,
          50,
          51,
          51,
          51,
          51,
          51,
          51,
          52,
          52,
          52,
          52,
          52,
          53,
          53,
          53,
          53,
          53,
          53,
          53,
          54,
          54,
          54,
          54,
          54,
          54,
          54,
          54,
          54,
          55,
          55,
          55,
          55,
          55,
          55,
          56,
          56,
          56,
          56,
          57,
          57,
          57,
          58,
          58,
          58,
          58,
          59,
          59,
          59,
          59,
          59,
          59,
          59,
          60,
          60,
          60,
          60,
          60,
          60
         ],
         "xaxis": "x",
         "y": [
          1.9375657137914635,
          1.9514022113624248,
          1.9514022113624248,
          1.9514022113624248,
          1.9583204601479052,
          1.9583204601479052,
          1.9583204601479052,
          1.9583204601479052,
          1.9583204601479052,
          1.9652387089333858,
          1.9652387089333858,
          1.9652387089333858,
          1.9652387089333858,
          1.9721569577188665,
          1.9721569577188665,
          1.9721569577188665,
          1.9790752065043469,
          1.9790752065043469,
          1.9790752065043469,
          1.9790752065043469,
          1.9790752065043469,
          1.9859934552898275,
          1.9859934552898275,
          1.9859934552898275,
          1.9859934552898275,
          1.9859934552898275,
          1.9929117040753082,
          1.9929117040753082,
          1.9929117040753082,
          1.9929117040753082,
          1.9929117040753082,
          1.9929117040753082,
          1.9998299528607888,
          1.9998299528607888,
          1.9998299528607888,
          1.9998299528607888,
          1.9998299528607888,
          2.0067482016462694,
          2.0067482016462694,
          2.0067482016462694,
          2.0067482016462694,
          2.0067482016462694,
          2.0067482016462694,
          2.0067482016462694,
          2.01366645043175,
          2.01366645043175,
          2.01366645043175,
          2.01366645043175,
          2.01366645043175,
          2.01366645043175,
          2.01366645043175,
          2.01366645043175,
          2.01366645043175,
          2.0205846992172303,
          2.0205846992172303,
          2.0205846992172303,
          2.0205846992172303,
          2.0205846992172303,
          2.0205846992172303,
          2.027502948002711,
          2.027502948002711,
          2.027502948002711,
          2.027502948002711,
          2.0344211967881916,
          2.0344211967881916,
          2.0344211967881916,
          2.0413394455736724,
          2.0413394455736724,
          2.0413394455736724,
          2.0413394455736724,
          2.048257694359153,
          2.048257694359153,
          2.048257694359153,
          2.048257694359153,
          2.048257694359153,
          2.048257694359153,
          2.048257694359153,
          2.0551759431446337,
          2.0551759431446337,
          2.0551759431446337,
          2.0551759431446337,
          2.0551759431446337,
          2.0551759431446337
         ],
         "yaxis": "y"
        }
       ],
       "layout": {
        "legend": {
         "tracegroupgap": 0
        },
        "template": {
         "data": {
          "bar": [
           {
            "error_x": {
             "color": "#2a3f5f"
            },
            "error_y": {
             "color": "#2a3f5f"
            },
            "marker": {
             "line": {
              "color": "#E5ECF6",
              "width": 0.5
             },
             "pattern": {
              "fillmode": "overlay",
              "size": 10,
              "solidity": 0.2
             }
            },
            "type": "bar"
           }
          ],
          "barpolar": [
           {
            "marker": {
             "line": {
              "color": "#E5ECF6",
              "width": 0.5
             },
             "pattern": {
              "fillmode": "overlay",
              "size": 10,
              "solidity": 0.2
             }
            },
            "type": "barpolar"
           }
          ],
          "carpet": [
           {
            "aaxis": {
             "endlinecolor": "#2a3f5f",
             "gridcolor": "white",
             "linecolor": "white",
             "minorgridcolor": "white",
             "startlinecolor": "#2a3f5f"
            },
            "baxis": {
             "endlinecolor": "#2a3f5f",
             "gridcolor": "white",
             "linecolor": "white",
             "minorgridcolor": "white",
             "startlinecolor": "#2a3f5f"
            },
            "type": "carpet"
           }
          ],
          "choropleth": [
           {
            "colorbar": {
             "outlinewidth": 0,
             "ticks": ""
            },
            "type": "choropleth"
           }
          ],
          "contour": [
           {
            "colorbar": {
             "outlinewidth": 0,
             "ticks": ""
            },
            "colorscale": [
             [
              0,
              "#0d0887"
             ],
             [
              0.1111111111111111,
              "#46039f"
             ],
             [
              0.2222222222222222,
              "#7201a8"
             ],
             [
              0.3333333333333333,
              "#9c179e"
             ],
             [
              0.4444444444444444,
              "#bd3786"
             ],
             [
              0.5555555555555556,
              "#d8576b"
             ],
             [
              0.6666666666666666,
              "#ed7953"
             ],
             [
              0.7777777777777778,
              "#fb9f3a"
             ],
             [
              0.8888888888888888,
              "#fdca26"
             ],
             [
              1,
              "#f0f921"
             ]
            ],
            "type": "contour"
           }
          ],
          "contourcarpet": [
           {
            "colorbar": {
             "outlinewidth": 0,
             "ticks": ""
            },
            "type": "contourcarpet"
           }
          ],
          "heatmap": [
           {
            "colorbar": {
             "outlinewidth": 0,
             "ticks": ""
            },
            "colorscale": [
             [
              0,
              "#0d0887"
             ],
             [
              0.1111111111111111,
              "#46039f"
             ],
             [
              0.2222222222222222,
              "#7201a8"
             ],
             [
              0.3333333333333333,
              "#9c179e"
             ],
             [
              0.4444444444444444,
              "#bd3786"
             ],
             [
              0.5555555555555556,
              "#d8576b"
             ],
             [
              0.6666666666666666,
              "#ed7953"
             ],
             [
              0.7777777777777778,
              "#fb9f3a"
             ],
             [
              0.8888888888888888,
              "#fdca26"
             ],
             [
              1,
              "#f0f921"
             ]
            ],
            "type": "heatmap"
           }
          ],
          "heatmapgl": [
           {
            "colorbar": {
             "outlinewidth": 0,
             "ticks": ""
            },
            "colorscale": [
             [
              0,
              "#0d0887"
             ],
             [
              0.1111111111111111,
              "#46039f"
             ],
             [
              0.2222222222222222,
              "#7201a8"
             ],
             [
              0.3333333333333333,
              "#9c179e"
             ],
             [
              0.4444444444444444,
              "#bd3786"
             ],
             [
              0.5555555555555556,
              "#d8576b"
             ],
             [
              0.6666666666666666,
              "#ed7953"
             ],
             [
              0.7777777777777778,
              "#fb9f3a"
             ],
             [
              0.8888888888888888,
              "#fdca26"
             ],
             [
              1,
              "#f0f921"
             ]
            ],
            "type": "heatmapgl"
           }
          ],
          "histogram": [
           {
            "marker": {
             "pattern": {
              "fillmode": "overlay",
              "size": 10,
              "solidity": 0.2
             }
            },
            "type": "histogram"
           }
          ],
          "histogram2d": [
           {
            "colorbar": {
             "outlinewidth": 0,
             "ticks": ""
            },
            "colorscale": [
             [
              0,
              "#0d0887"
             ],
             [
              0.1111111111111111,
              "#46039f"
             ],
             [
              0.2222222222222222,
              "#7201a8"
             ],
             [
              0.3333333333333333,
              "#9c179e"
             ],
             [
              0.4444444444444444,
              "#bd3786"
             ],
             [
              0.5555555555555556,
              "#d8576b"
             ],
             [
              0.6666666666666666,
              "#ed7953"
             ],
             [
              0.7777777777777778,
              "#fb9f3a"
             ],
             [
              0.8888888888888888,
              "#fdca26"
             ],
             [
              1,
              "#f0f921"
             ]
            ],
            "type": "histogram2d"
           }
          ],
          "histogram2dcontour": [
           {
            "colorbar": {
             "outlinewidth": 0,
             "ticks": ""
            },
            "colorscale": [
             [
              0,
              "#0d0887"
             ],
             [
              0.1111111111111111,
              "#46039f"
             ],
             [
              0.2222222222222222,
              "#7201a8"
             ],
             [
              0.3333333333333333,
              "#9c179e"
             ],
             [
              0.4444444444444444,
              "#bd3786"
             ],
             [
              0.5555555555555556,
              "#d8576b"
             ],
             [
              0.6666666666666666,
              "#ed7953"
             ],
             [
              0.7777777777777778,
              "#fb9f3a"
             ],
             [
              0.8888888888888888,
              "#fdca26"
             ],
             [
              1,
              "#f0f921"
             ]
            ],
            "type": "histogram2dcontour"
           }
          ],
          "mesh3d": [
           {
            "colorbar": {
             "outlinewidth": 0,
             "ticks": ""
            },
            "type": "mesh3d"
           }
          ],
          "parcoords": [
           {
            "line": {
             "colorbar": {
              "outlinewidth": 0,
              "ticks": ""
             }
            },
            "type": "parcoords"
           }
          ],
          "pie": [
           {
            "automargin": true,
            "type": "pie"
           }
          ],
          "scatter": [
           {
            "fillpattern": {
             "fillmode": "overlay",
             "size": 10,
             "solidity": 0.2
            },
            "type": "scatter"
           }
          ],
          "scatter3d": [
           {
            "line": {
             "colorbar": {
              "outlinewidth": 0,
              "ticks": ""
             }
            },
            "marker": {
             "colorbar": {
              "outlinewidth": 0,
              "ticks": ""
             }
            },
            "type": "scatter3d"
           }
          ],
          "scattercarpet": [
           {
            "marker": {
             "colorbar": {
              "outlinewidth": 0,
              "ticks": ""
             }
            },
            "type": "scattercarpet"
           }
          ],
          "scattergeo": [
           {
            "marker": {
             "colorbar": {
              "outlinewidth": 0,
              "ticks": ""
             }
            },
            "type": "scattergeo"
           }
          ],
          "scattergl": [
           {
            "marker": {
             "colorbar": {
              "outlinewidth": 0,
              "ticks": ""
             }
            },
            "type": "scattergl"
           }
          ],
          "scattermapbox": [
           {
            "marker": {
             "colorbar": {
              "outlinewidth": 0,
              "ticks": ""
             }
            },
            "type": "scattermapbox"
           }
          ],
          "scatterpolar": [
           {
            "marker": {
             "colorbar": {
              "outlinewidth": 0,
              "ticks": ""
             }
            },
            "type": "scatterpolar"
           }
          ],
          "scatterpolargl": [
           {
            "marker": {
             "colorbar": {
              "outlinewidth": 0,
              "ticks": ""
             }
            },
            "type": "scatterpolargl"
           }
          ],
          "scatterternary": [
           {
            "marker": {
             "colorbar": {
              "outlinewidth": 0,
              "ticks": ""
             }
            },
            "type": "scatterternary"
           }
          ],
          "surface": [
           {
            "colorbar": {
             "outlinewidth": 0,
             "ticks": ""
            },
            "colorscale": [
             [
              0,
              "#0d0887"
             ],
             [
              0.1111111111111111,
              "#46039f"
             ],
             [
              0.2222222222222222,
              "#7201a8"
             ],
             [
              0.3333333333333333,
              "#9c179e"
             ],
             [
              0.4444444444444444,
              "#bd3786"
             ],
             [
              0.5555555555555556,
              "#d8576b"
             ],
             [
              0.6666666666666666,
              "#ed7953"
             ],
             [
              0.7777777777777778,
              "#fb9f3a"
             ],
             [
              0.8888888888888888,
              "#fdca26"
             ],
             [
              1,
              "#f0f921"
             ]
            ],
            "type": "surface"
           }
          ],
          "table": [
           {
            "cells": {
             "fill": {
              "color": "#EBF0F8"
             },
             "line": {
              "color": "white"
             }
            },
            "header": {
             "fill": {
              "color": "#C8D4E3"
             },
             "line": {
              "color": "white"
             }
            },
            "type": "table"
           }
          ]
         },
         "layout": {
          "annotationdefaults": {
           "arrowcolor": "#2a3f5f",
           "arrowhead": 0,
           "arrowwidth": 1
          },
          "autotypenumbers": "strict",
          "coloraxis": {
           "colorbar": {
            "outlinewidth": 0,
            "ticks": ""
           }
          },
          "colorscale": {
           "diverging": [
            [
             0,
             "#8e0152"
            ],
            [
             0.1,
             "#c51b7d"
            ],
            [
             0.2,
             "#de77ae"
            ],
            [
             0.3,
             "#f1b6da"
            ],
            [
             0.4,
             "#fde0ef"
            ],
            [
             0.5,
             "#f7f7f7"
            ],
            [
             0.6,
             "#e6f5d0"
            ],
            [
             0.7,
             "#b8e186"
            ],
            [
             0.8,
             "#7fbc41"
            ],
            [
             0.9,
             "#4d9221"
            ],
            [
             1,
             "#276419"
            ]
           ],
           "sequential": [
            [
             0,
             "#0d0887"
            ],
            [
             0.1111111111111111,
             "#46039f"
            ],
            [
             0.2222222222222222,
             "#7201a8"
            ],
            [
             0.3333333333333333,
             "#9c179e"
            ],
            [
             0.4444444444444444,
             "#bd3786"
            ],
            [
             0.5555555555555556,
             "#d8576b"
            ],
            [
             0.6666666666666666,
             "#ed7953"
            ],
            [
             0.7777777777777778,
             "#fb9f3a"
            ],
            [
             0.8888888888888888,
             "#fdca26"
            ],
            [
             1,
             "#f0f921"
            ]
           ],
           "sequentialminus": [
            [
             0,
             "#0d0887"
            ],
            [
             0.1111111111111111,
             "#46039f"
            ],
            [
             0.2222222222222222,
             "#7201a8"
            ],
            [
             0.3333333333333333,
             "#9c179e"
            ],
            [
             0.4444444444444444,
             "#bd3786"
            ],
            [
             0.5555555555555556,
             "#d8576b"
            ],
            [
             0.6666666666666666,
             "#ed7953"
            ],
            [
             0.7777777777777778,
             "#fb9f3a"
            ],
            [
             0.8888888888888888,
             "#fdca26"
            ],
            [
             1,
             "#f0f921"
            ]
           ]
          },
          "colorway": [
           "#636efa",
           "#EF553B",
           "#00cc96",
           "#ab63fa",
           "#FFA15A",
           "#19d3f3",
           "#FF6692",
           "#B6E880",
           "#FF97FF",
           "#FECB52"
          ],
          "font": {
           "color": "#2a3f5f"
          },
          "geo": {
           "bgcolor": "white",
           "lakecolor": "white",
           "landcolor": "#E5ECF6",
           "showlakes": true,
           "showland": true,
           "subunitcolor": "white"
          },
          "hoverlabel": {
           "align": "left"
          },
          "hovermode": "closest",
          "mapbox": {
           "style": "light"
          },
          "paper_bgcolor": "white",
          "plot_bgcolor": "#E5ECF6",
          "polar": {
           "angularaxis": {
            "gridcolor": "white",
            "linecolor": "white",
            "ticks": ""
           },
           "bgcolor": "#E5ECF6",
           "radialaxis": {
            "gridcolor": "white",
            "linecolor": "white",
            "ticks": ""
           }
          },
          "scene": {
           "xaxis": {
            "backgroundcolor": "#E5ECF6",
            "gridcolor": "white",
            "gridwidth": 2,
            "linecolor": "white",
            "showbackground": true,
            "ticks": "",
            "zerolinecolor": "white"
           },
           "yaxis": {
            "backgroundcolor": "#E5ECF6",
            "gridcolor": "white",
            "gridwidth": 2,
            "linecolor": "white",
            "showbackground": true,
            "ticks": "",
            "zerolinecolor": "white"
           },
           "zaxis": {
            "backgroundcolor": "#E5ECF6",
            "gridcolor": "white",
            "gridwidth": 2,
            "linecolor": "white",
            "showbackground": true,
            "ticks": "",
            "zerolinecolor": "white"
           }
          },
          "shapedefaults": {
           "line": {
            "color": "#2a3f5f"
           }
          },
          "ternary": {
           "aaxis": {
            "gridcolor": "white",
            "linecolor": "white",
            "ticks": ""
           },
           "baxis": {
            "gridcolor": "white",
            "linecolor": "white",
            "ticks": ""
           },
           "bgcolor": "#E5ECF6",
           "caxis": {
            "gridcolor": "white",
            "linecolor": "white",
            "ticks": ""
           }
          },
          "title": {
           "x": 0.05
          },
          "xaxis": {
           "automargin": true,
           "gridcolor": "white",
           "linecolor": "white",
           "ticks": "",
           "title": {
            "standoff": 15
           },
           "zerolinecolor": "white",
           "zerolinewidth": 2
          },
          "yaxis": {
           "automargin": true,
           "gridcolor": "white",
           "linecolor": "white",
           "ticks": "",
           "title": {
            "standoff": 15
           },
           "zerolinecolor": "white",
           "zerolinewidth": 2
          }
         }
        },
        "title": {
         "text": "Old Faithful Geyser Eruptions for short wait times (<62)"
        },
        "xaxis": {
         "anchor": "y",
         "domain": [
          0,
          1
         ],
         "title": {
          "text": "waiting"
         }
        },
        "yaxis": {
         "anchor": "x",
         "domain": [
          0,
          1
         ],
         "title": {
          "text": "duration"
         }
        }
       }
      },
      "text/html": [
       "<div>                            <div id=\"a6971428-b606-4f5b-88fe-b1cffaa11cf4\" class=\"plotly-graph-div\" style=\"height:525px; width:100%;\"></div>            <script type=\"text/javascript\">                require([\"plotly\"], function(Plotly) {                    window.PLOTLYENV=window.PLOTLYENV || {};                                    if (document.getElementById(\"a6971428-b606-4f5b-88fe-b1cffaa11cf4\")) {                    Plotly.newPlot(                        \"a6971428-b606-4f5b-88fe-b1cffaa11cf4\",                        [{\"hovertemplate\":\"waiting=%{x}\\u003cbr\\u003eduration=%{y}\\u003cextra\\u003e\\u003c\\u002fextra\\u003e\",\"legendgroup\":\"\",\"marker\":{\"color\":\"#636efa\",\"symbol\":\"circle\"},\"mode\":\"markers\",\"name\":\"\",\"orientation\":\"v\",\"showlegend\":false,\"x\":[54,55,51,54,47,52,52,51,47,55,52,48,59,58,58,53,59,54,54,59,48,60,56,60,48,60,50,51,49,47,52,59,59,50,59,53,56,45,55,45,56,46,51,53,60,59,49,53,53,45,58,52,49,57,50,55,51,46,55,57,51,60,53,46,49,49,53,55,50,54,54,50,54,54,47,57,54,56,58,43,60,46,46],\"xaxis\":\"x\",\"y\":[1.8,2.883,1.95,1.833,1.75,2.167,1.6,1.8,1.75,1.967,2.017,1.867,1.833,1.883,1.75,2.1,2.0,1.833,1.733,2.233,1.75,1.817,1.967,2.017,2.167,2.2,1.867,1.867,2.1,1.867,1.783,2.3,1.7,2.317,1.817,2.617,1.967,1.917,2.267,1.867,2.8,1.833,1.883,2.033,2.233,1.983,2.017,1.8,1.8,2.2,2.0,1.933,1.917,2.083,2.417,1.883,2.033,1.833,2.1830000000000003,1.833,2.25,2.1,1.867,1.783,1.933,1.867,2.4,2.0,1.867,1.75,2.417,2.217,1.883,1.85,2.35,2.083,2.2,2.0,1.85,1.983,2.25,2.15,1.817],\"yaxis\":\"y\",\"type\":\"scatter\"},{\"hovertemplate\":\"\\u003cb\\u003eOLS trendline\\u003c\\u002fb\\u003e\\u003cbr\\u003eduration = 0.00691825 * waiting + 1.64008\\u003cbr\\u003eR\\u003csup\\u003e2\\u003c\\u002fsup\\u003e=0.017113\\u003cbr\\u003e\\u003cbr\\u003ewaiting=%{x}\\u003cbr\\u003eduration=%{y} \\u003cb\\u003e(trend)\\u003c\\u002fb\\u003e\\u003cextra\\u003e\\u003c\\u002fextra\\u003e\",\"legendgroup\":\"\",\"marker\":{\"color\":\"#636efa\",\"symbol\":\"circle\"},\"mode\":\"lines\",\"name\":\"\",\"showlegend\":false,\"x\":[43,45,45,45,46,46,46,46,46,47,47,47,47,48,48,48,49,49,49,49,49,50,50,50,50,50,51,51,51,51,51,51,52,52,52,52,52,53,53,53,53,53,53,53,54,54,54,54,54,54,54,54,54,55,55,55,55,55,55,56,56,56,56,57,57,57,58,58,58,58,59,59,59,59,59,59,59,60,60,60,60,60,60],\"xaxis\":\"x\",\"y\":[1.9375657137914635,1.9514022113624248,1.9514022113624248,1.9514022113624248,1.9583204601479052,1.9583204601479052,1.9583204601479052,1.9583204601479052,1.9583204601479052,1.9652387089333858,1.9652387089333858,1.9652387089333858,1.9652387089333858,1.9721569577188665,1.9721569577188665,1.9721569577188665,1.9790752065043469,1.9790752065043469,1.9790752065043469,1.9790752065043469,1.9790752065043469,1.9859934552898275,1.9859934552898275,1.9859934552898275,1.9859934552898275,1.9859934552898275,1.9929117040753082,1.9929117040753082,1.9929117040753082,1.9929117040753082,1.9929117040753082,1.9929117040753082,1.9998299528607888,1.9998299528607888,1.9998299528607888,1.9998299528607888,1.9998299528607888,2.0067482016462694,2.0067482016462694,2.0067482016462694,2.0067482016462694,2.0067482016462694,2.0067482016462694,2.0067482016462694,2.01366645043175,2.01366645043175,2.01366645043175,2.01366645043175,2.01366645043175,2.01366645043175,2.01366645043175,2.01366645043175,2.01366645043175,2.0205846992172303,2.0205846992172303,2.0205846992172303,2.0205846992172303,2.0205846992172303,2.0205846992172303,2.027502948002711,2.027502948002711,2.027502948002711,2.027502948002711,2.0344211967881916,2.0344211967881916,2.0344211967881916,2.0413394455736724,2.0413394455736724,2.0413394455736724,2.0413394455736724,2.048257694359153,2.048257694359153,2.048257694359153,2.048257694359153,2.048257694359153,2.048257694359153,2.048257694359153,2.0551759431446337,2.0551759431446337,2.0551759431446337,2.0551759431446337,2.0551759431446337,2.0551759431446337],\"yaxis\":\"y\",\"type\":\"scatter\"}],                        {\"template\":{\"data\":{\"histogram2dcontour\":[{\"type\":\"histogram2dcontour\",\"colorbar\":{\"outlinewidth\":0,\"ticks\":\"\"},\"colorscale\":[[0.0,\"#0d0887\"],[0.1111111111111111,\"#46039f\"],[0.2222222222222222,\"#7201a8\"],[0.3333333333333333,\"#9c179e\"],[0.4444444444444444,\"#bd3786\"],[0.5555555555555556,\"#d8576b\"],[0.6666666666666666,\"#ed7953\"],[0.7777777777777778,\"#fb9f3a\"],[0.8888888888888888,\"#fdca26\"],[1.0,\"#f0f921\"]]}],\"choropleth\":[{\"type\":\"choropleth\",\"colorbar\":{\"outlinewidth\":0,\"ticks\":\"\"}}],\"histogram2d\":[{\"type\":\"histogram2d\",\"colorbar\":{\"outlinewidth\":0,\"ticks\":\"\"},\"colorscale\":[[0.0,\"#0d0887\"],[0.1111111111111111,\"#46039f\"],[0.2222222222222222,\"#7201a8\"],[0.3333333333333333,\"#9c179e\"],[0.4444444444444444,\"#bd3786\"],[0.5555555555555556,\"#d8576b\"],[0.6666666666666666,\"#ed7953\"],[0.7777777777777778,\"#fb9f3a\"],[0.8888888888888888,\"#fdca26\"],[1.0,\"#f0f921\"]]}],\"heatmap\":[{\"type\":\"heatmap\",\"colorbar\":{\"outlinewidth\":0,\"ticks\":\"\"},\"colorscale\":[[0.0,\"#0d0887\"],[0.1111111111111111,\"#46039f\"],[0.2222222222222222,\"#7201a8\"],[0.3333333333333333,\"#9c179e\"],[0.4444444444444444,\"#bd3786\"],[0.5555555555555556,\"#d8576b\"],[0.6666666666666666,\"#ed7953\"],[0.7777777777777778,\"#fb9f3a\"],[0.8888888888888888,\"#fdca26\"],[1.0,\"#f0f921\"]]}],\"heatmapgl\":[{\"type\":\"heatmapgl\",\"colorbar\":{\"outlinewidth\":0,\"ticks\":\"\"},\"colorscale\":[[0.0,\"#0d0887\"],[0.1111111111111111,\"#46039f\"],[0.2222222222222222,\"#7201a8\"],[0.3333333333333333,\"#9c179e\"],[0.4444444444444444,\"#bd3786\"],[0.5555555555555556,\"#d8576b\"],[0.6666666666666666,\"#ed7953\"],[0.7777777777777778,\"#fb9f3a\"],[0.8888888888888888,\"#fdca26\"],[1.0,\"#f0f921\"]]}],\"contourcarpet\":[{\"type\":\"contourcarpet\",\"colorbar\":{\"outlinewidth\":0,\"ticks\":\"\"}}],\"contour\":[{\"type\":\"contour\",\"colorbar\":{\"outlinewidth\":0,\"ticks\":\"\"},\"colorscale\":[[0.0,\"#0d0887\"],[0.1111111111111111,\"#46039f\"],[0.2222222222222222,\"#7201a8\"],[0.3333333333333333,\"#9c179e\"],[0.4444444444444444,\"#bd3786\"],[0.5555555555555556,\"#d8576b\"],[0.6666666666666666,\"#ed7953\"],[0.7777777777777778,\"#fb9f3a\"],[0.8888888888888888,\"#fdca26\"],[1.0,\"#f0f921\"]]}],\"surface\":[{\"type\":\"surface\",\"colorbar\":{\"outlinewidth\":0,\"ticks\":\"\"},\"colorscale\":[[0.0,\"#0d0887\"],[0.1111111111111111,\"#46039f\"],[0.2222222222222222,\"#7201a8\"],[0.3333333333333333,\"#9c179e\"],[0.4444444444444444,\"#bd3786\"],[0.5555555555555556,\"#d8576b\"],[0.6666666666666666,\"#ed7953\"],[0.7777777777777778,\"#fb9f3a\"],[0.8888888888888888,\"#fdca26\"],[1.0,\"#f0f921\"]]}],\"mesh3d\":[{\"type\":\"mesh3d\",\"colorbar\":{\"outlinewidth\":0,\"ticks\":\"\"}}],\"scatter\":[{\"fillpattern\":{\"fillmode\":\"overlay\",\"size\":10,\"solidity\":0.2},\"type\":\"scatter\"}],\"parcoords\":[{\"type\":\"parcoords\",\"line\":{\"colorbar\":{\"outlinewidth\":0,\"ticks\":\"\"}}}],\"scatterpolargl\":[{\"type\":\"scatterpolargl\",\"marker\":{\"colorbar\":{\"outlinewidth\":0,\"ticks\":\"\"}}}],\"bar\":[{\"error_x\":{\"color\":\"#2a3f5f\"},\"error_y\":{\"color\":\"#2a3f5f\"},\"marker\":{\"line\":{\"color\":\"#E5ECF6\",\"width\":0.5},\"pattern\":{\"fillmode\":\"overlay\",\"size\":10,\"solidity\":0.2}},\"type\":\"bar\"}],\"scattergeo\":[{\"type\":\"scattergeo\",\"marker\":{\"colorbar\":{\"outlinewidth\":0,\"ticks\":\"\"}}}],\"scatterpolar\":[{\"type\":\"scatterpolar\",\"marker\":{\"colorbar\":{\"outlinewidth\":0,\"ticks\":\"\"}}}],\"histogram\":[{\"marker\":{\"pattern\":{\"fillmode\":\"overlay\",\"size\":10,\"solidity\":0.2}},\"type\":\"histogram\"}],\"scattergl\":[{\"type\":\"scattergl\",\"marker\":{\"colorbar\":{\"outlinewidth\":0,\"ticks\":\"\"}}}],\"scatter3d\":[{\"type\":\"scatter3d\",\"line\":{\"colorbar\":{\"outlinewidth\":0,\"ticks\":\"\"}},\"marker\":{\"colorbar\":{\"outlinewidth\":0,\"ticks\":\"\"}}}],\"scattermapbox\":[{\"type\":\"scattermapbox\",\"marker\":{\"colorbar\":{\"outlinewidth\":0,\"ticks\":\"\"}}}],\"scatterternary\":[{\"type\":\"scatterternary\",\"marker\":{\"colorbar\":{\"outlinewidth\":0,\"ticks\":\"\"}}}],\"scattercarpet\":[{\"type\":\"scattercarpet\",\"marker\":{\"colorbar\":{\"outlinewidth\":0,\"ticks\":\"\"}}}],\"carpet\":[{\"aaxis\":{\"endlinecolor\":\"#2a3f5f\",\"gridcolor\":\"white\",\"linecolor\":\"white\",\"minorgridcolor\":\"white\",\"startlinecolor\":\"#2a3f5f\"},\"baxis\":{\"endlinecolor\":\"#2a3f5f\",\"gridcolor\":\"white\",\"linecolor\":\"white\",\"minorgridcolor\":\"white\",\"startlinecolor\":\"#2a3f5f\"},\"type\":\"carpet\"}],\"table\":[{\"cells\":{\"fill\":{\"color\":\"#EBF0F8\"},\"line\":{\"color\":\"white\"}},\"header\":{\"fill\":{\"color\":\"#C8D4E3\"},\"line\":{\"color\":\"white\"}},\"type\":\"table\"}],\"barpolar\":[{\"marker\":{\"line\":{\"color\":\"#E5ECF6\",\"width\":0.5},\"pattern\":{\"fillmode\":\"overlay\",\"size\":10,\"solidity\":0.2}},\"type\":\"barpolar\"}],\"pie\":[{\"automargin\":true,\"type\":\"pie\"}]},\"layout\":{\"autotypenumbers\":\"strict\",\"colorway\":[\"#636efa\",\"#EF553B\",\"#00cc96\",\"#ab63fa\",\"#FFA15A\",\"#19d3f3\",\"#FF6692\",\"#B6E880\",\"#FF97FF\",\"#FECB52\"],\"font\":{\"color\":\"#2a3f5f\"},\"hovermode\":\"closest\",\"hoverlabel\":{\"align\":\"left\"},\"paper_bgcolor\":\"white\",\"plot_bgcolor\":\"#E5ECF6\",\"polar\":{\"bgcolor\":\"#E5ECF6\",\"angularaxis\":{\"gridcolor\":\"white\",\"linecolor\":\"white\",\"ticks\":\"\"},\"radialaxis\":{\"gridcolor\":\"white\",\"linecolor\":\"white\",\"ticks\":\"\"}},\"ternary\":{\"bgcolor\":\"#E5ECF6\",\"aaxis\":{\"gridcolor\":\"white\",\"linecolor\":\"white\",\"ticks\":\"\"},\"baxis\":{\"gridcolor\":\"white\",\"linecolor\":\"white\",\"ticks\":\"\"},\"caxis\":{\"gridcolor\":\"white\",\"linecolor\":\"white\",\"ticks\":\"\"}},\"coloraxis\":{\"colorbar\":{\"outlinewidth\":0,\"ticks\":\"\"}},\"colorscale\":{\"sequential\":[[0.0,\"#0d0887\"],[0.1111111111111111,\"#46039f\"],[0.2222222222222222,\"#7201a8\"],[0.3333333333333333,\"#9c179e\"],[0.4444444444444444,\"#bd3786\"],[0.5555555555555556,\"#d8576b\"],[0.6666666666666666,\"#ed7953\"],[0.7777777777777778,\"#fb9f3a\"],[0.8888888888888888,\"#fdca26\"],[1.0,\"#f0f921\"]],\"sequentialminus\":[[0.0,\"#0d0887\"],[0.1111111111111111,\"#46039f\"],[0.2222222222222222,\"#7201a8\"],[0.3333333333333333,\"#9c179e\"],[0.4444444444444444,\"#bd3786\"],[0.5555555555555556,\"#d8576b\"],[0.6666666666666666,\"#ed7953\"],[0.7777777777777778,\"#fb9f3a\"],[0.8888888888888888,\"#fdca26\"],[1.0,\"#f0f921\"]],\"diverging\":[[0,\"#8e0152\"],[0.1,\"#c51b7d\"],[0.2,\"#de77ae\"],[0.3,\"#f1b6da\"],[0.4,\"#fde0ef\"],[0.5,\"#f7f7f7\"],[0.6,\"#e6f5d0\"],[0.7,\"#b8e186\"],[0.8,\"#7fbc41\"],[0.9,\"#4d9221\"],[1,\"#276419\"]]},\"xaxis\":{\"gridcolor\":\"white\",\"linecolor\":\"white\",\"ticks\":\"\",\"title\":{\"standoff\":15},\"zerolinecolor\":\"white\",\"automargin\":true,\"zerolinewidth\":2},\"yaxis\":{\"gridcolor\":\"white\",\"linecolor\":\"white\",\"ticks\":\"\",\"title\":{\"standoff\":15},\"zerolinecolor\":\"white\",\"automargin\":true,\"zerolinewidth\":2},\"scene\":{\"xaxis\":{\"backgroundcolor\":\"#E5ECF6\",\"gridcolor\":\"white\",\"linecolor\":\"white\",\"showbackground\":true,\"ticks\":\"\",\"zerolinecolor\":\"white\",\"gridwidth\":2},\"yaxis\":{\"backgroundcolor\":\"#E5ECF6\",\"gridcolor\":\"white\",\"linecolor\":\"white\",\"showbackground\":true,\"ticks\":\"\",\"zerolinecolor\":\"white\",\"gridwidth\":2},\"zaxis\":{\"backgroundcolor\":\"#E5ECF6\",\"gridcolor\":\"white\",\"linecolor\":\"white\",\"showbackground\":true,\"ticks\":\"\",\"zerolinecolor\":\"white\",\"gridwidth\":2}},\"shapedefaults\":{\"line\":{\"color\":\"#2a3f5f\"}},\"annotationdefaults\":{\"arrowcolor\":\"#2a3f5f\",\"arrowhead\":0,\"arrowwidth\":1},\"geo\":{\"bgcolor\":\"white\",\"landcolor\":\"#E5ECF6\",\"subunitcolor\":\"white\",\"showland\":true,\"showlakes\":true,\"lakecolor\":\"white\"},\"title\":{\"x\":0.05},\"mapbox\":{\"style\":\"light\"}}},\"xaxis\":{\"anchor\":\"y\",\"domain\":[0.0,1.0],\"title\":{\"text\":\"waiting\"}},\"yaxis\":{\"anchor\":\"x\",\"domain\":[0.0,1.0],\"title\":{\"text\":\"duration\"}},\"legend\":{\"tracegroupgap\":0},\"title\":{\"text\":\"Old Faithful Geyser Eruptions for short wait times (\\u003c62)\"}},                        {\"responsive\": true}                    ).then(function(){\n",
       "                            \n",
       "var gd = document.getElementById('a6971428-b606-4f5b-88fe-b1cffaa11cf4');\n",
       "var x = new MutationObserver(function (mutations, observer) {{\n",
       "        var display = window.getComputedStyle(gd).display;\n",
       "        if (!display || display === 'none') {{\n",
       "            console.log([gd, 'removed!']);\n",
       "            Plotly.purge(gd);\n",
       "            observer.disconnect();\n",
       "        }}\n",
       "}});\n",
       "\n",
       "// Listen for the removal of the full notebook cells\n",
       "var notebookContainer = gd.closest('#notebook-container');\n",
       "if (notebookContainer) {{\n",
       "    x.observe(notebookContainer, {childList: true});\n",
       "}}\n",
       "\n",
       "// Listen for the clearing of the current output cell\n",
       "var outputEl = gd.closest('.output');\n",
       "if (outputEl) {{\n",
       "    x.observe(outputEl, {childList: true});\n",
       "}}\n",
       "\n",
       "                        })                };                });            </script>        </div>"
      ]
     },
     "metadata": {},
     "output_type": "display_data"
    }
   ],
   "source": [
    "import plotly.express as px\n",
    "import statsmodels.formula.api as smf\n",
    "\n",
    "\n",
    "short_wait_limit = 62 # 64 # 66 #\n",
    "short_wait = old_faithful.waiting < short_wait_limit\n",
    "\n",
    "print(smf.ols('duration ~ waiting', data=old_faithful[short_wait]).fit().summary().tables[1])\n",
    "\n",
    "# Create a scatter plot with a linear regression trendline\n",
    "fig = px.scatter(old_faithful[short_wait], x='waiting', y='duration', \n",
    "                 title=\"Old Faithful Geyser Eruptions for short wait times (<\"+str(short_wait_limit)+\")\", \n",
    "                 trendline='ols')\n",
    "\n",
    "fig.show() # USE `fig.show(renderer=\"png\")` FOR ALL GitHub and MarkUs SUBMISSIONS"
   ]
  },
  {
   "cell_type": "markdown",
   "id": "1d352348",
   "metadata": {},
   "source": [
    "the slope of the function is 0.238 which is 𝑝>0.1\n",
    " \n",
    "No evidence against the null hypothesis\n",
    "fill to reject h0\n",
    "we don't have a linear relationship"
   ]
  },
  {
   "cell_type": "markdown",
   "id": "009bfa79",
   "metadata": {},
   "source": [
    "### 10. Let's now consider just the (*n=160*) long wait times (as specified in the code below), and write code to do the following:\n",
    "\n",
    "1. create fitted **Simple Linear Regression** models for **boostrap samples** and collect and visualize the **bootstrapped sampling distribution** of the **fitted slope coefficients** of the fitted models;  \n",
    "\n",
    "\n",
    "2. **simulate** samples (of size `n=160`) from a **Simple Linear Regression** model that uses $\\beta_0 = 1.65$, $\\beta_1 = 0$, $\\sigma = 0.37$ along with the values of `waiting` for $x$ to create **simuations** of $Y$ and use these collect and visualize the **sampling distribution** of the **fitted slope coefficient** under a **null hypothesis** assumption of \"no linear association (on average)\"; then,  \n",
    "\n",
    "\n",
    "3. report if $0$ is contained within a 95\\% **bootstrapped confidence interval**; and if the **simulated p-value** matches `smf.ols('duration ~ waiting', data=old_faithful[long_wait]).fit().summary().tables[1]`?<br><br>\n",
    "\n",
    "<details class=\"details-example\"><summary style=\"color:blue\"><u>Further Guidance</u></summary>\n",
    "\n",
    "> _You'll need to create `for` loops to repeatedly create fitted **Simple Linear Regression** models using different samples, collecting the **fitted slope coeffient** created in each `for` loop \"step\" in order to visualize the **simulated sampling distributions**_\n",
    "> \n",
    "> - _A **bootstrapped sample** of the \"long wait times\" dataset can be created with `old_faithful[long_wait].sample(n=long_wait.sum(), replace=True)`_\n",
    ">\n",
    ">\n",
    "> - _A **simulated** version of the \"long wait times under a null hypothesis assumption of **no linear association (on average)**\" dataset can be created by first creating `old_faithful_simulation = old_faithful[long_wait].copy()` and then assigning the **simulated** it values with `old_faithful_simulation['duration'] = 1.65 + 0*old_faithful_simulation.waiting + stats.norm(loc=0, scale=0.37).rvs(size=long_wait.sum())`_ \n",
    ">\n",
    ">  _The values $\\beta_0 = 1.65$ and $\\sigma = 0.37$ are chosen to match what is actually observed in the data, while $\\beta_1 = 0$ is chosen to reflect a **null hypothesis** assumption of \"no linear assocaition (on average)\"; and, make sure that you understand why it is that_\n",
    ">\n",
    ">\n",
    "> - _if `bootstrapped_slope_coefficients` is the `np.array` of your **bootstrapped slope coefficients** then `np.quantile(bootstrapped_slope_coefficients, [0.025, 0.975])` is a 95\\% **bootstrapped confidence interval**_\n",
    "> \n",
    ">\n",
    "> - _if `simulated_slope_coefficients` is the `np.array` of your **fitted slope coefficients** **simulated** under a **null hypothesis** \"no linear association (on average)\" then `(np.abs(simulated_slope_coefficients) >= smf.ols('duration ~ waiting', data=old_faithful[long_wait]).fit().params[1]).mean()` is the **p-value** for the **simulated** **simulated sampling distribution of the slope coeficients** under a **null hypothesis** \"no linear association (on average)\"_\n",
    "\n",
    "</details>\n",
    "<br>"
   ]
  },
  {
   "cell_type": "code",
   "execution_count": 12,
   "id": "7c246ca4",
   "metadata": {},
   "outputs": [
    {
     "name": "stdout",
     "output_type": "stream",
     "text": [
      "==============================================================================\n",
      "                 coef    std err          t      P>|t|      [0.025      0.975]\n",
      "------------------------------------------------------------------------------\n",
      "Intercept      3.3520      0.476      7.049      0.000       2.413       4.291\n",
      "waiting        0.0122      0.006      2.091      0.038       0.001       0.024\n",
      "==============================================================================\n"
     ]
    },
    {
     "data": {
      "application/vnd.plotly.v1+json": {
       "config": {
        "plotlyServerURL": "https://plot.ly"
       },
       "data": [
        {
         "hovertemplate": "waiting=%{x}<br>duration=%{y}<extra></extra>",
         "legendgroup": "",
         "marker": {
          "color": "#636efa",
          "symbol": "circle"
         },
         "mode": "markers",
         "name": "",
         "orientation": "v",
         "showlegend": false,
         "type": "scatter",
         "x": [
          79,
          74,
          85,
          88,
          85,
          85,
          84,
          78,
          83,
          84,
          79,
          78,
          74,
          83,
          76,
          78,
          79,
          73,
          77,
          80,
          74,
          80,
          90,
          80,
          84,
          73,
          83,
          82,
          75,
          90,
          80,
          83,
          77,
          81,
          84,
          82,
          92,
          78,
          78,
          73,
          82,
          79,
          76,
          78,
          76,
          83,
          75,
          82,
          73,
          88,
          76,
          80,
          86,
          90,
          78,
          72,
          84,
          75,
          82,
          88,
          83,
          81,
          84,
          86,
          81,
          75,
          89,
          79,
          81,
          85,
          87,
          77,
          88,
          81,
          82,
          90,
          83,
          89,
          82,
          86,
          79,
          81,
          82,
          77,
          76,
          80,
          96,
          77,
          77,
          81,
          81,
          93,
          89,
          86,
          78,
          76,
          88,
          93,
          77,
          81,
          81,
          73,
          85,
          74,
          77,
          83,
          83,
          78,
          84,
          83,
          81,
          76,
          84,
          77,
          81,
          87,
          77,
          78,
          82,
          91,
          78,
          77,
          84,
          83,
          80,
          75,
          76,
          94,
          76,
          82,
          75,
          78,
          79,
          78,
          78,
          79,
          86,
          90,
          77,
          79,
          75,
          86,
          85,
          82,
          82,
          74,
          83,
          73,
          73,
          88,
          80,
          83,
          79,
          78,
          84,
          83,
          75,
          81,
          90,
          74
         ],
         "xaxis": "x",
         "y": [
          3.6,
          3.333,
          4.533,
          4.7,
          3.6,
          4.35,
          3.917,
          4.2,
          4.7,
          4.8,
          4.25,
          3.45,
          4.533,
          3.6,
          4.083,
          3.85,
          4.433,
          4.3,
          4.467,
          4.033,
          3.833,
          4.833,
          4.783,
          4.35,
          4.567,
          4.533,
          3.317,
          4.633,
          4.8,
          4.716,
          4.833,
          4.883,
          4.567,
          4.317,
          4.5,
          4.8,
          4.4,
          4.167,
          4.7,
          4.7,
          4.033,
          4.5,
          5.067,
          4.567,
          3.883,
          3.6,
          4.133,
          4.333,
          4.067,
          4.933,
          3.95,
          4.517,
          4,
          4.333,
          4.817,
          4.3,
          4.667,
          3.75,
          4.9,
          4.367,
          4.5,
          4.05,
          4.7,
          4.85,
          3.683,
          4.7330000000000005,
          4.9,
          4.417,
          4.633,
          4.6,
          4.417,
          4.25,
          4.6,
          3.767,
          4.5,
          4.65,
          4.167,
          4.333,
          4.383,
          4.933,
          3.733,
          4.2330000000000005,
          4.533,
          4.817,
          4.333,
          4.633,
          5.1,
          5.033,
          4,
          4.6,
          4.5,
          4.083,
          3.967,
          4.15,
          3.833,
          4.583,
          5,
          4.617,
          4.583,
          4.167,
          4.333,
          4.5,
          4,
          4.167,
          4.583,
          4.25,
          3.767,
          4.433,
          4.083,
          4.417,
          4.8,
          4.8,
          4.1,
          3.966,
          4.2330000000000005,
          3.5,
          4.3660000000000005,
          4.667,
          4.35,
          4.133,
          4.6,
          4.367,
          3.85,
          4.5,
          4.7,
          3.833,
          4.2330000000000005,
          4.8,
          4.15,
          4.267,
          4.4830000000000005,
          4,
          4.117,
          4.083,
          4.267,
          4.55,
          4.183,
          4.45,
          4.283,
          3.95,
          4.15,
          4.933,
          4.583,
          3.833,
          4.367,
          4.35,
          4.45,
          3.567,
          4.5,
          4.15,
          3.817,
          4.45,
          4.283,
          4.767,
          4.533,
          4.25,
          4.75,
          4.117,
          4.417,
          4.467
         ],
         "yaxis": "y"
        },
        {
         "hovertemplate": "<b>OLS trendline</b><br>duration = 0.012244 * waiting + 3.35195<br>R<sup>2</sup>=0.026925<br><br>waiting=%{x}<br>duration=%{y} <b>(trend)</b><extra></extra>",
         "legendgroup": "",
         "marker": {
          "color": "#636efa",
          "symbol": "circle"
         },
         "mode": "lines",
         "name": "",
         "showlegend": false,
         "type": "scatter",
         "x": [
          72,
          73,
          73,
          73,
          73,
          73,
          73,
          73,
          74,
          74,
          74,
          74,
          74,
          74,
          75,
          75,
          75,
          75,
          75,
          75,
          75,
          75,
          76,
          76,
          76,
          76,
          76,
          76,
          76,
          76,
          76,
          77,
          77,
          77,
          77,
          77,
          77,
          77,
          77,
          77,
          77,
          77,
          77,
          78,
          78,
          78,
          78,
          78,
          78,
          78,
          78,
          78,
          78,
          78,
          78,
          78,
          78,
          78,
          79,
          79,
          79,
          79,
          79,
          79,
          79,
          79,
          79,
          79,
          80,
          80,
          80,
          80,
          80,
          80,
          80,
          80,
          81,
          81,
          81,
          81,
          81,
          81,
          81,
          81,
          81,
          81,
          81,
          81,
          81,
          82,
          82,
          82,
          82,
          82,
          82,
          82,
          82,
          82,
          82,
          82,
          82,
          83,
          83,
          83,
          83,
          83,
          83,
          83,
          83,
          83,
          83,
          83,
          83,
          83,
          83,
          84,
          84,
          84,
          84,
          84,
          84,
          84,
          84,
          84,
          84,
          85,
          85,
          85,
          85,
          85,
          85,
          86,
          86,
          86,
          86,
          86,
          86,
          87,
          87,
          88,
          88,
          88,
          88,
          88,
          88,
          89,
          89,
          89,
          90,
          90,
          90,
          90,
          90,
          90,
          91,
          92,
          93,
          93,
          94,
          96
         ],
         "xaxis": "x",
         "y": [
          4.233522783508958,
          4.245766812955481,
          4.245766812955481,
          4.245766812955481,
          4.245766812955481,
          4.245766812955481,
          4.245766812955481,
          4.245766812955481,
          4.258010842402005,
          4.258010842402005,
          4.258010842402005,
          4.258010842402005,
          4.258010842402005,
          4.258010842402005,
          4.270254871848528,
          4.270254871848528,
          4.270254871848528,
          4.270254871848528,
          4.270254871848528,
          4.270254871848528,
          4.270254871848528,
          4.270254871848528,
          4.282498901295052,
          4.282498901295052,
          4.282498901295052,
          4.282498901295052,
          4.282498901295052,
          4.282498901295052,
          4.282498901295052,
          4.282498901295052,
          4.282498901295052,
          4.294742930741576,
          4.294742930741576,
          4.294742930741576,
          4.294742930741576,
          4.294742930741576,
          4.294742930741576,
          4.294742930741576,
          4.294742930741576,
          4.294742930741576,
          4.294742930741576,
          4.294742930741576,
          4.294742930741576,
          4.306986960188099,
          4.306986960188099,
          4.306986960188099,
          4.306986960188099,
          4.306986960188099,
          4.306986960188099,
          4.306986960188099,
          4.306986960188099,
          4.306986960188099,
          4.306986960188099,
          4.306986960188099,
          4.306986960188099,
          4.306986960188099,
          4.306986960188099,
          4.306986960188099,
          4.319230989634622,
          4.319230989634622,
          4.319230989634622,
          4.319230989634622,
          4.319230989634622,
          4.319230989634622,
          4.319230989634622,
          4.319230989634622,
          4.319230989634622,
          4.319230989634622,
          4.331475019081147,
          4.331475019081147,
          4.331475019081147,
          4.331475019081147,
          4.331475019081147,
          4.331475019081147,
          4.331475019081147,
          4.331475019081147,
          4.34371904852767,
          4.34371904852767,
          4.34371904852767,
          4.34371904852767,
          4.34371904852767,
          4.34371904852767,
          4.34371904852767,
          4.34371904852767,
          4.34371904852767,
          4.34371904852767,
          4.34371904852767,
          4.34371904852767,
          4.34371904852767,
          4.355963077974193,
          4.355963077974193,
          4.355963077974193,
          4.355963077974193,
          4.355963077974193,
          4.355963077974193,
          4.355963077974193,
          4.355963077974193,
          4.355963077974193,
          4.355963077974193,
          4.355963077974193,
          4.355963077974193,
          4.368207107420717,
          4.368207107420717,
          4.368207107420717,
          4.368207107420717,
          4.368207107420717,
          4.368207107420717,
          4.368207107420717,
          4.368207107420717,
          4.368207107420717,
          4.368207107420717,
          4.368207107420717,
          4.368207107420717,
          4.368207107420717,
          4.368207107420717,
          4.38045113686724,
          4.38045113686724,
          4.38045113686724,
          4.38045113686724,
          4.38045113686724,
          4.38045113686724,
          4.38045113686724,
          4.38045113686724,
          4.38045113686724,
          4.38045113686724,
          4.392695166313764,
          4.392695166313764,
          4.392695166313764,
          4.392695166313764,
          4.392695166313764,
          4.392695166313764,
          4.404939195760288,
          4.404939195760288,
          4.404939195760288,
          4.404939195760288,
          4.404939195760288,
          4.404939195760288,
          4.417183225206811,
          4.417183225206811,
          4.429427254653334,
          4.429427254653334,
          4.429427254653334,
          4.429427254653334,
          4.429427254653334,
          4.429427254653334,
          4.441671284099858,
          4.441671284099858,
          4.441671284099858,
          4.453915313546382,
          4.453915313546382,
          4.453915313546382,
          4.453915313546382,
          4.453915313546382,
          4.453915313546382,
          4.466159342992905,
          4.478403372439429,
          4.490647401885952,
          4.490647401885952,
          4.5028914313324755,
          4.527379490225523
         ],
         "yaxis": "y"
        }
       ],
       "layout": {
        "legend": {
         "tracegroupgap": 0
        },
        "template": {
         "data": {
          "bar": [
           {
            "error_x": {
             "color": "#2a3f5f"
            },
            "error_y": {
             "color": "#2a3f5f"
            },
            "marker": {
             "line": {
              "color": "#E5ECF6",
              "width": 0.5
             },
             "pattern": {
              "fillmode": "overlay",
              "size": 10,
              "solidity": 0.2
             }
            },
            "type": "bar"
           }
          ],
          "barpolar": [
           {
            "marker": {
             "line": {
              "color": "#E5ECF6",
              "width": 0.5
             },
             "pattern": {
              "fillmode": "overlay",
              "size": 10,
              "solidity": 0.2
             }
            },
            "type": "barpolar"
           }
          ],
          "carpet": [
           {
            "aaxis": {
             "endlinecolor": "#2a3f5f",
             "gridcolor": "white",
             "linecolor": "white",
             "minorgridcolor": "white",
             "startlinecolor": "#2a3f5f"
            },
            "baxis": {
             "endlinecolor": "#2a3f5f",
             "gridcolor": "white",
             "linecolor": "white",
             "minorgridcolor": "white",
             "startlinecolor": "#2a3f5f"
            },
            "type": "carpet"
           }
          ],
          "choropleth": [
           {
            "colorbar": {
             "outlinewidth": 0,
             "ticks": ""
            },
            "type": "choropleth"
           }
          ],
          "contour": [
           {
            "colorbar": {
             "outlinewidth": 0,
             "ticks": ""
            },
            "colorscale": [
             [
              0,
              "#0d0887"
             ],
             [
              0.1111111111111111,
              "#46039f"
             ],
             [
              0.2222222222222222,
              "#7201a8"
             ],
             [
              0.3333333333333333,
              "#9c179e"
             ],
             [
              0.4444444444444444,
              "#bd3786"
             ],
             [
              0.5555555555555556,
              "#d8576b"
             ],
             [
              0.6666666666666666,
              "#ed7953"
             ],
             [
              0.7777777777777778,
              "#fb9f3a"
             ],
             [
              0.8888888888888888,
              "#fdca26"
             ],
             [
              1,
              "#f0f921"
             ]
            ],
            "type": "contour"
           }
          ],
          "contourcarpet": [
           {
            "colorbar": {
             "outlinewidth": 0,
             "ticks": ""
            },
            "type": "contourcarpet"
           }
          ],
          "heatmap": [
           {
            "colorbar": {
             "outlinewidth": 0,
             "ticks": ""
            },
            "colorscale": [
             [
              0,
              "#0d0887"
             ],
             [
              0.1111111111111111,
              "#46039f"
             ],
             [
              0.2222222222222222,
              "#7201a8"
             ],
             [
              0.3333333333333333,
              "#9c179e"
             ],
             [
              0.4444444444444444,
              "#bd3786"
             ],
             [
              0.5555555555555556,
              "#d8576b"
             ],
             [
              0.6666666666666666,
              "#ed7953"
             ],
             [
              0.7777777777777778,
              "#fb9f3a"
             ],
             [
              0.8888888888888888,
              "#fdca26"
             ],
             [
              1,
              "#f0f921"
             ]
            ],
            "type": "heatmap"
           }
          ],
          "heatmapgl": [
           {
            "colorbar": {
             "outlinewidth": 0,
             "ticks": ""
            },
            "colorscale": [
             [
              0,
              "#0d0887"
             ],
             [
              0.1111111111111111,
              "#46039f"
             ],
             [
              0.2222222222222222,
              "#7201a8"
             ],
             [
              0.3333333333333333,
              "#9c179e"
             ],
             [
              0.4444444444444444,
              "#bd3786"
             ],
             [
              0.5555555555555556,
              "#d8576b"
             ],
             [
              0.6666666666666666,
              "#ed7953"
             ],
             [
              0.7777777777777778,
              "#fb9f3a"
             ],
             [
              0.8888888888888888,
              "#fdca26"
             ],
             [
              1,
              "#f0f921"
             ]
            ],
            "type": "heatmapgl"
           }
          ],
          "histogram": [
           {
            "marker": {
             "pattern": {
              "fillmode": "overlay",
              "size": 10,
              "solidity": 0.2
             }
            },
            "type": "histogram"
           }
          ],
          "histogram2d": [
           {
            "colorbar": {
             "outlinewidth": 0,
             "ticks": ""
            },
            "colorscale": [
             [
              0,
              "#0d0887"
             ],
             [
              0.1111111111111111,
              "#46039f"
             ],
             [
              0.2222222222222222,
              "#7201a8"
             ],
             [
              0.3333333333333333,
              "#9c179e"
             ],
             [
              0.4444444444444444,
              "#bd3786"
             ],
             [
              0.5555555555555556,
              "#d8576b"
             ],
             [
              0.6666666666666666,
              "#ed7953"
             ],
             [
              0.7777777777777778,
              "#fb9f3a"
             ],
             [
              0.8888888888888888,
              "#fdca26"
             ],
             [
              1,
              "#f0f921"
             ]
            ],
            "type": "histogram2d"
           }
          ],
          "histogram2dcontour": [
           {
            "colorbar": {
             "outlinewidth": 0,
             "ticks": ""
            },
            "colorscale": [
             [
              0,
              "#0d0887"
             ],
             [
              0.1111111111111111,
              "#46039f"
             ],
             [
              0.2222222222222222,
              "#7201a8"
             ],
             [
              0.3333333333333333,
              "#9c179e"
             ],
             [
              0.4444444444444444,
              "#bd3786"
             ],
             [
              0.5555555555555556,
              "#d8576b"
             ],
             [
              0.6666666666666666,
              "#ed7953"
             ],
             [
              0.7777777777777778,
              "#fb9f3a"
             ],
             [
              0.8888888888888888,
              "#fdca26"
             ],
             [
              1,
              "#f0f921"
             ]
            ],
            "type": "histogram2dcontour"
           }
          ],
          "mesh3d": [
           {
            "colorbar": {
             "outlinewidth": 0,
             "ticks": ""
            },
            "type": "mesh3d"
           }
          ],
          "parcoords": [
           {
            "line": {
             "colorbar": {
              "outlinewidth": 0,
              "ticks": ""
             }
            },
            "type": "parcoords"
           }
          ],
          "pie": [
           {
            "automargin": true,
            "type": "pie"
           }
          ],
          "scatter": [
           {
            "fillpattern": {
             "fillmode": "overlay",
             "size": 10,
             "solidity": 0.2
            },
            "type": "scatter"
           }
          ],
          "scatter3d": [
           {
            "line": {
             "colorbar": {
              "outlinewidth": 0,
              "ticks": ""
             }
            },
            "marker": {
             "colorbar": {
              "outlinewidth": 0,
              "ticks": ""
             }
            },
            "type": "scatter3d"
           }
          ],
          "scattercarpet": [
           {
            "marker": {
             "colorbar": {
              "outlinewidth": 0,
              "ticks": ""
             }
            },
            "type": "scattercarpet"
           }
          ],
          "scattergeo": [
           {
            "marker": {
             "colorbar": {
              "outlinewidth": 0,
              "ticks": ""
             }
            },
            "type": "scattergeo"
           }
          ],
          "scattergl": [
           {
            "marker": {
             "colorbar": {
              "outlinewidth": 0,
              "ticks": ""
             }
            },
            "type": "scattergl"
           }
          ],
          "scattermapbox": [
           {
            "marker": {
             "colorbar": {
              "outlinewidth": 0,
              "ticks": ""
             }
            },
            "type": "scattermapbox"
           }
          ],
          "scatterpolar": [
           {
            "marker": {
             "colorbar": {
              "outlinewidth": 0,
              "ticks": ""
             }
            },
            "type": "scatterpolar"
           }
          ],
          "scatterpolargl": [
           {
            "marker": {
             "colorbar": {
              "outlinewidth": 0,
              "ticks": ""
             }
            },
            "type": "scatterpolargl"
           }
          ],
          "scatterternary": [
           {
            "marker": {
             "colorbar": {
              "outlinewidth": 0,
              "ticks": ""
             }
            },
            "type": "scatterternary"
           }
          ],
          "surface": [
           {
            "colorbar": {
             "outlinewidth": 0,
             "ticks": ""
            },
            "colorscale": [
             [
              0,
              "#0d0887"
             ],
             [
              0.1111111111111111,
              "#46039f"
             ],
             [
              0.2222222222222222,
              "#7201a8"
             ],
             [
              0.3333333333333333,
              "#9c179e"
             ],
             [
              0.4444444444444444,
              "#bd3786"
             ],
             [
              0.5555555555555556,
              "#d8576b"
             ],
             [
              0.6666666666666666,
              "#ed7953"
             ],
             [
              0.7777777777777778,
              "#fb9f3a"
             ],
             [
              0.8888888888888888,
              "#fdca26"
             ],
             [
              1,
              "#f0f921"
             ]
            ],
            "type": "surface"
           }
          ],
          "table": [
           {
            "cells": {
             "fill": {
              "color": "#EBF0F8"
             },
             "line": {
              "color": "white"
             }
            },
            "header": {
             "fill": {
              "color": "#C8D4E3"
             },
             "line": {
              "color": "white"
             }
            },
            "type": "table"
           }
          ]
         },
         "layout": {
          "annotationdefaults": {
           "arrowcolor": "#2a3f5f",
           "arrowhead": 0,
           "arrowwidth": 1
          },
          "autotypenumbers": "strict",
          "coloraxis": {
           "colorbar": {
            "outlinewidth": 0,
            "ticks": ""
           }
          },
          "colorscale": {
           "diverging": [
            [
             0,
             "#8e0152"
            ],
            [
             0.1,
             "#c51b7d"
            ],
            [
             0.2,
             "#de77ae"
            ],
            [
             0.3,
             "#f1b6da"
            ],
            [
             0.4,
             "#fde0ef"
            ],
            [
             0.5,
             "#f7f7f7"
            ],
            [
             0.6,
             "#e6f5d0"
            ],
            [
             0.7,
             "#b8e186"
            ],
            [
             0.8,
             "#7fbc41"
            ],
            [
             0.9,
             "#4d9221"
            ],
            [
             1,
             "#276419"
            ]
           ],
           "sequential": [
            [
             0,
             "#0d0887"
            ],
            [
             0.1111111111111111,
             "#46039f"
            ],
            [
             0.2222222222222222,
             "#7201a8"
            ],
            [
             0.3333333333333333,
             "#9c179e"
            ],
            [
             0.4444444444444444,
             "#bd3786"
            ],
            [
             0.5555555555555556,
             "#d8576b"
            ],
            [
             0.6666666666666666,
             "#ed7953"
            ],
            [
             0.7777777777777778,
             "#fb9f3a"
            ],
            [
             0.8888888888888888,
             "#fdca26"
            ],
            [
             1,
             "#f0f921"
            ]
           ],
           "sequentialminus": [
            [
             0,
             "#0d0887"
            ],
            [
             0.1111111111111111,
             "#46039f"
            ],
            [
             0.2222222222222222,
             "#7201a8"
            ],
            [
             0.3333333333333333,
             "#9c179e"
            ],
            [
             0.4444444444444444,
             "#bd3786"
            ],
            [
             0.5555555555555556,
             "#d8576b"
            ],
            [
             0.6666666666666666,
             "#ed7953"
            ],
            [
             0.7777777777777778,
             "#fb9f3a"
            ],
            [
             0.8888888888888888,
             "#fdca26"
            ],
            [
             1,
             "#f0f921"
            ]
           ]
          },
          "colorway": [
           "#636efa",
           "#EF553B",
           "#00cc96",
           "#ab63fa",
           "#FFA15A",
           "#19d3f3",
           "#FF6692",
           "#B6E880",
           "#FF97FF",
           "#FECB52"
          ],
          "font": {
           "color": "#2a3f5f"
          },
          "geo": {
           "bgcolor": "white",
           "lakecolor": "white",
           "landcolor": "#E5ECF6",
           "showlakes": true,
           "showland": true,
           "subunitcolor": "white"
          },
          "hoverlabel": {
           "align": "left"
          },
          "hovermode": "closest",
          "mapbox": {
           "style": "light"
          },
          "paper_bgcolor": "white",
          "plot_bgcolor": "#E5ECF6",
          "polar": {
           "angularaxis": {
            "gridcolor": "white",
            "linecolor": "white",
            "ticks": ""
           },
           "bgcolor": "#E5ECF6",
           "radialaxis": {
            "gridcolor": "white",
            "linecolor": "white",
            "ticks": ""
           }
          },
          "scene": {
           "xaxis": {
            "backgroundcolor": "#E5ECF6",
            "gridcolor": "white",
            "gridwidth": 2,
            "linecolor": "white",
            "showbackground": true,
            "ticks": "",
            "zerolinecolor": "white"
           },
           "yaxis": {
            "backgroundcolor": "#E5ECF6",
            "gridcolor": "white",
            "gridwidth": 2,
            "linecolor": "white",
            "showbackground": true,
            "ticks": "",
            "zerolinecolor": "white"
           },
           "zaxis": {
            "backgroundcolor": "#E5ECF6",
            "gridcolor": "white",
            "gridwidth": 2,
            "linecolor": "white",
            "showbackground": true,
            "ticks": "",
            "zerolinecolor": "white"
           }
          },
          "shapedefaults": {
           "line": {
            "color": "#2a3f5f"
           }
          },
          "ternary": {
           "aaxis": {
            "gridcolor": "white",
            "linecolor": "white",
            "ticks": ""
           },
           "baxis": {
            "gridcolor": "white",
            "linecolor": "white",
            "ticks": ""
           },
           "bgcolor": "#E5ECF6",
           "caxis": {
            "gridcolor": "white",
            "linecolor": "white",
            "ticks": ""
           }
          },
          "title": {
           "x": 0.05
          },
          "xaxis": {
           "automargin": true,
           "gridcolor": "white",
           "linecolor": "white",
           "ticks": "",
           "title": {
            "standoff": 15
           },
           "zerolinecolor": "white",
           "zerolinewidth": 2
          },
          "yaxis": {
           "automargin": true,
           "gridcolor": "white",
           "linecolor": "white",
           "ticks": "",
           "title": {
            "standoff": 15
           },
           "zerolinecolor": "white",
           "zerolinewidth": 2
          }
         }
        },
        "title": {
         "text": "Old Faithful Geyser Eruptions for short wait times (>71)"
        },
        "xaxis": {
         "anchor": "y",
         "domain": [
          0,
          1
         ],
         "title": {
          "text": "waiting"
         }
        },
        "yaxis": {
         "anchor": "x",
         "domain": [
          0,
          1
         ],
         "title": {
          "text": "duration"
         }
        }
       }
      },
      "text/html": [
       "<div>                            <div id=\"8fc0013a-b60d-4372-b737-b245bf4303fe\" class=\"plotly-graph-div\" style=\"height:525px; width:100%;\"></div>            <script type=\"text/javascript\">                require([\"plotly\"], function(Plotly) {                    window.PLOTLYENV=window.PLOTLYENV || {};                                    if (document.getElementById(\"8fc0013a-b60d-4372-b737-b245bf4303fe\")) {                    Plotly.newPlot(                        \"8fc0013a-b60d-4372-b737-b245bf4303fe\",                        [{\"hovertemplate\":\"waiting=%{x}\\u003cbr\\u003eduration=%{y}\\u003cextra\\u003e\\u003c\\u002fextra\\u003e\",\"legendgroup\":\"\",\"marker\":{\"color\":\"#636efa\",\"symbol\":\"circle\"},\"mode\":\"markers\",\"name\":\"\",\"orientation\":\"v\",\"showlegend\":false,\"x\":[79,74,85,88,85,85,84,78,83,84,79,78,74,83,76,78,79,73,77,80,74,80,90,80,84,73,83,82,75,90,80,83,77,81,84,82,92,78,78,73,82,79,76,78,76,83,75,82,73,88,76,80,86,90,78,72,84,75,82,88,83,81,84,86,81,75,89,79,81,85,87,77,88,81,82,90,83,89,82,86,79,81,82,77,76,80,96,77,77,81,81,93,89,86,78,76,88,93,77,81,81,73,85,74,77,83,83,78,84,83,81,76,84,77,81,87,77,78,82,91,78,77,84,83,80,75,76,94,76,82,75,78,79,78,78,79,86,90,77,79,75,86,85,82,82,74,83,73,73,88,80,83,79,78,84,83,75,81,90,74],\"xaxis\":\"x\",\"y\":[3.6,3.333,4.533,4.7,3.6,4.35,3.917,4.2,4.7,4.8,4.25,3.45,4.533,3.6,4.083,3.85,4.433,4.3,4.467,4.033,3.833,4.833,4.783,4.35,4.567,4.533,3.317,4.633,4.8,4.716,4.833,4.883,4.567,4.317,4.5,4.8,4.4,4.167,4.7,4.7,4.033,4.5,5.067,4.567,3.883,3.6,4.133,4.333,4.067,4.933,3.95,4.517,4.0,4.333,4.817,4.3,4.667,3.75,4.9,4.367,4.5,4.05,4.7,4.85,3.683,4.7330000000000005,4.9,4.417,4.633,4.6,4.417,4.25,4.6,3.767,4.5,4.65,4.167,4.333,4.383,4.933,3.733,4.2330000000000005,4.533,4.817,4.333,4.633,5.1,5.033,4.0,4.6,4.5,4.083,3.967,4.15,3.833,4.583,5.0,4.617,4.583,4.167,4.333,4.5,4.0,4.167,4.583,4.25,3.767,4.433,4.083,4.417,4.8,4.8,4.1,3.966,4.2330000000000005,3.5,4.3660000000000005,4.667,4.35,4.133,4.6,4.367,3.85,4.5,4.7,3.833,4.2330000000000005,4.8,4.15,4.267,4.4830000000000005,4.0,4.117,4.083,4.267,4.55,4.183,4.45,4.283,3.95,4.15,4.933,4.583,3.833,4.367,4.35,4.45,3.567,4.5,4.15,3.817,4.45,4.283,4.767,4.533,4.25,4.75,4.117,4.417,4.467],\"yaxis\":\"y\",\"type\":\"scatter\"},{\"hovertemplate\":\"\\u003cb\\u003eOLS trendline\\u003c\\u002fb\\u003e\\u003cbr\\u003eduration = 0.012244 * waiting + 3.35195\\u003cbr\\u003eR\\u003csup\\u003e2\\u003c\\u002fsup\\u003e=0.026925\\u003cbr\\u003e\\u003cbr\\u003ewaiting=%{x}\\u003cbr\\u003eduration=%{y} \\u003cb\\u003e(trend)\\u003c\\u002fb\\u003e\\u003cextra\\u003e\\u003c\\u002fextra\\u003e\",\"legendgroup\":\"\",\"marker\":{\"color\":\"#636efa\",\"symbol\":\"circle\"},\"mode\":\"lines\",\"name\":\"\",\"showlegend\":false,\"x\":[72,73,73,73,73,73,73,73,74,74,74,74,74,74,75,75,75,75,75,75,75,75,76,76,76,76,76,76,76,76,76,77,77,77,77,77,77,77,77,77,77,77,77,78,78,78,78,78,78,78,78,78,78,78,78,78,78,78,79,79,79,79,79,79,79,79,79,79,80,80,80,80,80,80,80,80,81,81,81,81,81,81,81,81,81,81,81,81,81,82,82,82,82,82,82,82,82,82,82,82,82,83,83,83,83,83,83,83,83,83,83,83,83,83,83,84,84,84,84,84,84,84,84,84,84,85,85,85,85,85,85,86,86,86,86,86,86,87,87,88,88,88,88,88,88,89,89,89,90,90,90,90,90,90,91,92,93,93,94,96],\"xaxis\":\"x\",\"y\":[4.233522783508958,4.245766812955481,4.245766812955481,4.245766812955481,4.245766812955481,4.245766812955481,4.245766812955481,4.245766812955481,4.258010842402005,4.258010842402005,4.258010842402005,4.258010842402005,4.258010842402005,4.258010842402005,4.270254871848528,4.270254871848528,4.270254871848528,4.270254871848528,4.270254871848528,4.270254871848528,4.270254871848528,4.270254871848528,4.282498901295052,4.282498901295052,4.282498901295052,4.282498901295052,4.282498901295052,4.282498901295052,4.282498901295052,4.282498901295052,4.282498901295052,4.294742930741576,4.294742930741576,4.294742930741576,4.294742930741576,4.294742930741576,4.294742930741576,4.294742930741576,4.294742930741576,4.294742930741576,4.294742930741576,4.294742930741576,4.294742930741576,4.306986960188099,4.306986960188099,4.306986960188099,4.306986960188099,4.306986960188099,4.306986960188099,4.306986960188099,4.306986960188099,4.306986960188099,4.306986960188099,4.306986960188099,4.306986960188099,4.306986960188099,4.306986960188099,4.306986960188099,4.319230989634622,4.319230989634622,4.319230989634622,4.319230989634622,4.319230989634622,4.319230989634622,4.319230989634622,4.319230989634622,4.319230989634622,4.319230989634622,4.331475019081147,4.331475019081147,4.331475019081147,4.331475019081147,4.331475019081147,4.331475019081147,4.331475019081147,4.331475019081147,4.34371904852767,4.34371904852767,4.34371904852767,4.34371904852767,4.34371904852767,4.34371904852767,4.34371904852767,4.34371904852767,4.34371904852767,4.34371904852767,4.34371904852767,4.34371904852767,4.34371904852767,4.355963077974193,4.355963077974193,4.355963077974193,4.355963077974193,4.355963077974193,4.355963077974193,4.355963077974193,4.355963077974193,4.355963077974193,4.355963077974193,4.355963077974193,4.355963077974193,4.368207107420717,4.368207107420717,4.368207107420717,4.368207107420717,4.368207107420717,4.368207107420717,4.368207107420717,4.368207107420717,4.368207107420717,4.368207107420717,4.368207107420717,4.368207107420717,4.368207107420717,4.368207107420717,4.38045113686724,4.38045113686724,4.38045113686724,4.38045113686724,4.38045113686724,4.38045113686724,4.38045113686724,4.38045113686724,4.38045113686724,4.38045113686724,4.392695166313764,4.392695166313764,4.392695166313764,4.392695166313764,4.392695166313764,4.392695166313764,4.404939195760288,4.404939195760288,4.404939195760288,4.404939195760288,4.404939195760288,4.404939195760288,4.417183225206811,4.417183225206811,4.429427254653334,4.429427254653334,4.429427254653334,4.429427254653334,4.429427254653334,4.429427254653334,4.441671284099858,4.441671284099858,4.441671284099858,4.453915313546382,4.453915313546382,4.453915313546382,4.453915313546382,4.453915313546382,4.453915313546382,4.466159342992905,4.478403372439429,4.490647401885952,4.490647401885952,4.5028914313324755,4.527379490225523],\"yaxis\":\"y\",\"type\":\"scatter\"}],                        {\"template\":{\"data\":{\"histogram2dcontour\":[{\"type\":\"histogram2dcontour\",\"colorbar\":{\"outlinewidth\":0,\"ticks\":\"\"},\"colorscale\":[[0.0,\"#0d0887\"],[0.1111111111111111,\"#46039f\"],[0.2222222222222222,\"#7201a8\"],[0.3333333333333333,\"#9c179e\"],[0.4444444444444444,\"#bd3786\"],[0.5555555555555556,\"#d8576b\"],[0.6666666666666666,\"#ed7953\"],[0.7777777777777778,\"#fb9f3a\"],[0.8888888888888888,\"#fdca26\"],[1.0,\"#f0f921\"]]}],\"choropleth\":[{\"type\":\"choropleth\",\"colorbar\":{\"outlinewidth\":0,\"ticks\":\"\"}}],\"histogram2d\":[{\"type\":\"histogram2d\",\"colorbar\":{\"outlinewidth\":0,\"ticks\":\"\"},\"colorscale\":[[0.0,\"#0d0887\"],[0.1111111111111111,\"#46039f\"],[0.2222222222222222,\"#7201a8\"],[0.3333333333333333,\"#9c179e\"],[0.4444444444444444,\"#bd3786\"],[0.5555555555555556,\"#d8576b\"],[0.6666666666666666,\"#ed7953\"],[0.7777777777777778,\"#fb9f3a\"],[0.8888888888888888,\"#fdca26\"],[1.0,\"#f0f921\"]]}],\"heatmap\":[{\"type\":\"heatmap\",\"colorbar\":{\"outlinewidth\":0,\"ticks\":\"\"},\"colorscale\":[[0.0,\"#0d0887\"],[0.1111111111111111,\"#46039f\"],[0.2222222222222222,\"#7201a8\"],[0.3333333333333333,\"#9c179e\"],[0.4444444444444444,\"#bd3786\"],[0.5555555555555556,\"#d8576b\"],[0.6666666666666666,\"#ed7953\"],[0.7777777777777778,\"#fb9f3a\"],[0.8888888888888888,\"#fdca26\"],[1.0,\"#f0f921\"]]}],\"heatmapgl\":[{\"type\":\"heatmapgl\",\"colorbar\":{\"outlinewidth\":0,\"ticks\":\"\"},\"colorscale\":[[0.0,\"#0d0887\"],[0.1111111111111111,\"#46039f\"],[0.2222222222222222,\"#7201a8\"],[0.3333333333333333,\"#9c179e\"],[0.4444444444444444,\"#bd3786\"],[0.5555555555555556,\"#d8576b\"],[0.6666666666666666,\"#ed7953\"],[0.7777777777777778,\"#fb9f3a\"],[0.8888888888888888,\"#fdca26\"],[1.0,\"#f0f921\"]]}],\"contourcarpet\":[{\"type\":\"contourcarpet\",\"colorbar\":{\"outlinewidth\":0,\"ticks\":\"\"}}],\"contour\":[{\"type\":\"contour\",\"colorbar\":{\"outlinewidth\":0,\"ticks\":\"\"},\"colorscale\":[[0.0,\"#0d0887\"],[0.1111111111111111,\"#46039f\"],[0.2222222222222222,\"#7201a8\"],[0.3333333333333333,\"#9c179e\"],[0.4444444444444444,\"#bd3786\"],[0.5555555555555556,\"#d8576b\"],[0.6666666666666666,\"#ed7953\"],[0.7777777777777778,\"#fb9f3a\"],[0.8888888888888888,\"#fdca26\"],[1.0,\"#f0f921\"]]}],\"surface\":[{\"type\":\"surface\",\"colorbar\":{\"outlinewidth\":0,\"ticks\":\"\"},\"colorscale\":[[0.0,\"#0d0887\"],[0.1111111111111111,\"#46039f\"],[0.2222222222222222,\"#7201a8\"],[0.3333333333333333,\"#9c179e\"],[0.4444444444444444,\"#bd3786\"],[0.5555555555555556,\"#d8576b\"],[0.6666666666666666,\"#ed7953\"],[0.7777777777777778,\"#fb9f3a\"],[0.8888888888888888,\"#fdca26\"],[1.0,\"#f0f921\"]]}],\"mesh3d\":[{\"type\":\"mesh3d\",\"colorbar\":{\"outlinewidth\":0,\"ticks\":\"\"}}],\"scatter\":[{\"fillpattern\":{\"fillmode\":\"overlay\",\"size\":10,\"solidity\":0.2},\"type\":\"scatter\"}],\"parcoords\":[{\"type\":\"parcoords\",\"line\":{\"colorbar\":{\"outlinewidth\":0,\"ticks\":\"\"}}}],\"scatterpolargl\":[{\"type\":\"scatterpolargl\",\"marker\":{\"colorbar\":{\"outlinewidth\":0,\"ticks\":\"\"}}}],\"bar\":[{\"error_x\":{\"color\":\"#2a3f5f\"},\"error_y\":{\"color\":\"#2a3f5f\"},\"marker\":{\"line\":{\"color\":\"#E5ECF6\",\"width\":0.5},\"pattern\":{\"fillmode\":\"overlay\",\"size\":10,\"solidity\":0.2}},\"type\":\"bar\"}],\"scattergeo\":[{\"type\":\"scattergeo\",\"marker\":{\"colorbar\":{\"outlinewidth\":0,\"ticks\":\"\"}}}],\"scatterpolar\":[{\"type\":\"scatterpolar\",\"marker\":{\"colorbar\":{\"outlinewidth\":0,\"ticks\":\"\"}}}],\"histogram\":[{\"marker\":{\"pattern\":{\"fillmode\":\"overlay\",\"size\":10,\"solidity\":0.2}},\"type\":\"histogram\"}],\"scattergl\":[{\"type\":\"scattergl\",\"marker\":{\"colorbar\":{\"outlinewidth\":0,\"ticks\":\"\"}}}],\"scatter3d\":[{\"type\":\"scatter3d\",\"line\":{\"colorbar\":{\"outlinewidth\":0,\"ticks\":\"\"}},\"marker\":{\"colorbar\":{\"outlinewidth\":0,\"ticks\":\"\"}}}],\"scattermapbox\":[{\"type\":\"scattermapbox\",\"marker\":{\"colorbar\":{\"outlinewidth\":0,\"ticks\":\"\"}}}],\"scatterternary\":[{\"type\":\"scatterternary\",\"marker\":{\"colorbar\":{\"outlinewidth\":0,\"ticks\":\"\"}}}],\"scattercarpet\":[{\"type\":\"scattercarpet\",\"marker\":{\"colorbar\":{\"outlinewidth\":0,\"ticks\":\"\"}}}],\"carpet\":[{\"aaxis\":{\"endlinecolor\":\"#2a3f5f\",\"gridcolor\":\"white\",\"linecolor\":\"white\",\"minorgridcolor\":\"white\",\"startlinecolor\":\"#2a3f5f\"},\"baxis\":{\"endlinecolor\":\"#2a3f5f\",\"gridcolor\":\"white\",\"linecolor\":\"white\",\"minorgridcolor\":\"white\",\"startlinecolor\":\"#2a3f5f\"},\"type\":\"carpet\"}],\"table\":[{\"cells\":{\"fill\":{\"color\":\"#EBF0F8\"},\"line\":{\"color\":\"white\"}},\"header\":{\"fill\":{\"color\":\"#C8D4E3\"},\"line\":{\"color\":\"white\"}},\"type\":\"table\"}],\"barpolar\":[{\"marker\":{\"line\":{\"color\":\"#E5ECF6\",\"width\":0.5},\"pattern\":{\"fillmode\":\"overlay\",\"size\":10,\"solidity\":0.2}},\"type\":\"barpolar\"}],\"pie\":[{\"automargin\":true,\"type\":\"pie\"}]},\"layout\":{\"autotypenumbers\":\"strict\",\"colorway\":[\"#636efa\",\"#EF553B\",\"#00cc96\",\"#ab63fa\",\"#FFA15A\",\"#19d3f3\",\"#FF6692\",\"#B6E880\",\"#FF97FF\",\"#FECB52\"],\"font\":{\"color\":\"#2a3f5f\"},\"hovermode\":\"closest\",\"hoverlabel\":{\"align\":\"left\"},\"paper_bgcolor\":\"white\",\"plot_bgcolor\":\"#E5ECF6\",\"polar\":{\"bgcolor\":\"#E5ECF6\",\"angularaxis\":{\"gridcolor\":\"white\",\"linecolor\":\"white\",\"ticks\":\"\"},\"radialaxis\":{\"gridcolor\":\"white\",\"linecolor\":\"white\",\"ticks\":\"\"}},\"ternary\":{\"bgcolor\":\"#E5ECF6\",\"aaxis\":{\"gridcolor\":\"white\",\"linecolor\":\"white\",\"ticks\":\"\"},\"baxis\":{\"gridcolor\":\"white\",\"linecolor\":\"white\",\"ticks\":\"\"},\"caxis\":{\"gridcolor\":\"white\",\"linecolor\":\"white\",\"ticks\":\"\"}},\"coloraxis\":{\"colorbar\":{\"outlinewidth\":0,\"ticks\":\"\"}},\"colorscale\":{\"sequential\":[[0.0,\"#0d0887\"],[0.1111111111111111,\"#46039f\"],[0.2222222222222222,\"#7201a8\"],[0.3333333333333333,\"#9c179e\"],[0.4444444444444444,\"#bd3786\"],[0.5555555555555556,\"#d8576b\"],[0.6666666666666666,\"#ed7953\"],[0.7777777777777778,\"#fb9f3a\"],[0.8888888888888888,\"#fdca26\"],[1.0,\"#f0f921\"]],\"sequentialminus\":[[0.0,\"#0d0887\"],[0.1111111111111111,\"#46039f\"],[0.2222222222222222,\"#7201a8\"],[0.3333333333333333,\"#9c179e\"],[0.4444444444444444,\"#bd3786\"],[0.5555555555555556,\"#d8576b\"],[0.6666666666666666,\"#ed7953\"],[0.7777777777777778,\"#fb9f3a\"],[0.8888888888888888,\"#fdca26\"],[1.0,\"#f0f921\"]],\"diverging\":[[0,\"#8e0152\"],[0.1,\"#c51b7d\"],[0.2,\"#de77ae\"],[0.3,\"#f1b6da\"],[0.4,\"#fde0ef\"],[0.5,\"#f7f7f7\"],[0.6,\"#e6f5d0\"],[0.7,\"#b8e186\"],[0.8,\"#7fbc41\"],[0.9,\"#4d9221\"],[1,\"#276419\"]]},\"xaxis\":{\"gridcolor\":\"white\",\"linecolor\":\"white\",\"ticks\":\"\",\"title\":{\"standoff\":15},\"zerolinecolor\":\"white\",\"automargin\":true,\"zerolinewidth\":2},\"yaxis\":{\"gridcolor\":\"white\",\"linecolor\":\"white\",\"ticks\":\"\",\"title\":{\"standoff\":15},\"zerolinecolor\":\"white\",\"automargin\":true,\"zerolinewidth\":2},\"scene\":{\"xaxis\":{\"backgroundcolor\":\"#E5ECF6\",\"gridcolor\":\"white\",\"linecolor\":\"white\",\"showbackground\":true,\"ticks\":\"\",\"zerolinecolor\":\"white\",\"gridwidth\":2},\"yaxis\":{\"backgroundcolor\":\"#E5ECF6\",\"gridcolor\":\"white\",\"linecolor\":\"white\",\"showbackground\":true,\"ticks\":\"\",\"zerolinecolor\":\"white\",\"gridwidth\":2},\"zaxis\":{\"backgroundcolor\":\"#E5ECF6\",\"gridcolor\":\"white\",\"linecolor\":\"white\",\"showbackground\":true,\"ticks\":\"\",\"zerolinecolor\":\"white\",\"gridwidth\":2}},\"shapedefaults\":{\"line\":{\"color\":\"#2a3f5f\"}},\"annotationdefaults\":{\"arrowcolor\":\"#2a3f5f\",\"arrowhead\":0,\"arrowwidth\":1},\"geo\":{\"bgcolor\":\"white\",\"landcolor\":\"#E5ECF6\",\"subunitcolor\":\"white\",\"showland\":true,\"showlakes\":true,\"lakecolor\":\"white\"},\"title\":{\"x\":0.05},\"mapbox\":{\"style\":\"light\"}}},\"xaxis\":{\"anchor\":\"y\",\"domain\":[0.0,1.0],\"title\":{\"text\":\"waiting\"}},\"yaxis\":{\"anchor\":\"x\",\"domain\":[0.0,1.0],\"title\":{\"text\":\"duration\"}},\"legend\":{\"tracegroupgap\":0},\"title\":{\"text\":\"Old Faithful Geyser Eruptions for short wait times (\\u003e71)\"}},                        {\"responsive\": true}                    ).then(function(){\n",
       "                            \n",
       "var gd = document.getElementById('8fc0013a-b60d-4372-b737-b245bf4303fe');\n",
       "var x = new MutationObserver(function (mutations, observer) {{\n",
       "        var display = window.getComputedStyle(gd).display;\n",
       "        if (!display || display === 'none') {{\n",
       "            console.log([gd, 'removed!']);\n",
       "            Plotly.purge(gd);\n",
       "            observer.disconnect();\n",
       "        }}\n",
       "}});\n",
       "\n",
       "// Listen for the removal of the full notebook cells\n",
       "var notebookContainer = gd.closest('#notebook-container');\n",
       "if (notebookContainer) {{\n",
       "    x.observe(notebookContainer, {childList: true});\n",
       "}}\n",
       "\n",
       "// Listen for the clearing of the current output cell\n",
       "var outputEl = gd.closest('.output');\n",
       "if (outputEl) {{\n",
       "    x.observe(outputEl, {childList: true});\n",
       "}}\n",
       "\n",
       "                        })                };                });            </script>        </div>"
      ]
     },
     "metadata": {},
     "output_type": "display_data"
    }
   ],
   "source": [
    "import plotly.express as px\n",
    "\n",
    "long_wait_limit = 71\n",
    "long_wait = old_faithful.waiting > long_wait_limit\n",
    "\n",
    "print(smf.ols('duration ~ waiting', data=old_faithful[long_wait]).fit().summary().tables[1])\n",
    "\n",
    "# Create a scatter plot with a linear regression trendline\n",
    "fig = px.scatter(old_faithful[long_wait], x='waiting', y='duration', \n",
    "                 title=\"Old Faithful Geyser Eruptions for short wait times (>\"+str(long_wait_limit)+\")\", \n",
    "                 trendline='ols')\n",
    "fig.show() # USE `fig.show(renderer=\"png\")` FOR ALL GitHub and MarkUs SUBMISSIONS"
   ]
  },
  {
   "cell_type": "code",
   "execution_count": 17,
   "id": "904f3846",
   "metadata": {},
   "outputs": [
    {
     "data": {
      "image/png": "[encoded data removed]"
     },
     "metadata": {},
     "output_type": "display_data"
    }
   ],
   "source": [
    "import numpy as np\n",
    "import pandas as pd\n",
    "import statsmodels.formula.api as smf\n",
    "import plotly.express as px\n",
    "\n",
    "# Parameters\n",
    "n_bootstrap = 1000  # Number of bootstrap samples\n",
    "long_wait_limit = 71\n",
    "long_wait = old_faithful.waiting > long_wait_limit\n",
    "data = old_faithful[long_wait]  # Filtered data\n",
    "\n",
    "# Collecting bootstrap slope coefficients\n",
    "slope_coefficients = []\n",
    "\n",
    "for _ in range(n_bootstrap):\n",
    "    # Bootstrap sampling with replacement\n",
    "    sample = data.sample(frac=1, replace=True)\n",
    "    \n",
    "    # Fit simple linear regression on the sample\n",
    "    model = smf.ols('duration ~ waiting', data=sample).fit()\n",
    "    \n",
    "    # Record the slope coefficient\n",
    "    slope_coefficients.append(model.params['waiting'])\n",
    "\n",
    "# Convert slope coefficients to a DataFrame for visualization\n",
    "slope_df = pd.DataFrame(slope_coefficients, columns=['Slope'])\n",
    "\n",
    "# Visualize the bootstrapped sampling distribution of slope coefficients\n",
    "fig = px.histogram(slope_df, x='Slope', nbins=30,\n",
    "                   title=\"Bootstrapped Sampling Distribution of Slope Coefficients\",\n",
    "                   labels={'Slope': 'Slope Coefficient'})\n",
    "fig.show(renderer=\"png\")  # Use `renderer=\"png\"` for GitHub or MarkUs submissions\n"
   ]
  },
  {
   "cell_type": "code",
   "execution_count": 18,
   "id": "5e03cf4a",
   "metadata": {},
   "outputs": [
    {
     "data": {
      "image/png": "[encoded data removed]"
     },
     "metadata": {},
     "output_type": "display_data"
    }
   ],
   "source": [
    "import numpy as np\n",
    "import pandas as pd\n",
    "import statsmodels.formula.api as smf\n",
    "import plotly.express as px\n",
    "\n",
    "# Set parameters for simulation\n",
    "beta_0 = 1.65\n",
    "beta_1 = 0\n",
    "sigma = 0.37\n",
    "n_simulations = 1000  # Number of bootstrap samples\n",
    "n = 160  # Sample size for each simulation\n",
    "waiting_values = old_faithful['waiting']  # Using 'waiting' values from the dataset\n",
    "\n",
    "# Collecting simulated slope coefficients\n",
    "slope_coefficients = []\n",
    "\n",
    "for _ in range(n_simulations):\n",
    "    # Generate Y values under the null hypothesis (no association)\n",
    "    epsilon = np.random.normal(0, sigma, size=len(waiting_values))\n",
    "    simulated_Y = beta_0 + beta_1 * waiting_values + epsilon\n",
    "    \n",
    "    # Create a DataFrame for the simulated data\n",
    "    simulated_data = pd.DataFrame({'waiting': waiting_values, 'duration': simulated_Y})\n",
    "    \n",
    "    # Fit linear regression on simulated data\n",
    "    model = smf.ols('duration ~ waiting', data=simulated_data).fit()\n",
    "    \n",
    "    # Record the slope coefficient\n",
    "    slope_coefficients.append(model.params['waiting'])\n",
    "\n",
    "# Convert slope coefficients to a DataFrame for visualization\n",
    "slope_df = pd.DataFrame(slope_coefficients, columns=['Slope'])\n",
    "\n",
    "# Visualize the sampling distribution of slope coefficients\n",
    "fig = px.histogram(slope_df, x='Slope', nbins=30,\n",
    "                   title=\"Sampling Distribution of Slope Coefficients under Null Hypothesis\",\n",
    "                   labels={'Slope': 'Slope Coefficient'})\n",
    "fig.show(renderer=\"png\")  # Use `renderer=\"png\"` for GitHub or MarkUs submissions\n"
   ]
  },
  {
   "cell_type": "code",
   "execution_count": 19,
   "id": "3ce72652",
   "metadata": {},
   "outputs": [
    {
     "name": "stdout",
     "output_type": "stream",
     "text": [
      "95% Bootstrapped Confidence Interval for Slope: (-0.0031, 0.0033)\n",
      "Does the 95% CI contain 0? Yes\n",
      "Simulated p-value: 0.0000\n",
      "Original p-value: 0.0381\n"
     ]
    }
   ],
   "source": [
    "# 1. Calculate the 95% bootstrapped confidence interval\n",
    "lower_bound, upper_bound = np.percentile(slope_coefficients, [2.5, 97.5])\n",
    "\n",
    "# Check if 0 is within this interval\n",
    "contains_zero = lower_bound <= 0 <= upper_bound\n",
    "\n",
    "# 2. Calculate the p-value from the simulation\n",
    "# We get the absolute observed slope from the original data\n",
    "observed_slope = smf.ols('duration ~ waiting', data=old_faithful[long_wait]).fit().params['waiting']\n",
    "simulated_p_value = np.mean(np.abs(slope_coefficients) >= np.abs(observed_slope))\n",
    "\n",
    "# 3. Compare with the p-value from the original model\n",
    "original_p_value = smf.ols('duration ~ waiting', data=old_faithful[long_wait]).fit().pvalues['waiting']\n",
    "\n",
    "# Output results\n",
    "print(f\"95% Bootstrapped Confidence Interval for Slope: ({lower_bound:.4f}, {upper_bound:.4f})\")\n",
    "print(f\"Does the 95% CI contain 0? {'Yes' if contains_zero else 'No'}\")\n",
    "print(f\"Simulated p-value: {simulated_p_value:.4f}\")\n",
    "print(f\"Original p-value: {original_p_value:.4f}\")\n"
   ]
  },
  {
   "cell_type": "markdown",
   "id": "a1163d93",
   "metadata": {},
   "source": [
    "### 11. Since we've considered wait times of around <64  \"short\" and wait times of >71 \"long\", let's instead just divide the data and insead call wait times of <68 \"short\" and otherwise just call them \"long\". Consider the *Simple Linear Regression* model specification using an *indicator variable* of the wait time length<br>\n",
    "\n",
    "$$\\large Y_i = \\beta_{\\text{intercept}} + 1_{[\\text{\"long\"}]}(\\text{k_i})\\beta_{\\text{contrast}} + \\epsilon_i \\quad \\text{ where } \\quad \\epsilon_i \\sim \\mathcal N\\left(0, \\sigma\\right)$$\n",
    "\n",
    "### where we use $k_i$ (rather than $x_i$) (to refer to the \"kind\" or \"katagory\" or \"kontrast\") column (that you may have noticed was already a part) of the original dataset; and, explain the \"big picture\" differences between this model specification and the previously considered model specifications<br>\n",
    "\n",
    "1. `smf.ols('duration ~ waiting', data=old_faithful)`\n",
    "2. `smf.ols('duration ~ waiting', data=old_faithful[short_wait])`\n",
    "3. `smf.ols('duration ~ waiting', data=old_faithful[long_wait])`\n",
    "\n",
    "### and report the evidence against a *null hypothesis* of \"no difference between groups \"on average\") for the new *indicator variable* based model<br>\n"
   ]
  },
  {
   "cell_type": "code",
   "execution_count": 20,
   "id": "1efc4f93",
   "metadata": {},
   "outputs": [
    {
     "data": {
      "text/html": [
       "<table class=\"simpletable\">\n",
       "<tr>\n",
       "                        <td></td>                           <th>coef</th>     <th>std err</th>      <th>t</th>      <th>P>|t|</th>  <th>[0.025</th>    <th>0.975]</th>  \n",
       "</tr>\n",
       "<tr>\n",
       "  <th>Intercept</th>                                     <td>    2.0943</td> <td>    0.041</td> <td>   50.752</td> <td> 0.000</td> <td>    2.013</td> <td>    2.176</td>\n",
       "</tr>\n",
       "<tr>\n",
       "  <th>C(kind, Treatment(reference=\"short\"))[T.long]</th> <td>    2.2036</td> <td>    0.052</td> <td>   42.464</td> <td> 0.000</td> <td>    2.101</td> <td>    2.306</td>\n",
       "</tr>\n",
       "</table>"
      ],
      "text/latex": [
       "\\begin{center}\n",
       "\\begin{tabular}{lcccccc}\n",
       "\\toprule\n",
       "                                                       & \\textbf{coef} & \\textbf{std err} & \\textbf{t} & \\textbf{P$> |$t$|$} & \\textbf{[0.025} & \\textbf{0.975]}  \\\\\n",
       "\\midrule\n",
       "\\textbf{Intercept}                                     &       2.0943  &        0.041     &    50.752  &         0.000        &        2.013    &        2.176     \\\\\n",
       "\\textbf{C(kind, Treatment(reference=\"short\"))[T.long]} &       2.2036  &        0.052     &    42.464  &         0.000        &        2.101    &        2.306     \\\\\n",
       "\\bottomrule\n",
       "\\end{tabular}\n",
       "\\end{center}"
      ],
      "text/plain": [
       "<class 'statsmodels.iolib.table.SimpleTable'>"
      ]
     },
     "metadata": {},
     "output_type": "display_data"
    },
    {
     "data": {
      "application/vnd.plotly.v1+json": {
       "config": {
        "plotlyServerURL": "https://plot.ly"
       },
       "data": [
        {
         "alignmentgroup": "True",
         "hovertemplate": "kind=%{x}<br>duration=%{y}<extra></extra>",
         "legendgroup": "",
         "marker": {
          "color": "#636efa"
         },
         "name": "",
         "notched": false,
         "offsetgroup": "",
         "orientation": "v",
         "showlegend": false,
         "type": "box",
         "x": [
          "long",
          "short",
          "long",
          "short",
          "long",
          "short",
          "long",
          "long",
          "short",
          "long",
          "short",
          "long",
          "long",
          "short",
          "long",
          "short",
          "short",
          "long",
          "short",
          "long",
          "short",
          "short",
          "long",
          "long",
          "long",
          "long",
          "short",
          "long",
          "long",
          "long",
          "long",
          "long",
          "short",
          "long",
          "long",
          "short",
          "short",
          "long",
          "short",
          "long",
          "long",
          "short",
          "long",
          "short",
          "long",
          "long",
          "short",
          "short",
          "long",
          "short",
          "long",
          "long",
          "short",
          "long",
          "short",
          "long",
          "long",
          "short",
          "long",
          "long",
          "short",
          "long",
          "short",
          "long",
          "short",
          "long",
          "long",
          "long",
          "short",
          "long",
          "long",
          "short",
          "long",
          "long",
          "short",
          "long",
          "short",
          "long",
          "long",
          "long",
          "long",
          "long",
          "long",
          "short",
          "long",
          "long",
          "long",
          "long",
          "short",
          "long",
          "short",
          "long",
          "short",
          "long",
          "short",
          "long",
          "long",
          "long",
          "short",
          "long",
          "short",
          "long",
          "short",
          "long",
          "long",
          "short",
          "long",
          "short",
          "long",
          "long",
          "long",
          "short",
          "long",
          "long",
          "short",
          "long",
          "short",
          "long",
          "short",
          "long",
          "short",
          "long",
          "long",
          "short",
          "long",
          "long",
          "short",
          "long",
          "short",
          "long",
          "short",
          "long",
          "short",
          "long",
          "short",
          "long",
          "short",
          "long",
          "short",
          "long",
          "long",
          "short",
          "long",
          "long",
          "long",
          "short",
          "long",
          "short",
          "long",
          "short",
          "long",
          "long",
          "short",
          "long",
          "long",
          "long",
          "long",
          "long",
          "short",
          "long",
          "short",
          "long",
          "short",
          "long",
          "short",
          "long",
          "short",
          "long",
          "short",
          "long",
          "short",
          "short",
          "long",
          "long",
          "long",
          "long",
          "long",
          "short",
          "long",
          "long",
          "short",
          "long",
          "long",
          "long",
          "short",
          "long",
          "long",
          "short",
          "long",
          "short",
          "long",
          "short",
          "long",
          "long",
          "long",
          "long",
          "long",
          "long",
          "short",
          "long",
          "short",
          "long",
          "long",
          "short",
          "long",
          "short",
          "long",
          "long",
          "short",
          "long",
          "long",
          "long",
          "short",
          "long",
          "short",
          "long",
          "short",
          "long",
          "short",
          "long",
          "short",
          "long",
          "short",
          "long",
          "long",
          "long",
          "long",
          "long",
          "long",
          "long",
          "long",
          "short",
          "long",
          "short",
          "long",
          "short",
          "short",
          "long",
          "long",
          "short",
          "long",
          "short",
          "long",
          "short",
          "long",
          "long",
          "short",
          "long",
          "short",
          "long",
          "short",
          "long",
          "long",
          "long",
          "long",
          "long",
          "long",
          "long",
          "short",
          "long",
          "long",
          "long",
          "short",
          "long",
          "short",
          "short",
          "long",
          "long",
          "short",
          "long",
          "short",
          "long"
         ],
         "x0": " ",
         "xaxis": "x",
         "y": [
          3.6,
          1.8,
          3.333,
          2.283,
          4.533,
          2.883,
          4.7,
          3.6,
          1.95,
          4.35,
          1.833,
          3.917,
          4.2,
          1.75,
          4.7,
          2.167,
          1.75,
          4.8,
          1.6,
          4.25,
          1.8,
          1.75,
          3.45,
          3.067,
          4.533,
          3.6,
          1.967,
          4.083,
          3.85,
          4.433,
          4.3,
          4.467,
          3.367,
          4.033,
          3.833,
          2.017,
          1.867,
          4.833,
          1.833,
          4.783,
          4.35,
          1.883,
          4.567,
          1.75,
          4.533,
          3.317,
          3.833,
          2.1,
          4.633,
          2,
          4.8,
          4.716,
          1.833,
          4.833,
          1.733,
          4.883,
          3.717,
          1.6669999999999998,
          4.567,
          4.317,
          2.233,
          4.5,
          1.75,
          4.8,
          1.817,
          4.4,
          4.167,
          4.7,
          2.067,
          4.7,
          4.033,
          1.967,
          4.5,
          4,
          1.983,
          5.067,
          2.017,
          4.567,
          3.883,
          3.6,
          4.133,
          4.333,
          4.1,
          2.633,
          4.067,
          4.933,
          3.95,
          4.517,
          2.167,
          4,
          2.2,
          4.333,
          1.867,
          4.817,
          1.833,
          4.3,
          4.667,
          3.75,
          1.867,
          4.9,
          2.483,
          4.367,
          2.1,
          4.5,
          4.05,
          1.867,
          4.7,
          1.783,
          4.85,
          3.683,
          4.7330000000000005,
          2.3,
          4.9,
          4.417,
          1.7,
          4.633,
          2.317,
          4.6,
          1.817,
          4.417,
          2.617,
          4.067,
          4.25,
          1.967,
          4.6,
          3.767,
          1.917,
          4.5,
          2.267,
          4.65,
          1.867,
          4.167,
          2.8,
          4.333,
          1.833,
          4.383,
          1.883,
          4.933,
          2.033,
          3.733,
          4.2330000000000005,
          2.233,
          4.533,
          4.817,
          4.333,
          1.983,
          4.633,
          2.017,
          5.1,
          1.8,
          5.033,
          4,
          2.4,
          4.6,
          3.567,
          4,
          4.5,
          4.083,
          1.8,
          3.967,
          2.2,
          4.15,
          2,
          3.833,
          3.5,
          4.583,
          2.367,
          5,
          1.933,
          4.617,
          1.917,
          2.083,
          4.583,
          3.333,
          4.167,
          4.333,
          4.5,
          2.417,
          4,
          4.167,
          1.883,
          4.583,
          4.25,
          3.767,
          2.033,
          4.433,
          4.083,
          1.833,
          4.417,
          2.1830000000000003,
          4.8,
          1.833,
          4.8,
          4.1,
          3.966,
          4.2330000000000005,
          3.5,
          4.3660000000000005,
          2.25,
          4.667,
          2.1,
          4.35,
          4.133,
          1.867,
          4.6,
          1.783,
          4.367,
          3.85,
          1.933,
          4.5,
          2.383,
          4.7,
          1.867,
          3.833,
          3.417,
          4.2330000000000005,
          2.4,
          4.8,
          2,
          4.15,
          1.867,
          4.267,
          1.75,
          4.4830000000000005,
          4,
          4.117,
          4.083,
          4.267,
          3.917,
          4.55,
          4.083,
          2.417,
          4.183,
          2.217,
          4.45,
          1.883,
          1.85,
          4.283,
          3.95,
          2.333,
          4.15,
          2.35,
          4.933,
          2.9,
          4.583,
          3.833,
          2.083,
          4.367,
          2.133,
          4.35,
          2.2,
          4.45,
          3.567,
          4.5,
          4.15,
          3.817,
          3.917,
          4.45,
          2,
          4.283,
          4.767,
          4.533,
          1.85,
          4.25,
          1.983,
          2.25,
          4.75,
          4.117,
          2.15,
          4.417,
          1.817,
          4.467
         ],
         "y0": " ",
         "yaxis": "y"
        }
       ],
       "layout": {
        "boxmode": "group",
        "legend": {
         "tracegroupgap": 0
        },
        "template": {
         "data": {
          "bar": [
           {
            "error_x": {
             "color": "#2a3f5f"
            },
            "error_y": {
             "color": "#2a3f5f"
            },
            "marker": {
             "line": {
              "color": "#E5ECF6",
              "width": 0.5
             },
             "pattern": {
              "fillmode": "overlay",
              "size": 10,
              "solidity": 0.2
             }
            },
            "type": "bar"
           }
          ],
          "barpolar": [
           {
            "marker": {
             "line": {
              "color": "#E5ECF6",
              "width": 0.5
             },
             "pattern": {
              "fillmode": "overlay",
              "size": 10,
              "solidity": 0.2
             }
            },
            "type": "barpolar"
           }
          ],
          "carpet": [
           {
            "aaxis": {
             "endlinecolor": "#2a3f5f",
             "gridcolor": "white",
             "linecolor": "white",
             "minorgridcolor": "white",
             "startlinecolor": "#2a3f5f"
            },
            "baxis": {
             "endlinecolor": "#2a3f5f",
             "gridcolor": "white",
             "linecolor": "white",
             "minorgridcolor": "white",
             "startlinecolor": "#2a3f5f"
            },
            "type": "carpet"
           }
          ],
          "choropleth": [
           {
            "colorbar": {
             "outlinewidth": 0,
             "ticks": ""
            },
            "type": "choropleth"
           }
          ],
          "contour": [
           {
            "colorbar": {
             "outlinewidth": 0,
             "ticks": ""
            },
            "colorscale": [
             [
              0,
              "#0d0887"
             ],
             [
              0.1111111111111111,
              "#46039f"
             ],
             [
              0.2222222222222222,
              "#7201a8"
             ],
             [
              0.3333333333333333,
              "#9c179e"
             ],
             [
              0.4444444444444444,
              "#bd3786"
             ],
             [
              0.5555555555555556,
              "#d8576b"
             ],
             [
              0.6666666666666666,
              "#ed7953"
             ],
             [
              0.7777777777777778,
              "#fb9f3a"
             ],
             [
              0.8888888888888888,
              "#fdca26"
             ],
             [
              1,
              "#f0f921"
             ]
            ],
            "type": "contour"
           }
          ],
          "contourcarpet": [
           {
            "colorbar": {
             "outlinewidth": 0,
             "ticks": ""
            },
            "type": "contourcarpet"
           }
          ],
          "heatmap": [
           {
            "colorbar": {
             "outlinewidth": 0,
             "ticks": ""
            },
            "colorscale": [
             [
              0,
              "#0d0887"
             ],
             [
              0.1111111111111111,
              "#46039f"
             ],
             [
              0.2222222222222222,
              "#7201a8"
             ],
             [
              0.3333333333333333,
              "#9c179e"
             ],
             [
              0.4444444444444444,
              "#bd3786"
             ],
             [
              0.5555555555555556,
              "#d8576b"
             ],
             [
              0.6666666666666666,
              "#ed7953"
             ],
             [
              0.7777777777777778,
              "#fb9f3a"
             ],
             [
              0.8888888888888888,
              "#fdca26"
             ],
             [
              1,
              "#f0f921"
             ]
            ],
            "type": "heatmap"
           }
          ],
          "heatmapgl": [
           {
            "colorbar": {
             "outlinewidth": 0,
             "ticks": ""
            },
            "colorscale": [
             [
              0,
              "#0d0887"
             ],
             [
              0.1111111111111111,
              "#46039f"
             ],
             [
              0.2222222222222222,
              "#7201a8"
             ],
             [
              0.3333333333333333,
              "#9c179e"
             ],
             [
              0.4444444444444444,
              "#bd3786"
             ],
             [
              0.5555555555555556,
              "#d8576b"
             ],
             [
              0.6666666666666666,
              "#ed7953"
             ],
             [
              0.7777777777777778,
              "#fb9f3a"
             ],
             [
              0.8888888888888888,
              "#fdca26"
             ],
             [
              1,
              "#f0f921"
             ]
            ],
            "type": "heatmapgl"
           }
          ],
          "histogram": [
           {
            "marker": {
             "pattern": {
              "fillmode": "overlay",
              "size": 10,
              "solidity": 0.2
             }
            },
            "type": "histogram"
           }
          ],
          "histogram2d": [
           {
            "colorbar": {
             "outlinewidth": 0,
             "ticks": ""
            },
            "colorscale": [
             [
              0,
              "#0d0887"
             ],
             [
              0.1111111111111111,
              "#46039f"
             ],
             [
              0.2222222222222222,
              "#7201a8"
             ],
             [
              0.3333333333333333,
              "#9c179e"
             ],
             [
              0.4444444444444444,
              "#bd3786"
             ],
             [
              0.5555555555555556,
              "#d8576b"
             ],
             [
              0.6666666666666666,
              "#ed7953"
             ],
             [
              0.7777777777777778,
              "#fb9f3a"
             ],
             [
              0.8888888888888888,
              "#fdca26"
             ],
             [
              1,
              "#f0f921"
             ]
            ],
            "type": "histogram2d"
           }
          ],
          "histogram2dcontour": [
           {
            "colorbar": {
             "outlinewidth": 0,
             "ticks": ""
            },
            "colorscale": [
             [
              0,
              "#0d0887"
             ],
             [
              0.1111111111111111,
              "#46039f"
             ],
             [
              0.2222222222222222,
              "#7201a8"
             ],
             [
              0.3333333333333333,
              "#9c179e"
             ],
             [
              0.4444444444444444,
              "#bd3786"
             ],
             [
              0.5555555555555556,
              "#d8576b"
             ],
             [
              0.6666666666666666,
              "#ed7953"
             ],
             [
              0.7777777777777778,
              "#fb9f3a"
             ],
             [
              0.8888888888888888,
              "#fdca26"
             ],
             [
              1,
              "#f0f921"
             ]
            ],
            "type": "histogram2dcontour"
           }
          ],
          "mesh3d": [
           {
            "colorbar": {
             "outlinewidth": 0,
             "ticks": ""
            },
            "type": "mesh3d"
           }
          ],
          "parcoords": [
           {
            "line": {
             "colorbar": {
              "outlinewidth": 0,
              "ticks": ""
             }
            },
            "type": "parcoords"
           }
          ],
          "pie": [
           {
            "automargin": true,
            "type": "pie"
           }
          ],
          "scatter": [
           {
            "fillpattern": {
             "fillmode": "overlay",
             "size": 10,
             "solidity": 0.2
            },
            "type": "scatter"
           }
          ],
          "scatter3d": [
           {
            "line": {
             "colorbar": {
              "outlinewidth": 0,
              "ticks": ""
             }
            },
            "marker": {
             "colorbar": {
              "outlinewidth": 0,
              "ticks": ""
             }
            },
            "type": "scatter3d"
           }
          ],
          "scattercarpet": [
           {
            "marker": {
             "colorbar": {
              "outlinewidth": 0,
              "ticks": ""
             }
            },
            "type": "scattercarpet"
           }
          ],
          "scattergeo": [
           {
            "marker": {
             "colorbar": {
              "outlinewidth": 0,
              "ticks": ""
             }
            },
            "type": "scattergeo"
           }
          ],
          "scattergl": [
           {
            "marker": {
             "colorbar": {
              "outlinewidth": 0,
              "ticks": ""
             }
            },
            "type": "scattergl"
           }
          ],
          "scattermapbox": [
           {
            "marker": {
             "colorbar": {
              "outlinewidth": 0,
              "ticks": ""
             }
            },
            "type": "scattermapbox"
           }
          ],
          "scatterpolar": [
           {
            "marker": {
             "colorbar": {
              "outlinewidth": 0,
              "ticks": ""
             }
            },
            "type": "scatterpolar"
           }
          ],
          "scatterpolargl": [
           {
            "marker": {
             "colorbar": {
              "outlinewidth": 0,
              "ticks": ""
             }
            },
            "type": "scatterpolargl"
           }
          ],
          "scatterternary": [
           {
            "marker": {
             "colorbar": {
              "outlinewidth": 0,
              "ticks": ""
             }
            },
            "type": "scatterternary"
           }
          ],
          "surface": [
           {
            "colorbar": {
             "outlinewidth": 0,
             "ticks": ""
            },
            "colorscale": [
             [
              0,
              "#0d0887"
             ],
             [
              0.1111111111111111,
              "#46039f"
             ],
             [
              0.2222222222222222,
              "#7201a8"
             ],
             [
              0.3333333333333333,
              "#9c179e"
             ],
             [
              0.4444444444444444,
              "#bd3786"
             ],
             [
              0.5555555555555556,
              "#d8576b"
             ],
             [
              0.6666666666666666,
              "#ed7953"
             ],
             [
              0.7777777777777778,
              "#fb9f3a"
             ],
             [
              0.8888888888888888,
              "#fdca26"
             ],
             [
              1,
              "#f0f921"
             ]
            ],
            "type": "surface"
           }
          ],
          "table": [
           {
            "cells": {
             "fill": {
              "color": "#EBF0F8"
             },
             "line": {
              "color": "white"
             }
            },
            "header": {
             "fill": {
              "color": "#C8D4E3"
             },
             "line": {
              "color": "white"
             }
            },
            "type": "table"
           }
          ]
         },
         "layout": {
          "annotationdefaults": {
           "arrowcolor": "#2a3f5f",
           "arrowhead": 0,
           "arrowwidth": 1
          },
          "autotypenumbers": "strict",
          "coloraxis": {
           "colorbar": {
            "outlinewidth": 0,
            "ticks": ""
           }
          },
          "colorscale": {
           "diverging": [
            [
             0,
             "#8e0152"
            ],
            [
             0.1,
             "#c51b7d"
            ],
            [
             0.2,
             "#de77ae"
            ],
            [
             0.3,
             "#f1b6da"
            ],
            [
             0.4,
             "#fde0ef"
            ],
            [
             0.5,
             "#f7f7f7"
            ],
            [
             0.6,
             "#e6f5d0"
            ],
            [
             0.7,
             "#b8e186"
            ],
            [
             0.8,
             "#7fbc41"
            ],
            [
             0.9,
             "#4d9221"
            ],
            [
             1,
             "#276419"
            ]
           ],
           "sequential": [
            [
             0,
             "#0d0887"
            ],
            [
             0.1111111111111111,
             "#46039f"
            ],
            [
             0.2222222222222222,
             "#7201a8"
            ],
            [
             0.3333333333333333,
             "#9c179e"
            ],
            [
             0.4444444444444444,
             "#bd3786"
            ],
            [
             0.5555555555555556,
             "#d8576b"
            ],
            [
             0.6666666666666666,
             "#ed7953"
            ],
            [
             0.7777777777777778,
             "#fb9f3a"
            ],
            [
             0.8888888888888888,
             "#fdca26"
            ],
            [
             1,
             "#f0f921"
            ]
           ],
           "sequentialminus": [
            [
             0,
             "#0d0887"
            ],
            [
             0.1111111111111111,
             "#46039f"
            ],
            [
             0.2222222222222222,
             "#7201a8"
            ],
            [
             0.3333333333333333,
             "#9c179e"
            ],
            [
             0.4444444444444444,
             "#bd3786"
            ],
            [
             0.5555555555555556,
             "#d8576b"
            ],
            [
             0.6666666666666666,
             "#ed7953"
            ],
            [
             0.7777777777777778,
             "#fb9f3a"
            ],
            [
             0.8888888888888888,
             "#fdca26"
            ],
            [
             1,
             "#f0f921"
            ]
           ]
          },
          "colorway": [
           "#636efa",
           "#EF553B",
           "#00cc96",
           "#ab63fa",
           "#FFA15A",
           "#19d3f3",
           "#FF6692",
           "#B6E880",
           "#FF97FF",
           "#FECB52"
          ],
          "font": {
           "color": "#2a3f5f"
          },
          "geo": {
           "bgcolor": "white",
           "lakecolor": "white",
           "landcolor": "#E5ECF6",
           "showlakes": true,
           "showland": true,
           "subunitcolor": "white"
          },
          "hoverlabel": {
           "align": "left"
          },
          "hovermode": "closest",
          "mapbox": {
           "style": "light"
          },
          "paper_bgcolor": "white",
          "plot_bgcolor": "#E5ECF6",
          "polar": {
           "angularaxis": {
            "gridcolor": "white",
            "linecolor": "white",
            "ticks": ""
           },
           "bgcolor": "#E5ECF6",
           "radialaxis": {
            "gridcolor": "white",
            "linecolor": "white",
            "ticks": ""
           }
          },
          "scene": {
           "xaxis": {
            "backgroundcolor": "#E5ECF6",
            "gridcolor": "white",
            "gridwidth": 2,
            "linecolor": "white",
            "showbackground": true,
            "ticks": "",
            "zerolinecolor": "white"
           },
           "yaxis": {
            "backgroundcolor": "#E5ECF6",
            "gridcolor": "white",
            "gridwidth": 2,
            "linecolor": "white",
            "showbackground": true,
            "ticks": "",
            "zerolinecolor": "white"
           },
           "zaxis": {
            "backgroundcolor": "#E5ECF6",
            "gridcolor": "white",
            "gridwidth": 2,
            "linecolor": "white",
            "showbackground": true,
            "ticks": "",
            "zerolinecolor": "white"
           }
          },
          "shapedefaults": {
           "line": {
            "color": "#2a3f5f"
           }
          },
          "ternary": {
           "aaxis": {
            "gridcolor": "white",
            "linecolor": "white",
            "ticks": ""
           },
           "baxis": {
            "gridcolor": "white",
            "linecolor": "white",
            "ticks": ""
           },
           "bgcolor": "#E5ECF6",
           "caxis": {
            "gridcolor": "white",
            "linecolor": "white",
            "ticks": ""
           }
          },
          "title": {
           "x": 0.05
          },
          "xaxis": {
           "automargin": true,
           "gridcolor": "white",
           "linecolor": "white",
           "ticks": "",
           "title": {
            "standoff": 15
           },
           "zerolinecolor": "white",
           "zerolinewidth": 2
          },
          "yaxis": {
           "automargin": true,
           "gridcolor": "white",
           "linecolor": "white",
           "ticks": "",
           "title": {
            "standoff": 15
           },
           "zerolinecolor": "white",
           "zerolinewidth": 2
          }
         }
        },
        "title": {
         "text": "duration ~ kind"
        },
        "xaxis": {
         "anchor": "y",
         "categoryarray": [
          "short",
          "long"
         ],
         "categoryorder": "array",
         "domain": [
          0,
          1
         ],
         "title": {
          "text": "kind"
         }
        },
        "yaxis": {
         "anchor": "x",
         "domain": [
          0,
          1
         ],
         "title": {
          "text": "duration"
         }
        }
       }
      },
      "text/html": [
       "<div>                            <div id=\"a5847aea-9c06-44c1-a3f8-53300438d9ad\" class=\"plotly-graph-div\" style=\"height:525px; width:100%;\"></div>            <script type=\"text/javascript\">                require([\"plotly\"], function(Plotly) {                    window.PLOTLYENV=window.PLOTLYENV || {};                                    if (document.getElementById(\"a5847aea-9c06-44c1-a3f8-53300438d9ad\")) {                    Plotly.newPlot(                        \"a5847aea-9c06-44c1-a3f8-53300438d9ad\",                        [{\"alignmentgroup\":\"True\",\"hovertemplate\":\"kind=%{x}\\u003cbr\\u003eduration=%{y}\\u003cextra\\u003e\\u003c\\u002fextra\\u003e\",\"legendgroup\":\"\",\"marker\":{\"color\":\"#636efa\"},\"name\":\"\",\"notched\":false,\"offsetgroup\":\"\",\"orientation\":\"v\",\"showlegend\":false,\"x\":[\"long\",\"short\",\"long\",\"short\",\"long\",\"short\",\"long\",\"long\",\"short\",\"long\",\"short\",\"long\",\"long\",\"short\",\"long\",\"short\",\"short\",\"long\",\"short\",\"long\",\"short\",\"short\",\"long\",\"long\",\"long\",\"long\",\"short\",\"long\",\"long\",\"long\",\"long\",\"long\",\"short\",\"long\",\"long\",\"short\",\"short\",\"long\",\"short\",\"long\",\"long\",\"short\",\"long\",\"short\",\"long\",\"long\",\"short\",\"short\",\"long\",\"short\",\"long\",\"long\",\"short\",\"long\",\"short\",\"long\",\"long\",\"short\",\"long\",\"long\",\"short\",\"long\",\"short\",\"long\",\"short\",\"long\",\"long\",\"long\",\"short\",\"long\",\"long\",\"short\",\"long\",\"long\",\"short\",\"long\",\"short\",\"long\",\"long\",\"long\",\"long\",\"long\",\"long\",\"short\",\"long\",\"long\",\"long\",\"long\",\"short\",\"long\",\"short\",\"long\",\"short\",\"long\",\"short\",\"long\",\"long\",\"long\",\"short\",\"long\",\"short\",\"long\",\"short\",\"long\",\"long\",\"short\",\"long\",\"short\",\"long\",\"long\",\"long\",\"short\",\"long\",\"long\",\"short\",\"long\",\"short\",\"long\",\"short\",\"long\",\"short\",\"long\",\"long\",\"short\",\"long\",\"long\",\"short\",\"long\",\"short\",\"long\",\"short\",\"long\",\"short\",\"long\",\"short\",\"long\",\"short\",\"long\",\"short\",\"long\",\"long\",\"short\",\"long\",\"long\",\"long\",\"short\",\"long\",\"short\",\"long\",\"short\",\"long\",\"long\",\"short\",\"long\",\"long\",\"long\",\"long\",\"long\",\"short\",\"long\",\"short\",\"long\",\"short\",\"long\",\"short\",\"long\",\"short\",\"long\",\"short\",\"long\",\"short\",\"short\",\"long\",\"long\",\"long\",\"long\",\"long\",\"short\",\"long\",\"long\",\"short\",\"long\",\"long\",\"long\",\"short\",\"long\",\"long\",\"short\",\"long\",\"short\",\"long\",\"short\",\"long\",\"long\",\"long\",\"long\",\"long\",\"long\",\"short\",\"long\",\"short\",\"long\",\"long\",\"short\",\"long\",\"short\",\"long\",\"long\",\"short\",\"long\",\"long\",\"long\",\"short\",\"long\",\"short\",\"long\",\"short\",\"long\",\"short\",\"long\",\"short\",\"long\",\"short\",\"long\",\"long\",\"long\",\"long\",\"long\",\"long\",\"long\",\"long\",\"short\",\"long\",\"short\",\"long\",\"short\",\"short\",\"long\",\"long\",\"short\",\"long\",\"short\",\"long\",\"short\",\"long\",\"long\",\"short\",\"long\",\"short\",\"long\",\"short\",\"long\",\"long\",\"long\",\"long\",\"long\",\"long\",\"long\",\"short\",\"long\",\"long\",\"long\",\"short\",\"long\",\"short\",\"short\",\"long\",\"long\",\"short\",\"long\",\"short\",\"long\"],\"x0\":\" \",\"xaxis\":\"x\",\"y\":[3.6,1.8,3.333,2.283,4.533,2.883,4.7,3.6,1.95,4.35,1.833,3.917,4.2,1.75,4.7,2.167,1.75,4.8,1.6,4.25,1.8,1.75,3.45,3.067,4.533,3.6,1.967,4.083,3.85,4.433,4.3,4.467,3.367,4.033,3.833,2.017,1.867,4.833,1.833,4.783,4.35,1.883,4.567,1.75,4.533,3.317,3.833,2.1,4.633,2.0,4.8,4.716,1.833,4.833,1.733,4.883,3.717,1.6669999999999998,4.567,4.317,2.233,4.5,1.75,4.8,1.817,4.4,4.167,4.7,2.067,4.7,4.033,1.967,4.5,4.0,1.983,5.067,2.017,4.567,3.883,3.6,4.133,4.333,4.1,2.633,4.067,4.933,3.95,4.517,2.167,4.0,2.2,4.333,1.867,4.817,1.833,4.3,4.667,3.75,1.867,4.9,2.483,4.367,2.1,4.5,4.05,1.867,4.7,1.783,4.85,3.683,4.7330000000000005,2.3,4.9,4.417,1.7,4.633,2.317,4.6,1.817,4.417,2.617,4.067,4.25,1.967,4.6,3.767,1.917,4.5,2.267,4.65,1.867,4.167,2.8,4.333,1.833,4.383,1.883,4.933,2.033,3.733,4.2330000000000005,2.233,4.533,4.817,4.333,1.983,4.633,2.017,5.1,1.8,5.033,4.0,2.4,4.6,3.567,4.0,4.5,4.083,1.8,3.967,2.2,4.15,2.0,3.833,3.5,4.583,2.367,5.0,1.933,4.617,1.917,2.083,4.583,3.333,4.167,4.333,4.5,2.417,4.0,4.167,1.883,4.583,4.25,3.767,2.033,4.433,4.083,1.833,4.417,2.1830000000000003,4.8,1.833,4.8,4.1,3.966,4.2330000000000005,3.5,4.3660000000000005,2.25,4.667,2.1,4.35,4.133,1.867,4.6,1.783,4.367,3.85,1.933,4.5,2.383,4.7,1.867,3.833,3.417,4.2330000000000005,2.4,4.8,2.0,4.15,1.867,4.267,1.75,4.4830000000000005,4.0,4.117,4.083,4.267,3.917,4.55,4.083,2.417,4.183,2.217,4.45,1.883,1.85,4.283,3.95,2.333,4.15,2.35,4.933,2.9,4.583,3.833,2.083,4.367,2.133,4.35,2.2,4.45,3.567,4.5,4.15,3.817,3.917,4.45,2.0,4.283,4.767,4.533,1.85,4.25,1.983,2.25,4.75,4.117,2.15,4.417,1.817,4.467],\"y0\":\" \",\"yaxis\":\"y\",\"type\":\"box\"}],                        {\"template\":{\"data\":{\"histogram2dcontour\":[{\"type\":\"histogram2dcontour\",\"colorbar\":{\"outlinewidth\":0,\"ticks\":\"\"},\"colorscale\":[[0.0,\"#0d0887\"],[0.1111111111111111,\"#46039f\"],[0.2222222222222222,\"#7201a8\"],[0.3333333333333333,\"#9c179e\"],[0.4444444444444444,\"#bd3786\"],[0.5555555555555556,\"#d8576b\"],[0.6666666666666666,\"#ed7953\"],[0.7777777777777778,\"#fb9f3a\"],[0.8888888888888888,\"#fdca26\"],[1.0,\"#f0f921\"]]}],\"choropleth\":[{\"type\":\"choropleth\",\"colorbar\":{\"outlinewidth\":0,\"ticks\":\"\"}}],\"histogram2d\":[{\"type\":\"histogram2d\",\"colorbar\":{\"outlinewidth\":0,\"ticks\":\"\"},\"colorscale\":[[0.0,\"#0d0887\"],[0.1111111111111111,\"#46039f\"],[0.2222222222222222,\"#7201a8\"],[0.3333333333333333,\"#9c179e\"],[0.4444444444444444,\"#bd3786\"],[0.5555555555555556,\"#d8576b\"],[0.6666666666666666,\"#ed7953\"],[0.7777777777777778,\"#fb9f3a\"],[0.8888888888888888,\"#fdca26\"],[1.0,\"#f0f921\"]]}],\"heatmap\":[{\"type\":\"heatmap\",\"colorbar\":{\"outlinewidth\":0,\"ticks\":\"\"},\"colorscale\":[[0.0,\"#0d0887\"],[0.1111111111111111,\"#46039f\"],[0.2222222222222222,\"#7201a8\"],[0.3333333333333333,\"#9c179e\"],[0.4444444444444444,\"#bd3786\"],[0.5555555555555556,\"#d8576b\"],[0.6666666666666666,\"#ed7953\"],[0.7777777777777778,\"#fb9f3a\"],[0.8888888888888888,\"#fdca26\"],[1.0,\"#f0f921\"]]}],\"heatmapgl\":[{\"type\":\"heatmapgl\",\"colorbar\":{\"outlinewidth\":0,\"ticks\":\"\"},\"colorscale\":[[0.0,\"#0d0887\"],[0.1111111111111111,\"#46039f\"],[0.2222222222222222,\"#7201a8\"],[0.3333333333333333,\"#9c179e\"],[0.4444444444444444,\"#bd3786\"],[0.5555555555555556,\"#d8576b\"],[0.6666666666666666,\"#ed7953\"],[0.7777777777777778,\"#fb9f3a\"],[0.8888888888888888,\"#fdca26\"],[1.0,\"#f0f921\"]]}],\"contourcarpet\":[{\"type\":\"contourcarpet\",\"colorbar\":{\"outlinewidth\":0,\"ticks\":\"\"}}],\"contour\":[{\"type\":\"contour\",\"colorbar\":{\"outlinewidth\":0,\"ticks\":\"\"},\"colorscale\":[[0.0,\"#0d0887\"],[0.1111111111111111,\"#46039f\"],[0.2222222222222222,\"#7201a8\"],[0.3333333333333333,\"#9c179e\"],[0.4444444444444444,\"#bd3786\"],[0.5555555555555556,\"#d8576b\"],[0.6666666666666666,\"#ed7953\"],[0.7777777777777778,\"#fb9f3a\"],[0.8888888888888888,\"#fdca26\"],[1.0,\"#f0f921\"]]}],\"surface\":[{\"type\":\"surface\",\"colorbar\":{\"outlinewidth\":0,\"ticks\":\"\"},\"colorscale\":[[0.0,\"#0d0887\"],[0.1111111111111111,\"#46039f\"],[0.2222222222222222,\"#7201a8\"],[0.3333333333333333,\"#9c179e\"],[0.4444444444444444,\"#bd3786\"],[0.5555555555555556,\"#d8576b\"],[0.6666666666666666,\"#ed7953\"],[0.7777777777777778,\"#fb9f3a\"],[0.8888888888888888,\"#fdca26\"],[1.0,\"#f0f921\"]]}],\"mesh3d\":[{\"type\":\"mesh3d\",\"colorbar\":{\"outlinewidth\":0,\"ticks\":\"\"}}],\"scatter\":[{\"fillpattern\":{\"fillmode\":\"overlay\",\"size\":10,\"solidity\":0.2},\"type\":\"scatter\"}],\"parcoords\":[{\"type\":\"parcoords\",\"line\":{\"colorbar\":{\"outlinewidth\":0,\"ticks\":\"\"}}}],\"scatterpolargl\":[{\"type\":\"scatterpolargl\",\"marker\":{\"colorbar\":{\"outlinewidth\":0,\"ticks\":\"\"}}}],\"bar\":[{\"error_x\":{\"color\":\"#2a3f5f\"},\"error_y\":{\"color\":\"#2a3f5f\"},\"marker\":{\"line\":{\"color\":\"#E5ECF6\",\"width\":0.5},\"pattern\":{\"fillmode\":\"overlay\",\"size\":10,\"solidity\":0.2}},\"type\":\"bar\"}],\"scattergeo\":[{\"type\":\"scattergeo\",\"marker\":{\"colorbar\":{\"outlinewidth\":0,\"ticks\":\"\"}}}],\"scatterpolar\":[{\"type\":\"scatterpolar\",\"marker\":{\"colorbar\":{\"outlinewidth\":0,\"ticks\":\"\"}}}],\"histogram\":[{\"marker\":{\"pattern\":{\"fillmode\":\"overlay\",\"size\":10,\"solidity\":0.2}},\"type\":\"histogram\"}],\"scattergl\":[{\"type\":\"scattergl\",\"marker\":{\"colorbar\":{\"outlinewidth\":0,\"ticks\":\"\"}}}],\"scatter3d\":[{\"type\":\"scatter3d\",\"line\":{\"colorbar\":{\"outlinewidth\":0,\"ticks\":\"\"}},\"marker\":{\"colorbar\":{\"outlinewidth\":0,\"ticks\":\"\"}}}],\"scattermapbox\":[{\"type\":\"scattermapbox\",\"marker\":{\"colorbar\":{\"outlinewidth\":0,\"ticks\":\"\"}}}],\"scatterternary\":[{\"type\":\"scatterternary\",\"marker\":{\"colorbar\":{\"outlinewidth\":0,\"ticks\":\"\"}}}],\"scattercarpet\":[{\"type\":\"scattercarpet\",\"marker\":{\"colorbar\":{\"outlinewidth\":0,\"ticks\":\"\"}}}],\"carpet\":[{\"aaxis\":{\"endlinecolor\":\"#2a3f5f\",\"gridcolor\":\"white\",\"linecolor\":\"white\",\"minorgridcolor\":\"white\",\"startlinecolor\":\"#2a3f5f\"},\"baxis\":{\"endlinecolor\":\"#2a3f5f\",\"gridcolor\":\"white\",\"linecolor\":\"white\",\"minorgridcolor\":\"white\",\"startlinecolor\":\"#2a3f5f\"},\"type\":\"carpet\"}],\"table\":[{\"cells\":{\"fill\":{\"color\":\"#EBF0F8\"},\"line\":{\"color\":\"white\"}},\"header\":{\"fill\":{\"color\":\"#C8D4E3\"},\"line\":{\"color\":\"white\"}},\"type\":\"table\"}],\"barpolar\":[{\"marker\":{\"line\":{\"color\":\"#E5ECF6\",\"width\":0.5},\"pattern\":{\"fillmode\":\"overlay\",\"size\":10,\"solidity\":0.2}},\"type\":\"barpolar\"}],\"pie\":[{\"automargin\":true,\"type\":\"pie\"}]},\"layout\":{\"autotypenumbers\":\"strict\",\"colorway\":[\"#636efa\",\"#EF553B\",\"#00cc96\",\"#ab63fa\",\"#FFA15A\",\"#19d3f3\",\"#FF6692\",\"#B6E880\",\"#FF97FF\",\"#FECB52\"],\"font\":{\"color\":\"#2a3f5f\"},\"hovermode\":\"closest\",\"hoverlabel\":{\"align\":\"left\"},\"paper_bgcolor\":\"white\",\"plot_bgcolor\":\"#E5ECF6\",\"polar\":{\"bgcolor\":\"#E5ECF6\",\"angularaxis\":{\"gridcolor\":\"white\",\"linecolor\":\"white\",\"ticks\":\"\"},\"radialaxis\":{\"gridcolor\":\"white\",\"linecolor\":\"white\",\"ticks\":\"\"}},\"ternary\":{\"bgcolor\":\"#E5ECF6\",\"aaxis\":{\"gridcolor\":\"white\",\"linecolor\":\"white\",\"ticks\":\"\"},\"baxis\":{\"gridcolor\":\"white\",\"linecolor\":\"white\",\"ticks\":\"\"},\"caxis\":{\"gridcolor\":\"white\",\"linecolor\":\"white\",\"ticks\":\"\"}},\"coloraxis\":{\"colorbar\":{\"outlinewidth\":0,\"ticks\":\"\"}},\"colorscale\":{\"sequential\":[[0.0,\"#0d0887\"],[0.1111111111111111,\"#46039f\"],[0.2222222222222222,\"#7201a8\"],[0.3333333333333333,\"#9c179e\"],[0.4444444444444444,\"#bd3786\"],[0.5555555555555556,\"#d8576b\"],[0.6666666666666666,\"#ed7953\"],[0.7777777777777778,\"#fb9f3a\"],[0.8888888888888888,\"#fdca26\"],[1.0,\"#f0f921\"]],\"sequentialminus\":[[0.0,\"#0d0887\"],[0.1111111111111111,\"#46039f\"],[0.2222222222222222,\"#7201a8\"],[0.3333333333333333,\"#9c179e\"],[0.4444444444444444,\"#bd3786\"],[0.5555555555555556,\"#d8576b\"],[0.6666666666666666,\"#ed7953\"],[0.7777777777777778,\"#fb9f3a\"],[0.8888888888888888,\"#fdca26\"],[1.0,\"#f0f921\"]],\"diverging\":[[0,\"#8e0152\"],[0.1,\"#c51b7d\"],[0.2,\"#de77ae\"],[0.3,\"#f1b6da\"],[0.4,\"#fde0ef\"],[0.5,\"#f7f7f7\"],[0.6,\"#e6f5d0\"],[0.7,\"#b8e186\"],[0.8,\"#7fbc41\"],[0.9,\"#4d9221\"],[1,\"#276419\"]]},\"xaxis\":{\"gridcolor\":\"white\",\"linecolor\":\"white\",\"ticks\":\"\",\"title\":{\"standoff\":15},\"zerolinecolor\":\"white\",\"automargin\":true,\"zerolinewidth\":2},\"yaxis\":{\"gridcolor\":\"white\",\"linecolor\":\"white\",\"ticks\":\"\",\"title\":{\"standoff\":15},\"zerolinecolor\":\"white\",\"automargin\":true,\"zerolinewidth\":2},\"scene\":{\"xaxis\":{\"backgroundcolor\":\"#E5ECF6\",\"gridcolor\":\"white\",\"linecolor\":\"white\",\"showbackground\":true,\"ticks\":\"\",\"zerolinecolor\":\"white\",\"gridwidth\":2},\"yaxis\":{\"backgroundcolor\":\"#E5ECF6\",\"gridcolor\":\"white\",\"linecolor\":\"white\",\"showbackground\":true,\"ticks\":\"\",\"zerolinecolor\":\"white\",\"gridwidth\":2},\"zaxis\":{\"backgroundcolor\":\"#E5ECF6\",\"gridcolor\":\"white\",\"linecolor\":\"white\",\"showbackground\":true,\"ticks\":\"\",\"zerolinecolor\":\"white\",\"gridwidth\":2}},\"shapedefaults\":{\"line\":{\"color\":\"#2a3f5f\"}},\"annotationdefaults\":{\"arrowcolor\":\"#2a3f5f\",\"arrowhead\":0,\"arrowwidth\":1},\"geo\":{\"bgcolor\":\"white\",\"landcolor\":\"#E5ECF6\",\"subunitcolor\":\"white\",\"showland\":true,\"showlakes\":true,\"lakecolor\":\"white\"},\"title\":{\"x\":0.05},\"mapbox\":{\"style\":\"light\"}}},\"xaxis\":{\"anchor\":\"y\",\"domain\":[0.0,1.0],\"title\":{\"text\":\"kind\"},\"categoryorder\":\"array\",\"categoryarray\":[\"short\",\"long\"]},\"yaxis\":{\"anchor\":\"x\",\"domain\":[0.0,1.0],\"title\":{\"text\":\"duration\"}},\"legend\":{\"tracegroupgap\":0},\"title\":{\"text\":\"duration ~ kind\"},\"boxmode\":\"group\"},                        {\"responsive\": true}                    ).then(function(){\n",
       "                            \n",
       "var gd = document.getElementById('a5847aea-9c06-44c1-a3f8-53300438d9ad');\n",
       "var x = new MutationObserver(function (mutations, observer) {{\n",
       "        var display = window.getComputedStyle(gd).display;\n",
       "        if (!display || display === 'none') {{\n",
       "            console.log([gd, 'removed!']);\n",
       "            Plotly.purge(gd);\n",
       "            observer.disconnect();\n",
       "        }}\n",
       "}});\n",
       "\n",
       "// Listen for the removal of the full notebook cells\n",
       "var notebookContainer = gd.closest('#notebook-container');\n",
       "if (notebookContainer) {{\n",
       "    x.observe(notebookContainer, {childList: true});\n",
       "}}\n",
       "\n",
       "// Listen for the clearing of the current output cell\n",
       "var outputEl = gd.closest('.output');\n",
       "if (outputEl) {{\n",
       "    x.observe(outputEl, {childList: true});\n",
       "}}\n",
       "\n",
       "                        })                };                });            </script>        </div>"
      ]
     },
     "metadata": {},
     "output_type": "display_data"
    }
   ],
   "source": [
    "from IPython.display import display\n",
    "\n",
    "display(smf.ols('duration ~ C(kind, Treatment(reference=\"short\"))', data=old_faithful).fit().summary().tables[1])\n",
    "\n",
    "fig = px.box(old_faithful, x='kind', y='duration', \n",
    "             title='duration ~ kind',\n",
    "             category_orders={'kind': ['short', 'long']})\n",
    "fig.show() # USE `fig.show(renderer=\"png\")` FOR ALL GitHub and MarkUs SUBMISSIONS"
   ]
  },
  {
   "cell_type": "markdown",
   "id": "3eb81f65",
   "metadata": {},
   "source": [
    "P>|t|= 0 0.001≥𝑝\n",
    " \n",
    "Very strong evidence against the null hypothesis\n",
    "which means there is linear relationship between data。 \n",
    "\n",
    "there is difference between groups"
   ]
  },
  {
   "cell_type": "markdown",
   "id": "3fee975f",
   "metadata": {},
   "source": [
    "<details class=\"details-example\"><summary style=\"color:blue\"><u>Further Guidance</u></summary>\n",
    "\n",
    "> _Don't forget to ask for summaries of all your different ChatBot sessions and organize and paste these into your homework notebook (including link(s) to chat log histories if you're using ChatBot) But if you're using the STA130 custom NBLM ChatBot, you'll only be able to ask for summaries, of course!_  \n",
    "</details>"
   ]
  },
  {
   "cell_type": "markdown",
   "id": "0f288839",
   "metadata": {},
   "source": [
    "### 12. Identify which of the histograms suggests the plausibility of the assumption that the distribution of *error* terms is normal for each of the models, and explain why the other three do not support this assumption.\n",
    "\n",
    "> Hint: Question 5 of the *Communication Activity #2* of the Oct25 TUT (addressing an *omitted* section of the TUT) discusses how the assumption in *Simple Linear Regression* that the *error* terms $\\epsilon_i \\sim \\mathcal N\\left(0, \\sigma\\right)$ is diagnostically assessed by evaluating distributional shape of the *residuals* $\\text{e}_i = \\hat \\epsilon_i = Y_i - \\hat y_i$\n"
   ]
  },
  {
   "cell_type": "code",
   "execution_count": 22,
   "id": "337e3a5f",
   "metadata": {
    "scrolled": false
   },
   "outputs": [
    {
     "data": {
      "application/vnd.plotly.v1+json": {
       "config": {
        "plotlyServerURL": "https://plot.ly"
       },
       "data": [
        {
         "histnorm": "probability density",
         "name": "<br>Model 1:<br>All Data using slope",
         "type": "histogram",
         "x": [
          -0.5005919017864158,
          -0.40989320298984855,
          -0.38945216202710187,
          -0.5319167866047501,
          -0.021359589497591536,
          0.5974788490582887,
          -0.08124343335318063,
          -0.9543595894975918,
          -0.033009359134260174,
          -0.20435958949759225,
          -0.37689320298984863,
          -0.5617316415457303,
          0.17503604616544788,
          0.06950243267319056,
          0.2968963064061336,
          0.10836269291387701,
          -1.06491678660475,
          0.3212683584542697,
          -0.4586373070861227,
          0.14940809821358414,
          -0.18300935913426009,
          0.06950243267319056,
          -0.5749639538345521,
          -0.2773124222677885,
          0.8105478379728983,
          -0.8031036935938665,
          -0.3185211509417112,
          0.2092919420691728,
          -0.1749639538345522,
          0.33240809821358397,
          0.6531757859247604,
          0.5176639941173096,
          0.24957142158779932,
          -0.14321984973827728,
          0.11054783797289813,
          -0.0416373070861229,
          0.11087448472132788,
          0.6567801502617225,
          -0.755032942749162,
          -0.1494993292569058,
          0.173780150261722,
          -0.6294049947972993,
          0.08826835845427006,
          -0.7624049947972993,
          0.886175785924761,
          -1.0861036935938664,
          0.8668273174915249,
          -0.03426525503798583,
          0.30552425435799524,
          -0.588032942749162,
          1.001919890021035,
          -0.21649932925690596,
          -0.37689320298984863,
          0.6567801502617225,
          -0.4768932029898485,
          0.47989630640613345,
          0.22143168182848605,
          -1.2991726825084755,
          0.6176639941173101,
          0.06515220230985896,
          -0.35503294274916186,
          0.021268358454269887,
          -0.006125515278672111,
          0.47252425435799505,
          -0.8466608907010247,
          -0.6837552251606311,
          0.14203604616544752,
          0.6750360461654479,
          -0.9748006304603378,
          1.0531757859247608,
          -0.2944757456420044,
          -0.39414909889357386,
          0.39940809821358414,
          0.504431681828486,
          -0.8319167866047499,
          1.1932919420691728,
          -0.6466608907010247,
          0.5420360461654479,
          0.00929194206917261,
          -0.8031036935938665,
          0.3349198900210353,
          0.005524254357995417,
          0.6800596297803483,
          -0.408800630460338,
          0.4201757859247608,
          0.15175656664681902,
          0.07629194206917278,
          0.3407801502617227,
          0.4108744847213277,
          -0.6299875374494555,
          -0.46366089070102445,
          -0.599499329256906,
          -0.040381411182397464,
          0.7920360461654479,
          -1.0575447345566127,
          0.7288037338766231,
          0.1882683584542697,
          -0.048080109978964725,
          -0.11600935913426014,
          0.5725242543579956,
          -0.3319167866047499,
          -0.4142434333531808,
          0.2682465367694653,
          0.09689630640613345,
          -0.20184779769014138,
          0.18650243267319055,
          0.22126835845427006,
          -0.2756373070861229,
          0.22001246255054419,
          -0.5688477976901414,
          0.9349198900210358,
          -0.28803294274916214,
          0.043128618694957765,
          0.31640809821358395,
          -0.888032942749162,
          0.3811522023098588,
          0.4096185888176027,
          0.04564041050240775,
          -0.771032942749162,
          -0.28861548540131743,
          0.4827347449620141,
          0.7226875777322115,
          0.30066399411730993,
          -0.39414909889357386,
          -0.18124343335318116,
          -0.4848477976901413,
          0.38775832857691594,
          0.17252425435799523,
          -0.018521150941711362,
          -0.2824993292569058,
          0.3377583285769159,
          -0.23610369359386674,
          0.4388509011064259,
          -0.5238713813050424,
          0.2281303806250532,
          0.05552425435799524,
          -0.10000935913426012,
          0.30301246255054437,
          -0.101265255037986,
          -0.36759190178641576,
          -0.018847797690140666,
          -0.43066089070102453,
          0.2055242543579956,
          0.8676639941173101,
          0.4592919420691728,
          -0.6050329427491619,
          0.45678015026172236,
          0.18524653676946512,
          -0.28626701696808254,
          -0.3342652550379859,
          1.0836639941173103,
          0.05066399411730993,
          -0.6418006304603381,
          0.34815220230985844,
          0.07143168182848614,
          0.5800596297803486,
          0.2481522023098588,
          -1.076383173112493,
          -0.3342652550379859,
          -0.8898713813050425,
          0.6707583285769161,
          -0.4799875374494551,
          -0.5124049947972993,
          -0.19196395383455211,
          0.38257142158779933,
          0.7092919420691728,
          -0.5235447345566127,
          0.2187565666468192,
          -0.12563730708612275,
          -0.5423831731124933,
          0.08524653676946525,
          -0.3537770468454364,
          0.6336639941173101,
          0.06431552568407417,
          -0.08484779769014139,
          0.08115220230985898,
          0.8531757859247606,
          0.5096185888176024,
          -0.5543595894975919,
          0.44454783797289776,
          -0.40252115094171126,
          0.6336639941173101,
          -0.15310369359386655,
          -0.6361036935938666,
          0.04999064086573979,
          0.40803604616544753,
          -0.39573164154572993,
          0.2281303806250532,
          0.013896306406133263,
          -0.10252115094171099,
          0.5481522023098586,
          -0.6037770468454366,
          0.9262919420691724,
          -0.37873164154573047,
          0.01666399411731012,
          -0.018847797690140666,
          -1.2056154854013172,
          0.4166639941173105,
          0.26699064086573987,
          0.6420360461654475,
          -0.5636608907010245,
          0.022524254357994877,
          -0.8751272772087679,
          -0.2672652550379859,
          0.5750360461654473,
          0.17813038062505315,
          0.4176639941173099,
          -0.62873164154573,
          0.10124653676946527,
          0.09689630640613345,
          -1.112568318171514,
          0.5237801502617225,
          0.03524653676946521,
          0.03491989002103546,
          0.4508273174915245,
          0.35929194206917314,
          0.265734744962014,
          -0.435011121064357,
          -0.28552115094171127,
          0.27629194206917296,
          -0.040381411182397464,
          -0.06047574564200442,
          -0.4598932029898486,
          0.6849198900210358,
          -0.0249639538345523,
          0.016408098213584132,
          0.058036046165447885,
          0.24203604616544805,
          0.49705962978034846,
          0.44940809821358396,
          0.6630596297803488,
          0.20710679701015122,
          -0.44698753744945563,
          0.3096185888176026,
          -0.482499329256906,
          -0.3268932029898486,
          -0.3598932029898485,
          0.3336639941173103,
          -0.15059190178641568,
          -0.6331726825084751,
          0.35191989002103563,
          0.6695024326731907,
          0.30301246255054437,
          0.009455265443387262,
          0.028640410502408287,
          -0.4944757456420046,
          -0.3537770468454364,
          0.039524254357995225,
          -1.0600565263640633,
          0.6275478379728976,
          -0.009893202989848415,
          0.046896306406133625,
          -0.07982421407523921,
          0.8531757859247606,
          -0.6312434333531804,
          -0.3592198497382775,
          0.4214316818284858,
          0.046896306406133625,
          -0.36114909889357394,
          0.1824080982135845,
          0.742036046165448,
          0.05426835845427025,
          -0.6624049947972992,
          -0.15310369359386655,
          0.6050142244806413,
          -0.41366089070102463,
          0.9519198900210353,
          -0.1348477976901412,
          0.5451303806250531,
          -0.5154993292569063,
          0.21213038062505318,
          0.7445478379728976
         ],
         "xaxis": "x",
         "xbins": {
          "end": 1.95,
          "size": 0.3,
          "start": -1.95
         },
         "yaxis": "y"
        },
        {
         "line": {
          "color": "black",
          "dash": "dot",
          "width": 2
         },
         "mode": "lines",
         "name": "Normal Distribution<br>(99.7% of its area)",
         "opacity": 0.5,
         "type": "scatter",
         "x": [
          -1.4867880403088838,
          -1.4767880403088838,
          -1.4667880403088838,
          -1.4567880403088838,
          -1.4467880403088837,
          -1.4367880403088837,
          -1.4267880403088837,
          -1.4167880403088837,
          -1.4067880403088837,
          -1.3967880403088837,
          -1.3867880403088837,
          -1.3767880403088837,
          -1.3667880403088837,
          -1.3567880403088837,
          -1.3467880403088837,
          -1.3367880403088837,
          -1.3267880403088836,
          -1.3167880403088836,
          -1.3067880403088836,
          -1.2967880403088836,
          -1.2867880403088836,
          -1.2767880403088836,
          -1.2667880403088836,
          -1.2567880403088836,
          -1.2467880403088836,
          -1.2367880403088836,
          -1.2267880403088836,
          -1.2167880403088835,
          -1.2067880403088835,
          -1.1967880403088835,
          -1.1867880403088835,
          -1.1767880403088835,
          -1.1667880403088835,
          -1.1567880403088835,
          -1.1467880403088835,
          -1.1367880403088835,
          -1.1267880403088835,
          -1.1167880403088835,
          -1.1067880403088834,
          -1.0967880403088834,
          -1.0867880403088834,
          -1.0767880403088834,
          -1.0667880403088834,
          -1.0567880403088834,
          -1.0467880403088834,
          -1.0367880403088834,
          -1.0267880403088834,
          -1.0167880403088834,
          -1.0067880403088834,
          -0.9967880403088833,
          -0.9867880403088833,
          -0.9767880403088833,
          -0.9667880403088833,
          -0.9567880403088833,
          -0.9467880403088833,
          -0.9367880403088833,
          -0.9267880403088833,
          -0.9167880403088833,
          -0.9067880403088833,
          -0.8967880403088833,
          -0.8867880403088833,
          -0.8767880403088832,
          -0.8667880403088832,
          -0.8567880403088832,
          -0.8467880403088832,
          -0.8367880403088832,
          -0.8267880403088832,
          -0.8167880403088832,
          -0.8067880403088832,
          -0.7967880403088832,
          -0.7867880403088832,
          -0.7767880403088832,
          -0.7667880403088831,
          -0.7567880403088831,
          -0.7467880403088831,
          -0.7367880403088831,
          -0.7267880403088831,
          -0.7167880403088831,
          -0.7067880403088831,
          -0.6967880403088831,
          -0.6867880403088831,
          -0.6767880403088831,
          -0.6667880403088831,
          -0.656788040308883,
          -0.646788040308883,
          -0.636788040308883,
          -0.626788040308883,
          -0.616788040308883,
          -0.606788040308883,
          -0.596788040308883,
          -0.586788040308883,
          -0.576788040308883,
          -0.566788040308883,
          -0.556788040308883,
          -0.546788040308883,
          -0.5367880403088829,
          -0.5267880403088829,
          -0.5167880403088829,
          -0.5067880403088829,
          -0.4967880403088829,
          -0.4867880403088829,
          -0.4767880403088829,
          -0.4667880403088829,
          -0.45678804030888287,
          -0.44678804030888286,
          -0.43678804030888285,
          -0.42678804030888284,
          -0.41678804030888283,
          -0.4067880403088828,
          -0.3967880403088828,
          -0.3867880403088828,
          -0.3767880403088828,
          -0.3667880403088828,
          -0.3567880403088828,
          -0.3467880403088828,
          -0.33678804030888276,
          -0.32678804030888275,
          -0.31678804030888275,
          -0.30678804030888274,
          -0.29678804030888273,
          -0.2867880403088827,
          -0.2767880403088827,
          -0.2667880403088827,
          -0.2567880403088827,
          -0.24678804030888268,
          -0.23678804030888267,
          -0.22678804030888267,
          -0.21678804030888266,
          -0.20678804030888265,
          -0.19678804030888264,
          -0.18678804030888263,
          -0.17678804030888262,
          -0.1667880403088826,
          -0.1567880403088826,
          -0.1467880403088826,
          -0.13678804030888259,
          -0.12678804030888258,
          -0.11678804030888257,
          -0.10678804030888256,
          -0.09678804030888255,
          -0.08678804030888254,
          -0.07678804030888253,
          -0.06678804030888252,
          -0.056788040308882515,
          -0.046788040308882506,
          -0.0367880403088825,
          -0.026788040308882488,
          -0.01678804030888248,
          -0.00678804030888247,
          0.0032119596911175385,
          0.013211959691117547,
          0.023211959691117556,
          0.033211959691117565,
          0.043211959691117574,
          0.05321195969111758,
          0.06321195969111759,
          0.0732119596911176,
          0.08321195969111761,
          0.09321195969111762,
          0.10321195969111763,
          0.11321195969111764,
          0.12321195969111765,
          0.13321195969111765,
          0.14321195969111766,
          0.15321195969111767,
          0.16321195969111768,
          0.1732119596911177,
          0.1832119596911177,
          0.1932119596911177,
          0.20321195969111772,
          0.21321195969111773,
          0.22321195969111773,
          0.23321195969111774,
          0.24321195969111775,
          0.25321195969111776,
          0.26321195969111777,
          0.2732119596911178,
          0.2832119596911178,
          0.2932119596911178,
          0.3032119596911178,
          0.3132119596911178,
          0.3232119596911178,
          0.33321195969111783,
          0.34321195969111784,
          0.35321195969111785,
          0.36321195969111786,
          0.37321195969111787,
          0.3832119596911179,
          0.3932119596911179,
          0.4032119596911179,
          0.4132119596911179,
          0.4232119596911179,
          0.4332119596911179,
          0.44321195969111793,
          0.45321195969111794,
          0.46321195969111795,
          0.47321195969111796,
          0.48321195969111796,
          0.493211959691118,
          0.503211959691118,
          0.513211959691118,
          0.5232119596911178,
          0.533211959691118,
          0.5432119596911182,
          0.553211959691118,
          0.5632119596911178,
          0.573211959691118,
          0.5832119596911183,
          0.5932119596911181,
          0.6032119596911178,
          0.6132119596911181,
          0.6232119596911183,
          0.6332119596911181,
          0.6432119596911179,
          0.6532119596911181,
          0.6632119596911183,
          0.6732119596911181,
          0.6832119596911179,
          0.6932119596911182,
          0.7032119596911184,
          0.7132119596911182,
          0.723211959691118,
          0.7332119596911182,
          0.7432119596911184,
          0.7532119596911182,
          0.763211959691118,
          0.7732119596911182,
          0.7832119596911185,
          0.7932119596911182,
          0.803211959691118,
          0.8132119596911183,
          0.8232119596911185,
          0.8332119596911183,
          0.8432119596911181,
          0.8532119596911183,
          0.8632119596911185,
          0.8732119596911183,
          0.8832119596911181,
          0.8932119596911183,
          0.9032119596911186,
          0.9132119596911183,
          0.9232119596911181,
          0.9332119596911184,
          0.9432119596911186,
          0.9532119596911184,
          0.9632119596911182,
          0.9732119596911184,
          0.9832119596911186,
          0.9932119596911184,
          1.0032119596911182,
          1.0132119596911184,
          1.0232119596911187,
          1.0332119596911185,
          1.0432119596911182,
          1.0532119596911185,
          1.0632119596911187,
          1.0732119596911185,
          1.0832119596911183,
          1.0932119596911185,
          1.1032119596911187,
          1.1132119596911185,
          1.1232119596911183,
          1.1332119596911185,
          1.1432119596911188,
          1.1532119596911186,
          1.1632119596911183,
          1.1732119596911186,
          1.1832119596911188,
          1.1932119596911186,
          1.2032119596911184,
          1.2132119596911186,
          1.2232119596911188,
          1.2332119596911186,
          1.2432119596911184,
          1.2532119596911186,
          1.2632119596911189,
          1.2732119596911187,
          1.2832119596911185,
          1.2932119596911187,
          1.303211959691119,
          1.3132119596911187,
          1.3232119596911185,
          1.3332119596911187,
          1.343211959691119,
          1.3532119596911187,
          1.3632119596911185,
          1.3732119596911188,
          1.383211959691119,
          1.3932119596911188,
          1.4032119596911186,
          1.4132119596911188,
          1.423211959691119,
          1.4332119596911188,
          1.4432119596911186,
          1.4532119596911188,
          1.463211959691119,
          1.4732119596911188,
          1.4832119596911186
         ],
         "xaxis": "x",
         "y": [
          0.00894246178698871,
          0.0094985629926708,
          0.010085139330619577,
          0.010703580482900413,
          0.011355321544649933,
          0.012041843401162836,
          0.012764673032018283,
          0.013525383737039327,
          0.014325595278791984,
          0.015166973936257284,
          0.01605123246424839,
          0.01698012995310001,
          0.017955471583126083,
          0.018979108268329145,
          0.020052936183848256,
          0.021178896171655682,
          0.022358973019054824,
          0.02359519460459501,
          0.024889630906104212,
          0.02624439286564695,
          0.027661631106346358,
          0.02914353449616353,
          0.030692328553907314,
          0.032310273692952536,
          0.033999663298376656,
          0.03576282163348282,
          0.03760210157196232,
          0.039519882152262924,
          0.04151856595107022,
          0.04360057627317742,
          0.045768354155416566,
          0.048024355182748064,
          0.050371046115059465,
          0.0528109013237025,
          0.05534639903730704,
          0.05798001739694222,
          0.06071423032125672,
          0.06355150318281279,
          0.06649428829743895,
          0.06954502022905712,
          0.07270611091309255,
          0.0759799446022493,
          0.07936887263912527,
          0.0828752080608491,
          0.08650122004164593,
          0.09024912817997434,
          0.09412109663762565,
          0.09811922813893034,
          0.10224555783898075,
          0.10650204707054123,
          0.11089057698008585,
          0.11541294206416408,
          0.1200708436180565,
          0.1248658831094299,
          0.1297995554904417,
          0.13487324246246893,
          0.14008820570833982,
          0.14544558010763653,
          0.15094636695129393,
          0.1565914271723546,
          0.16238147461034041,
          0.1683170693272675,
          0.17439861099386067,
          0.18062633236500655,
          0.18700029286392883,
          0.19352037229496075,
          0.20018626470512843,
          0.2069974724150492,
          0.2139533002398725,
          0.22105284992116328,
          0.2282950147907267,
          0.2356784746874167,
          0.24320169114793702,
          0.2508629028925421,
          0.25866012162637675,
          0.26659112817694,
          0.27465346898784043,
          0.28284445298860844,
          0.29116114885985184,
          0.2996003827124888,
          0.308158736199154,
          0.3168325450751631,
          0.32561789822562553,
          0.33451063717443125,
          0.34350635608988456,
          0.35260040230074174,
          0.361787877335311,
          0.3710636384951072,
          0.3804223009733169,
          0.3898582405270262,
          0.39936559671079946,
          0.40893827667776805,
          0.41856995955290577,
          0.4282541013816369,
          0.43798394065533214,
          0.4477525044136324,
          0.45755261492186505,
          0.46737689692013384,
          0.4772177854389261,
          0.4870675341743463,
          0.4969182244143198,
          0.5067617745053405,
          0.5165899498475633,
          0.5263943734042744,
          0.5361665367100097,
          0.5458978113598535,
          0.5555794609607274,
          0.5652026535237905,
          0.5747584742754257,
          0.584237938862672,
          0.5936320069274151,
          0.6029315960221411,
          0.6121275958386306,
          0.6212108827196001,
          0.6301723344220118,
          0.6390028450995677,
          0.647693340470785,
          0.656234793138025,
          0.6646182380219255,
          0.6728347878748605,
          0.6808756488363418,
          0.6887321359926728,
          0.6963956889026783,
          0.7038578870509723,
          0.7111104651899725,
          0.7181453285317582,
          0.7249545677508691,
          0.7315304737592716,
          0.7378655522149912,
          0.7439525377262841,
          0.7497844077137528,
          0.7553543958934456,
          0.7606560053447591,
          0.765683021127852,
          0.7704295224163058,
          0.7748898941118979,
          0.7790588379096136,
          0.7829313827823864,
          0.7865028948565334,
          0.7897690866504297,
          0.7927260256506427,
          0.7953701422015149,
          0.7976982366860432,
          0.7997074859778309,
          0.8013954491459038,
          0.8027600723962538,
          0.8037996932361049,
          0.8045130438490847,
          0.8048992536717066,
          0.8049578511638367,
          0.8046887647681022,
          0.8040923230555123,
          0.8031692540568712,
          0.8019206837818952,
          0.8003481339302431,
          0.7984535188009783,
          0.7962391414092461,
          0.7937076888211965,
          0.7908622267203744,
          0.7877061932209665,
          0.7842433919453702,
          0.7804779843856054,
          0.7764144815700321,
          0.7720577350587347,
          0.7674129272927289,
          0.7624855613238599,
          0.7572814499538684,
          0.7518067043126246,
          0.7460677219069269,
          0.740071174172558,
          0.7338239935634795,
          0.7273333602130968,
          0.7206066882034767,
          0.7136516114792084,
          0.7064759694432949,
          0.6990877922730244,
          0.6914952859942033,
          0.6837068173524439,
          0.6757308985203749,
          0.6675761716796957,
          0.6592513935169163,
          0.6507654196714286,
          0.6421271891742282,
          0.6333457089151612,
          0.6244300381760142,
          0.6153892732660879,
          0.6062325322961108,
          0.5969689401254665,
          0.587607613516709,
          0.5781576465302658,
          0.5686280961910462,
          0.5590279684574172,
          0.5493662045216676,
          0.5396516674696746,
          0.5298931293260066,
          0.5200992585091595,
          0.5102786077200399,
          0.5004396022851614,
          0.49059052897435595,
          0.4807395253110854,
          0.47089456939170726,
          0.46106347022829325,
          0.4512538586278326,
          0.4414731786188825,
          0.4317286794349497,
          0.4220274080621272,
          0.41237620235676015,
          0.4027816847371808,
          0.3932502564518383,
          0.38378809242448664,
          0.37440113667544594,
          0.36509509831635484,
          0.35587544811427585,
          0.34674741561952216,
          0.3377159868501217,
          0.3287859025244463,
          0.3199616568322073,
          0.31124749673276064,
          0.3026474217684741,
          0.29416518437978106,
          0.28580429070750446,
          0.27756800186705494,
          0.26945933567821684,
          0.26148106883341116,
          0.25363573948658147,
          0.24592565024419177,
          0.2383528715392377,
          0.2309192453686679,
          0.2236263893741815,
          0.21647570124602122,
          0.20946836342910943,
          0.2026053481106673,
          0.19588742246833754,
          0.18931515415777153,
          0.18288891701866156,
          0.17660889697827364,
          0.17047509813168293,
          0.16448734897812275,
          0.1586453087931246,
          0.15294847411644463,
          0.14739618533614693,
          0.14198763334964218,
          0.13672186628294727,
          0.13159779624994464,
          0.12661420613397403,
          0.1217697563746788,
          0.11706299174365112,
          0.11249234809307007,
          0.10805615906220402,
          0.1037526627273489,
          0.09958000818149236,
          0.09553626203072738,
          0.09161941479518372,
          0.08782738720300526,
          0.08415803636666092,
          0.0806091618316419,
          0.07717851148836448,
          0.07386378733885987,
          0.07066265111059329,
          0.06757272971050157,
          0.06459162051308073,
          0.061716896477084705,
          0.0589461110861084,
          0.056276803109029334,
          0.05370650117695798,
          0.05123272817401128,
          0.0488530054398622,
          0.04656485678263391,
          0.044365812301301655,
          0.04225341201733331,
          0.04022520931584459,
          0.038278774197059384,
          0.036411696339356474,
          0.03462158797564673,
          0.032906086585260175,
          0.031262857403927764,
          0.02968959575482191,
          0.028184029203971502,
          0.026743919543689314,
          0.025367064607944856,
          0.024051299923883288,
          0.022794500203932797,
          0.021594580683157255,
          0.020449498306698975,
          0.019357252772320598,
          0.018315887433194337,
          0.01732349006620243,
          0.01637819351110497,
          0.015478176186002276,
          0.014621662484569118,
          0.01380692306056762,
          0.013032275005156508,
          0.012296081922506736,
          0.011596753909209586,
          0.010932747442923007,
          0.010302565185646198,
          0.009704755706943615,
          0.00913791313235708
         ],
         "yaxis": "y"
        },
        {
         "histnorm": "probability density",
         "name": "<br>Model 2:<br>Short Wait Data",
         "type": "histogram",
         "x": [
          -0.2728449495022891,
          -0.01901882147787548,
          0.781508316500763,
          -0.036904747511444125,
          -0.23984494950228918,
          -0.12231781152365073,
          0.15144851849160723,
          -0.5520188214778754,
          -0.4155514815083925,
          -0.18690474751144404,
          -0.12231781152365073,
          -0.1344916834992369,
          0.9503942425343315,
          0.0014485184916073202,
          -0.03396454552059902,
          -0.3830786194870306,
          -0.30443188549008227,
          -0.4374318854900823,
          1.4736877105282282,
          0.05580178449465967,
          -0.21607861948703055,
          -0.23984494950228918,
          -0.33984494950228905,
          -0.6923122894717721,
          0.01692138051296954,
          -0.15096454552059901,
          -0.4277253534839789,
          -0.3209590234687205,
          -0.16313841749618563,
          -0.3190188214778753,
          -0.22772535348397893,
          0.24504097653127932,
          0.2660354544794008,
          -0.04472535348397866,
          -0.09125801351449558,
          -0.49766555547482416,
          -0.11990474751144409,
          0.1809811785221247,
          0.1703887204824528,
          -0.0053178115236507395,
          -0.23255148150839267,
          0.08392138051296927,
          -0.5160786194870306,
          0.3587419864855046,
          -0.3990786194870306,
          0.5728017844946596,
          -0.16313841749618563,
          0.10197565647024609,
          0.16550831650076292,
          0.051975656470246046,
          0.6698615825038141,
          -0.010671077526702488,
          -0.10390474751144407,
          -0.011198215505340503,
          -0.01172535348397874,
          -0.23307861948703046,
          0.08738872048245261,
          -0.24419821550534038,
          0.012040976531279224,
          -0.24419821550534038,
          0.38497565647024623,
          -0.18743188549008227,
          1.0833942425343315,
          0.03633444452517587,
          -0.08255148150839253,
          -0.012611279517547258,
          -0.0757851514931338,
          0.45874198648550424,
          -0.21849168349923698,
          0.04609525248855584,
          -0.010671077526702488,
          0.08150831650076329,
          -0.32578515149313403,
          0.2630952524885559,
          -0.14472535348397875,
          -0.17719821550534043,
          -0.06067107752670253,
          0.003388720482452756,
          -0.0626112795175473,
          1.0576877105282279,
          0.3558017844946595,
          -0.10149168349923698,
          -0.09125801351449558,
          -0.32284494950228915,
          0.34415505049771067,
          0.2587419864855045,
          -0.18984494950228914,
          -0.22284494950228906,
          -0.026312289471771777,
          0.47768218847634936,
          0.5693344445251758,
          -0.0757851514931338,
          -0.31225249146261724,
          0.12715505049771103,
          -0.1301384174961857,
          -0.3374318854900822,
          0.2252691244641427,
          0.005274646516021164,
          0.30632892247329746,
          -0.026671077526702502
         ],
         "xaxis": "x2",
         "xbins": {
          "end": 1.9,
          "size": 0.2,
          "start": -1.9
         },
         "yaxis": "y2"
        },
        {
         "line": {
          "color": "black",
          "dash": "dot",
          "width": 2
         },
         "mode": "lines",
         "name": "Normal Distribution<br>(99.7% of its area)",
         "opacity": 0.5,
         "type": "scatter",
         "x": [
          -1.0704403921739747,
          -1.0604403921739747,
          -1.0504403921739747,
          -1.0404403921739747,
          -1.0304403921739747,
          -1.0204403921739746,
          -1.0104403921739746,
          -1.0004403921739746,
          -0.9904403921739746,
          -0.9804403921739746,
          -0.9704403921739746,
          -0.9604403921739746,
          -0.9504403921739746,
          -0.9404403921739746,
          -0.9304403921739746,
          -0.9204403921739746,
          -0.9104403921739745,
          -0.9004403921739745,
          -0.8904403921739745,
          -0.8804403921739745,
          -0.8704403921739745,
          -0.8604403921739745,
          -0.8504403921739745,
          -0.8404403921739745,
          -0.8304403921739745,
          -0.8204403921739745,
          -0.8104403921739745,
          -0.8004403921739744,
          -0.7904403921739744,
          -0.7804403921739744,
          -0.7704403921739744,
          -0.7604403921739744,
          -0.7504403921739744,
          -0.7404403921739744,
          -0.7304403921739744,
          -0.7204403921739744,
          -0.7104403921739744,
          -0.7004403921739744,
          -0.6904403921739743,
          -0.6804403921739743,
          -0.6704403921739743,
          -0.6604403921739743,
          -0.6504403921739743,
          -0.6404403921739743,
          -0.6304403921739743,
          -0.6204403921739743,
          -0.6104403921739743,
          -0.6004403921739743,
          -0.5904403921739743,
          -0.5804403921739743,
          -0.5704403921739742,
          -0.5604403921739742,
          -0.5504403921739742,
          -0.5404403921739742,
          -0.5304403921739742,
          -0.5204403921739742,
          -0.5104403921739742,
          -0.5004403921739742,
          -0.49044039217397417,
          -0.48044039217397416,
          -0.47044039217397415,
          -0.46044039217397414,
          -0.45044039217397414,
          -0.4404403921739741,
          -0.4304403921739741,
          -0.4204403921739741,
          -0.4104403921739741,
          -0.4004403921739741,
          -0.3904403921739741,
          -0.3804403921739741,
          -0.37044039217397406,
          -0.36044039217397406,
          -0.35044039217397405,
          -0.34044039217397404,
          -0.33044039217397403,
          -0.320440392173974,
          -0.310440392173974,
          -0.300440392173974,
          -0.290440392173974,
          -0.280440392173974,
          -0.270440392173974,
          -0.26044039217397397,
          -0.25044039217397396,
          -0.24044039217397395,
          -0.23044039217397394,
          -0.22044039217397393,
          -0.21044039217397392,
          -0.2004403921739739,
          -0.1904403921739739,
          -0.1804403921739739,
          -0.1704403921739739,
          -0.16044039217397388,
          -0.15044039217397387,
          -0.14044039217397386,
          -0.13044039217397385,
          -0.12044039217397384,
          -0.11044039217397383,
          -0.10044039217397382,
          -0.09044039217397382,
          -0.08044039217397381,
          -0.0704403921739738,
          -0.06044039217397379,
          -0.05044039217397378,
          -0.04044039217397377,
          -0.030440392173973763,
          -0.020440392173973754,
          -0.010440392173973745,
          -0.000440392173973736,
          0.009559607826026273,
          0.019559607826026282,
          0.02955960782602629,
          0.0395596078260263,
          0.04955960782602631,
          0.05955960782602632,
          0.06955960782602633,
          0.07955960782602634,
          0.08955960782602634,
          0.09955960782602635,
          0.10955960782602636,
          0.11955960782602637,
          0.12955960782602638,
          0.1395596078260264,
          0.1495596078260264,
          0.1595596078260264,
          0.16955960782602642,
          0.17955960782602642,
          0.18955960782602643,
          0.19955960782602644,
          0.20955960782602645,
          0.21955960782602646,
          0.22955960782602647,
          0.23955960782602648,
          0.24955960782602649,
          0.2595596078260265,
          0.2695596078260265,
          0.2795596078260265,
          0.2895596078260265,
          0.29955960782602653,
          0.30955960782602654,
          0.31955960782602655,
          0.32955960782602656,
          0.33955960782602657,
          0.3495596078260266,
          0.3595596078260266,
          0.3695596078260266,
          0.3795596078260266,
          0.3895596078260266,
          0.3995596078260266,
          0.40955960782602663,
          0.41955960782602664,
          0.42955960782602665,
          0.43955960782602665,
          0.44955960782602666,
          0.4595596078260267,
          0.4695596078260267,
          0.4795596078260267,
          0.4895596078260267,
          0.4995596078260267,
          0.5095596078260267,
          0.5195596078260267,
          0.5295596078260267,
          0.5395596078260267,
          0.5495596078260268,
          0.5595596078260268,
          0.5695596078260268,
          0.5795596078260268,
          0.5895596078260268,
          0.5995596078260268,
          0.6095596078260268,
          0.6195596078260268,
          0.6295596078260268,
          0.6395596078260268,
          0.6495596078260268,
          0.6595596078260269,
          0.6695596078260269,
          0.6795596078260269,
          0.6895596078260269,
          0.6995596078260269,
          0.7095596078260269,
          0.7195596078260269,
          0.7295596078260269,
          0.7395596078260269,
          0.7495596078260269,
          0.7595596078260269,
          0.769559607826027,
          0.779559607826027,
          0.789559607826027,
          0.799559607826027,
          0.809559607826027,
          0.819559607826027,
          0.829559607826027,
          0.839559607826027,
          0.849559607826027,
          0.859559607826027,
          0.869559607826027,
          0.879559607826027,
          0.889559607826027,
          0.8995596078260271,
          0.9095596078260271,
          0.9195596078260271,
          0.9295596078260271,
          0.9395596078260269,
          0.9495596078260271,
          0.9595596078260273,
          0.9695596078260271,
          0.9795596078260269,
          0.9895596078260271,
          0.9995596078260274,
          1.0095596078260272,
          1.019559607826027,
          1.0295596078260272,
          1.0395596078260274,
          1.0495596078260272,
          1.059559607826027,
          1.0695596078260272
         ],
         "xaxis": "x2",
         "y": [
          0.012420631109418306,
          0.013504780175778502,
          0.014672031792325317,
          0.015927656595499502,
          0.01727716146663162,
          0.01872629172328189,
          0.020281032522109183,
          0.021947609399609814,
          0.023732487875793233,
          0.02564237204496903,
          0.02768420207735114,
          0.02986515055517363,
          0.032192617567500525,
          0.03467422448893262,
          0.037317806369004045,
          0.04013140286125552,
          0.04312324762379546,
          0.04630175612665087,
          0.0496755118053835,
          0.05325325050533244,
          0.057043843166454514,
          0.06105627670508115,
          0.06529963305600929,
          0.06978306634618343,
          0.07451577817981947,
          0.07950699102413968,
          0.0847659196949335,
          0.0903017409518927,
          0.09612356122506618,
          0.10224038250580794,
          0.10866106644818779,
          0.11539429673996712,
          0.1224485398158243,
          0.1298320039995055,
          0.1375525971758721,
          0.14561788310834692,
          0.15403503653194187,
          0.1628107971667574,
          0.1719514228115074,
          0.18146264169109871,
          0.19134960424649697,
          0.20161683456889695,
          0.21226818169347664,
          0.22330677098062046,
          0.2347349558243194,
          0.2465542699383671,
          0.25876538048084774,
          0.27136804228611855,
          0.28436105348091645,
          0.29774221276723256,
          0.3115082786590997,
          0.3256549309633019,
          0.3401767347951701,
          0.35506710741994396,
          0.3703182882076231,
          0.3859213119846894,
          0.40186598605953905,
          0.41814087118983795,
          0.43473326674932183,
          0.45162920033874787,
          0.468813422070812,
          0.4862694037418668,
          0.5039793430842631,
          0.5219241732721542,
          0.5400835778307056,
          0.5584360110739486,
          0.5769587241701182,
          0.5956277969053391,
          0.6144181751871235,
          0.6333037142984878,
          0.6522572278817402,
          0.6712505425983614,
          0.6902545583780583,
          0.7092393141362888,
          0.7281740588055022,
          0.7470273274913017,
          0.765767022530926,
          0.7843604991981278,
          0.8027746557659446,
          0.8209760276072671,
          0.838930884982761,
          0.8566053341368456,
          0.8739654212952896,
          0.8909772391328464,
          0.907607035256352,
          0.9238213222281524,
          0.9395869886367414,
          0.9548714107062836,
          0.9696425639244389,
          0.9838691341587037,
          0.9975206277255035,
          1.0105674798735635,
          1.0229811611437496,
          1.0347342810716482,
          1.0458006887066562,
          1.0561555694322782,
          1.0657755375866418,
          1.0746387243998872,
          1.082724860785963,
          1.0900153545503677,
          1.096493361602359,
          1.1021438507899646,
          1.1069536620085483,
          1.1109115572685582,
          1.1140082644450953,
          1.1162365134709313,
          1.1175910647752458,
          1.118068729812373,
          1.117668383567988,
          1.1163909689740785,
          1.1142394932084454,
          1.111219015899067,
          1.1073366292980782,
          1.1026014305341034,
          1.0970244860948863,
          1.0906187887342946,
          1.0833992070385678,
          1.0753824279257898,
          1.0665868923898008,
          1.0570327248348081,
          1.0467416563796115,
          1.0357369425404068,
          1.0240432757283666,
          1.0116866930224788,
          0.9986944796992733,
          0.9850950690190063,
          0.9709179387824799,
          0.9561935051838977,
          0.9409530144929685,
          0.925228433103845,
          0.9090523364894398,
          0.8924577975972681,
          0.8754782752172487,
          0.8581475028429896,
          0.8404993785360774,
          0.8225678562879473,
          0.804386839356159,
          0.7859900760315562,
          0.7674110582700192,
          0.7486829235975306,
          0.7298383606703274,
          0.7109095188431792,
          0.6919279220686207,
          0.6729243874184632,
          0.6539289484864143,
          0.6349707838973658,
          0.6160781511151352,
          0.5972783257064115,
          0.5785975461846125,
          0.5600609645235204,
          0.5416926023971945,
          0.523515313169946,
          0.5055507496283259,
          0.48781933741631234,
          0.4703402541053693,
          0.45313141380293925,
          0.4362094571763901,
          0.4195897467445769,
          0.40328636726612277,
          0.3873121310323647,
          0.3716785878537229,
          0.3563960395110913,
          0.3414735584287719,
          0.3269190103124753,
          0.3127390804850298,
          0.29893930364363913,
          0.28552409675579976,
          0.27249679480627653,
          0.2598596891048018,
          0.2476140678633232,
          0.2357602587526173,
          0.22429767315080343,
          0.2132248518006569,
          0.20253951159850428,
          0.19223859324478804,
          0.18231830949499161,
          0.17277419375939163,
          0.1636011488109291,
          0.1547934953722415,
          0.14634502036543617,
          0.1382490246213965,
          0.13049836985915775,
          0.12308552476005626,
          0.1160026099758202,
          0.10924144192440821,
          0.10279357524212657,
          0.09665034377522802,
          0.09080290000875012,
          0.08524225284467331,
          0.0799593036554913,
          0.07494488055291805,
          0.07018977082461987,
          0.06568475150451777,
          0.06142061805427547,
          0.05738821114504829,
          0.053578441539361844,
          0.04998231308309184,
          0.046590943826906116,
          0.04339558530518182,
          0.0403876400083222,
          0.03755867709155749,
          0.03490044636972953,
          0.03240489065323488,
          0.030064156485249002,
          0.02787060334458962,
          0.025816811382127457,
          0.02389558776153571,
          0.022099971677415814,
          0.020423238125479963,
          0.018858900500540288,
          0.017400712098587956,
          0.01604266659927632,
          0.014778997604691844,
          0.013604177309440801,
          0.012512914375838038
         ],
         "yaxis": "y2"
        },
        {
         "histnorm": "probability density",
         "name": "<br>Model 3:<br>Long Wait Data",
         "type": "histogram",
         "x": [
          -0.6667863519675481,
          -0.812592970483804,
          0.12078159025195845,
          0.21506556136171184,
          -0.8122184097480418,
          -0.06221840974804227,
          -0.4709797334512924,
          -0.0425476756707992,
          0.33625894284545677,
          0.4120202665487076,
          -0.016786351967548185,
          -0.7925476756707992,
          -0.95739958900006,
          0.3874070295161962,
          -0.7637410571545433,
          -0.11107032307730158,
          -0.3925476756707993,
          0.16621364803245164,
          0.17864570581294448,
          0.24869100062594907,
          -0.25802502826429663,
          -0.31259297048380397,
          0.5419749717357032,
          0.24958820876821441,
          0.05897497173570265,
          0.17902026654870795,
          0.411645705812945,
          -1.0467410571545432,
          0.2934976191422054,
          0.6301683532194469,
          0.18258820876821424,
          0.5419749717357032,
          0.5192589428454566,
          -0.35587694159355765,
          0.3486910006259496,
          0.0017362954389543717,
          0.11202026654870778,
          0.4604976191422052,
          -0.1818891438252841,
          -0.07554767567079956,
          0.4574523243292008,
          0.5786457058129448,
          -0.30650238085779424,
          0.23321364803245181,
          -0.07287694159355773,
          0.8729296769226984,
          0.3244523243292008,
          -0.31107032307730176,
          -0.7637410571545433,
          -0.03683164678055295,
          -0.006502380857794421,
          0.05136173470319072,
          -0.054354294187055174,
          0.4480655613617115,
          -0.2440703230773016,
          0.22597497173570336,
          -0.4364570860447907,
          -0.20041179123178576,
          0.5744523243292008,
          0.20288438210969328,
          0.2790202665487076,
          -0.41983164678055296,
          0.5604976191422057,
          -0.11793443863828834,
          0.1362589428454566,
          -0.265263704561046,
          0.31202026654870796,
          0.4135429139552089,
          -0.632263704561046,
          0.5631683532194476,
          0.3908268850649632,
          0.15021364803245163,
          0.3177362954389542,
          0.18778159025195773,
          -0.04369576234153971,
          0.04260041099994005,
          0.03169100062594943,
          0.11506556136171131,
          -0.5482637045610459,
          0.1604976191422054,
          0.11658820876821441,
          -0.1967410571545436,
          -0.17617311493503696,
          0.0434976191422054,
          0.4965429139552091,
          -0.5337863519675481,
          -0.08226370456104526,
          0.19349761914220576,
          0.5986910006259496,
          0.13892967692269842,
          0.341974971735703,
          0.42115615098771997,
          0.8146910006259498,
          -0.21830899937405057,
          0.28473629543895385,
          -0.5058769415935576,
          -0.048638265296808925,
          0.1847362954389542,
          -0.5231278201220331,
          -0.5421731149350371,
          -0.28645708604479037,
          -0.4095476756707992,
          0.3889296769226984,
          0.5150655613617117,
          0.010872179877966737,
          0.3646910006259496,
          -0.6671609127033111,
          -0.14826370456104598,
          0.017736295438954386,
          0.37864570581294466,
          -0.4122184097480419,
          0.021407029516195664,
          0.3646910006259496,
          -0.11374105715454341,
          -0.5967410571545435,
          0.19045232432920045,
          -0.30497973345129203,
          0.0532589428454564,
          0.484736295438954,
          0.6059296769226981,
          -0.2879797334512926,
          -0.2523089993740504,
          -0.08226370456104526,
          -0.9606957623415395,
          0.14769100062594998,
          0.42445232432920044,
          0.010497619142205039,
          -0.42465046752853475,
          0.35745232432920027,
          0.14869100062594942,
          -0.5379797334512921,
          0.1362589428454566,
          -1.6898769415935577,
          0.4089749717357032,
          -0.3368316467805528,
          0.038929676922698775,
          0.16963350358121776,
          -0.04407032307730141,
          -0.07250238085779426,
          0.3131683532194476,
          -0.24254767567079938,
          -0.1497863519675482,
          -0.1595476756707992,
          0.02445232432920097,
          -0.1316382652968091,
          0.28321364803245164,
          0.03436173470319126,
          -0.2534570860447909,
          -0.08341179123178577,
          0.06469100062594979,
          -0.316786351967548,
          -0.019831646780552603,
          0.4965429139552091,
          0.17078159025195827,
          -0.5065023808577944,
          0.027497619142205387,
          0.2044070295161955,
          0.08625894284545677,
          -0.5543542941870552,
          0.37864570581294466,
          -0.334934438638288,
          -0.4740250282642968,
          -0.15587694159355792,
          0.08625894284545677,
          0.016213648032452177,
          0.524452324329201,
          0.14502026654870814,
          -0.11374105715454341,
          0.580168353219447,
          -0.1982637045610458,
          -0.11641179123178613,
          0.3214070295161955
         ],
         "xaxis": "x3",
         "xbins": {
          "end": 1.95,
          "size": 0.3,
          "start": -1.95
         },
         "yaxis": "y3"
        },
        {
         "line": {
          "color": "black",
          "dash": "dot",
          "width": 2
         },
         "mode": "lines",
         "name": "Normal Distribution<br>(99.7% of its area)",
         "opacity": 0.5,
         "type": "scatter",
         "x": [
          -1.2001917398656037,
          -1.1901917398656037,
          -1.1801917398656037,
          -1.1701917398656037,
          -1.1601917398656036,
          -1.1501917398656036,
          -1.1401917398656036,
          -1.1301917398656036,
          -1.1201917398656036,
          -1.1101917398656036,
          -1.1001917398656036,
          -1.0901917398656036,
          -1.0801917398656036,
          -1.0701917398656036,
          -1.0601917398656036,
          -1.0501917398656035,
          -1.0401917398656035,
          -1.0301917398656035,
          -1.0201917398656035,
          -1.0101917398656035,
          -1.0001917398656035,
          -0.9901917398656035,
          -0.9801917398656035,
          -0.9701917398656035,
          -0.9601917398656035,
          -0.9501917398656035,
          -0.9401917398656034,
          -0.9301917398656034,
          -0.9201917398656034,
          -0.9101917398656034,
          -0.9001917398656034,
          -0.8901917398656034,
          -0.8801917398656034,
          -0.8701917398656034,
          -0.8601917398656034,
          -0.8501917398656034,
          -0.8401917398656034,
          -0.8301917398656034,
          -0.8201917398656033,
          -0.8101917398656033,
          -0.8001917398656033,
          -0.7901917398656033,
          -0.7801917398656033,
          -0.7701917398656033,
          -0.7601917398656033,
          -0.7501917398656033,
          -0.7401917398656033,
          -0.7301917398656033,
          -0.7201917398656033,
          -0.7101917398656032,
          -0.7001917398656032,
          -0.6901917398656032,
          -0.6801917398656032,
          -0.6701917398656032,
          -0.6601917398656032,
          -0.6501917398656032,
          -0.6401917398656032,
          -0.6301917398656032,
          -0.6201917398656032,
          -0.6101917398656032,
          -0.6001917398656031,
          -0.5901917398656031,
          -0.5801917398656031,
          -0.5701917398656031,
          -0.5601917398656031,
          -0.5501917398656031,
          -0.5401917398656031,
          -0.5301917398656031,
          -0.5201917398656031,
          -0.5101917398656031,
          -0.5001917398656031,
          -0.49019173986560305,
          -0.48019173986560304,
          -0.47019173986560303,
          -0.460191739865603,
          -0.450191739865603,
          -0.440191739865603,
          -0.430191739865603,
          -0.420191739865603,
          -0.410191739865603,
          -0.40019173986560297,
          -0.39019173986560296,
          -0.38019173986560295,
          -0.37019173986560294,
          -0.36019173986560293,
          -0.3501917398656029,
          -0.3401917398656029,
          -0.3301917398656029,
          -0.3201917398656029,
          -0.3101917398656029,
          -0.3001917398656029,
          -0.29019173986560287,
          -0.28019173986560286,
          -0.27019173986560285,
          -0.26019173986560284,
          -0.25019173986560284,
          -0.24019173986560283,
          -0.23019173986560282,
          -0.2201917398656028,
          -0.2101917398656028,
          -0.2001917398656028,
          -0.19019173986560278,
          -0.18019173986560277,
          -0.17019173986560276,
          -0.16019173986560276,
          -0.15019173986560275,
          -0.14019173986560274,
          -0.13019173986560273,
          -0.12019173986560272,
          -0.11019173986560271,
          -0.1001917398656027,
          -0.0901917398656027,
          -0.08019173986560268,
          -0.07019173986560268,
          -0.06019173986560267,
          -0.05019173986560266,
          -0.04019173986560265,
          -0.03019173986560264,
          -0.02019173986560263,
          -0.010191739865602623,
          -0.0001917398656026137,
          0.009808260134397395,
          0.019808260134397404,
          0.029808260134397413,
          0.03980826013439742,
          0.04980826013439743,
          0.05980826013439744,
          0.06980826013439745,
          0.07980826013439746,
          0.08980826013439747,
          0.09980826013439748,
          0.10980826013439748,
          0.11980826013439749,
          0.1298082601343975,
          0.1398082601343975,
          0.14980826013439752,
          0.15980826013439753,
          0.16980826013439754,
          0.17980826013439755,
          0.18980826013439756,
          0.19980826013439756,
          0.20980826013439757,
          0.21980826013439758,
          0.2298082601343976,
          0.2398082601343976,
          0.2498082601343976,
          0.2598082601343976,
          0.2698082601343976,
          0.27980826013439763,
          0.28980826013439764,
          0.29980826013439765,
          0.30980826013439766,
          0.31980826013439767,
          0.3298082601343977,
          0.3398082601343977,
          0.3498082601343977,
          0.3598082601343977,
          0.3698082601343977,
          0.3798082601343977,
          0.38980826013439773,
          0.39980826013439774,
          0.40980826013439775,
          0.41980826013439776,
          0.42980826013439777,
          0.4398082601343978,
          0.4498082601343978,
          0.4598082601343978,
          0.4698082601343978,
          0.4798082601343978,
          0.4898082601343978,
          0.49980826013439783,
          0.5098082601343978,
          0.5198082601343978,
          0.5298082601343979,
          0.5398082601343979,
          0.5498082601343979,
          0.5598082601343979,
          0.5698082601343979,
          0.5798082601343979,
          0.5898082601343979,
          0.5998082601343979,
          0.6098082601343979,
          0.6198082601343979,
          0.629808260134398,
          0.639808260134398,
          0.649808260134398,
          0.659808260134398,
          0.669808260134398,
          0.679808260134398,
          0.689808260134398,
          0.699808260134398,
          0.709808260134398,
          0.719808260134398,
          0.729808260134398,
          0.739808260134398,
          0.749808260134398,
          0.7598082601343981,
          0.7698082601343981,
          0.7798082601343981,
          0.7898082601343981,
          0.7998082601343981,
          0.8098082601343979,
          0.8198082601343981,
          0.8298082601343983,
          0.8398082601343981,
          0.8498082601343979,
          0.8598082601343982,
          0.8698082601343984,
          0.8798082601343982,
          0.889808260134398,
          0.8998082601343982,
          0.9098082601343984,
          0.9198082601343982,
          0.929808260134398,
          0.9398082601343982,
          0.9498082601343985,
          0.9598082601343982,
          0.969808260134398,
          0.9798082601343983,
          0.9898082601343985,
          0.9998082601343983,
          1.009808260134398,
          1.0198082601343983,
          1.0298082601343985,
          1.0398082601343983,
          1.049808260134398,
          1.0598082601343983,
          1.0698082601343986,
          1.0798082601343983,
          1.0898082601343981,
          1.0998082601343984,
          1.1098082601343986,
          1.1198082601343984,
          1.1298082601343982,
          1.1398082601343984,
          1.1498082601343986,
          1.1598082601343984,
          1.1698082601343982,
          1.1798082601343984,
          1.1898082601343987,
          1.1998082601343985
         ],
         "xaxis": "x3",
         "y": [
          0.01107785097513073,
          0.011936767291585413,
          0.012854245461727268,
          0.013833596469486209,
          0.014878264318439234,
          0.01599182723736176,
          0.017177998542422742,
          0.018440627126752183,
          0.019783697547599195,
          0.021211329680903352,
          0.022727777912834528,
          0.024337429837726358,
          0.026044804431846764,
          0.027854549672627196,
          0.029771439573320364,
          0.031800370603583296,
          0.033946357467200226,
          0.03621452820907491,
          0.03861011862474518,
          0.04113846594700855,
          0.04380500178580721,
          0.04661524429930547,
          0.049574789576110105,
          0.05268930221083767,
          0.05596450505772159,
          0.05940616814968366,
          0.06302009677325807,
          0.06681211869296201,
          0.07078807052213985,
          0.07495378324096999,
          0.07931506686620324,
          0.08387769428129206,
          0.0886473842398596,
          0.09362978355993065,
          0.09883044853099378,
          0.10425482556076204,
          0.10990823109343446,
          0.11579583083630791,
          0.12192261833672839,
          0.12829339295657768,
          0.13491273729673434,
          0.14178499412920986,
          0.14891424289989763,
          0.15630427587006657,
          0.16395857396984023,
          0.17188028244189818,
          0.18007218635848318,
          0.18853668609945798,
          0.197275772883599,
          0.20629100444949422,
          0.2155834809863072,
          0.2251538214182272,
          0.23500214014962345,
          0.24512802438071457,
          0.2555305121059251,
          0.26620807090899595,
          0.2771585776703035,
          0.2883792993027125,
          0.29986687463259076,
          0.31161729754234363,
          0.32362590148994486,
          0.33588734551944077,
          0.34839560187426294,
          0.36114394532238614,
          0.37412494429891346,
          0.38733045396754373,
          0.4007516112975792,
          0.41437883224766847,
          0.42820181114136036,
          0.4422095223127704,
          0.4563902240932585,
          0.47073146520200326,
          0.4852200935947557,
          0.49984226781589897,
          0.5145834708892567,
          0.5294285267729301,
          0.5443616193928413,
          0.559366314258654,
          0.5744255826544101,
          0.5895218283845806,
          0.6046369170443766,
          0.619752207771134,
          0.6348485874214469,
          0.649906507106558,
          0.664906021006367,
          0.6798268273703697,
          0.6946483116019709,
          0.709349591310979,
          0.7239095632077699,
          0.7383069517016739,
          0.75252035905566,
          0.7665283169394378,
          0.780309339213735,
          0.7938419757698062,
          0.8071048672402369,
          0.82007680038991,
          0.8327367639896214,
          0.8450640049693435,
          0.8570380846435847,
          0.8686389347976944,
          0.8798469134213959,
          0.8906428598742795,
          0.9010081492675108,
          0.9109247458466035,
          0.9203752551617949,
          0.9293429748153383,
          0.9378119435788994,
          0.9457669886791906,
          0.9531937710559981,
          0.9600788284038083,
          0.966409615816311,
          0.9721745438621011,
          0.9773630139298712,
          0.9819654506922486,
          0.9859733315491144,
          0.9893792129236905,
          0.9921767532978379,
          0.9943607328867855,
          0.9959270698678544,
          0.9968728330925514,
          0.9971962512266195,
          0.9968967182781505,
          0.9959747954896143,
          0.9944322095855321,
          0.9922718473834562,
          0.9894977467917947,
          0.9861150842337745,
          0.9821301585523667,
          0.9775503714662229,
          0.9723842046614977,
          0.9666411936187985,
          0.9603318982883026,
          0.9534678707392612,
          0.946061619922592,
          0.9381265736969716,
          0.9296770382797366,
          0.9207281552939033,
          0.9112958565917038,
          0.9013968170431353,
          0.8910484054851228,
          0.8802686340329434,
          0.8690761059605601,
          0.8574899623604209,
          0.8455298277960966,
          0.8332157551628678,
          0.8205681699719999,
          0.8076078142740098,
          0.7943556904347292,
          0.7808330049754213,
          0.7670611126846667,
          0.7530614612052087,
          0.7388555362934983,
          0.7244648079433339,
          0.7099106775578194,
          0.6952144263459082,
          0.6803971651111199,
          0.6654797855906788,
          0.6504829134933953,
          0.6354268633741416,
          0.6203315954718674,
          0.605216674626781,
          0.590101231380711,
          0.5750039253527902,
          0.5599429109705644,
          0.5449358056244877,
          0.5299996603015948,
          0.5151509327419979,
          0.5004054631498248,
          0.4857784524783483,
          0.47128444329741015,
          0.4569373032398975,
          0.44275021101300915,
          0.42873564494942973,
          0.4149053740633516,
          0.4012704515665782,
          0.3878412107907681,
          0.37462726345325364,
          0.3616375001958318,
          0.34888009331849656,
          0.3363625016232869,
          0.324091477277277,
          0.3120730745982486,
          0.3003126606617599,
          0.28881492762417804,
          0.2775839066527574,
          0.26662298335102186,
          0.25593491456554796,
          0.24552184645871425,
          0.23538533373108533,
          0.22552635987679812,
          0.21594535835560713,
          0.20664223456608705,
          0.19761638850586608,
          0.18886673800663434,
          0.1803917424340193,
          0.1721894267451945,
          0.16425740580027243,
          0.15659290882707613,
          0.14919280394276863,
          0.1420536226399863,
          0.1351715841495582,
          0.1285426195965456,
          0.12216239587117514,
          0.11602633914123435,
          0.11012965793759381,
          0.10446736574972315,
          0.09903430307329797,
          0.09382515885725563,
          0.0888344913029037,
          0.08405674797289288,
          0.07948628517301196,
          0.0751173865748084,
          0.07094428105198011,
          0.06696115970828968,
          0.06316219207940252,
          0.059541541495532944,
          0.056093379596075486,
          0.05281189999150238,
          0.04969133107169192,
          0.04672594796352437,
          0.04391008364402492,
          0.04123813921854444,
          0.03870459337644804,
          0.036304011039515256,
          0.034031051220757155,
          0.03188047411361898,
          0.029847147433561413,
          0.02792605203580825,
          0.0261122868346155,
          0.024401073050762053,
          0.02278775781509351,
          0.021267817156873398,
          0.01983685840641959,
          0.018490622042040984,
          0.017224983011641905,
          0.016035951559547058,
          0.014919673589123711,
          0.013872430591653828,
          0.012890639171646243,
          0.011970850198387747,
          0.011109747613026095
         ],
         "yaxis": "y3"
        },
        {
         "histnorm": "probability density",
         "name": "<br>Model 4:<br>All Data using indicator",
         "type": "histogram",
         "x": [
          -0.6979302325581407,
          -0.2943300000000002,
          -0.9649302325581406,
          0.18866999999999967,
          0.2350697674418596,
          0.7886699999999998,
          0.4020697674418594,
          -0.6979302325581407,
          -0.1443300000000003,
          0.05206976744185887,
          -0.2613300000000003,
          -0.38093023255814096,
          -0.0979302325581406,
          -0.34433000000000025,
          0.4020697674418594,
          0.07266999999999957,
          -0.34433000000000025,
          0.502069767441859,
          -0.49433000000000016,
          -0.04793023255814077,
          -0.2943300000000002,
          -0.34433000000000025,
          -0.8479302325581406,
          -1.2309302325581406,
          0.2350697674418596,
          -0.6979302325581407,
          -0.12733000000000017,
          -0.2149302325581406,
          -0.4479302325581407,
          0.13506976744185906,
          0.0020697674418590495,
          0.16906976744185886,
          1.2726699999999997,
          -0.2649302325581404,
          -0.4649302325581406,
          -0.07733000000000034,
          -0.22733000000000025,
          0.5350697674418594,
          -0.2613300000000003,
          0.4850697674418596,
          0.05206976744185887,
          -0.21133000000000024,
          0.2690697674418594,
          -0.34433000000000025,
          0.2350697674418596,
          -0.9809302325581406,
          1.73867,
          0.005669999999999842,
          0.33506976744185923,
          -0.09433000000000025,
          0.502069767441859,
          0.4180697674418594,
          -0.2613300000000003,
          0.5350697674418594,
          -0.36133000000000015,
          0.5850697674418592,
          -0.5809302325581407,
          -0.42733000000000043,
          0.2690697674418594,
          0.019069767441859398,
          0.13866999999999985,
          0.20206976744185923,
          -0.34433000000000025,
          0.502069767441859,
          -0.2773300000000003,
          0.10206976744185958,
          -0.13093023255814096,
          0.4020697674418594,
          -0.027330000000000076,
          0.4020697674418594,
          -0.2649302325581404,
          -0.12733000000000017,
          0.20206976744185923,
          -0.2979302325581408,
          -0.11133000000000015,
          0.7690697674418594,
          -0.07733000000000034,
          0.2690697674418594,
          -0.41493023255814077,
          -0.6979302325581407,
          -0.16493023255814077,
          0.03506976744185941,
          -0.19793023255814113,
          0.5386699999999998,
          -0.2309302325581406,
          0.6350697674418591,
          -0.3479302325581406,
          0.21906976744185958,
          0.07266999999999957,
          -0.2979302325581408,
          0.10566999999999993,
          0.03506976744185941,
          -0.22733000000000025,
          0.5190697674418594,
          -0.2613300000000003,
          0.0020697674418590495,
          0.36906976744185904,
          -0.5479302325581408,
          -0.22733000000000025,
          0.6020697674418596,
          0.38866999999999985,
          0.06906976744185922,
          0.005669999999999842,
          0.20206976744185923,
          -0.24793023255814095,
          -0.22733000000000025,
          0.4020697674418594,
          -0.31133000000000033,
          0.5520697674418589,
          -0.6149302325581409,
          0.43506976744185977,
          0.20566999999999958,
          0.6020697674418596,
          0.11906976744185904,
          -0.3943300000000003,
          0.33506976744185923,
          0.22266999999999992,
          0.30206976744185887,
          -0.2773300000000003,
          0.11906976744185904,
          0.5226699999999997,
          -0.2309302325581406,
          -0.04793023255814077,
          -0.12733000000000017,
          0.30206976744185887,
          -0.5309302325581409,
          -0.1773300000000002,
          0.20206976744185923,
          0.17266999999999966,
          0.3520697674418596,
          -0.22733000000000025,
          -0.13093023255814096,
          0.7056699999999996,
          0.03506976744185941,
          -0.2613300000000003,
          0.08506976744185923,
          -0.21133000000000024,
          0.6350697674418591,
          -0.06133000000000033,
          -0.5649302325581407,
          -0.06493023255814023,
          0.13866999999999985,
          0.2350697674418596,
          0.5190697674418594,
          0.03506976744185941,
          -0.11133000000000015,
          0.33506976744185923,
          -0.07733000000000034,
          0.8020697674418589,
          -0.2943300000000002,
          0.7350697674418596,
          -0.2979302325581408,
          0.30566999999999966,
          0.30206976744185887,
          -0.7309302325581406,
          -0.2979302325581408,
          0.20206976744185923,
          -0.2149302325581406,
          -0.2943300000000002,
          -0.3309302325581407,
          0.10566999999999993,
          -0.14793023255814042,
          -0.09433000000000025,
          -0.4649302325581406,
          1.4056699999999998,
          0.2850697674418594,
          0.27266999999999975,
          0.7020697674418592,
          -0.1613300000000002,
          0.3190697674418592,
          -0.1773300000000002,
          -0.011330000000000062,
          0.2850697674418594,
          -0.9649302325581406,
          -0.13093023255814096,
          0.03506976744185941,
          0.20206976744185923,
          0.32266999999999957,
          -0.2979302325581408,
          -0.13093023255814096,
          -0.21133000000000024,
          0.2850697674418594,
          -0.04793023255814077,
          -0.5309302325581409,
          -0.06133000000000033,
          0.13506976744185906,
          -0.2149302325581406,
          -0.2613300000000003,
          0.11906976744185904,
          0.08867000000000003,
          0.502069767441859,
          -0.2613300000000003,
          0.502069767441859,
          -0.19793023255814113,
          -0.3319302325581406,
          -0.06493023255814023,
          -0.7979302325581408,
          0.06806976744185977,
          0.15566999999999975,
          0.36906976744185904,
          0.005669999999999842,
          0.05206976744185887,
          -0.16493023255814077,
          -0.22733000000000025,
          0.30206976744185887,
          -0.31133000000000033,
          0.06906976744185922,
          -0.4479302325581407,
          -0.1613300000000002,
          0.20206976744185923,
          -1.9149302325581408,
          0.4020697674418594,
          -0.22733000000000025,
          -0.4649302325581406,
          1.3226699999999996,
          -0.06493023255814023,
          0.30566999999999966,
          0.502069767441859,
          -0.09433000000000025,
          -0.14793023255814042,
          -0.22733000000000025,
          -0.030930232558140425,
          -0.34433000000000025,
          0.18506976744185977,
          -0.2979302325581408,
          -0.18093023255814078,
          -0.2149302325581406,
          -0.030930232558140425,
          -0.38093023255814096,
          0.25206976744185905,
          -0.2149302325581406,
          0.32266999999999957,
          -0.11493023255814094,
          0.12266999999999983,
          0.1520697674418594,
          -0.21133000000000024,
          -0.24433000000000016,
          -0.01493023255814041,
          -0.3479302325581406,
          0.23866999999999994,
          -0.14793023255814042,
          0.25566999999999984,
          0.6350697674418591,
          0.8056699999999997,
          0.2850697674418594,
          -0.4649302325581406,
          -0.011330000000000062,
          0.06906976744185922,
          0.03866999999999976,
          0.05206976744185887,
          0.10566999999999993,
          0.1520697674418594,
          -0.7309302325581406,
          0.20206976744185923,
          -0.14793023255814042,
          -0.4809302325581406,
          -0.38093023255814096,
          0.1520697674418594,
          -0.09433000000000025,
          -0.01493023255814041,
          0.4690697674418596,
          0.2350697674418596,
          -0.24433000000000016,
          -0.04793023255814077,
          -0.11133000000000015,
          0.15566999999999975,
          0.4520697674418592,
          -0.18093023255814078,
          0.055669999999999664,
          0.11906976744185904,
          -0.2773300000000003,
          0.16906976744185886
         ],
         "xaxis": "x4",
         "xbins": {
          "end": 1.95,
          "size": 0.3,
          "start": -1.95
         },
         "yaxis": "y4"
        },
        {
         "line": {
          "color": "black",
          "dash": "dot",
          "width": 2
         },
         "mode": "lines",
         "name": "Normal Distribution<br>(99.7% of its area)",
         "opacity": 0.5,
         "type": "scatter",
         "x": [
          -1.2356963309582187,
          -1.2256963309582187,
          -1.2156963309582187,
          -1.2056963309582187,
          -1.1956963309582187,
          -1.1856963309582187,
          -1.1756963309582187,
          -1.1656963309582187,
          -1.1556963309582187,
          -1.1456963309582187,
          -1.1356963309582186,
          -1.1256963309582186,
          -1.1156963309582186,
          -1.1056963309582186,
          -1.0956963309582186,
          -1.0856963309582186,
          -1.0756963309582186,
          -1.0656963309582186,
          -1.0556963309582186,
          -1.0456963309582186,
          -1.0356963309582186,
          -1.0256963309582185,
          -1.0156963309582185,
          -1.0056963309582185,
          -0.9956963309582185,
          -0.9856963309582185,
          -0.9756963309582185,
          -0.9656963309582185,
          -0.9556963309582185,
          -0.9456963309582185,
          -0.9356963309582185,
          -0.9256963309582185,
          -0.9156963309582185,
          -0.9056963309582184,
          -0.8956963309582184,
          -0.8856963309582184,
          -0.8756963309582184,
          -0.8656963309582184,
          -0.8556963309582184,
          -0.8456963309582184,
          -0.8356963309582184,
          -0.8256963309582184,
          -0.8156963309582184,
          -0.8056963309582184,
          -0.7956963309582183,
          -0.7856963309582183,
          -0.7756963309582183,
          -0.7656963309582183,
          -0.7556963309582183,
          -0.7456963309582183,
          -0.7356963309582183,
          -0.7256963309582183,
          -0.7156963309582183,
          -0.7056963309582183,
          -0.6956963309582183,
          -0.6856963309582182,
          -0.6756963309582182,
          -0.6656963309582182,
          -0.6556963309582182,
          -0.6456963309582182,
          -0.6356963309582182,
          -0.6256963309582182,
          -0.6156963309582182,
          -0.6056963309582182,
          -0.5956963309582182,
          -0.5856963309582182,
          -0.5756963309582181,
          -0.5656963309582181,
          -0.5556963309582181,
          -0.5456963309582181,
          -0.5356963309582181,
          -0.5256963309582181,
          -0.5156963309582181,
          -0.5056963309582181,
          -0.4956963309582181,
          -0.48569633095821807,
          -0.47569633095821806,
          -0.46569633095821805,
          -0.45569633095821804,
          -0.44569633095821803,
          -0.435696330958218,
          -0.425696330958218,
          -0.415696330958218,
          -0.405696330958218,
          -0.395696330958218,
          -0.385696330958218,
          -0.37569633095821797,
          -0.36569633095821796,
          -0.35569633095821795,
          -0.34569633095821795,
          -0.33569633095821794,
          -0.32569633095821793,
          -0.3156963309582179,
          -0.3056963309582179,
          -0.2956963309582179,
          -0.2856963309582179,
          -0.2756963309582179,
          -0.2656963309582179,
          -0.25569633095821787,
          -0.24569633095821786,
          -0.23569633095821785,
          -0.22569633095821784,
          -0.21569633095821783,
          -0.20569633095821782,
          -0.1956963309582178,
          -0.1856963309582178,
          -0.1756963309582178,
          -0.16569633095821779,
          -0.15569633095821778,
          -0.14569633095821777,
          -0.13569633095821776,
          -0.12569633095821775,
          -0.11569633095821774,
          -0.10569633095821773,
          -0.09569633095821772,
          -0.08569633095821771,
          -0.0756963309582177,
          -0.0656963309582177,
          -0.05569633095821769,
          -0.04569633095821768,
          -0.03569633095821767,
          -0.02569633095821766,
          -0.015696330958217652,
          -0.005696330958217644,
          0.004303669041782365,
          0.014303669041782374,
          0.024303669041782383,
          0.03430366904178239,
          0.0443036690417824,
          0.05430366904178241,
          0.06430366904178242,
          0.07430366904178243,
          0.08430366904178244,
          0.09430366904178245,
          0.10430366904178245,
          0.11430366904178246,
          0.12430366904178247,
          0.13430366904178248,
          0.1443036690417825,
          0.1543036690417825,
          0.1643036690417825,
          0.17430366904178252,
          0.18430366904178253,
          0.19430366904178253,
          0.20430366904178254,
          0.21430366904178255,
          0.22430366904178256,
          0.23430366904178257,
          0.24430366904178258,
          0.2543036690417826,
          0.2643036690417826,
          0.2743036690417826,
          0.2843036690417826,
          0.2943036690417826,
          0.30430366904178263,
          0.31430366904178264,
          0.32430366904178265,
          0.33430366904178266,
          0.34430366904178267,
          0.3543036690417827,
          0.3643036690417827,
          0.3743036690417827,
          0.3843036690417827,
          0.3943036690417827,
          0.4043036690417827,
          0.41430366904178273,
          0.42430366904178274,
          0.43430366904178275,
          0.44430366904178276,
          0.45430366904178276,
          0.4643036690417828,
          0.4743036690417828,
          0.4843036690417828,
          0.4943036690417828,
          0.5043036690417828,
          0.5143036690417828,
          0.5243036690417828,
          0.5343036690417828,
          0.5443036690417828,
          0.5543036690417829,
          0.5643036690417829,
          0.5743036690417829,
          0.5843036690417829,
          0.5943036690417829,
          0.6043036690417829,
          0.6143036690417829,
          0.6243036690417829,
          0.6343036690417829,
          0.6443036690417829,
          0.6543036690417829,
          0.664303669041783,
          0.674303669041783,
          0.684303669041783,
          0.694303669041783,
          0.704303669041783,
          0.714303669041783,
          0.724303669041783,
          0.734303669041783,
          0.744303669041783,
          0.754303669041783,
          0.764303669041783,
          0.7743036690417828,
          0.7843036690417831,
          0.7943036690417833,
          0.8043036690417831,
          0.8143036690417829,
          0.8243036690417831,
          0.8343036690417833,
          0.8443036690417831,
          0.8543036690417829,
          0.8643036690417831,
          0.8743036690417834,
          0.8843036690417831,
          0.8943036690417829,
          0.9043036690417832,
          0.9143036690417834,
          0.9243036690417832,
          0.934303669041783,
          0.9443036690417832,
          0.9543036690417834,
          0.9643036690417832,
          0.974303669041783,
          0.9843036690417832,
          0.9943036690417835,
          1.0043036690417833,
          1.014303669041783,
          1.0243036690417833,
          1.0343036690417835,
          1.0443036690417833,
          1.054303669041783,
          1.0643036690417833,
          1.0743036690417835,
          1.0843036690417833,
          1.0943036690417831,
          1.1043036690417833,
          1.1143036690417836,
          1.1243036690417834,
          1.1343036690417831,
          1.1443036690417834,
          1.1543036690417836,
          1.1643036690417834,
          1.1743036690417832,
          1.1843036690417834,
          1.1943036690417836,
          1.2043036690417834,
          1.2143036690417832,
          1.2243036690417834,
          1.2343036690417837
         ],
         "xaxis": "x4",
         "y": [
          0.010759557103729535,
          0.011569046364750825,
          0.012432107304071925,
          0.013351681380178108,
          0.014330824962518165,
          0.015372710363650696,
          0.016480626593458756,
          0.017657979812295183,
          0.01890829345951763,
          0.020235208033555503,
          0.02164248049942659,
          0.0231339832994997,
          0.024713702943286703,
          0.026385738152150614,
          0.02815429753504737,
          0.030023696771778154,
          0.031998355280731125,
          0.034082792348736346,
          0.03628162270145778,
          0.038599551493701756,
          0.041041368700140836,
          0.04361194288824105,
          0.04631621435663785,
          0.04915918762384055,
          0.05214592325395582,
          0.05528152900810914,
          0.0585711503124085,
          0.06201996003564133,
          0.06563314757241298,
          0.06941590723012697,
          0.07337342592106816,
          0.0775108701638714,
          0.08183337240183293,
          0.08634601664885047,
          0.09105382347723423,
          0.09596173436522082,
          0.10107459542572303,
          0.10639714054164846,
          0.11193397393700391,
          0.11768955221695863,
          0.12366816591404108,
          0.1298739205816763,
          0.13631071748032095,
          0.1429822339054826,
          0.14989190321091322,
          0.15704289458421145,
          0.16443809263593126,
          0.17208007686705235,
          0.17997110108329434,
          0.18811307282822706,
          0.19650753291041143,
          0.2051556351028861,
          0.214058126096149,
          0.2232153257883624,
          0.2326271079987991,
          0.24229288169251945,
          0.2522115728059084,
          0.2623816067639773,
          0.2728008917812265,
          0.2834668030383526,
          0.29437616782715287,
          0.3055252517555944,
          0.3169097461041908,
          0.3285247564235189,
          0.34036479246092555,
          0.35242375950219823,
          0.3646949512112016,
          0.37717104404720786,
          0.38984409333588305,
          0.4027055310656123,
          0.4157461654760949,
          0.42895618250088813,
          0.44232514911986337,
          0.4558420186713653,
          0.4694951381672537,
          0.48327225764697584,
          0.4971605415994006,
          0.5111465824733599,
          0.5252164162897235,
          0.5393555403594189,
          0.5535489331031279,
          0.5677810759594847,
          0.5820359773595174,
          0.5962971987358525,
          0.6105478825258805,
          0.6247707821187244,
          0.6389482936864933,
          0.6530624898310058,
          0.6670951549679607,
          0.681027822361513,
          0.694841812713361,
          0.7085182742019049,
          0.7220382238587693,
          0.7353825901620982,
          0.748532256718556,
          0.7614681068989527,
          0.7741710692859075,
          0.7866221637860138,
          0.7988025482536131,
          0.8106935654685588,
          0.8222767903063029,
          0.8335340769352859,
          0.8444476058739914,
          0.8549999307381677,
          0.865174024507632,
          0.874953325141785,
          0.8843217803734793,
          0.8932638915122164,
          0.9017647560897945,
          0.9098101091844943,
          0.917386363263655,
          0.9244806463890687,
          0.9310808386349577,
          0.9371756065744173,
          0.9427544356970337,
          0.9478076606279322,
          0.9523264930267242,
          0.9563030470536446,
          0.9597303622996032,
          0.9626024240868317,
          0.9649141810572505,
          0.9666615599765646,
          0.9678414776933646,
          0.9684518502040801,
          0.968491598786483,
          0.9679606531764715,
          0.9668599517750414,
          0.965191438884589,
          0.9629580589859411,
          0.9601637480796886,
          0.9568134221274658,
          0.9529129626406847,
          0.9484691994758614,
          0.9434898909069751,
          0.9379837010562434,
          0.9319601747752055,
          0.9254297100780391,
          0.9184035282385327,
          0.9108936416710578,
          0.9029128197241805,
          0.8944745525231903,
          0.8855930130047602,
          0.8762830172931637,
          0.8665599835729236,
          0.8564398896174535,
          0.8459392291371245,
          0.8350749671132724,
          0.823864494286924,
          0.8123255809724558,
          0.8004763303670398,
          0.7883351315265461,
          0.7759206121775988,
          0.763251591533729,
          0.7503470332810537,
          0.7372259988956561,
          0.7239076014508933,
          0.7104109600682188,
          0.6967551551598398,
          0.6829591846056594,
          0.6690419210005208,
          0.6550220701008272,
          0.6409181305921952,
          0.6267483552919688,
          0.6125307138922106,
          0.5982828573402617,
          0.5840220839451681,
          0.569765307289259,
          0.55552902601498,
          0.5413292955478031,
          0.5271817018066718,
          0.5131013369440882,
          0.49910277714861434,
          0.4852000625333226,
          0.47140667912462825,
          0.45773554295699603,
          0.44419898627030663,
          0.4308087457982109,
          0.4175759531276355,
          0.404511127101776,
          0.3916241682314356,
          0.3789243550724867,
          0.36642034252055933,
          0.35412016196782664,
          0.34203122326097146,
          0.3301603183941149,
          0.31851362686564666,
          0.3070967226235669,
          0.2959145825201064,
          0.28497159619304535,
          0.2742715772883166,
          0.2638177759361287,
          0.25361289239099605,
          0.24365909174468817,
          0.23395801962021648,
          0.2245108187545331,
          0.21531814637762267,
          0.20638019229609958,
          0.1976966975902553,
          0.1892669738347304,
          0.18108992275457036,
          0.17316405623035283,
          0.1654875165683242,
          0.1580580969540163,
          0.15087326201062448,
          0.1439301683864638,
          0.13722568529908635,
          0.13075641496708434,
          0.12451871286420978,
          0.11850870773418037,
          0.11272232130839564,
          0.1071552876727229,
          0.10180317223350069,
          0.09666139023694392,
          0.09172522480017968,
          0.0869898444161769,
          0.08245031989884546,
          0.07810164073853676,
          0.07393873084207828,
          0.06995646363528615,
          0.06614967650961567,
          0.06251318459821084,
          0.05904179387009756,
          0.05573031353460787,
          0.052573567751317656,
          0.049566406643826944,
          0.04670371661859362,
          0.043980429992747955,
          0.04139153393735664,
          0.03893207874497573,
          0.03659718543252229,
          0.03438205269250882,
          0.03228196320751935,
          0.030292289344463062,
          0.028408498246626116,
          0.02662615634285414,
          0.02494093329433815,
          0.023348605400457797,
          0.021845058485955214,
          0.020426290292380904,
          0.01908841239727195,
          0.017827651684903714,
          0.016640351392703888,
          0.01552297175753797,
          0.014472090286079048,
          0.013484401673366337,
          0.012556717393447926,
          0.011685964985698124,
          0.010869187060008157
         ],
         "yaxis": "y4"
        }
       ],
       "layout": {
        "annotations": [
         {
          "font": {
           "size": 16
          },
          "showarrow": false,
          "text": "<br>Model 1:<br>All Data using slope",
          "x": 0.225,
          "xanchor": "center",
          "xref": "paper",
          "y": 1,
          "yanchor": "bottom",
          "yref": "paper"
         },
         {
          "font": {
           "size": 16
          },
          "showarrow": false,
          "text": "<br>Model 2:<br>Short Wait Data",
          "x": 0.775,
          "xanchor": "center",
          "xref": "paper",
          "y": 1,
          "yanchor": "bottom",
          "yref": "paper"
         },
         {
          "font": {
           "size": 16
          },
          "showarrow": false,
          "text": "<br>Model 3:<br>Long Wait Data",
          "x": 0.225,
          "xanchor": "center",
          "xref": "paper",
          "y": 0.375,
          "yanchor": "bottom",
          "yref": "paper"
         },
         {
          "font": {
           "size": 16
          },
          "showarrow": false,
          "text": "<br>Model 4:<br>All Data using indicator",
          "x": 0.775,
          "xanchor": "center",
          "xref": "paper",
          "y": 0.375,
          "yanchor": "bottom",
          "yref": "paper"
         }
        ],
        "template": {
         "data": {
          "bar": [
           {
            "error_x": {
             "color": "#2a3f5f"
            },
            "error_y": {
             "color": "#2a3f5f"
            },
            "marker": {
             "line": {
              "color": "#E5ECF6",
              "width": 0.5
             },
             "pattern": {
              "fillmode": "overlay",
              "size": 10,
              "solidity": 0.2
             }
            },
            "type": "bar"
           }
          ],
          "barpolar": [
           {
            "marker": {
             "line": {
              "color": "#E5ECF6",
              "width": 0.5
             },
             "pattern": {
              "fillmode": "overlay",
              "size": 10,
              "solidity": 0.2
             }
            },
            "type": "barpolar"
           }
          ],
          "carpet": [
           {
            "aaxis": {
             "endlinecolor": "#2a3f5f",
             "gridcolor": "white",
             "linecolor": "white",
             "minorgridcolor": "white",
             "startlinecolor": "#2a3f5f"
            },
            "baxis": {
             "endlinecolor": "#2a3f5f",
             "gridcolor": "white",
             "linecolor": "white",
             "minorgridcolor": "white",
             "startlinecolor": "#2a3f5f"
            },
            "type": "carpet"
           }
          ],
          "choropleth": [
           {
            "colorbar": {
             "outlinewidth": 0,
             "ticks": ""
            },
            "type": "choropleth"
           }
          ],
          "contour": [
           {
            "colorbar": {
             "outlinewidth": 0,
             "ticks": ""
            },
            "colorscale": [
             [
              0,
              "#0d0887"
             ],
             [
              0.1111111111111111,
              "#46039f"
             ],
             [
              0.2222222222222222,
              "#7201a8"
             ],
             [
              0.3333333333333333,
              "#9c179e"
             ],
             [
              0.4444444444444444,
              "#bd3786"
             ],
             [
              0.5555555555555556,
              "#d8576b"
             ],
             [
              0.6666666666666666,
              "#ed7953"
             ],
             [
              0.7777777777777778,
              "#fb9f3a"
             ],
             [
              0.8888888888888888,
              "#fdca26"
             ],
             [
              1,
              "#f0f921"
             ]
            ],
            "type": "contour"
           }
          ],
          "contourcarpet": [
           {
            "colorbar": {
             "outlinewidth": 0,
             "ticks": ""
            },
            "type": "contourcarpet"
           }
          ],
          "heatmap": [
           {
            "colorbar": {
             "outlinewidth": 0,
             "ticks": ""
            },
            "colorscale": [
             [
              0,
              "#0d0887"
             ],
             [
              0.1111111111111111,
              "#46039f"
             ],
             [
              0.2222222222222222,
              "#7201a8"
             ],
             [
              0.3333333333333333,
              "#9c179e"
             ],
             [
              0.4444444444444444,
              "#bd3786"
             ],
             [
              0.5555555555555556,
              "#d8576b"
             ],
             [
              0.6666666666666666,
              "#ed7953"
             ],
             [
              0.7777777777777778,
              "#fb9f3a"
             ],
             [
              0.8888888888888888,
              "#fdca26"
             ],
             [
              1,
              "#f0f921"
             ]
            ],
            "type": "heatmap"
           }
          ],
          "heatmapgl": [
           {
            "colorbar": {
             "outlinewidth": 0,
             "ticks": ""
            },
            "colorscale": [
             [
              0,
              "#0d0887"
             ],
             [
              0.1111111111111111,
              "#46039f"
             ],
             [
              0.2222222222222222,
              "#7201a8"
             ],
             [
              0.3333333333333333,
              "#9c179e"
             ],
             [
              0.4444444444444444,
              "#bd3786"
             ],
             [
              0.5555555555555556,
              "#d8576b"
             ],
             [
              0.6666666666666666,
              "#ed7953"
             ],
             [
              0.7777777777777778,
              "#fb9f3a"
             ],
             [
              0.8888888888888888,
              "#fdca26"
             ],
             [
              1,
              "#f0f921"
             ]
            ],
            "type": "heatmapgl"
           }
          ],
          "histogram": [
           {
            "marker": {
             "pattern": {
              "fillmode": "overlay",
              "size": 10,
              "solidity": 0.2
             }
            },
            "type": "histogram"
           }
          ],
          "histogram2d": [
           {
            "colorbar": {
             "outlinewidth": 0,
             "ticks": ""
            },
            "colorscale": [
             [
              0,
              "#0d0887"
             ],
             [
              0.1111111111111111,
              "#46039f"
             ],
             [
              0.2222222222222222,
              "#7201a8"
             ],
             [
              0.3333333333333333,
              "#9c179e"
             ],
             [
              0.4444444444444444,
              "#bd3786"
             ],
             [
              0.5555555555555556,
              "#d8576b"
             ],
             [
              0.6666666666666666,
              "#ed7953"
             ],
             [
              0.7777777777777778,
              "#fb9f3a"
             ],
             [
              0.8888888888888888,
              "#fdca26"
             ],
             [
              1,
              "#f0f921"
             ]
            ],
            "type": "histogram2d"
           }
          ],
          "histogram2dcontour": [
           {
            "colorbar": {
             "outlinewidth": 0,
             "ticks": ""
            },
            "colorscale": [
             [
              0,
              "#0d0887"
             ],
             [
              0.1111111111111111,
              "#46039f"
             ],
             [
              0.2222222222222222,
              "#7201a8"
             ],
             [
              0.3333333333333333,
              "#9c179e"
             ],
             [
              0.4444444444444444,
              "#bd3786"
             ],
             [
              0.5555555555555556,
              "#d8576b"
             ],
             [
              0.6666666666666666,
              "#ed7953"
             ],
             [
              0.7777777777777778,
              "#fb9f3a"
             ],
             [
              0.8888888888888888,
              "#fdca26"
             ],
             [
              1,
              "#f0f921"
             ]
            ],
            "type": "histogram2dcontour"
           }
          ],
          "mesh3d": [
           {
            "colorbar": {
             "outlinewidth": 0,
             "ticks": ""
            },
            "type": "mesh3d"
           }
          ],
          "parcoords": [
           {
            "line": {
             "colorbar": {
              "outlinewidth": 0,
              "ticks": ""
             }
            },
            "type": "parcoords"
           }
          ],
          "pie": [
           {
            "automargin": true,
            "type": "pie"
           }
          ],
          "scatter": [
           {
            "fillpattern": {
             "fillmode": "overlay",
             "size": 10,
             "solidity": 0.2
            },
            "type": "scatter"
           }
          ],
          "scatter3d": [
           {
            "line": {
             "colorbar": {
              "outlinewidth": 0,
              "ticks": ""
             }
            },
            "marker": {
             "colorbar": {
              "outlinewidth": 0,
              "ticks": ""
             }
            },
            "type": "scatter3d"
           }
          ],
          "scattercarpet": [
           {
            "marker": {
             "colorbar": {
              "outlinewidth": 0,
              "ticks": ""
             }
            },
            "type": "scattercarpet"
           }
          ],
          "scattergeo": [
           {
            "marker": {
             "colorbar": {
              "outlinewidth": 0,
              "ticks": ""
             }
            },
            "type": "scattergeo"
           }
          ],
          "scattergl": [
           {
            "marker": {
             "colorbar": {
              "outlinewidth": 0,
              "ticks": ""
             }
            },
            "type": "scattergl"
           }
          ],
          "scattermapbox": [
           {
            "marker": {
             "colorbar": {
              "outlinewidth": 0,
              "ticks": ""
             }
            },
            "type": "scattermapbox"
           }
          ],
          "scatterpolar": [
           {
            "marker": {
             "colorbar": {
              "outlinewidth": 0,
              "ticks": ""
             }
            },
            "type": "scatterpolar"
           }
          ],
          "scatterpolargl": [
           {
            "marker": {
             "colorbar": {
              "outlinewidth": 0,
              "ticks": ""
             }
            },
            "type": "scatterpolargl"
           }
          ],
          "scatterternary": [
           {
            "marker": {
             "colorbar": {
              "outlinewidth": 0,
              "ticks": ""
             }
            },
            "type": "scatterternary"
           }
          ],
          "surface": [
           {
            "colorbar": {
             "outlinewidth": 0,
             "ticks": ""
            },
            "colorscale": [
             [
              0,
              "#0d0887"
             ],
             [
              0.1111111111111111,
              "#46039f"
             ],
             [
              0.2222222222222222,
              "#7201a8"
             ],
             [
              0.3333333333333333,
              "#9c179e"
             ],
             [
              0.4444444444444444,
              "#bd3786"
             ],
             [
              0.5555555555555556,
              "#d8576b"
             ],
             [
              0.6666666666666666,
              "#ed7953"
             ],
             [
              0.7777777777777778,
              "#fb9f3a"
             ],
             [
              0.8888888888888888,
              "#fdca26"
             ],
             [
              1,
              "#f0f921"
             ]
            ],
            "type": "surface"
           }
          ],
          "table": [
           {
            "cells": {
             "fill": {
              "color": "#EBF0F8"
             },
             "line": {
              "color": "white"
             }
            },
            "header": {
             "fill": {
              "color": "#C8D4E3"
             },
             "line": {
              "color": "white"
             }
            },
            "type": "table"
           }
          ]
         },
         "layout": {
          "annotationdefaults": {
           "arrowcolor": "#2a3f5f",
           "arrowhead": 0,
           "arrowwidth": 1
          },
          "autotypenumbers": "strict",
          "coloraxis": {
           "colorbar": {
            "outlinewidth": 0,
            "ticks": ""
           }
          },
          "colorscale": {
           "diverging": [
            [
             0,
             "#8e0152"
            ],
            [
             0.1,
             "#c51b7d"
            ],
            [
             0.2,
             "#de77ae"
            ],
            [
             0.3,
             "#f1b6da"
            ],
            [
             0.4,
             "#fde0ef"
            ],
            [
             0.5,
             "#f7f7f7"
            ],
            [
             0.6,
             "#e6f5d0"
            ],
            [
             0.7,
             "#b8e186"
            ],
            [
             0.8,
             "#7fbc41"
            ],
            [
             0.9,
             "#4d9221"
            ],
            [
             1,
             "#276419"
            ]
           ],
           "sequential": [
            [
             0,
             "#0d0887"
            ],
            [
             0.1111111111111111,
             "#46039f"
            ],
            [
             0.2222222222222222,
             "#7201a8"
            ],
            [
             0.3333333333333333,
             "#9c179e"
            ],
            [
             0.4444444444444444,
             "#bd3786"
            ],
            [
             0.5555555555555556,
             "#d8576b"
            ],
            [
             0.6666666666666666,
             "#ed7953"
            ],
            [
             0.7777777777777778,
             "#fb9f3a"
            ],
            [
             0.8888888888888888,
             "#fdca26"
            ],
            [
             1,
             "#f0f921"
            ]
           ],
           "sequentialminus": [
            [
             0,
             "#0d0887"
            ],
            [
             0.1111111111111111,
             "#46039f"
            ],
            [
             0.2222222222222222,
             "#7201a8"
            ],
            [
             0.3333333333333333,
             "#9c179e"
            ],
            [
             0.4444444444444444,
             "#bd3786"
            ],
            [
             0.5555555555555556,
             "#d8576b"
            ],
            [
             0.6666666666666666,
             "#ed7953"
            ],
            [
             0.7777777777777778,
             "#fb9f3a"
            ],
            [
             0.8888888888888888,
             "#fdca26"
            ],
            [
             1,
             "#f0f921"
            ]
           ]
          },
          "colorway": [
           "#636efa",
           "#EF553B",
           "#00cc96",
           "#ab63fa",
           "#FFA15A",
           "#19d3f3",
           "#FF6692",
           "#B6E880",
           "#FF97FF",
           "#FECB52"
          ],
          "font": {
           "color": "#2a3f5f"
          },
          "geo": {
           "bgcolor": "white",
           "lakecolor": "white",
           "landcolor": "#E5ECF6",
           "showlakes": true,
           "showland": true,
           "subunitcolor": "white"
          },
          "hoverlabel": {
           "align": "left"
          },
          "hovermode": "closest",
          "mapbox": {
           "style": "light"
          },
          "paper_bgcolor": "white",
          "plot_bgcolor": "#E5ECF6",
          "polar": {
           "angularaxis": {
            "gridcolor": "white",
            "linecolor": "white",
            "ticks": ""
           },
           "bgcolor": "#E5ECF6",
           "radialaxis": {
            "gridcolor": "white",
            "linecolor": "white",
            "ticks": ""
           }
          },
          "scene": {
           "xaxis": {
            "backgroundcolor": "#E5ECF6",
            "gridcolor": "white",
            "gridwidth": 2,
            "linecolor": "white",
            "showbackground": true,
            "ticks": "",
            "zerolinecolor": "white"
           },
           "yaxis": {
            "backgroundcolor": "#E5ECF6",
            "gridcolor": "white",
            "gridwidth": 2,
            "linecolor": "white",
            "showbackground": true,
            "ticks": "",
            "zerolinecolor": "white"
           },
           "zaxis": {
            "backgroundcolor": "#E5ECF6",
            "gridcolor": "white",
            "gridwidth": 2,
            "linecolor": "white",
            "showbackground": true,
            "ticks": "",
            "zerolinecolor": "white"
           }
          },
          "shapedefaults": {
           "line": {
            "color": "#2a3f5f"
           }
          },
          "ternary": {
           "aaxis": {
            "gridcolor": "white",
            "linecolor": "white",
            "ticks": ""
           },
           "baxis": {
            "gridcolor": "white",
            "linecolor": "white",
            "ticks": ""
           },
           "bgcolor": "#E5ECF6",
           "caxis": {
            "gridcolor": "white",
            "linecolor": "white",
            "ticks": ""
           }
          },
          "title": {
           "x": 0.05
          },
          "xaxis": {
           "automargin": true,
           "gridcolor": "white",
           "linecolor": "white",
           "ticks": "",
           "title": {
            "standoff": 15
           },
           "zerolinecolor": "white",
           "zerolinewidth": 2
          },
          "yaxis": {
           "automargin": true,
           "gridcolor": "white",
           "linecolor": "white",
           "ticks": "",
           "title": {
            "standoff": 15
           },
           "zerolinecolor": "white",
           "zerolinewidth": 2
          }
         }
        },
        "title": {
         "text": "Histograms of Residuals from Different Models"
        },
        "xaxis": {
         "anchor": "y",
         "domain": [
          0,
          0.45
         ],
         "range": [
          -2,
          2
         ],
         "title": {
          "text": "n=272"
         }
        },
        "xaxis2": {
         "anchor": "y2",
         "domain": [
          0.55,
          1
         ],
         "range": [
          -2,
          2
         ],
         "title": {
          "text": "n=100"
         }
        },
        "xaxis3": {
         "anchor": "y3",
         "domain": [
          0,
          0.45
         ],
         "range": [
          -2,
          2
         ],
         "title": {
          "text": "n=172"
         }
        },
        "xaxis4": {
         "anchor": "y4",
         "domain": [
          0.55,
          1
         ],
         "range": [
          -2,
          2
         ],
         "title": {
          "text": "n=272"
         }
        },
        "yaxis": {
         "anchor": "x",
         "domain": [
          0.625,
          1
         ]
        },
        "yaxis2": {
         "anchor": "x2",
         "domain": [
          0.625,
          1
         ]
        },
        "yaxis3": {
         "anchor": "x3",
         "domain": [
          0,
          0.375
         ]
        },
        "yaxis4": {
         "anchor": "x4",
         "domain": [
          0,
          0.375
         ]
        }
       }
      },
      "text/html": [
       "<div>                            <div id=\"07474548-bf1b-4b0f-99e0-33a7f291862e\" class=\"plotly-graph-div\" style=\"height:525px; width:100%;\"></div>            <script type=\"text/javascript\">                require([\"plotly\"], function(Plotly) {                    window.PLOTLYENV=window.PLOTLYENV || {};                                    if (document.getElementById(\"07474548-bf1b-4b0f-99e0-33a7f291862e\")) {                    Plotly.newPlot(                        \"07474548-bf1b-4b0f-99e0-33a7f291862e\",                        [{\"histnorm\":\"probability density\",\"name\":\"\\u003cbr\\u003eModel 1:\\u003cbr\\u003eAll Data using slope\",\"x\":[-0.5005919017864158,-0.40989320298984855,-0.38945216202710187,-0.5319167866047501,-0.021359589497591536,0.5974788490582887,-0.08124343335318063,-0.9543595894975918,-0.033009359134260174,-0.20435958949759225,-0.37689320298984863,-0.5617316415457303,0.17503604616544788,0.06950243267319056,0.2968963064061336,0.10836269291387701,-1.06491678660475,0.3212683584542697,-0.4586373070861227,0.14940809821358414,-0.18300935913426009,0.06950243267319056,-0.5749639538345521,-0.2773124222677885,0.8105478379728983,-0.8031036935938665,-0.3185211509417112,0.2092919420691728,-0.1749639538345522,0.33240809821358397,0.6531757859247604,0.5176639941173096,0.24957142158779932,-0.14321984973827728,0.11054783797289813,-0.0416373070861229,0.11087448472132788,0.6567801502617225,-0.755032942749162,-0.1494993292569058,0.173780150261722,-0.6294049947972993,0.08826835845427006,-0.7624049947972993,0.886175785924761,-1.0861036935938664,0.8668273174915249,-0.03426525503798583,0.30552425435799524,-0.588032942749162,1.001919890021035,-0.21649932925690596,-0.37689320298984863,0.6567801502617225,-0.4768932029898485,0.47989630640613345,0.22143168182848605,-1.2991726825084755,0.6176639941173101,0.06515220230985896,-0.35503294274916186,0.021268358454269887,-0.006125515278672111,0.47252425435799505,-0.8466608907010247,-0.6837552251606311,0.14203604616544752,0.6750360461654479,-0.9748006304603378,1.0531757859247608,-0.2944757456420044,-0.39414909889357386,0.39940809821358414,0.504431681828486,-0.8319167866047499,1.1932919420691728,-0.6466608907010247,0.5420360461654479,0.00929194206917261,-0.8031036935938665,0.3349198900210353,0.005524254357995417,0.6800596297803483,-0.408800630460338,0.4201757859247608,0.15175656664681902,0.07629194206917278,0.3407801502617227,0.4108744847213277,-0.6299875374494555,-0.46366089070102445,-0.599499329256906,-0.040381411182397464,0.7920360461654479,-1.0575447345566127,0.7288037338766231,0.1882683584542697,-0.048080109978964725,-0.11600935913426014,0.5725242543579956,-0.3319167866047499,-0.4142434333531808,0.2682465367694653,0.09689630640613345,-0.20184779769014138,0.18650243267319055,0.22126835845427006,-0.2756373070861229,0.22001246255054419,-0.5688477976901414,0.9349198900210358,-0.28803294274916214,0.043128618694957765,0.31640809821358395,-0.888032942749162,0.3811522023098588,0.4096185888176027,0.04564041050240775,-0.771032942749162,-0.28861548540131743,0.4827347449620141,0.7226875777322115,0.30066399411730993,-0.39414909889357386,-0.18124343335318116,-0.4848477976901413,0.38775832857691594,0.17252425435799523,-0.018521150941711362,-0.2824993292569058,0.3377583285769159,-0.23610369359386674,0.4388509011064259,-0.5238713813050424,0.2281303806250532,0.05552425435799524,-0.10000935913426012,0.30301246255054437,-0.101265255037986,-0.36759190178641576,-0.018847797690140666,-0.43066089070102453,0.2055242543579956,0.8676639941173101,0.4592919420691728,-0.6050329427491619,0.45678015026172236,0.18524653676946512,-0.28626701696808254,-0.3342652550379859,1.0836639941173103,0.05066399411730993,-0.6418006304603381,0.34815220230985844,0.07143168182848614,0.5800596297803486,0.2481522023098588,-1.076383173112493,-0.3342652550379859,-0.8898713813050425,0.6707583285769161,-0.4799875374494551,-0.5124049947972993,-0.19196395383455211,0.38257142158779933,0.7092919420691728,-0.5235447345566127,0.2187565666468192,-0.12563730708612275,-0.5423831731124933,0.08524653676946525,-0.3537770468454364,0.6336639941173101,0.06431552568407417,-0.08484779769014139,0.08115220230985898,0.8531757859247606,0.5096185888176024,-0.5543595894975919,0.44454783797289776,-0.40252115094171126,0.6336639941173101,-0.15310369359386655,-0.6361036935938666,0.04999064086573979,0.40803604616544753,-0.39573164154572993,0.2281303806250532,0.013896306406133263,-0.10252115094171099,0.5481522023098586,-0.6037770468454366,0.9262919420691724,-0.37873164154573047,0.01666399411731012,-0.018847797690140666,-1.2056154854013172,0.4166639941173105,0.26699064086573987,0.6420360461654475,-0.5636608907010245,0.022524254357994877,-0.8751272772087679,-0.2672652550379859,0.5750360461654473,0.17813038062505315,0.4176639941173099,-0.62873164154573,0.10124653676946527,0.09689630640613345,-1.112568318171514,0.5237801502617225,0.03524653676946521,0.03491989002103546,0.4508273174915245,0.35929194206917314,0.265734744962014,-0.435011121064357,-0.28552115094171127,0.27629194206917296,-0.040381411182397464,-0.06047574564200442,-0.4598932029898486,0.6849198900210358,-0.0249639538345523,0.016408098213584132,0.058036046165447885,0.24203604616544805,0.49705962978034846,0.44940809821358396,0.6630596297803488,0.20710679701015122,-0.44698753744945563,0.3096185888176026,-0.482499329256906,-0.3268932029898486,-0.3598932029898485,0.3336639941173103,-0.15059190178641568,-0.6331726825084751,0.35191989002103563,0.6695024326731907,0.30301246255054437,0.009455265443387262,0.028640410502408287,-0.4944757456420046,-0.3537770468454364,0.039524254357995225,-1.0600565263640633,0.6275478379728976,-0.009893202989848415,0.046896306406133625,-0.07982421407523921,0.8531757859247606,-0.6312434333531804,-0.3592198497382775,0.4214316818284858,0.046896306406133625,-0.36114909889357394,0.1824080982135845,0.742036046165448,0.05426835845427025,-0.6624049947972992,-0.15310369359386655,0.6050142244806413,-0.41366089070102463,0.9519198900210353,-0.1348477976901412,0.5451303806250531,-0.5154993292569063,0.21213038062505318,0.7445478379728976],\"xbins\":{\"end\":1.95,\"size\":0.3,\"start\":-1.95},\"type\":\"histogram\",\"xaxis\":\"x\",\"yaxis\":\"y\"},{\"line\":{\"color\":\"black\",\"dash\":\"dot\",\"width\":2},\"mode\":\"lines\",\"name\":\"Normal Distribution\\u003cbr\\u003e(99.7% of its area)\",\"opacity\":0.5,\"x\":[-1.4867880403088838,-1.4767880403088838,-1.4667880403088838,-1.4567880403088838,-1.4467880403088837,-1.4367880403088837,-1.4267880403088837,-1.4167880403088837,-1.4067880403088837,-1.3967880403088837,-1.3867880403088837,-1.3767880403088837,-1.3667880403088837,-1.3567880403088837,-1.3467880403088837,-1.3367880403088837,-1.3267880403088836,-1.3167880403088836,-1.3067880403088836,-1.2967880403088836,-1.2867880403088836,-1.2767880403088836,-1.2667880403088836,-1.2567880403088836,-1.2467880403088836,-1.2367880403088836,-1.2267880403088836,-1.2167880403088835,-1.2067880403088835,-1.1967880403088835,-1.1867880403088835,-1.1767880403088835,-1.1667880403088835,-1.1567880403088835,-1.1467880403088835,-1.1367880403088835,-1.1267880403088835,-1.1167880403088835,-1.1067880403088834,-1.0967880403088834,-1.0867880403088834,-1.0767880403088834,-1.0667880403088834,-1.0567880403088834,-1.0467880403088834,-1.0367880403088834,-1.0267880403088834,-1.0167880403088834,-1.0067880403088834,-0.9967880403088833,-0.9867880403088833,-0.9767880403088833,-0.9667880403088833,-0.9567880403088833,-0.9467880403088833,-0.9367880403088833,-0.9267880403088833,-0.9167880403088833,-0.9067880403088833,-0.8967880403088833,-0.8867880403088833,-0.8767880403088832,-0.8667880403088832,-0.8567880403088832,-0.8467880403088832,-0.8367880403088832,-0.8267880403088832,-0.8167880403088832,-0.8067880403088832,-0.7967880403088832,-0.7867880403088832,-0.7767880403088832,-0.7667880403088831,-0.7567880403088831,-0.7467880403088831,-0.7367880403088831,-0.7267880403088831,-0.7167880403088831,-0.7067880403088831,-0.6967880403088831,-0.6867880403088831,-0.6767880403088831,-0.6667880403088831,-0.656788040308883,-0.646788040308883,-0.636788040308883,-0.626788040308883,-0.616788040308883,-0.606788040308883,-0.596788040308883,-0.586788040308883,-0.576788040308883,-0.566788040308883,-0.556788040308883,-0.546788040308883,-0.5367880403088829,-0.5267880403088829,-0.5167880403088829,-0.5067880403088829,-0.4967880403088829,-0.4867880403088829,-0.4767880403088829,-0.4667880403088829,-0.45678804030888287,-0.44678804030888286,-0.43678804030888285,-0.42678804030888284,-0.41678804030888283,-0.4067880403088828,-0.3967880403088828,-0.3867880403088828,-0.3767880403088828,-0.3667880403088828,-0.3567880403088828,-0.3467880403088828,-0.33678804030888276,-0.32678804030888275,-0.31678804030888275,-0.30678804030888274,-0.29678804030888273,-0.2867880403088827,-0.2767880403088827,-0.2667880403088827,-0.2567880403088827,-0.24678804030888268,-0.23678804030888267,-0.22678804030888267,-0.21678804030888266,-0.20678804030888265,-0.19678804030888264,-0.18678804030888263,-0.17678804030888262,-0.1667880403088826,-0.1567880403088826,-0.1467880403088826,-0.13678804030888259,-0.12678804030888258,-0.11678804030888257,-0.10678804030888256,-0.09678804030888255,-0.08678804030888254,-0.07678804030888253,-0.06678804030888252,-0.056788040308882515,-0.046788040308882506,-0.0367880403088825,-0.026788040308882488,-0.01678804030888248,-0.00678804030888247,0.0032119596911175385,0.013211959691117547,0.023211959691117556,0.033211959691117565,0.043211959691117574,0.05321195969111758,0.06321195969111759,0.0732119596911176,0.08321195969111761,0.09321195969111762,0.10321195969111763,0.11321195969111764,0.12321195969111765,0.13321195969111765,0.14321195969111766,0.15321195969111767,0.16321195969111768,0.1732119596911177,0.1832119596911177,0.1932119596911177,0.20321195969111772,0.21321195969111773,0.22321195969111773,0.23321195969111774,0.24321195969111775,0.25321195969111776,0.26321195969111777,0.2732119596911178,0.2832119596911178,0.2932119596911178,0.3032119596911178,0.3132119596911178,0.3232119596911178,0.33321195969111783,0.34321195969111784,0.35321195969111785,0.36321195969111786,0.37321195969111787,0.3832119596911179,0.3932119596911179,0.4032119596911179,0.4132119596911179,0.4232119596911179,0.4332119596911179,0.44321195969111793,0.45321195969111794,0.46321195969111795,0.47321195969111796,0.48321195969111796,0.493211959691118,0.503211959691118,0.513211959691118,0.5232119596911178,0.533211959691118,0.5432119596911182,0.553211959691118,0.5632119596911178,0.573211959691118,0.5832119596911183,0.5932119596911181,0.6032119596911178,0.6132119596911181,0.6232119596911183,0.6332119596911181,0.6432119596911179,0.6532119596911181,0.6632119596911183,0.6732119596911181,0.6832119596911179,0.6932119596911182,0.7032119596911184,0.7132119596911182,0.723211959691118,0.7332119596911182,0.7432119596911184,0.7532119596911182,0.763211959691118,0.7732119596911182,0.7832119596911185,0.7932119596911182,0.803211959691118,0.8132119596911183,0.8232119596911185,0.8332119596911183,0.8432119596911181,0.8532119596911183,0.8632119596911185,0.8732119596911183,0.8832119596911181,0.8932119596911183,0.9032119596911186,0.9132119596911183,0.9232119596911181,0.9332119596911184,0.9432119596911186,0.9532119596911184,0.9632119596911182,0.9732119596911184,0.9832119596911186,0.9932119596911184,1.0032119596911182,1.0132119596911184,1.0232119596911187,1.0332119596911185,1.0432119596911182,1.0532119596911185,1.0632119596911187,1.0732119596911185,1.0832119596911183,1.0932119596911185,1.1032119596911187,1.1132119596911185,1.1232119596911183,1.1332119596911185,1.1432119596911188,1.1532119596911186,1.1632119596911183,1.1732119596911186,1.1832119596911188,1.1932119596911186,1.2032119596911184,1.2132119596911186,1.2232119596911188,1.2332119596911186,1.2432119596911184,1.2532119596911186,1.2632119596911189,1.2732119596911187,1.2832119596911185,1.2932119596911187,1.303211959691119,1.3132119596911187,1.3232119596911185,1.3332119596911187,1.343211959691119,1.3532119596911187,1.3632119596911185,1.3732119596911188,1.383211959691119,1.3932119596911188,1.4032119596911186,1.4132119596911188,1.423211959691119,1.4332119596911188,1.4432119596911186,1.4532119596911188,1.463211959691119,1.4732119596911188,1.4832119596911186],\"y\":[0.00894246178698871,0.0094985629926708,0.010085139330619577,0.010703580482900413,0.011355321544649933,0.012041843401162836,0.012764673032018283,0.013525383737039327,0.014325595278791984,0.015166973936257284,0.01605123246424839,0.01698012995310001,0.017955471583126083,0.018979108268329145,0.020052936183848256,0.021178896171655682,0.022358973019054824,0.02359519460459501,0.024889630906104212,0.02624439286564695,0.027661631106346358,0.02914353449616353,0.030692328553907314,0.032310273692952536,0.033999663298376656,0.03576282163348282,0.03760210157196232,0.039519882152262924,0.04151856595107022,0.04360057627317742,0.045768354155416566,0.048024355182748064,0.050371046115059465,0.0528109013237025,0.05534639903730704,0.05798001739694222,0.06071423032125672,0.06355150318281279,0.06649428829743895,0.06954502022905712,0.07270611091309255,0.0759799446022493,0.07936887263912527,0.0828752080608491,0.08650122004164593,0.09024912817997434,0.09412109663762565,0.09811922813893034,0.10224555783898075,0.10650204707054123,0.11089057698008585,0.11541294206416408,0.1200708436180565,0.1248658831094299,0.1297995554904417,0.13487324246246893,0.14008820570833982,0.14544558010763653,0.15094636695129393,0.1565914271723546,0.16238147461034041,0.1683170693272675,0.17439861099386067,0.18062633236500655,0.18700029286392883,0.19352037229496075,0.20018626470512843,0.2069974724150492,0.2139533002398725,0.22105284992116328,0.2282950147907267,0.2356784746874167,0.24320169114793702,0.2508629028925421,0.25866012162637675,0.26659112817694,0.27465346898784043,0.28284445298860844,0.29116114885985184,0.2996003827124888,0.308158736199154,0.3168325450751631,0.32561789822562553,0.33451063717443125,0.34350635608988456,0.35260040230074174,0.361787877335311,0.3710636384951072,0.3804223009733169,0.3898582405270262,0.39936559671079946,0.40893827667776805,0.41856995955290577,0.4282541013816369,0.43798394065533214,0.4477525044136324,0.45755261492186505,0.46737689692013384,0.4772177854389261,0.4870675341743463,0.4969182244143198,0.5067617745053405,0.5165899498475633,0.5263943734042744,0.5361665367100097,0.5458978113598535,0.5555794609607274,0.5652026535237905,0.5747584742754257,0.584237938862672,0.5936320069274151,0.6029315960221411,0.6121275958386306,0.6212108827196001,0.6301723344220118,0.6390028450995677,0.647693340470785,0.656234793138025,0.6646182380219255,0.6728347878748605,0.6808756488363418,0.6887321359926728,0.6963956889026783,0.7038578870509723,0.7111104651899725,0.7181453285317582,0.7249545677508691,0.7315304737592716,0.7378655522149912,0.7439525377262841,0.7497844077137528,0.7553543958934456,0.7606560053447591,0.765683021127852,0.7704295224163058,0.7748898941118979,0.7790588379096136,0.7829313827823864,0.7865028948565334,0.7897690866504297,0.7927260256506427,0.7953701422015149,0.7976982366860432,0.7997074859778309,0.8013954491459038,0.8027600723962538,0.8037996932361049,0.8045130438490847,0.8048992536717066,0.8049578511638367,0.8046887647681022,0.8040923230555123,0.8031692540568712,0.8019206837818952,0.8003481339302431,0.7984535188009783,0.7962391414092461,0.7937076888211965,0.7908622267203744,0.7877061932209665,0.7842433919453702,0.7804779843856054,0.7764144815700321,0.7720577350587347,0.7674129272927289,0.7624855613238599,0.7572814499538684,0.7518067043126246,0.7460677219069269,0.740071174172558,0.7338239935634795,0.7273333602130968,0.7206066882034767,0.7136516114792084,0.7064759694432949,0.6990877922730244,0.6914952859942033,0.6837068173524439,0.6757308985203749,0.6675761716796957,0.6592513935169163,0.6507654196714286,0.6421271891742282,0.6333457089151612,0.6244300381760142,0.6153892732660879,0.6062325322961108,0.5969689401254665,0.587607613516709,0.5781576465302658,0.5686280961910462,0.5590279684574172,0.5493662045216676,0.5396516674696746,0.5298931293260066,0.5200992585091595,0.5102786077200399,0.5004396022851614,0.49059052897435595,0.4807395253110854,0.47089456939170726,0.46106347022829325,0.4512538586278326,0.4414731786188825,0.4317286794349497,0.4220274080621272,0.41237620235676015,0.4027816847371808,0.3932502564518383,0.38378809242448664,0.37440113667544594,0.36509509831635484,0.35587544811427585,0.34674741561952216,0.3377159868501217,0.3287859025244463,0.3199616568322073,0.31124749673276064,0.3026474217684741,0.29416518437978106,0.28580429070750446,0.27756800186705494,0.26945933567821684,0.26148106883341116,0.25363573948658147,0.24592565024419177,0.2383528715392377,0.2309192453686679,0.2236263893741815,0.21647570124602122,0.20946836342910943,0.2026053481106673,0.19588742246833754,0.18931515415777153,0.18288891701866156,0.17660889697827364,0.17047509813168293,0.16448734897812275,0.1586453087931246,0.15294847411644463,0.14739618533614693,0.14198763334964218,0.13672186628294727,0.13159779624994464,0.12661420613397403,0.1217697563746788,0.11706299174365112,0.11249234809307007,0.10805615906220402,0.1037526627273489,0.09958000818149236,0.09553626203072738,0.09161941479518372,0.08782738720300526,0.08415803636666092,0.0806091618316419,0.07717851148836448,0.07386378733885987,0.07066265111059329,0.06757272971050157,0.06459162051308073,0.061716896477084705,0.0589461110861084,0.056276803109029334,0.05370650117695798,0.05123272817401128,0.0488530054398622,0.04656485678263391,0.044365812301301655,0.04225341201733331,0.04022520931584459,0.038278774197059384,0.036411696339356474,0.03462158797564673,0.032906086585260175,0.031262857403927764,0.02968959575482191,0.028184029203971502,0.026743919543689314,0.025367064607944856,0.024051299923883288,0.022794500203932797,0.021594580683157255,0.020449498306698975,0.019357252772320598,0.018315887433194337,0.01732349006620243,0.01637819351110497,0.015478176186002276,0.014621662484569118,0.01380692306056762,0.013032275005156508,0.012296081922506736,0.011596753909209586,0.010932747442923007,0.010302565185646198,0.009704755706943615,0.00913791313235708],\"type\":\"scatter\",\"xaxis\":\"x\",\"yaxis\":\"y\"},{\"histnorm\":\"probability density\",\"name\":\"\\u003cbr\\u003eModel 2:\\u003cbr\\u003eShort Wait Data\",\"x\":[-0.2728449495022891,-0.01901882147787548,0.781508316500763,-0.036904747511444125,-0.23984494950228918,-0.12231781152365073,0.15144851849160723,-0.5520188214778754,-0.4155514815083925,-0.18690474751144404,-0.12231781152365073,-0.1344916834992369,0.9503942425343315,0.0014485184916073202,-0.03396454552059902,-0.3830786194870306,-0.30443188549008227,-0.4374318854900823,1.4736877105282282,0.05580178449465967,-0.21607861948703055,-0.23984494950228918,-0.33984494950228905,-0.6923122894717721,0.01692138051296954,-0.15096454552059901,-0.4277253534839789,-0.3209590234687205,-0.16313841749618563,-0.3190188214778753,-0.22772535348397893,0.24504097653127932,0.2660354544794008,-0.04472535348397866,-0.09125801351449558,-0.49766555547482416,-0.11990474751144409,0.1809811785221247,0.1703887204824528,-0.0053178115236507395,-0.23255148150839267,0.08392138051296927,-0.5160786194870306,0.3587419864855046,-0.3990786194870306,0.5728017844946596,-0.16313841749618563,0.10197565647024609,0.16550831650076292,0.051975656470246046,0.6698615825038141,-0.010671077526702488,-0.10390474751144407,-0.011198215505340503,-0.01172535348397874,-0.23307861948703046,0.08738872048245261,-0.24419821550534038,0.012040976531279224,-0.24419821550534038,0.38497565647024623,-0.18743188549008227,1.0833942425343315,0.03633444452517587,-0.08255148150839253,-0.012611279517547258,-0.0757851514931338,0.45874198648550424,-0.21849168349923698,0.04609525248855584,-0.010671077526702488,0.08150831650076329,-0.32578515149313403,0.2630952524885559,-0.14472535348397875,-0.17719821550534043,-0.06067107752670253,0.003388720482452756,-0.0626112795175473,1.0576877105282279,0.3558017844946595,-0.10149168349923698,-0.09125801351449558,-0.32284494950228915,0.34415505049771067,0.2587419864855045,-0.18984494950228914,-0.22284494950228906,-0.026312289471771777,0.47768218847634936,0.5693344445251758,-0.0757851514931338,-0.31225249146261724,0.12715505049771103,-0.1301384174961857,-0.3374318854900822,0.2252691244641427,0.005274646516021164,0.30632892247329746,-0.026671077526702502],\"xbins\":{\"end\":1.9,\"size\":0.2,\"start\":-1.9},\"type\":\"histogram\",\"xaxis\":\"x2\",\"yaxis\":\"y2\"},{\"line\":{\"color\":\"black\",\"dash\":\"dot\",\"width\":2},\"mode\":\"lines\",\"name\":\"Normal Distribution\\u003cbr\\u003e(99.7% of its area)\",\"opacity\":0.5,\"x\":[-1.0704403921739747,-1.0604403921739747,-1.0504403921739747,-1.0404403921739747,-1.0304403921739747,-1.0204403921739746,-1.0104403921739746,-1.0004403921739746,-0.9904403921739746,-0.9804403921739746,-0.9704403921739746,-0.9604403921739746,-0.9504403921739746,-0.9404403921739746,-0.9304403921739746,-0.9204403921739746,-0.9104403921739745,-0.9004403921739745,-0.8904403921739745,-0.8804403921739745,-0.8704403921739745,-0.8604403921739745,-0.8504403921739745,-0.8404403921739745,-0.8304403921739745,-0.8204403921739745,-0.8104403921739745,-0.8004403921739744,-0.7904403921739744,-0.7804403921739744,-0.7704403921739744,-0.7604403921739744,-0.7504403921739744,-0.7404403921739744,-0.7304403921739744,-0.7204403921739744,-0.7104403921739744,-0.7004403921739744,-0.6904403921739743,-0.6804403921739743,-0.6704403921739743,-0.6604403921739743,-0.6504403921739743,-0.6404403921739743,-0.6304403921739743,-0.6204403921739743,-0.6104403921739743,-0.6004403921739743,-0.5904403921739743,-0.5804403921739743,-0.5704403921739742,-0.5604403921739742,-0.5504403921739742,-0.5404403921739742,-0.5304403921739742,-0.5204403921739742,-0.5104403921739742,-0.5004403921739742,-0.49044039217397417,-0.48044039217397416,-0.47044039217397415,-0.46044039217397414,-0.45044039217397414,-0.4404403921739741,-0.4304403921739741,-0.4204403921739741,-0.4104403921739741,-0.4004403921739741,-0.3904403921739741,-0.3804403921739741,-0.37044039217397406,-0.36044039217397406,-0.35044039217397405,-0.34044039217397404,-0.33044039217397403,-0.320440392173974,-0.310440392173974,-0.300440392173974,-0.290440392173974,-0.280440392173974,-0.270440392173974,-0.26044039217397397,-0.25044039217397396,-0.24044039217397395,-0.23044039217397394,-0.22044039217397393,-0.21044039217397392,-0.2004403921739739,-0.1904403921739739,-0.1804403921739739,-0.1704403921739739,-0.16044039217397388,-0.15044039217397387,-0.14044039217397386,-0.13044039217397385,-0.12044039217397384,-0.11044039217397383,-0.10044039217397382,-0.09044039217397382,-0.08044039217397381,-0.0704403921739738,-0.06044039217397379,-0.05044039217397378,-0.04044039217397377,-0.030440392173973763,-0.020440392173973754,-0.010440392173973745,-0.000440392173973736,0.009559607826026273,0.019559607826026282,0.02955960782602629,0.0395596078260263,0.04955960782602631,0.05955960782602632,0.06955960782602633,0.07955960782602634,0.08955960782602634,0.09955960782602635,0.10955960782602636,0.11955960782602637,0.12955960782602638,0.1395596078260264,0.1495596078260264,0.1595596078260264,0.16955960782602642,0.17955960782602642,0.18955960782602643,0.19955960782602644,0.20955960782602645,0.21955960782602646,0.22955960782602647,0.23955960782602648,0.24955960782602649,0.2595596078260265,0.2695596078260265,0.2795596078260265,0.2895596078260265,0.29955960782602653,0.30955960782602654,0.31955960782602655,0.32955960782602656,0.33955960782602657,0.3495596078260266,0.3595596078260266,0.3695596078260266,0.3795596078260266,0.3895596078260266,0.3995596078260266,0.40955960782602663,0.41955960782602664,0.42955960782602665,0.43955960782602665,0.44955960782602666,0.4595596078260267,0.4695596078260267,0.4795596078260267,0.4895596078260267,0.4995596078260267,0.5095596078260267,0.5195596078260267,0.5295596078260267,0.5395596078260267,0.5495596078260268,0.5595596078260268,0.5695596078260268,0.5795596078260268,0.5895596078260268,0.5995596078260268,0.6095596078260268,0.6195596078260268,0.6295596078260268,0.6395596078260268,0.6495596078260268,0.6595596078260269,0.6695596078260269,0.6795596078260269,0.6895596078260269,0.6995596078260269,0.7095596078260269,0.7195596078260269,0.7295596078260269,0.7395596078260269,0.7495596078260269,0.7595596078260269,0.769559607826027,0.779559607826027,0.789559607826027,0.799559607826027,0.809559607826027,0.819559607826027,0.829559607826027,0.839559607826027,0.849559607826027,0.859559607826027,0.869559607826027,0.879559607826027,0.889559607826027,0.8995596078260271,0.9095596078260271,0.9195596078260271,0.9295596078260271,0.9395596078260269,0.9495596078260271,0.9595596078260273,0.9695596078260271,0.9795596078260269,0.9895596078260271,0.9995596078260274,1.0095596078260272,1.019559607826027,1.0295596078260272,1.0395596078260274,1.0495596078260272,1.059559607826027,1.0695596078260272],\"y\":[0.012420631109418306,0.013504780175778502,0.014672031792325317,0.015927656595499502,0.01727716146663162,0.01872629172328189,0.020281032522109183,0.021947609399609814,0.023732487875793233,0.02564237204496903,0.02768420207735114,0.02986515055517363,0.032192617567500525,0.03467422448893262,0.037317806369004045,0.04013140286125552,0.04312324762379546,0.04630175612665087,0.0496755118053835,0.05325325050533244,0.057043843166454514,0.06105627670508115,0.06529963305600929,0.06978306634618343,0.07451577817981947,0.07950699102413968,0.0847659196949335,0.0903017409518927,0.09612356122506618,0.10224038250580794,0.10866106644818779,0.11539429673996712,0.1224485398158243,0.1298320039995055,0.1375525971758721,0.14561788310834692,0.15403503653194187,0.1628107971667574,0.1719514228115074,0.18146264169109871,0.19134960424649697,0.20161683456889695,0.21226818169347664,0.22330677098062046,0.2347349558243194,0.2465542699383671,0.25876538048084774,0.27136804228611855,0.28436105348091645,0.29774221276723256,0.3115082786590997,0.3256549309633019,0.3401767347951701,0.35506710741994396,0.3703182882076231,0.3859213119846894,0.40186598605953905,0.41814087118983795,0.43473326674932183,0.45162920033874787,0.468813422070812,0.4862694037418668,0.5039793430842631,0.5219241732721542,0.5400835778307056,0.5584360110739486,0.5769587241701182,0.5956277969053391,0.6144181751871235,0.6333037142984878,0.6522572278817402,0.6712505425983614,0.6902545583780583,0.7092393141362888,0.7281740588055022,0.7470273274913017,0.765767022530926,0.7843604991981278,0.8027746557659446,0.8209760276072671,0.838930884982761,0.8566053341368456,0.8739654212952896,0.8909772391328464,0.907607035256352,0.9238213222281524,0.9395869886367414,0.9548714107062836,0.9696425639244389,0.9838691341587037,0.9975206277255035,1.0105674798735635,1.0229811611437496,1.0347342810716482,1.0458006887066562,1.0561555694322782,1.0657755375866418,1.0746387243998872,1.082724860785963,1.0900153545503677,1.096493361602359,1.1021438507899646,1.1069536620085483,1.1109115572685582,1.1140082644450953,1.1162365134709313,1.1175910647752458,1.118068729812373,1.117668383567988,1.1163909689740785,1.1142394932084454,1.111219015899067,1.1073366292980782,1.1026014305341034,1.0970244860948863,1.0906187887342946,1.0833992070385678,1.0753824279257898,1.0665868923898008,1.0570327248348081,1.0467416563796115,1.0357369425404068,1.0240432757283666,1.0116866930224788,0.9986944796992733,0.9850950690190063,0.9709179387824799,0.9561935051838977,0.9409530144929685,0.925228433103845,0.9090523364894398,0.8924577975972681,0.8754782752172487,0.8581475028429896,0.8404993785360774,0.8225678562879473,0.804386839356159,0.7859900760315562,0.7674110582700192,0.7486829235975306,0.7298383606703274,0.7109095188431792,0.6919279220686207,0.6729243874184632,0.6539289484864143,0.6349707838973658,0.6160781511151352,0.5972783257064115,0.5785975461846125,0.5600609645235204,0.5416926023971945,0.523515313169946,0.5055507496283259,0.48781933741631234,0.4703402541053693,0.45313141380293925,0.4362094571763901,0.4195897467445769,0.40328636726612277,0.3873121310323647,0.3716785878537229,0.3563960395110913,0.3414735584287719,0.3269190103124753,0.3127390804850298,0.29893930364363913,0.28552409675579976,0.27249679480627653,0.2598596891048018,0.2476140678633232,0.2357602587526173,0.22429767315080343,0.2132248518006569,0.20253951159850428,0.19223859324478804,0.18231830949499161,0.17277419375939163,0.1636011488109291,0.1547934953722415,0.14634502036543617,0.1382490246213965,0.13049836985915775,0.12308552476005626,0.1160026099758202,0.10924144192440821,0.10279357524212657,0.09665034377522802,0.09080290000875012,0.08524225284467331,0.0799593036554913,0.07494488055291805,0.07018977082461987,0.06568475150451777,0.06142061805427547,0.05738821114504829,0.053578441539361844,0.04998231308309184,0.046590943826906116,0.04339558530518182,0.0403876400083222,0.03755867709155749,0.03490044636972953,0.03240489065323488,0.030064156485249002,0.02787060334458962,0.025816811382127457,0.02389558776153571,0.022099971677415814,0.020423238125479963,0.018858900500540288,0.017400712098587956,0.01604266659927632,0.014778997604691844,0.013604177309440801,0.012512914375838038],\"type\":\"scatter\",\"xaxis\":\"x2\",\"yaxis\":\"y2\"},{\"histnorm\":\"probability density\",\"name\":\"\\u003cbr\\u003eModel 3:\\u003cbr\\u003eLong Wait Data\",\"x\":[-0.6667863519675481,-0.812592970483804,0.12078159025195845,0.21506556136171184,-0.8122184097480418,-0.06221840974804227,-0.4709797334512924,-0.0425476756707992,0.33625894284545677,0.4120202665487076,-0.016786351967548185,-0.7925476756707992,-0.95739958900006,0.3874070295161962,-0.7637410571545433,-0.11107032307730158,-0.3925476756707993,0.16621364803245164,0.17864570581294448,0.24869100062594907,-0.25802502826429663,-0.31259297048380397,0.5419749717357032,0.24958820876821441,0.05897497173570265,0.17902026654870795,0.411645705812945,-1.0467410571545432,0.2934976191422054,0.6301683532194469,0.18258820876821424,0.5419749717357032,0.5192589428454566,-0.35587694159355765,0.3486910006259496,0.0017362954389543717,0.11202026654870778,0.4604976191422052,-0.1818891438252841,-0.07554767567079956,0.4574523243292008,0.5786457058129448,-0.30650238085779424,0.23321364803245181,-0.07287694159355773,0.8729296769226984,0.3244523243292008,-0.31107032307730176,-0.7637410571545433,-0.03683164678055295,-0.006502380857794421,0.05136173470319072,-0.054354294187055174,0.4480655613617115,-0.2440703230773016,0.22597497173570336,-0.4364570860447907,-0.20041179123178576,0.5744523243292008,0.20288438210969328,0.2790202665487076,-0.41983164678055296,0.5604976191422057,-0.11793443863828834,0.1362589428454566,-0.265263704561046,0.31202026654870796,0.4135429139552089,-0.632263704561046,0.5631683532194476,0.3908268850649632,0.15021364803245163,0.3177362954389542,0.18778159025195773,-0.04369576234153971,0.04260041099994005,0.03169100062594943,0.11506556136171131,-0.5482637045610459,0.1604976191422054,0.11658820876821441,-0.1967410571545436,-0.17617311493503696,0.0434976191422054,0.4965429139552091,-0.5337863519675481,-0.08226370456104526,0.19349761914220576,0.5986910006259496,0.13892967692269842,0.341974971735703,0.42115615098771997,0.8146910006259498,-0.21830899937405057,0.28473629543895385,-0.5058769415935576,-0.048638265296808925,0.1847362954389542,-0.5231278201220331,-0.5421731149350371,-0.28645708604479037,-0.4095476756707992,0.3889296769226984,0.5150655613617117,0.010872179877966737,0.3646910006259496,-0.6671609127033111,-0.14826370456104598,0.017736295438954386,0.37864570581294466,-0.4122184097480419,0.021407029516195664,0.3646910006259496,-0.11374105715454341,-0.5967410571545435,0.19045232432920045,-0.30497973345129203,0.0532589428454564,0.484736295438954,0.6059296769226981,-0.2879797334512926,-0.2523089993740504,-0.08226370456104526,-0.9606957623415395,0.14769100062594998,0.42445232432920044,0.010497619142205039,-0.42465046752853475,0.35745232432920027,0.14869100062594942,-0.5379797334512921,0.1362589428454566,-1.6898769415935577,0.4089749717357032,-0.3368316467805528,0.038929676922698775,0.16963350358121776,-0.04407032307730141,-0.07250238085779426,0.3131683532194476,-0.24254767567079938,-0.1497863519675482,-0.1595476756707992,0.02445232432920097,-0.1316382652968091,0.28321364803245164,0.03436173470319126,-0.2534570860447909,-0.08341179123178577,0.06469100062594979,-0.316786351967548,-0.019831646780552603,0.4965429139552091,0.17078159025195827,-0.5065023808577944,0.027497619142205387,0.2044070295161955,0.08625894284545677,-0.5543542941870552,0.37864570581294466,-0.334934438638288,-0.4740250282642968,-0.15587694159355792,0.08625894284545677,0.016213648032452177,0.524452324329201,0.14502026654870814,-0.11374105715454341,0.580168353219447,-0.1982637045610458,-0.11641179123178613,0.3214070295161955],\"xbins\":{\"end\":1.95,\"size\":0.3,\"start\":-1.95},\"type\":\"histogram\",\"xaxis\":\"x3\",\"yaxis\":\"y3\"},{\"line\":{\"color\":\"black\",\"dash\":\"dot\",\"width\":2},\"mode\":\"lines\",\"name\":\"Normal Distribution\\u003cbr\\u003e(99.7% of its area)\",\"opacity\":0.5,\"x\":[-1.2001917398656037,-1.1901917398656037,-1.1801917398656037,-1.1701917398656037,-1.1601917398656036,-1.1501917398656036,-1.1401917398656036,-1.1301917398656036,-1.1201917398656036,-1.1101917398656036,-1.1001917398656036,-1.0901917398656036,-1.0801917398656036,-1.0701917398656036,-1.0601917398656036,-1.0501917398656035,-1.0401917398656035,-1.0301917398656035,-1.0201917398656035,-1.0101917398656035,-1.0001917398656035,-0.9901917398656035,-0.9801917398656035,-0.9701917398656035,-0.9601917398656035,-0.9501917398656035,-0.9401917398656034,-0.9301917398656034,-0.9201917398656034,-0.9101917398656034,-0.9001917398656034,-0.8901917398656034,-0.8801917398656034,-0.8701917398656034,-0.8601917398656034,-0.8501917398656034,-0.8401917398656034,-0.8301917398656034,-0.8201917398656033,-0.8101917398656033,-0.8001917398656033,-0.7901917398656033,-0.7801917398656033,-0.7701917398656033,-0.7601917398656033,-0.7501917398656033,-0.7401917398656033,-0.7301917398656033,-0.7201917398656033,-0.7101917398656032,-0.7001917398656032,-0.6901917398656032,-0.6801917398656032,-0.6701917398656032,-0.6601917398656032,-0.6501917398656032,-0.6401917398656032,-0.6301917398656032,-0.6201917398656032,-0.6101917398656032,-0.6001917398656031,-0.5901917398656031,-0.5801917398656031,-0.5701917398656031,-0.5601917398656031,-0.5501917398656031,-0.5401917398656031,-0.5301917398656031,-0.5201917398656031,-0.5101917398656031,-0.5001917398656031,-0.49019173986560305,-0.48019173986560304,-0.47019173986560303,-0.460191739865603,-0.450191739865603,-0.440191739865603,-0.430191739865603,-0.420191739865603,-0.410191739865603,-0.40019173986560297,-0.39019173986560296,-0.38019173986560295,-0.37019173986560294,-0.36019173986560293,-0.3501917398656029,-0.3401917398656029,-0.3301917398656029,-0.3201917398656029,-0.3101917398656029,-0.3001917398656029,-0.29019173986560287,-0.28019173986560286,-0.27019173986560285,-0.26019173986560284,-0.25019173986560284,-0.24019173986560283,-0.23019173986560282,-0.2201917398656028,-0.2101917398656028,-0.2001917398656028,-0.19019173986560278,-0.18019173986560277,-0.17019173986560276,-0.16019173986560276,-0.15019173986560275,-0.14019173986560274,-0.13019173986560273,-0.12019173986560272,-0.11019173986560271,-0.1001917398656027,-0.0901917398656027,-0.08019173986560268,-0.07019173986560268,-0.06019173986560267,-0.05019173986560266,-0.04019173986560265,-0.03019173986560264,-0.02019173986560263,-0.010191739865602623,-0.0001917398656026137,0.009808260134397395,0.019808260134397404,0.029808260134397413,0.03980826013439742,0.04980826013439743,0.05980826013439744,0.06980826013439745,0.07980826013439746,0.08980826013439747,0.09980826013439748,0.10980826013439748,0.11980826013439749,0.1298082601343975,0.1398082601343975,0.14980826013439752,0.15980826013439753,0.16980826013439754,0.17980826013439755,0.18980826013439756,0.19980826013439756,0.20980826013439757,0.21980826013439758,0.2298082601343976,0.2398082601343976,0.2498082601343976,0.2598082601343976,0.2698082601343976,0.27980826013439763,0.28980826013439764,0.29980826013439765,0.30980826013439766,0.31980826013439767,0.3298082601343977,0.3398082601343977,0.3498082601343977,0.3598082601343977,0.3698082601343977,0.3798082601343977,0.38980826013439773,0.39980826013439774,0.40980826013439775,0.41980826013439776,0.42980826013439777,0.4398082601343978,0.4498082601343978,0.4598082601343978,0.4698082601343978,0.4798082601343978,0.4898082601343978,0.49980826013439783,0.5098082601343978,0.5198082601343978,0.5298082601343979,0.5398082601343979,0.5498082601343979,0.5598082601343979,0.5698082601343979,0.5798082601343979,0.5898082601343979,0.5998082601343979,0.6098082601343979,0.6198082601343979,0.629808260134398,0.639808260134398,0.649808260134398,0.659808260134398,0.669808260134398,0.679808260134398,0.689808260134398,0.699808260134398,0.709808260134398,0.719808260134398,0.729808260134398,0.739808260134398,0.749808260134398,0.7598082601343981,0.7698082601343981,0.7798082601343981,0.7898082601343981,0.7998082601343981,0.8098082601343979,0.8198082601343981,0.8298082601343983,0.8398082601343981,0.8498082601343979,0.8598082601343982,0.8698082601343984,0.8798082601343982,0.889808260134398,0.8998082601343982,0.9098082601343984,0.9198082601343982,0.929808260134398,0.9398082601343982,0.9498082601343985,0.9598082601343982,0.969808260134398,0.9798082601343983,0.9898082601343985,0.9998082601343983,1.009808260134398,1.0198082601343983,1.0298082601343985,1.0398082601343983,1.049808260134398,1.0598082601343983,1.0698082601343986,1.0798082601343983,1.0898082601343981,1.0998082601343984,1.1098082601343986,1.1198082601343984,1.1298082601343982,1.1398082601343984,1.1498082601343986,1.1598082601343984,1.1698082601343982,1.1798082601343984,1.1898082601343987,1.1998082601343985],\"y\":[0.01107785097513073,0.011936767291585413,0.012854245461727268,0.013833596469486209,0.014878264318439234,0.01599182723736176,0.017177998542422742,0.018440627126752183,0.019783697547599195,0.021211329680903352,0.022727777912834528,0.024337429837726358,0.026044804431846764,0.027854549672627196,0.029771439573320364,0.031800370603583296,0.033946357467200226,0.03621452820907491,0.03861011862474518,0.04113846594700855,0.04380500178580721,0.04661524429930547,0.049574789576110105,0.05268930221083767,0.05596450505772159,0.05940616814968366,0.06302009677325807,0.06681211869296201,0.07078807052213985,0.07495378324096999,0.07931506686620324,0.08387769428129206,0.0886473842398596,0.09362978355993065,0.09883044853099378,0.10425482556076204,0.10990823109343446,0.11579583083630791,0.12192261833672839,0.12829339295657768,0.13491273729673434,0.14178499412920986,0.14891424289989763,0.15630427587006657,0.16395857396984023,0.17188028244189818,0.18007218635848318,0.18853668609945798,0.197275772883599,0.20629100444949422,0.2155834809863072,0.2251538214182272,0.23500214014962345,0.24512802438071457,0.2555305121059251,0.26620807090899595,0.2771585776703035,0.2883792993027125,0.29986687463259076,0.31161729754234363,0.32362590148994486,0.33588734551944077,0.34839560187426294,0.36114394532238614,0.37412494429891346,0.38733045396754373,0.4007516112975792,0.41437883224766847,0.42820181114136036,0.4422095223127704,0.4563902240932585,0.47073146520200326,0.4852200935947557,0.49984226781589897,0.5145834708892567,0.5294285267729301,0.5443616193928413,0.559366314258654,0.5744255826544101,0.5895218283845806,0.6046369170443766,0.619752207771134,0.6348485874214469,0.649906507106558,0.664906021006367,0.6798268273703697,0.6946483116019709,0.709349591310979,0.7239095632077699,0.7383069517016739,0.75252035905566,0.7665283169394378,0.780309339213735,0.7938419757698062,0.8071048672402369,0.82007680038991,0.8327367639896214,0.8450640049693435,0.8570380846435847,0.8686389347976944,0.8798469134213959,0.8906428598742795,0.9010081492675108,0.9109247458466035,0.9203752551617949,0.9293429748153383,0.9378119435788994,0.9457669886791906,0.9531937710559981,0.9600788284038083,0.966409615816311,0.9721745438621011,0.9773630139298712,0.9819654506922486,0.9859733315491144,0.9893792129236905,0.9921767532978379,0.9943607328867855,0.9959270698678544,0.9968728330925514,0.9971962512266195,0.9968967182781505,0.9959747954896143,0.9944322095855321,0.9922718473834562,0.9894977467917947,0.9861150842337745,0.9821301585523667,0.9775503714662229,0.9723842046614977,0.9666411936187985,0.9603318982883026,0.9534678707392612,0.946061619922592,0.9381265736969716,0.9296770382797366,0.9207281552939033,0.9112958565917038,0.9013968170431353,0.8910484054851228,0.8802686340329434,0.8690761059605601,0.8574899623604209,0.8455298277960966,0.8332157551628678,0.8205681699719999,0.8076078142740098,0.7943556904347292,0.7808330049754213,0.7670611126846667,0.7530614612052087,0.7388555362934983,0.7244648079433339,0.7099106775578194,0.6952144263459082,0.6803971651111199,0.6654797855906788,0.6504829134933953,0.6354268633741416,0.6203315954718674,0.605216674626781,0.590101231380711,0.5750039253527902,0.5599429109705644,0.5449358056244877,0.5299996603015948,0.5151509327419979,0.5004054631498248,0.4857784524783483,0.47128444329741015,0.4569373032398975,0.44275021101300915,0.42873564494942973,0.4149053740633516,0.4012704515665782,0.3878412107907681,0.37462726345325364,0.3616375001958318,0.34888009331849656,0.3363625016232869,0.324091477277277,0.3120730745982486,0.3003126606617599,0.28881492762417804,0.2775839066527574,0.26662298335102186,0.25593491456554796,0.24552184645871425,0.23538533373108533,0.22552635987679812,0.21594535835560713,0.20664223456608705,0.19761638850586608,0.18886673800663434,0.1803917424340193,0.1721894267451945,0.16425740580027243,0.15659290882707613,0.14919280394276863,0.1420536226399863,0.1351715841495582,0.1285426195965456,0.12216239587117514,0.11602633914123435,0.11012965793759381,0.10446736574972315,0.09903430307329797,0.09382515885725563,0.0888344913029037,0.08405674797289288,0.07948628517301196,0.0751173865748084,0.07094428105198011,0.06696115970828968,0.06316219207940252,0.059541541495532944,0.056093379596075486,0.05281189999150238,0.04969133107169192,0.04672594796352437,0.04391008364402492,0.04123813921854444,0.03870459337644804,0.036304011039515256,0.034031051220757155,0.03188047411361898,0.029847147433561413,0.02792605203580825,0.0261122868346155,0.024401073050762053,0.02278775781509351,0.021267817156873398,0.01983685840641959,0.018490622042040984,0.017224983011641905,0.016035951559547058,0.014919673589123711,0.013872430591653828,0.012890639171646243,0.011970850198387747,0.011109747613026095],\"type\":\"scatter\",\"xaxis\":\"x3\",\"yaxis\":\"y3\"},{\"histnorm\":\"probability density\",\"name\":\"\\u003cbr\\u003eModel 4:\\u003cbr\\u003eAll Data using indicator\",\"x\":[-0.6979302325581407,-0.2943300000000002,-0.9649302325581406,0.18866999999999967,0.2350697674418596,0.7886699999999998,0.4020697674418594,-0.6979302325581407,-0.1443300000000003,0.05206976744185887,-0.2613300000000003,-0.38093023255814096,-0.0979302325581406,-0.34433000000000025,0.4020697674418594,0.07266999999999957,-0.34433000000000025,0.502069767441859,-0.49433000000000016,-0.04793023255814077,-0.2943300000000002,-0.34433000000000025,-0.8479302325581406,-1.2309302325581406,0.2350697674418596,-0.6979302325581407,-0.12733000000000017,-0.2149302325581406,-0.4479302325581407,0.13506976744185906,0.0020697674418590495,0.16906976744185886,1.2726699999999997,-0.2649302325581404,-0.4649302325581406,-0.07733000000000034,-0.22733000000000025,0.5350697674418594,-0.2613300000000003,0.4850697674418596,0.05206976744185887,-0.21133000000000024,0.2690697674418594,-0.34433000000000025,0.2350697674418596,-0.9809302325581406,1.73867,0.005669999999999842,0.33506976744185923,-0.09433000000000025,0.502069767441859,0.4180697674418594,-0.2613300000000003,0.5350697674418594,-0.36133000000000015,0.5850697674418592,-0.5809302325581407,-0.42733000000000043,0.2690697674418594,0.019069767441859398,0.13866999999999985,0.20206976744185923,-0.34433000000000025,0.502069767441859,-0.2773300000000003,0.10206976744185958,-0.13093023255814096,0.4020697674418594,-0.027330000000000076,0.4020697674418594,-0.2649302325581404,-0.12733000000000017,0.20206976744185923,-0.2979302325581408,-0.11133000000000015,0.7690697674418594,-0.07733000000000034,0.2690697674418594,-0.41493023255814077,-0.6979302325581407,-0.16493023255814077,0.03506976744185941,-0.19793023255814113,0.5386699999999998,-0.2309302325581406,0.6350697674418591,-0.3479302325581406,0.21906976744185958,0.07266999999999957,-0.2979302325581408,0.10566999999999993,0.03506976744185941,-0.22733000000000025,0.5190697674418594,-0.2613300000000003,0.0020697674418590495,0.36906976744185904,-0.5479302325581408,-0.22733000000000025,0.6020697674418596,0.38866999999999985,0.06906976744185922,0.005669999999999842,0.20206976744185923,-0.24793023255814095,-0.22733000000000025,0.4020697674418594,-0.31133000000000033,0.5520697674418589,-0.6149302325581409,0.43506976744185977,0.20566999999999958,0.6020697674418596,0.11906976744185904,-0.3943300000000003,0.33506976744185923,0.22266999999999992,0.30206976744185887,-0.2773300000000003,0.11906976744185904,0.5226699999999997,-0.2309302325581406,-0.04793023255814077,-0.12733000000000017,0.30206976744185887,-0.5309302325581409,-0.1773300000000002,0.20206976744185923,0.17266999999999966,0.3520697674418596,-0.22733000000000025,-0.13093023255814096,0.7056699999999996,0.03506976744185941,-0.2613300000000003,0.08506976744185923,-0.21133000000000024,0.6350697674418591,-0.06133000000000033,-0.5649302325581407,-0.06493023255814023,0.13866999999999985,0.2350697674418596,0.5190697674418594,0.03506976744185941,-0.11133000000000015,0.33506976744185923,-0.07733000000000034,0.8020697674418589,-0.2943300000000002,0.7350697674418596,-0.2979302325581408,0.30566999999999966,0.30206976744185887,-0.7309302325581406,-0.2979302325581408,0.20206976744185923,-0.2149302325581406,-0.2943300000000002,-0.3309302325581407,0.10566999999999993,-0.14793023255814042,-0.09433000000000025,-0.4649302325581406,1.4056699999999998,0.2850697674418594,0.27266999999999975,0.7020697674418592,-0.1613300000000002,0.3190697674418592,-0.1773300000000002,-0.011330000000000062,0.2850697674418594,-0.9649302325581406,-0.13093023255814096,0.03506976744185941,0.20206976744185923,0.32266999999999957,-0.2979302325581408,-0.13093023255814096,-0.21133000000000024,0.2850697674418594,-0.04793023255814077,-0.5309302325581409,-0.06133000000000033,0.13506976744185906,-0.2149302325581406,-0.2613300000000003,0.11906976744185904,0.08867000000000003,0.502069767441859,-0.2613300000000003,0.502069767441859,-0.19793023255814113,-0.3319302325581406,-0.06493023255814023,-0.7979302325581408,0.06806976744185977,0.15566999999999975,0.36906976744185904,0.005669999999999842,0.05206976744185887,-0.16493023255814077,-0.22733000000000025,0.30206976744185887,-0.31133000000000033,0.06906976744185922,-0.4479302325581407,-0.1613300000000002,0.20206976744185923,-1.9149302325581408,0.4020697674418594,-0.22733000000000025,-0.4649302325581406,1.3226699999999996,-0.06493023255814023,0.30566999999999966,0.502069767441859,-0.09433000000000025,-0.14793023255814042,-0.22733000000000025,-0.030930232558140425,-0.34433000000000025,0.18506976744185977,-0.2979302325581408,-0.18093023255814078,-0.2149302325581406,-0.030930232558140425,-0.38093023255814096,0.25206976744185905,-0.2149302325581406,0.32266999999999957,-0.11493023255814094,0.12266999999999983,0.1520697674418594,-0.21133000000000024,-0.24433000000000016,-0.01493023255814041,-0.3479302325581406,0.23866999999999994,-0.14793023255814042,0.25566999999999984,0.6350697674418591,0.8056699999999997,0.2850697674418594,-0.4649302325581406,-0.011330000000000062,0.06906976744185922,0.03866999999999976,0.05206976744185887,0.10566999999999993,0.1520697674418594,-0.7309302325581406,0.20206976744185923,-0.14793023255814042,-0.4809302325581406,-0.38093023255814096,0.1520697674418594,-0.09433000000000025,-0.01493023255814041,0.4690697674418596,0.2350697674418596,-0.24433000000000016,-0.04793023255814077,-0.11133000000000015,0.15566999999999975,0.4520697674418592,-0.18093023255814078,0.055669999999999664,0.11906976744185904,-0.2773300000000003,0.16906976744185886],\"xbins\":{\"end\":1.95,\"size\":0.3,\"start\":-1.95},\"type\":\"histogram\",\"xaxis\":\"x4\",\"yaxis\":\"y4\"},{\"line\":{\"color\":\"black\",\"dash\":\"dot\",\"width\":2},\"mode\":\"lines\",\"name\":\"Normal Distribution\\u003cbr\\u003e(99.7% of its area)\",\"opacity\":0.5,\"x\":[-1.2356963309582187,-1.2256963309582187,-1.2156963309582187,-1.2056963309582187,-1.1956963309582187,-1.1856963309582187,-1.1756963309582187,-1.1656963309582187,-1.1556963309582187,-1.1456963309582187,-1.1356963309582186,-1.1256963309582186,-1.1156963309582186,-1.1056963309582186,-1.0956963309582186,-1.0856963309582186,-1.0756963309582186,-1.0656963309582186,-1.0556963309582186,-1.0456963309582186,-1.0356963309582186,-1.0256963309582185,-1.0156963309582185,-1.0056963309582185,-0.9956963309582185,-0.9856963309582185,-0.9756963309582185,-0.9656963309582185,-0.9556963309582185,-0.9456963309582185,-0.9356963309582185,-0.9256963309582185,-0.9156963309582185,-0.9056963309582184,-0.8956963309582184,-0.8856963309582184,-0.8756963309582184,-0.8656963309582184,-0.8556963309582184,-0.8456963309582184,-0.8356963309582184,-0.8256963309582184,-0.8156963309582184,-0.8056963309582184,-0.7956963309582183,-0.7856963309582183,-0.7756963309582183,-0.7656963309582183,-0.7556963309582183,-0.7456963309582183,-0.7356963309582183,-0.7256963309582183,-0.7156963309582183,-0.7056963309582183,-0.6956963309582183,-0.6856963309582182,-0.6756963309582182,-0.6656963309582182,-0.6556963309582182,-0.6456963309582182,-0.6356963309582182,-0.6256963309582182,-0.6156963309582182,-0.6056963309582182,-0.5956963309582182,-0.5856963309582182,-0.5756963309582181,-0.5656963309582181,-0.5556963309582181,-0.5456963309582181,-0.5356963309582181,-0.5256963309582181,-0.5156963309582181,-0.5056963309582181,-0.4956963309582181,-0.48569633095821807,-0.47569633095821806,-0.46569633095821805,-0.45569633095821804,-0.44569633095821803,-0.435696330958218,-0.425696330958218,-0.415696330958218,-0.405696330958218,-0.395696330958218,-0.385696330958218,-0.37569633095821797,-0.36569633095821796,-0.35569633095821795,-0.34569633095821795,-0.33569633095821794,-0.32569633095821793,-0.3156963309582179,-0.3056963309582179,-0.2956963309582179,-0.2856963309582179,-0.2756963309582179,-0.2656963309582179,-0.25569633095821787,-0.24569633095821786,-0.23569633095821785,-0.22569633095821784,-0.21569633095821783,-0.20569633095821782,-0.1956963309582178,-0.1856963309582178,-0.1756963309582178,-0.16569633095821779,-0.15569633095821778,-0.14569633095821777,-0.13569633095821776,-0.12569633095821775,-0.11569633095821774,-0.10569633095821773,-0.09569633095821772,-0.08569633095821771,-0.0756963309582177,-0.0656963309582177,-0.05569633095821769,-0.04569633095821768,-0.03569633095821767,-0.02569633095821766,-0.015696330958217652,-0.005696330958217644,0.004303669041782365,0.014303669041782374,0.024303669041782383,0.03430366904178239,0.0443036690417824,0.05430366904178241,0.06430366904178242,0.07430366904178243,0.08430366904178244,0.09430366904178245,0.10430366904178245,0.11430366904178246,0.12430366904178247,0.13430366904178248,0.1443036690417825,0.1543036690417825,0.1643036690417825,0.17430366904178252,0.18430366904178253,0.19430366904178253,0.20430366904178254,0.21430366904178255,0.22430366904178256,0.23430366904178257,0.24430366904178258,0.2543036690417826,0.2643036690417826,0.2743036690417826,0.2843036690417826,0.2943036690417826,0.30430366904178263,0.31430366904178264,0.32430366904178265,0.33430366904178266,0.34430366904178267,0.3543036690417827,0.3643036690417827,0.3743036690417827,0.3843036690417827,0.3943036690417827,0.4043036690417827,0.41430366904178273,0.42430366904178274,0.43430366904178275,0.44430366904178276,0.45430366904178276,0.4643036690417828,0.4743036690417828,0.4843036690417828,0.4943036690417828,0.5043036690417828,0.5143036690417828,0.5243036690417828,0.5343036690417828,0.5443036690417828,0.5543036690417829,0.5643036690417829,0.5743036690417829,0.5843036690417829,0.5943036690417829,0.6043036690417829,0.6143036690417829,0.6243036690417829,0.6343036690417829,0.6443036690417829,0.6543036690417829,0.664303669041783,0.674303669041783,0.684303669041783,0.694303669041783,0.704303669041783,0.714303669041783,0.724303669041783,0.734303669041783,0.744303669041783,0.754303669041783,0.764303669041783,0.7743036690417828,0.7843036690417831,0.7943036690417833,0.8043036690417831,0.8143036690417829,0.8243036690417831,0.8343036690417833,0.8443036690417831,0.8543036690417829,0.8643036690417831,0.8743036690417834,0.8843036690417831,0.8943036690417829,0.9043036690417832,0.9143036690417834,0.9243036690417832,0.934303669041783,0.9443036690417832,0.9543036690417834,0.9643036690417832,0.974303669041783,0.9843036690417832,0.9943036690417835,1.0043036690417833,1.014303669041783,1.0243036690417833,1.0343036690417835,1.0443036690417833,1.054303669041783,1.0643036690417833,1.0743036690417835,1.0843036690417833,1.0943036690417831,1.1043036690417833,1.1143036690417836,1.1243036690417834,1.1343036690417831,1.1443036690417834,1.1543036690417836,1.1643036690417834,1.1743036690417832,1.1843036690417834,1.1943036690417836,1.2043036690417834,1.2143036690417832,1.2243036690417834,1.2343036690417837],\"y\":[0.010759557103729535,0.011569046364750825,0.012432107304071925,0.013351681380178108,0.014330824962518165,0.015372710363650696,0.016480626593458756,0.017657979812295183,0.01890829345951763,0.020235208033555503,0.02164248049942659,0.0231339832994997,0.024713702943286703,0.026385738152150614,0.02815429753504737,0.030023696771778154,0.031998355280731125,0.034082792348736346,0.03628162270145778,0.038599551493701756,0.041041368700140836,0.04361194288824105,0.04631621435663785,0.04915918762384055,0.05214592325395582,0.05528152900810914,0.0585711503124085,0.06201996003564133,0.06563314757241298,0.06941590723012697,0.07337342592106816,0.0775108701638714,0.08183337240183293,0.08634601664885047,0.09105382347723423,0.09596173436522082,0.10107459542572303,0.10639714054164846,0.11193397393700391,0.11768955221695863,0.12366816591404108,0.1298739205816763,0.13631071748032095,0.1429822339054826,0.14989190321091322,0.15704289458421145,0.16443809263593126,0.17208007686705235,0.17997110108329434,0.18811307282822706,0.19650753291041143,0.2051556351028861,0.214058126096149,0.2232153257883624,0.2326271079987991,0.24229288169251945,0.2522115728059084,0.2623816067639773,0.2728008917812265,0.2834668030383526,0.29437616782715287,0.3055252517555944,0.3169097461041908,0.3285247564235189,0.34036479246092555,0.35242375950219823,0.3646949512112016,0.37717104404720786,0.38984409333588305,0.4027055310656123,0.4157461654760949,0.42895618250088813,0.44232514911986337,0.4558420186713653,0.4694951381672537,0.48327225764697584,0.4971605415994006,0.5111465824733599,0.5252164162897235,0.5393555403594189,0.5535489331031279,0.5677810759594847,0.5820359773595174,0.5962971987358525,0.6105478825258805,0.6247707821187244,0.6389482936864933,0.6530624898310058,0.6670951549679607,0.681027822361513,0.694841812713361,0.7085182742019049,0.7220382238587693,0.7353825901620982,0.748532256718556,0.7614681068989527,0.7741710692859075,0.7866221637860138,0.7988025482536131,0.8106935654685588,0.8222767903063029,0.8335340769352859,0.8444476058739914,0.8549999307381677,0.865174024507632,0.874953325141785,0.8843217803734793,0.8932638915122164,0.9017647560897945,0.9098101091844943,0.917386363263655,0.9244806463890687,0.9310808386349577,0.9371756065744173,0.9427544356970337,0.9478076606279322,0.9523264930267242,0.9563030470536446,0.9597303622996032,0.9626024240868317,0.9649141810572505,0.9666615599765646,0.9678414776933646,0.9684518502040801,0.968491598786483,0.9679606531764715,0.9668599517750414,0.965191438884589,0.9629580589859411,0.9601637480796886,0.9568134221274658,0.9529129626406847,0.9484691994758614,0.9434898909069751,0.9379837010562434,0.9319601747752055,0.9254297100780391,0.9184035282385327,0.9108936416710578,0.9029128197241805,0.8944745525231903,0.8855930130047602,0.8762830172931637,0.8665599835729236,0.8564398896174535,0.8459392291371245,0.8350749671132724,0.823864494286924,0.8123255809724558,0.8004763303670398,0.7883351315265461,0.7759206121775988,0.763251591533729,0.7503470332810537,0.7372259988956561,0.7239076014508933,0.7104109600682188,0.6967551551598398,0.6829591846056594,0.6690419210005208,0.6550220701008272,0.6409181305921952,0.6267483552919688,0.6125307138922106,0.5982828573402617,0.5840220839451681,0.569765307289259,0.55552902601498,0.5413292955478031,0.5271817018066718,0.5131013369440882,0.49910277714861434,0.4852000625333226,0.47140667912462825,0.45773554295699603,0.44419898627030663,0.4308087457982109,0.4175759531276355,0.404511127101776,0.3916241682314356,0.3789243550724867,0.36642034252055933,0.35412016196782664,0.34203122326097146,0.3301603183941149,0.31851362686564666,0.3070967226235669,0.2959145825201064,0.28497159619304535,0.2742715772883166,0.2638177759361287,0.25361289239099605,0.24365909174468817,0.23395801962021648,0.2245108187545331,0.21531814637762267,0.20638019229609958,0.1976966975902553,0.1892669738347304,0.18108992275457036,0.17316405623035283,0.1654875165683242,0.1580580969540163,0.15087326201062448,0.1439301683864638,0.13722568529908635,0.13075641496708434,0.12451871286420978,0.11850870773418037,0.11272232130839564,0.1071552876727229,0.10180317223350069,0.09666139023694392,0.09172522480017968,0.0869898444161769,0.08245031989884546,0.07810164073853676,0.07393873084207828,0.06995646363528615,0.06614967650961567,0.06251318459821084,0.05904179387009756,0.05573031353460787,0.052573567751317656,0.049566406643826944,0.04670371661859362,0.043980429992747955,0.04139153393735664,0.03893207874497573,0.03659718543252229,0.03438205269250882,0.03228196320751935,0.030292289344463062,0.028408498246626116,0.02662615634285414,0.02494093329433815,0.023348605400457797,0.021845058485955214,0.020426290292380904,0.01908841239727195,0.017827651684903714,0.016640351392703888,0.01552297175753797,0.014472090286079048,0.013484401673366337,0.012556717393447926,0.011685964985698124,0.010869187060008157],\"type\":\"scatter\",\"xaxis\":\"x4\",\"yaxis\":\"y4\"}],                        {\"template\":{\"data\":{\"histogram2dcontour\":[{\"type\":\"histogram2dcontour\",\"colorbar\":{\"outlinewidth\":0,\"ticks\":\"\"},\"colorscale\":[[0.0,\"#0d0887\"],[0.1111111111111111,\"#46039f\"],[0.2222222222222222,\"#7201a8\"],[0.3333333333333333,\"#9c179e\"],[0.4444444444444444,\"#bd3786\"],[0.5555555555555556,\"#d8576b\"],[0.6666666666666666,\"#ed7953\"],[0.7777777777777778,\"#fb9f3a\"],[0.8888888888888888,\"#fdca26\"],[1.0,\"#f0f921\"]]}],\"choropleth\":[{\"type\":\"choropleth\",\"colorbar\":{\"outlinewidth\":0,\"ticks\":\"\"}}],\"histogram2d\":[{\"type\":\"histogram2d\",\"colorbar\":{\"outlinewidth\":0,\"ticks\":\"\"},\"colorscale\":[[0.0,\"#0d0887\"],[0.1111111111111111,\"#46039f\"],[0.2222222222222222,\"#7201a8\"],[0.3333333333333333,\"#9c179e\"],[0.4444444444444444,\"#bd3786\"],[0.5555555555555556,\"#d8576b\"],[0.6666666666666666,\"#ed7953\"],[0.7777777777777778,\"#fb9f3a\"],[0.8888888888888888,\"#fdca26\"],[1.0,\"#f0f921\"]]}],\"heatmap\":[{\"type\":\"heatmap\",\"colorbar\":{\"outlinewidth\":0,\"ticks\":\"\"},\"colorscale\":[[0.0,\"#0d0887\"],[0.1111111111111111,\"#46039f\"],[0.2222222222222222,\"#7201a8\"],[0.3333333333333333,\"#9c179e\"],[0.4444444444444444,\"#bd3786\"],[0.5555555555555556,\"#d8576b\"],[0.6666666666666666,\"#ed7953\"],[0.7777777777777778,\"#fb9f3a\"],[0.8888888888888888,\"#fdca26\"],[1.0,\"#f0f921\"]]}],\"heatmapgl\":[{\"type\":\"heatmapgl\",\"colorbar\":{\"outlinewidth\":0,\"ticks\":\"\"},\"colorscale\":[[0.0,\"#0d0887\"],[0.1111111111111111,\"#46039f\"],[0.2222222222222222,\"#7201a8\"],[0.3333333333333333,\"#9c179e\"],[0.4444444444444444,\"#bd3786\"],[0.5555555555555556,\"#d8576b\"],[0.6666666666666666,\"#ed7953\"],[0.7777777777777778,\"#fb9f3a\"],[0.8888888888888888,\"#fdca26\"],[1.0,\"#f0f921\"]]}],\"contourcarpet\":[{\"type\":\"contourcarpet\",\"colorbar\":{\"outlinewidth\":0,\"ticks\":\"\"}}],\"contour\":[{\"type\":\"contour\",\"colorbar\":{\"outlinewidth\":0,\"ticks\":\"\"},\"colorscale\":[[0.0,\"#0d0887\"],[0.1111111111111111,\"#46039f\"],[0.2222222222222222,\"#7201a8\"],[0.3333333333333333,\"#9c179e\"],[0.4444444444444444,\"#bd3786\"],[0.5555555555555556,\"#d8576b\"],[0.6666666666666666,\"#ed7953\"],[0.7777777777777778,\"#fb9f3a\"],[0.8888888888888888,\"#fdca26\"],[1.0,\"#f0f921\"]]}],\"surface\":[{\"type\":\"surface\",\"colorbar\":{\"outlinewidth\":0,\"ticks\":\"\"},\"colorscale\":[[0.0,\"#0d0887\"],[0.1111111111111111,\"#46039f\"],[0.2222222222222222,\"#7201a8\"],[0.3333333333333333,\"#9c179e\"],[0.4444444444444444,\"#bd3786\"],[0.5555555555555556,\"#d8576b\"],[0.6666666666666666,\"#ed7953\"],[0.7777777777777778,\"#fb9f3a\"],[0.8888888888888888,\"#fdca26\"],[1.0,\"#f0f921\"]]}],\"mesh3d\":[{\"type\":\"mesh3d\",\"colorbar\":{\"outlinewidth\":0,\"ticks\":\"\"}}],\"scatter\":[{\"fillpattern\":{\"fillmode\":\"overlay\",\"size\":10,\"solidity\":0.2},\"type\":\"scatter\"}],\"parcoords\":[{\"type\":\"parcoords\",\"line\":{\"colorbar\":{\"outlinewidth\":0,\"ticks\":\"\"}}}],\"scatterpolargl\":[{\"type\":\"scatterpolargl\",\"marker\":{\"colorbar\":{\"outlinewidth\":0,\"ticks\":\"\"}}}],\"bar\":[{\"error_x\":{\"color\":\"#2a3f5f\"},\"error_y\":{\"color\":\"#2a3f5f\"},\"marker\":{\"line\":{\"color\":\"#E5ECF6\",\"width\":0.5},\"pattern\":{\"fillmode\":\"overlay\",\"size\":10,\"solidity\":0.2}},\"type\":\"bar\"}],\"scattergeo\":[{\"type\":\"scattergeo\",\"marker\":{\"colorbar\":{\"outlinewidth\":0,\"ticks\":\"\"}}}],\"scatterpolar\":[{\"type\":\"scatterpolar\",\"marker\":{\"colorbar\":{\"outlinewidth\":0,\"ticks\":\"\"}}}],\"histogram\":[{\"marker\":{\"pattern\":{\"fillmode\":\"overlay\",\"size\":10,\"solidity\":0.2}},\"type\":\"histogram\"}],\"scattergl\":[{\"type\":\"scattergl\",\"marker\":{\"colorbar\":{\"outlinewidth\":0,\"ticks\":\"\"}}}],\"scatter3d\":[{\"type\":\"scatter3d\",\"line\":{\"colorbar\":{\"outlinewidth\":0,\"ticks\":\"\"}},\"marker\":{\"colorbar\":{\"outlinewidth\":0,\"ticks\":\"\"}}}],\"scattermapbox\":[{\"type\":\"scattermapbox\",\"marker\":{\"colorbar\":{\"outlinewidth\":0,\"ticks\":\"\"}}}],\"scatterternary\":[{\"type\":\"scatterternary\",\"marker\":{\"colorbar\":{\"outlinewidth\":0,\"ticks\":\"\"}}}],\"scattercarpet\":[{\"type\":\"scattercarpet\",\"marker\":{\"colorbar\":{\"outlinewidth\":0,\"ticks\":\"\"}}}],\"carpet\":[{\"aaxis\":{\"endlinecolor\":\"#2a3f5f\",\"gridcolor\":\"white\",\"linecolor\":\"white\",\"minorgridcolor\":\"white\",\"startlinecolor\":\"#2a3f5f\"},\"baxis\":{\"endlinecolor\":\"#2a3f5f\",\"gridcolor\":\"white\",\"linecolor\":\"white\",\"minorgridcolor\":\"white\",\"startlinecolor\":\"#2a3f5f\"},\"type\":\"carpet\"}],\"table\":[{\"cells\":{\"fill\":{\"color\":\"#EBF0F8\"},\"line\":{\"color\":\"white\"}},\"header\":{\"fill\":{\"color\":\"#C8D4E3\"},\"line\":{\"color\":\"white\"}},\"type\":\"table\"}],\"barpolar\":[{\"marker\":{\"line\":{\"color\":\"#E5ECF6\",\"width\":0.5},\"pattern\":{\"fillmode\":\"overlay\",\"size\":10,\"solidity\":0.2}},\"type\":\"barpolar\"}],\"pie\":[{\"automargin\":true,\"type\":\"pie\"}]},\"layout\":{\"autotypenumbers\":\"strict\",\"colorway\":[\"#636efa\",\"#EF553B\",\"#00cc96\",\"#ab63fa\",\"#FFA15A\",\"#19d3f3\",\"#FF6692\",\"#B6E880\",\"#FF97FF\",\"#FECB52\"],\"font\":{\"color\":\"#2a3f5f\"},\"hovermode\":\"closest\",\"hoverlabel\":{\"align\":\"left\"},\"paper_bgcolor\":\"white\",\"plot_bgcolor\":\"#E5ECF6\",\"polar\":{\"bgcolor\":\"#E5ECF6\",\"angularaxis\":{\"gridcolor\":\"white\",\"linecolor\":\"white\",\"ticks\":\"\"},\"radialaxis\":{\"gridcolor\":\"white\",\"linecolor\":\"white\",\"ticks\":\"\"}},\"ternary\":{\"bgcolor\":\"#E5ECF6\",\"aaxis\":{\"gridcolor\":\"white\",\"linecolor\":\"white\",\"ticks\":\"\"},\"baxis\":{\"gridcolor\":\"white\",\"linecolor\":\"white\",\"ticks\":\"\"},\"caxis\":{\"gridcolor\":\"white\",\"linecolor\":\"white\",\"ticks\":\"\"}},\"coloraxis\":{\"colorbar\":{\"outlinewidth\":0,\"ticks\":\"\"}},\"colorscale\":{\"sequential\":[[0.0,\"#0d0887\"],[0.1111111111111111,\"#46039f\"],[0.2222222222222222,\"#7201a8\"],[0.3333333333333333,\"#9c179e\"],[0.4444444444444444,\"#bd3786\"],[0.5555555555555556,\"#d8576b\"],[0.6666666666666666,\"#ed7953\"],[0.7777777777777778,\"#fb9f3a\"],[0.8888888888888888,\"#fdca26\"],[1.0,\"#f0f921\"]],\"sequentialminus\":[[0.0,\"#0d0887\"],[0.1111111111111111,\"#46039f\"],[0.2222222222222222,\"#7201a8\"],[0.3333333333333333,\"#9c179e\"],[0.4444444444444444,\"#bd3786\"],[0.5555555555555556,\"#d8576b\"],[0.6666666666666666,\"#ed7953\"],[0.7777777777777778,\"#fb9f3a\"],[0.8888888888888888,\"#fdca26\"],[1.0,\"#f0f921\"]],\"diverging\":[[0,\"#8e0152\"],[0.1,\"#c51b7d\"],[0.2,\"#de77ae\"],[0.3,\"#f1b6da\"],[0.4,\"#fde0ef\"],[0.5,\"#f7f7f7\"],[0.6,\"#e6f5d0\"],[0.7,\"#b8e186\"],[0.8,\"#7fbc41\"],[0.9,\"#4d9221\"],[1,\"#276419\"]]},\"xaxis\":{\"gridcolor\":\"white\",\"linecolor\":\"white\",\"ticks\":\"\",\"title\":{\"standoff\":15},\"zerolinecolor\":\"white\",\"automargin\":true,\"zerolinewidth\":2},\"yaxis\":{\"gridcolor\":\"white\",\"linecolor\":\"white\",\"ticks\":\"\",\"title\":{\"standoff\":15},\"zerolinecolor\":\"white\",\"automargin\":true,\"zerolinewidth\":2},\"scene\":{\"xaxis\":{\"backgroundcolor\":\"#E5ECF6\",\"gridcolor\":\"white\",\"linecolor\":\"white\",\"showbackground\":true,\"ticks\":\"\",\"zerolinecolor\":\"white\",\"gridwidth\":2},\"yaxis\":{\"backgroundcolor\":\"#E5ECF6\",\"gridcolor\":\"white\",\"linecolor\":\"white\",\"showbackground\":true,\"ticks\":\"\",\"zerolinecolor\":\"white\",\"gridwidth\":2},\"zaxis\":{\"backgroundcolor\":\"#E5ECF6\",\"gridcolor\":\"white\",\"linecolor\":\"white\",\"showbackground\":true,\"ticks\":\"\",\"zerolinecolor\":\"white\",\"gridwidth\":2}},\"shapedefaults\":{\"line\":{\"color\":\"#2a3f5f\"}},\"annotationdefaults\":{\"arrowcolor\":\"#2a3f5f\",\"arrowhead\":0,\"arrowwidth\":1},\"geo\":{\"bgcolor\":\"white\",\"landcolor\":\"#E5ECF6\",\"subunitcolor\":\"white\",\"showland\":true,\"showlakes\":true,\"lakecolor\":\"white\"},\"title\":{\"x\":0.05},\"mapbox\":{\"style\":\"light\"}}},\"xaxis\":{\"anchor\":\"y\",\"domain\":[0.0,0.45],\"title\":{\"text\":\"n=272\"},\"range\":[-2,2]},\"yaxis\":{\"anchor\":\"x\",\"domain\":[0.625,1.0]},\"xaxis2\":{\"anchor\":\"y2\",\"domain\":[0.55,1.0],\"title\":{\"text\":\"n=100\"},\"range\":[-2,2]},\"yaxis2\":{\"anchor\":\"x2\",\"domain\":[0.625,1.0]},\"xaxis3\":{\"anchor\":\"y3\",\"domain\":[0.0,0.45],\"title\":{\"text\":\"n=172\"},\"range\":[-2,2]},\"yaxis3\":{\"anchor\":\"x3\",\"domain\":[0.0,0.375]},\"xaxis4\":{\"anchor\":\"y4\",\"domain\":[0.55,1.0],\"title\":{\"text\":\"n=272\"},\"range\":[-2,2]},\"yaxis4\":{\"anchor\":\"x4\",\"domain\":[0.0,0.375]},\"annotations\":[{\"font\":{\"size\":16},\"showarrow\":false,\"text\":\"\\u003cbr\\u003eModel 1:\\u003cbr\\u003eAll Data using slope\",\"x\":0.225,\"xanchor\":\"center\",\"xref\":\"paper\",\"y\":1.0,\"yanchor\":\"bottom\",\"yref\":\"paper\"},{\"font\":{\"size\":16},\"showarrow\":false,\"text\":\"\\u003cbr\\u003eModel 2:\\u003cbr\\u003eShort Wait Data\",\"x\":0.775,\"xanchor\":\"center\",\"xref\":\"paper\",\"y\":1.0,\"yanchor\":\"bottom\",\"yref\":\"paper\"},{\"font\":{\"size\":16},\"showarrow\":false,\"text\":\"\\u003cbr\\u003eModel 3:\\u003cbr\\u003eLong Wait Data\",\"x\":0.225,\"xanchor\":\"center\",\"xref\":\"paper\",\"y\":0.375,\"yanchor\":\"bottom\",\"yref\":\"paper\"},{\"font\":{\"size\":16},\"showarrow\":false,\"text\":\"\\u003cbr\\u003eModel 4:\\u003cbr\\u003eAll Data using indicator\",\"x\":0.775,\"xanchor\":\"center\",\"xref\":\"paper\",\"y\":0.375,\"yanchor\":\"bottom\",\"yref\":\"paper\"}],\"title\":{\"text\":\"Histograms of Residuals from Different Models\"}},                        {\"responsive\": true}                    ).then(function(){\n",
       "                            \n",
       "var gd = document.getElementById('07474548-bf1b-4b0f-99e0-33a7f291862e');\n",
       "var x = new MutationObserver(function (mutations, observer) {{\n",
       "        var display = window.getComputedStyle(gd).display;\n",
       "        if (!display || display === 'none') {{\n",
       "            console.log([gd, 'removed!']);\n",
       "            Plotly.purge(gd);\n",
       "            observer.disconnect();\n",
       "        }}\n",
       "}});\n",
       "\n",
       "// Listen for the removal of the full notebook cells\n",
       "var notebookContainer = gd.closest('#notebook-container');\n",
       "if (notebookContainer) {{\n",
       "    x.observe(notebookContainer, {childList: true});\n",
       "}}\n",
       "\n",
       "// Listen for the clearing of the current output cell\n",
       "var outputEl = gd.closest('.output');\n",
       "if (outputEl) {{\n",
       "    x.observe(outputEl, {childList: true});\n",
       "}}\n",
       "\n",
       "                        })                };                });            </script>        </div>"
      ]
     },
     "metadata": {},
     "output_type": "display_data"
    }
   ],
   "source": [
    "from plotly.subplots import make_subplots\n",
    "import plotly.graph_objects as go\n",
    "from scipy import stats\n",
    "import numpy as np\n",
    "\n",
    "long_wait_limit = 68\n",
    "short_wait = old_faithful['waiting'] < long_wait_limit\n",
    "long_wait = old_faithful['waiting'] >= long_wait_limit\n",
    "\n",
    "model_residuals = {\n",
    "    '<br>Model 1:<br>All Data using slope': smf.ols('duration ~ waiting', data=old_faithful).fit().resid,\n",
    "    '<br>Model 2:<br>Short Wait Data': smf.ols('duration ~ waiting', data=old_faithful[short_wait]).fit().resid,\n",
    "    '<br>Model 3:<br>Long Wait Data': smf.ols('duration ~ waiting', data=old_faithful[long_wait]).fit().resid,\n",
    "    '<br>Model 4:<br>All Data using indicator': smf.ols('duration ~ C(kind, Treatment(reference=\"short\"))', data=old_faithful).fit().resid\n",
    "}\n",
    "\n",
    "fig = make_subplots(rows=2, cols=2, subplot_titles=list(model_residuals.keys()))\n",
    "for i, (title, resid) in enumerate(model_residuals.items()):\n",
    "\n",
    "    if i == 1:  # Apply different bins only to the second histogram (index 1)\n",
    "        bin_size = dict(start=-1.9, end=1.9, size=0.2)\n",
    "    else:\n",
    "        bin_size = dict(start=-1.95, end=1.95, size=0.3)\n",
    "\n",
    "    fig.add_trace(go.Histogram(x=resid, name=title, xbins=bin_size, histnorm='probability density'), \n",
    "                  row=int(i/2)+1, col=(i%2)+1)\n",
    "    fig.update_xaxes(title_text=\"n=\"+str(len(resid)), row=int(i/2)+1, col=(i%2)+1)    \n",
    "    \n",
    "    normal_range = np.arange(-3*resid.std(),3*resid.std(),0.01)\n",
    "    fig.add_trace(go.Scatter(x=normal_range, mode='lines', opacity=0.5,\n",
    "                             y=stats.norm(loc=0, scale=resid.std()).pdf(normal_range),\n",
    "                             line=dict(color='black', dash='dot', width=2),\n",
    "                             name='Normal Distribution<br>(99.7% of its area)'), \n",
    "                  row=int(i/2)+1, col=(i%2)+1)\n",
    "    \n",
    "fig.update_layout(title_text='Histograms of Residuals from Different Models')\n",
    "fig.update_xaxes(range=[-2,2])\n",
    "fig.show() # USE `fig.show(renderer=\"png\")` FOR ALL GitHub and MarkUs SUBMISSIONS"
   ]
  },
  {
   "cell_type": "markdown",
   "id": "e2dbf0b8",
   "metadata": {},
   "source": [
    "model 1 is support assumption. other three is not support\n",
    "model 2 has a right skew \n",
    "model 3 is left skew\n",
    "model 4 is not look like a bell cruve"
   ]
  },
  {
   "cell_type": "markdown",
   "id": "f7413283",
   "metadata": {},
   "source": [
    "### 13. The \"short\" and \"long\" wait times are not \"before and after\" measurements so there are not natural pairs on which to base differences on which to do a \"one sample\" (paired differences) *hypothesis test*; but, we can do \"two sample\" hypothesis testing using a *permuation test*, or create a 95% *bootstrap confidence interval* for the difference in means of the two populations. \n",
    "\n",
    "### (A) Do a permuation test $\\;H_0: \\mu_{\\text{short}}=\\mu_{\\text{long}} \\; \\text{ no difference in duration between short and long groups}$ by \"shuffling\" the labels\n",
    "### (B) Create a 95% bootstrap confidence interval  by repeatedly bootstrapping within each group and applying *np.quantile(bootstrapped_mean_differences, [0.025, 0.975])* to the collection of differences between the sample means.    \n",
    "### (a) Explain how the sampling approaches work for the two simulations.\n",
    "### (b) Compare and contrast these two methods with the *indicator variable* based model approach used in Question 11, explaining how they're similar and different.<br>\n",
    "    \n",
    "<details class=\"details-example\"><summary style=\"color:blue\"><u>Further Guidance</u></summary>\n",
    "\n",
    "> _You'll need to create `for` loops for repeated (shuffling simulation) **permutation** and (subgroup) **bootstrapping**, where_\n",
    ">\n",
    "> - _\"shuffling\" for **permutation testing** is done like this `old_faithful.assign(kind_shuffled=old_faithful['kind'].sample(n=len(old_faithful), replace=False).values)#.groupby('kind').size()`; then, the **mean difference statistic** is then calculated using `.groupby('kind_shuffled')['duration'].mean().iloc[::-1].diff().values[1]` (so the **observed statistic** is `old_faithful.groupby('kind')['duration'].mean().iloc[::-1].diff().values[1]`_\n",
    "> \n",
    ">\n",
    "> - _\"two sample\" **bootstrapping** is done like this `old_faithful.groupby('kind').apply(lambda x: x.sample(n=len(x), replace=True)).reset_index(drop=True)#.groupby('kind').size()`; then, the **bootstrapped mean difference statistic** is then calculated using `.groupby('kind')['duration'].mean().iloc[::-1].diff().values[1]` (like the **observed statistic** except this is applied to the **bootstrapped** resampling of `old_faithful`)_\n",
    "> ---\n",
    "> \n",
    "> _Don't forget to ask for summaries of all your different ChatBot sessions and organize and paste these into your homework notebook (including link(s) to chat log histories if you're using ChatBot) But if you're using the STA130 custom NBLM ChatBot, you'll only be able to ask for summaries, of course!_\n",
    "</details>"
   ]
  },
  {
   "cell_type": "code",
   "execution_count": 23,
   "id": "3e5551db",
   "metadata": {},
   "outputs": [
    {
     "name": "stdout",
     "output_type": "stream",
     "text": [
      "Observed Difference in Means: 2.0801883928571434\n",
      "P-value: 0.0\n"
     ]
    }
   ],
   "source": [
    "import numpy as np\n",
    "import seaborn as sns\n",
    "\n",
    "# Load the dataset\n",
    "old_faithful = sns.load_dataset('geyser')\n",
    "\n",
    "# Define long and short groups based on long_wait_limit\n",
    "long_wait_limit = 71\n",
    "long_group = old_faithful[old_faithful['waiting'] > long_wait_limit]['duration']\n",
    "short_group = old_faithful[old_faithful['waiting'] <= long_wait_limit]['duration']\n",
    "\n",
    "# Calculate the observed difference in means\n",
    "observed_diff = long_group.mean() - short_group.mean()\n",
    "\n",
    "# Perform permutation test\n",
    "n_permutations = 10000\n",
    "differences = []\n",
    "\n",
    "# Combine both groups into one dataset\n",
    "combined = np.concatenate([long_group, short_group])\n",
    "\n",
    "# Permute by shuffling labels\n",
    "for _ in range(n_permutations):\n",
    "    # Shuffle the combined data\n",
    "    np.random.shuffle(combined)\n",
    "    \n",
    "    # Split the data into \"new\" groups\n",
    "    permuted_long = combined[:len(long_group)]\n",
    "    permuted_short = combined[len(long_group):]\n",
    "    \n",
    "    # Calculate the difference in means for this permutation\n",
    "    permuted_diff = permuted_long.mean() - permuted_short.mean()\n",
    "    differences.append(permuted_diff)\n",
    "\n",
    "# Calculate p-value: proportion of permuted differences as extreme as observed difference\n",
    "p_value = (np.sum(np.abs(differences) >= np.abs(observed_diff))) / n_permutations\n",
    "\n",
    "# Display the observed difference and the p-value\n",
    "print(f\"Observed Difference in Means: {observed_diff}\")\n",
    "print(f\"P-value: {p_value}\")\n"
   ]
  },
  {
   "cell_type": "code",
   "execution_count": 24,
   "id": "f64fba3f",
   "metadata": {},
   "outputs": [
    {
     "name": "stdout",
     "output_type": "stream",
     "text": [
      "95% Bootstrap Confidence Interval for Mean Difference: (1.9410, 2.2043)\n"
     ]
    }
   ],
   "source": [
    "import numpy as np\n",
    "import seaborn as sns\n",
    "\n",
    "# Load the dataset\n",
    "old_faithful = sns.load_dataset('geyser')\n",
    "\n",
    "# Define long and short groups based on long_wait_limit\n",
    "long_wait_limit = 71\n",
    "long_group = old_faithful[old_faithful['waiting'] > long_wait_limit]['duration']\n",
    "short_group = old_faithful[old_faithful['waiting'] <= long_wait_limit]['duration']\n",
    "\n",
    "# Parameters for bootstrapping\n",
    "n_bootstraps = 10000\n",
    "bootstrapped_mean_differences = []\n",
    "\n",
    "# Perform bootstrapping\n",
    "for _ in range(n_bootstraps):\n",
    "    # Resample with replacement within each group\n",
    "    long_sample = np.random.choice(long_group, size=len(long_group), replace=True)\n",
    "    short_sample = np.random.choice(short_group, size=len(short_group), replace=True)\n",
    "    \n",
    "    # Calculate the difference in means for this bootstrap sample\n",
    "    boot_mean_diff = long_sample.mean() - short_sample.mean()\n",
    "    bootstrapped_mean_differences.append(boot_mean_diff)\n",
    "\n",
    "# Calculate the 95% confidence interval\n",
    "ci_lower, ci_upper = np.quantile(bootstrapped_mean_differences, [0.025, 0.975])\n",
    "\n",
    "# Display the results\n",
    "print(f\"95% Bootstrap Confidence Interval for Mean Difference: ({ci_lower:.4f}, {ci_upper:.4f})\")\n"
   ]
  },
  {
   "cell_type": "markdown",
   "id": "a8578c24",
   "metadata": {},
   "source": [
    "Key Differences and Use Cases:\n",
    "Permutation Test:\n",
    "\n",
    "Directly tests the null hypothesis.\n",
    "Ideal for hypothesis testing to see if an observed effect is statistically significant.\n",
    "Relies on label shuffling to create a distribution under the assumption of no effect.\n",
    "Bootstrap Confidence Interval:\n",
    "\n",
    "Estimates confidence intervals for a statistic.\n",
    "Useful when you want to estimate the range within which the true parameter (e.g., mean difference) likely lies.\n",
    "Relies on resampling with replacement within each group to approximate the sampling distribution.\n",
    "Each approach is robust and widely used in situations where traditional parametric assumptions (like normality) may not hold, providing flexible, data-driven methods for inference."
   ]
  },
  {
   "cell_type": "markdown",
   "id": "3c72f17f",
   "metadata": {},
   "source": [
    "there are simliar but use the different method and  we get the same result."
   ]
  },
  {
   "cell_type": "markdown",
   "id": "28cf067b",
   "metadata": {},
   "source": [
    "link (question 8-10 )https://chatgpt.com/share/672d7cb4-6cc4-800b-ab62-100d4fc76646\n",
    "link(question 10):https://chatgpt.com/share/672d8327-b458-800b-a672-d93b67fa341e\n",
    "link(question 13):https://chatgpt.com/share/672d8936-6024-800b-8785-5b86a3112910"
   ]
  },
  {
   "cell_type": "markdown",
   "id": "06fe02c1",
   "metadata": {},
   "source": [
    "### 14. Have you reviewed the course wiki-textbook and interacted with a ChatBot (or, if that wasn't sufficient, real people in the course piazza discussion board or TA office hours) to help you understand all the material in the tutorial and lecture that you didn't quite follow when you first saw it?<br>\n",
    "\n",
    "<details class=\"details-example\"><summary style=\"color:blue\"><u>Further Guidance</u></summary>\n",
    "\n",
    ">  _Here is the link of [wiki-textbook](https://github.com/pointOfive/stat130chat130/wiki) in case it gets lost among all the information you need to keep track of_  : )\n",
    ">\n",
    "> _Just answering \"Yes\" or \"No\" or \"Somewhat\" or \"Mostly\" or whatever here is fine as this question isn't a part of the rubric; but, the midterm and final exams may ask questions that are based on the tutorial and lecture materials; and, your own skills will be limited by your familiarity with these materials (which will determine your ability to actually do actual things effectively with these skills... like the course project...)_\n",
    "</details>    "
   ]
  },
  {
   "cell_type": "code",
   "execution_count": null,
   "id": "cc416603",
   "metadata": {},
   "outputs": [],
   "source": [
    "somewhat"
   ]
  },
  {
   "cell_type": "markdown",
   "id": "bc0639e8",
   "metadata": {},
   "source": [
    "## Recommended Additional Useful Activities [Optional]\n",
    "\n",
    "The \"Ethical Profesionalism Considerations\" and \"Current Course Project Capability Level\" sections below **are not a part of the required homework assignment**; rather, they are regular weekly guides covering (a) relevant considerations regarding professional and ethical conduct, and (b) the analysis steps for the STA130 course project that are feasible at the current stage of the course \n",
    "\n",
    "<br>\n",
    "<details class=\"details-example\"><summary style=\"color:blue\"><u>Ethical Professionalism Considerations</u></summary>\n",
    "\n",
    "### Ethical Professionalism Considerations\n",
    "    \n",
    "The TUT and HW both addressed some of the assumptions used in **Simple Linear Regression**. The **p-values** provided by `statsmodels` via `smf.ols(...).fit()` depend on these assumptions, so if they are not (at least approximately) correct, the **p-values** (and any subsequent claims regarding the \"evidience against\" the **null hypothesis**) are not reliable. In light of this consideration, describe how you could diagnostically check the first three assumptions (given below) when using analyses based on **Simple Linear regression** model. From an Ethical and Professional perspective, do you think doing diagnostic checks on the assumptions of a **Simple Linear regression** model is something you can and should do whenever you're doing this kind of analysis? \n",
    "            \n",
    "> The first three assumptions associated with the **Simple Linear regression** model are that\n",
    "> \n",
    "> - the $\\epsilon_i$ **errors** (sometimes referred to as the **noise**) are **normally distributed**\n",
    "> - the $\\epsilon_i$ **errors** are **homoscedastic** (so their distributional variance $\\sigma^2$ does not change as a function of $x_i$)\n",
    "> - the linear form is [at least reasonably approximately] \"true\" (in the sense that the above two remain [at least reasonably approximately] \"true\") so that then behavior of the $Y_i$ **outcomes** are represented/determined on average by the **linear equation**)<br>\n",
    "> \n",
    ">    and there are additional assumptions; but, a deeper reflection on these is \"beyond the scope\" of STA130; nonetheless, they are that<br><br>\n",
    "> - the $x_i$ **predictor variable** is **measured without error**\n",
    "> - and the $\\epsilon_i$ **errors** are **statistically independent** (so their values do not depend on each other)\n",
    "> - and the $\\epsilon_i$ **errors** are **unbiased** relative to the **expected value** of **outcome** $E[Y_i|x_i]=\\beta_0 + \\beta_1x_i$ (which is equivalently stated by saying that the mean of the **error distribution** is $0$, or again equivalently, that the **expected value** of the **errors** $E[\\epsilon_i] = 0$)\n",
    "    \n",
    "</details>\n",
    "\n",
    "<details class=\"details-example\"><summary style=\"color:blue\"><u>Current Course Project Capability Level</u></summary>\n",
    "\n",
    "**Remember to abide by the [data use agreement](https://static1.squarespace.com/static/60283c2e174c122f8ebe0f39/t/6239c284d610f76fed5a2e69/1647952517436/Data+Use+Agreement+for+the+Canadian+Social+Connection+Survey.pdf) at all times.**\n",
    "\n",
    "Information about the course project is available on the course github repo [here](https://github.com/pointOfive/stat130chat130/tree/main/CP), including a draft [course project specfication](https://github.com/pointOfive/stat130chat130/blob/main/CP/STA130F23_course_project_specification.ipynb) (subject to change). \n",
    "- The Week 01 HW introduced [STA130F24_CourseProject.ipynb](https://github.com/pointOfive/stat130chat130/blob/main/CP/STA130F24_CourseProject.ipynb), and the [available variables](https://drive.google.com/file/d/1ISVymGn-WR1lcRs4psIym2N3or5onNBi/view). \n",
    "- Please do not download the [data](https://drive.google.com/file/d/1mbUQlMTrNYA7Ly5eImVRBn16Ehy9Lggo/view) accessible at the bottom of the [CSCS](https://casch.org/cscs) webpage (or the course github repo) multiple times.\n",
    "    \n",
    "> ### NEW DEVELOPMENT<br>New Abilities Achieved and New Levels Unlocked!!!    \n",
    "> **As noted, the Week 01 HW introduced the [STA130F24_CourseProject.ipynb](https://github.com/pointOfive/stat130chat130/blob/main/CP/STA130F24_CourseProject.ipynb) notebook.** _And there it instructed students to explore the notebook through the first 16 cells of the notebook._ The following cell in that notebook (there marked as \"run cell 17\") is preceded by an introductory section titled, \"**Now for some comparisons...**\", _**and all material from that point on provides an example to allow you to start applying what you're learning about Hypothesis Testing to the CSCS data**_ **using a paired samples (\"one sample\") framework.**\n",
    ">\n",
    "> **NOW, HOWEVER, YOU CAN DO MORE.** \n",
    "> - _**Now you can do \"two sample\" hypothesis testing without the need for paired samples.**_ All you need are two groups.\n",
    "> - _**And now you can do simple linear regression modeling.**_ All you need are two columns.\n",
    "\n",
    "### Current Course Project Capability Level\n",
    "\n",
    "At this point in the course you should be able to do a **Simple Linear Regression** analysis for data from the Canadian Social Connection Survey data\n",
    "    \n",
    "1. Create and test a **null hypothesis** of no linear association \"on average\" for a couple of columns of interest in the Canadian Social Connection Survey data using **Simple Linear Regression**\n",
    "\n",
    "2. Use the **residuals** of a fitted **Simple Linear Regression** model to diagnostically assess some of the assumptions of the analysis\n",
    "\n",
    "3. Use an **indicator variable** based **Simple Linear Regression** model to compare two groups from the Canadian Social Connection Survey data\n",
    "\n",
    "4. Compare and contrast the results of an **indicator variable** based **Simple Linear Regression** model to analyses based on a **permutation test** and a **bootstrapped confidence interval**   \n",
    "    \n",
    "</details>    "
   ]
  },
  {
   "cell_type": "code",
   "execution_count": null,
   "id": "4b4a0b4d",
   "metadata": {},
   "outputs": [],
   "source": []
  }
 ],
 "metadata": {
  "kernelspec": {
   "display_name": "Python 3 (ipykernel)",
   "language": "python",
   "name": "python3"
  },
  "language_info": {
   "codemirror_mode": {
    "name": "ipython",
    "version": 3
   },
   "file_extension": ".py",
   "mimetype": "text/x-python",
   "name": "python",
   "nbconvert_exporter": "python",
   "pygments_lexer": "ipython3",
   "version": "3.11.6"
  }
 },
 "nbformat": 4,
 "nbformat_minor": 5
}
